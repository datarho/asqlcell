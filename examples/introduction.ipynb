{
 "cells": [
  {
   "cell_type": "markdown",
   "id": "5860544e",
   "metadata": {},
   "source": [
    "# Introduction to Analytical SQL Cell"
   ]
  },
  {
   "cell_type": "markdown",
   "id": "e5bc4c72-0fac-4e15-8670-46dd26e35746",
   "metadata": {},
   "source": [
    "For the last decade, the data ecosystem has mainly focused on the technologies to store and process big datasets — the bigger the better. Later on, Modern Data Stack emerged as a cloud-native suite of products used for data integration and data analytics by the more technology-forward companies. Data warehouses are now a default piece of the Modern Data Stack and Snowflake’s rapid rise has been the poster child of this trend.\n",
    "\n",
    "But in real life, most analytical workloads aren’t massive. Users prefer easy and fast answers to their questions instead of waiting for the cloud to spin. Instead of a distributed database in the cloud, most analyses can be handled with an optimized engine on our laptop and the cloud can be leveraged when needed.\n",
    "\n",
    "In addition, the current warehouse paradigm is designed for a client-server use case which is cumbersome to integrate with Jupyter Notebook, the lingua franca of the data scientist community. An entire portion of enthusiasts and practitioners who prefer processing analytical workloads with SQL are underserved in Jupyter Notebook. They’ll however have to take the learning curve of Python/R to fulfill their daily work or abide by the low performance of transactional database solutions.\n",
    "\n",
    "But SQL is more viable than ever before. According to Stack Overflow Developer Survey 2022, SQL is the third most used programming language among all.\n",
    "\n",
    "To fill the gap, we are thrilled to announce Analytical SQL Cell, a free and open source Jupyter Widget to offer a Personal Data Lake experience for Jupyter Notebook users."
   ]
  },
  {
   "cell_type": "markdown",
   "id": "943d3718-069a-4808-8acf-be1f202ae773",
   "metadata": {},
   "source": [
    "# Installation\n",
    "\n",
    "You can install Analytical SQL Cell using `pip`:"
   ]
  },
  {
   "cell_type": "code",
   "execution_count": null,
   "id": "02c3cd1d-678e-4b25-a7d1-d8a390c7e1ba",
   "metadata": {
    "tags": []
   },
   "outputs": [],
   "source": [
    "%pip install asqlcell --upgrade"
   ]
  },
  {
   "cell_type": "markdown",
   "id": "08940cbe",
   "metadata": {},
   "source": [
    "# Usage\n",
    "\n",
    "Then you can import the module and load magic extension of analytical sql with `%load_ext`:"
   ]
  },
  {
   "cell_type": "code",
   "execution_count": null,
   "id": "9a7aac89-a804-46db-8b99-6ffa3213d339",
   "metadata": {
    "tags": []
   },
   "outputs": [],
   "source": [
    "import asqlcell\n",
    "\n",
    "%load_ext asqlcell"
   ]
  },
  {
   "cell_type": "markdown",
   "id": "35d434cf-26f7-456d-ac11-9494f844b503",
   "metadata": {},
   "source": [
    "Analytical SQL Cell supports *line* magic `%sql` for loading data with SQL statement and a Pandas dataframe will be returned:"
   ]
  },
  {
   "cell_type": "code",
   "execution_count": null,
   "id": "652a4eb6-8527-4bf8-a1d2-b1fa86c097fd",
   "metadata": {
    "scrolled": true,
    "tags": []
   },
   "outputs": [],
   "source": [
    "data = %sql SELECT * FROM 'introduction.csv'"
   ]
  },
  {
   "cell_type": "markdown",
   "id": "c63e5b8a",
   "metadata": {},
   "source": [
    "You can further explore `data` as follows:"
   ]
  },
  {
   "cell_type": "code",
   "execution_count": null,
   "id": "f5386cd7",
   "metadata": {
    "tags": []
   },
   "outputs": [],
   "source": [
    "data.head()"
   ]
  },
  {
   "cell_type": "markdown",
   "id": "ac8473df-a26b-462b-9e08-7c61b8445719",
   "metadata": {},
   "source": [
    "Analytical SQL Cell also supports *block* magic `%%sql` so that you can fill SQL statement in the whole cell. Notice that you'll need to specify the variable name to host the result set. In the following example, the result set will be stored in the variable named `data` specified by the cell magic:"
   ]
  },
  {
   "cell_type": "code",
   "execution_count": null,
   "id": "9079bff8-005e-4fe0-9e58-2729ff785fd3",
   "metadata": {
    "tags": []
   },
   "outputs": [],
   "source": [
    "%%sql --output data\n",
    "\n",
    "SELECT\n",
    "*\n",
    "FROM 'introduction.csv'\n",
    "WHERE price > 50"
   ]
  },
  {
   "cell_type": "markdown",
   "id": "a114c093",
   "metadata": {},
   "source": [
    "As usual, you can further explore `data` as follows:"
   ]
  },
  {
   "cell_type": "code",
   "execution_count": null,
   "id": "ad89daee-5cc2-4834-8f8f-6860268ef69e",
   "metadata": {
    "tags": []
   },
   "outputs": [],
   "source": [
    "data.head()"
   ]
  },
  {
   "cell_type": "markdown",
   "id": "8a55f6ba-d8e4-408e-a183-ed1b22843734",
   "metadata": {},
   "source": [
    "Please find the docstring of the magic as follows:"
   ]
  },
  {
   "cell_type": "code",
   "execution_count": null,
   "id": "7f5262da-e6cc-4ed0-9e25-e2e0fc070b7a",
   "metadata": {
    "tags": []
   },
   "outputs": [],
   "source": [
    "%sql?"
   ]
  },
  {
   "cell_type": "markdown",
   "id": "f72f732b-f620-46b7-886c-4cff4e4db170",
   "metadata": {},
   "source": [
    "# Tutorials\n",
    "\n",
    "Please refer to the tutorials for further information:\n",
    "\n",
    "[World Development in Numbers](gapminder.ipynb)"
   ]
  }
 ],
 "metadata": {
  "kernelspec": {
   "display_name": "Python 3 (ipykernel)",
   "language": "python",
   "name": "python3"
  },
  "language_info": {
   "codemirror_mode": {
    "name": "ipython",
    "version": 3
   },
   "file_extension": ".py",
   "mimetype": "text/x-python",
   "name": "python",
   "nbconvert_exporter": "python",
   "pygments_lexer": "ipython3",
   "version": "3.10.11"
  },
  "vscode": {
   "interpreter": {
    "hash": "e14e49767cf93412746d1786833441f6b192032bf9e90a563653dfb0e27875d3"
   }
  },
  "widgets": {
   "application/vnd.jupyter.widget-state+json": {
    "state": {},
    "version_major": 2,
    "version_minor": 0
   }
  }
 },
 "nbformat": 4,
 "nbformat_minor": 5
}
