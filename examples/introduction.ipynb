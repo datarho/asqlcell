{
 "cells": [
  {
   "cell_type": "markdown",
   "id": "5860544e",
   "metadata": {},
   "source": [
    "# Introduction to Analytical SQL Cell"
   ]
  },
  {
   "cell_type": "markdown",
   "id": "e5bc4c72-0fac-4e15-8670-46dd26e35746",
   "metadata": {},
   "source": [
    "For the last decade, the data ecosystem has mainly focused on the technologies to store and process big datasets — the bigger the better. Later on, Modern Data Stack emerged as a cloud-native suite of products used for data integration and data analytics by the more technology-forward companies. Data warehouses are now a default piece of the Modern Data Stack and Snowflake’s rapid rise has been the poster child of this trend.\n",
    "\n",
    "But in real life, most analytical workloads aren’t massive. Users prefer easy and fast answers to their questions instead of waiting for the cloud to spin. Instead of a distributed database in the cloud, most analyses can be handled with an optimized engine on our laptop and the cloud can be leveraged when needed.\n",
    "\n",
    "In addition, the current warehouse paradigm is designed for a client-server use case which is cumbersome to integrate with Jupyter Notebook, the lingua franca of the data scientist community. An entire portion of enthusiasts and practitioners who prefer processing analytical workloads with SQL are underserved in Jupyter Notebook. They’ll however have to take the learning curve of Python/R to fulfill their daily work or abide by the low performance of transactional database solutions.\n",
    "\n",
    "But SQL is more viable than ever before. According to Stack Overflow Developer Survey 2022, SQL is the third most used programming language among all.\n",
    "\n",
    "To fill the gap, we are thrilled to announce Analytical SQL Cell, a free and open source Jupyter Widget to offer a Personal Data Lake experience for Jupyter Notebook users."
   ]
  },
  {
   "cell_type": "markdown",
   "id": "943d3718-069a-4808-8acf-be1f202ae773",
   "metadata": {},
   "source": [
    "# Installation\n",
    "\n",
    "You can install Analytical SQL Cell using `pip`:"
   ]
  },
  {
   "cell_type": "code",
   "execution_count": 1,
   "id": "02c3cd1d-678e-4b25-a7d1-d8a390c7e1ba",
   "metadata": {
    "tags": []
   },
   "outputs": [
    {
     "name": "stdout",
     "output_type": "stream",
     "text": [
      "Requirement already satisfied: asqlcell in /home/linben/miniconda3/envs/asqlcell/lib/python3.8/site-packages (0.3.0.1)\n",
      "Requirement already satisfied: altair==5.2.0 in /home/linben/miniconda3/envs/asqlcell/lib/python3.8/site-packages (from asqlcell) (5.2.0)\n",
      "Requirement already satisfied: vegafusion==1.6.1 in /home/linben/miniconda3/envs/asqlcell/lib/python3.8/site-packages (from asqlcell) (1.6.1)\n",
      "Requirement already satisfied: vl-convert-python==1.2.1 in /home/linben/miniconda3/envs/asqlcell/lib/python3.8/site-packages (from asqlcell) (1.2.1)\n",
      "Requirement already satisfied: vegafusion-python-embed==1.6.1 in /home/linben/miniconda3/envs/asqlcell/lib/python3.8/site-packages (from asqlcell) (1.6.1)\n",
      "Requirement already satisfied: duckdb==0.9.2 in /home/linben/miniconda3/envs/asqlcell/lib/python3.8/site-packages (from asqlcell) (0.9.2)\n",
      "Requirement already satisfied: duckdb-engine==0.9.2 in /home/linben/miniconda3/envs/asqlcell/lib/python3.8/site-packages (from asqlcell) (0.9.2)\n",
      "Requirement already satisfied: pandas==2.0.3 in /home/linben/miniconda3/envs/asqlcell/lib/python3.8/site-packages (from asqlcell) (2.0.3)\n",
      "Requirement already satisfied: sqlalchemy==2.0.19 in /home/linben/miniconda3/envs/asqlcell/lib/python3.8/site-packages (from asqlcell) (2.0.19)\n",
      "Requirement already satisfied: fastparquet>=2023.4.0 in /home/linben/miniconda3/envs/asqlcell/lib/python3.8/site-packages (from asqlcell) (2023.7.0)\n",
      "Requirement already satisfied: ipywidgets>=8.0.0 in /home/linben/miniconda3/envs/asqlcell/lib/python3.8/site-packages (from asqlcell) (8.1.0)\n",
      "Requirement already satisfied: jinja2>=3.1.2 in /home/linben/miniconda3/envs/asqlcell/lib/python3.8/site-packages (from asqlcell) (3.1.2)\n",
      "Requirement already satisfied: StrEnum>=0.4.15 in /home/linben/miniconda3/envs/asqlcell/lib/python3.8/site-packages (from asqlcell) (0.4.15)\n",
      "Requirement already satisfied: sqlparse>=0.4.3 in /home/linben/miniconda3/envs/asqlcell/lib/python3.8/site-packages (from asqlcell) (0.4.4)\n",
      "Requirement already satisfied: openai>=0.27.10 in /home/linben/miniconda3/envs/asqlcell/lib/python3.8/site-packages (from asqlcell) (1.3.5)\n",
      "Requirement already satisfied: requests>=2.28.1 in /home/linben/miniconda3/envs/asqlcell/lib/python3.8/site-packages (from asqlcell) (2.31.0)\n",
      "Requirement already satisfied: openpyxl>=3.1.2 in /home/linben/miniconda3/envs/asqlcell/lib/python3.8/site-packages (from asqlcell) (3.1.2)\n",
      "Requirement already satisfied: jsonschema>=3.0 in /home/linben/miniconda3/envs/asqlcell/lib/python3.8/site-packages (from altair==5.2.0->asqlcell) (4.18.6)\n",
      "Requirement already satisfied: numpy in /home/linben/miniconda3/envs/asqlcell/lib/python3.8/site-packages (from altair==5.2.0->asqlcell) (1.24.4)\n",
      "Requirement already satisfied: packaging in /home/linben/miniconda3/envs/asqlcell/lib/python3.8/site-packages (from altair==5.2.0->asqlcell) (23.1)\n",
      "Requirement already satisfied: toolz in /home/linben/miniconda3/envs/asqlcell/lib/python3.8/site-packages (from altair==5.2.0->asqlcell) (0.12.0)\n",
      "Requirement already satisfied: typing-extensions>=4.0.1 in /home/linben/miniconda3/envs/asqlcell/lib/python3.8/site-packages (from altair==5.2.0->asqlcell) (4.7.1)\n",
      "Requirement already satisfied: python-dateutil>=2.8.2 in /home/linben/miniconda3/envs/asqlcell/lib/python3.8/site-packages (from pandas==2.0.3->asqlcell) (2.8.2)\n",
      "Requirement already satisfied: pytz>=2020.1 in /home/linben/miniconda3/envs/asqlcell/lib/python3.8/site-packages (from pandas==2.0.3->asqlcell) (2023.3)\n",
      "Requirement already satisfied: tzdata>=2022.1 in /home/linben/miniconda3/envs/asqlcell/lib/python3.8/site-packages (from pandas==2.0.3->asqlcell) (2023.3)\n",
      "Requirement already satisfied: greenlet!=0.4.17 in /home/linben/miniconda3/envs/asqlcell/lib/python3.8/site-packages (from sqlalchemy==2.0.19->asqlcell) (2.0.2)\n",
      "Requirement already satisfied: pyarrow>=5 in /home/linben/miniconda3/envs/asqlcell/lib/python3.8/site-packages (from vegafusion==1.6.1->asqlcell) (13.0.0)\n",
      "Requirement already satisfied: psutil in /home/linben/miniconda3/envs/asqlcell/lib/python3.8/site-packages (from vegafusion==1.6.1->asqlcell) (5.9.5)\n",
      "Requirement already satisfied: protobuf in /home/linben/miniconda3/envs/asqlcell/lib/python3.8/site-packages (from vegafusion==1.6.1->asqlcell) (4.24.2)\n",
      "Requirement already satisfied: cramjam>=2.3 in /home/linben/miniconda3/envs/asqlcell/lib/python3.8/site-packages (from fastparquet>=2023.4.0->asqlcell) (2.7.0)\n",
      "Requirement already satisfied: fsspec in /home/linben/miniconda3/envs/asqlcell/lib/python3.8/site-packages (from fastparquet>=2023.4.0->asqlcell) (2023.6.0)\n",
      "Requirement already satisfied: comm>=0.1.3 in /home/linben/miniconda3/envs/asqlcell/lib/python3.8/site-packages (from ipywidgets>=8.0.0->asqlcell) (0.1.4)\n",
      "Requirement already satisfied: ipython>=6.1.0 in /home/linben/miniconda3/envs/asqlcell/lib/python3.8/site-packages (from ipywidgets>=8.0.0->asqlcell) (8.12.2)\n",
      "Requirement already satisfied: traitlets>=4.3.1 in /home/linben/miniconda3/envs/asqlcell/lib/python3.8/site-packages (from ipywidgets>=8.0.0->asqlcell) (5.9.0)\n",
      "Requirement already satisfied: widgetsnbextension~=4.0.7 in /home/linben/miniconda3/envs/asqlcell/lib/python3.8/site-packages (from ipywidgets>=8.0.0->asqlcell) (4.0.8)\n",
      "Requirement already satisfied: jupyterlab-widgets~=3.0.7 in /home/linben/miniconda3/envs/asqlcell/lib/python3.8/site-packages (from ipywidgets>=8.0.0->asqlcell) (3.0.8)\n",
      "Requirement already satisfied: MarkupSafe>=2.0 in /home/linben/miniconda3/envs/asqlcell/lib/python3.8/site-packages (from jinja2>=3.1.2->asqlcell) (2.1.3)\n",
      "Requirement already satisfied: anyio<4,>=3.5.0 in /home/linben/miniconda3/envs/asqlcell/lib/python3.8/site-packages (from openai>=0.27.10->asqlcell) (3.7.1)\n",
      "Requirement already satisfied: distro<2,>=1.7.0 in /home/linben/miniconda3/envs/asqlcell/lib/python3.8/site-packages (from openai>=0.27.10->asqlcell) (1.8.0)\n",
      "Requirement already satisfied: httpx<1,>=0.23.0 in /home/linben/miniconda3/envs/asqlcell/lib/python3.8/site-packages (from openai>=0.27.10->asqlcell) (0.25.2)\n",
      "Requirement already satisfied: pydantic<3,>=1.9.0 in /home/linben/miniconda3/envs/asqlcell/lib/python3.8/site-packages (from openai>=0.27.10->asqlcell) (2.5.2)\n",
      "Requirement already satisfied: tqdm>4 in /home/linben/miniconda3/envs/asqlcell/lib/python3.8/site-packages (from openai>=0.27.10->asqlcell) (4.65.0)\n",
      "Requirement already satisfied: et-xmlfile in /home/linben/miniconda3/envs/asqlcell/lib/python3.8/site-packages (from openpyxl>=3.1.2->asqlcell) (1.1.0)\n",
      "Requirement already satisfied: charset-normalizer<4,>=2 in /home/linben/miniconda3/envs/asqlcell/lib/python3.8/site-packages (from requests>=2.28.1->asqlcell) (3.2.0)\n",
      "Requirement already satisfied: idna<4,>=2.5 in /home/linben/miniconda3/envs/asqlcell/lib/python3.8/site-packages (from requests>=2.28.1->asqlcell) (3.4)\n",
      "Requirement already satisfied: urllib3<3,>=1.21.1 in /home/linben/miniconda3/envs/asqlcell/lib/python3.8/site-packages (from requests>=2.28.1->asqlcell) (2.0.4)\n",
      "Requirement already satisfied: certifi>=2017.4.17 in /home/linben/miniconda3/envs/asqlcell/lib/python3.8/site-packages (from requests>=2.28.1->asqlcell) (2023.7.22)\n",
      "Requirement already satisfied: sniffio>=1.1 in /home/linben/miniconda3/envs/asqlcell/lib/python3.8/site-packages (from anyio<4,>=3.5.0->openai>=0.27.10->asqlcell) (1.3.0)\n",
      "Requirement already satisfied: exceptiongroup in /home/linben/miniconda3/envs/asqlcell/lib/python3.8/site-packages (from anyio<4,>=3.5.0->openai>=0.27.10->asqlcell) (1.1.2)\n",
      "Requirement already satisfied: httpcore==1.* in /home/linben/miniconda3/envs/asqlcell/lib/python3.8/site-packages (from httpx<1,>=0.23.0->openai>=0.27.10->asqlcell) (1.0.2)\n",
      "Requirement already satisfied: h11<0.15,>=0.13 in /home/linben/miniconda3/envs/asqlcell/lib/python3.8/site-packages (from httpcore==1.*->httpx<1,>=0.23.0->openai>=0.27.10->asqlcell) (0.14.0)\n",
      "Requirement already satisfied: backcall in /home/linben/miniconda3/envs/asqlcell/lib/python3.8/site-packages (from ipython>=6.1.0->ipywidgets>=8.0.0->asqlcell) (0.2.0)\n",
      "Requirement already satisfied: decorator in /home/linben/miniconda3/envs/asqlcell/lib/python3.8/site-packages (from ipython>=6.1.0->ipywidgets>=8.0.0->asqlcell) (5.1.1)\n",
      "Requirement already satisfied: jedi>=0.16 in /home/linben/miniconda3/envs/asqlcell/lib/python3.8/site-packages (from ipython>=6.1.0->ipywidgets>=8.0.0->asqlcell) (0.19.0)\n",
      "Requirement already satisfied: matplotlib-inline in /home/linben/miniconda3/envs/asqlcell/lib/python3.8/site-packages (from ipython>=6.1.0->ipywidgets>=8.0.0->asqlcell) (0.1.6)\n",
      "Requirement already satisfied: pickleshare in /home/linben/miniconda3/envs/asqlcell/lib/python3.8/site-packages (from ipython>=6.1.0->ipywidgets>=8.0.0->asqlcell) (0.7.5)\n",
      "Requirement already satisfied: prompt-toolkit!=3.0.37,<3.1.0,>=3.0.30 in /home/linben/miniconda3/envs/asqlcell/lib/python3.8/site-packages (from ipython>=6.1.0->ipywidgets>=8.0.0->asqlcell) (3.0.39)\n",
      "Requirement already satisfied: pygments>=2.4.0 in /home/linben/miniconda3/envs/asqlcell/lib/python3.8/site-packages (from ipython>=6.1.0->ipywidgets>=8.0.0->asqlcell) (2.15.1)\n",
      "Requirement already satisfied: stack-data in /home/linben/miniconda3/envs/asqlcell/lib/python3.8/site-packages (from ipython>=6.1.0->ipywidgets>=8.0.0->asqlcell) (0.6.2)\n",
      "Requirement already satisfied: pexpect>4.3 in /home/linben/miniconda3/envs/asqlcell/lib/python3.8/site-packages (from ipython>=6.1.0->ipywidgets>=8.0.0->asqlcell) (4.8.0)\n",
      "Requirement already satisfied: attrs>=22.2.0 in /home/linben/miniconda3/envs/asqlcell/lib/python3.8/site-packages (from jsonschema>=3.0->altair==5.2.0->asqlcell) (23.1.0)\n",
      "Requirement already satisfied: importlib-resources>=1.4.0 in /home/linben/miniconda3/envs/asqlcell/lib/python3.8/site-packages (from jsonschema>=3.0->altair==5.2.0->asqlcell) (6.0.0)\n",
      "Requirement already satisfied: jsonschema-specifications>=2023.03.6 in /home/linben/miniconda3/envs/asqlcell/lib/python3.8/site-packages (from jsonschema>=3.0->altair==5.2.0->asqlcell) (2023.7.1)\n",
      "Requirement already satisfied: pkgutil-resolve-name>=1.3.10 in /home/linben/miniconda3/envs/asqlcell/lib/python3.8/site-packages (from jsonschema>=3.0->altair==5.2.0->asqlcell) (1.3.10)\n",
      "Requirement already satisfied: referencing>=0.28.4 in /home/linben/miniconda3/envs/asqlcell/lib/python3.8/site-packages (from jsonschema>=3.0->altair==5.2.0->asqlcell) (0.30.0)\n",
      "Requirement already satisfied: rpds-py>=0.7.1 in /home/linben/miniconda3/envs/asqlcell/lib/python3.8/site-packages (from jsonschema>=3.0->altair==5.2.0->asqlcell) (0.9.2)\n",
      "Requirement already satisfied: annotated-types>=0.4.0 in /home/linben/miniconda3/envs/asqlcell/lib/python3.8/site-packages (from pydantic<3,>=1.9.0->openai>=0.27.10->asqlcell) (0.6.0)\n",
      "Requirement already satisfied: pydantic-core==2.14.5 in /home/linben/miniconda3/envs/asqlcell/lib/python3.8/site-packages (from pydantic<3,>=1.9.0->openai>=0.27.10->asqlcell) (2.14.5)\n",
      "Requirement already satisfied: six>=1.5 in /home/linben/miniconda3/envs/asqlcell/lib/python3.8/site-packages (from python-dateutil>=2.8.2->pandas==2.0.3->asqlcell) (1.16.0)\n",
      "Requirement already satisfied: zipp>=3.1.0 in /home/linben/miniconda3/envs/asqlcell/lib/python3.8/site-packages (from importlib-resources>=1.4.0->jsonschema>=3.0->altair==5.2.0->asqlcell) (3.16.2)\n",
      "Requirement already satisfied: parso<0.9.0,>=0.8.3 in /home/linben/miniconda3/envs/asqlcell/lib/python3.8/site-packages (from jedi>=0.16->ipython>=6.1.0->ipywidgets>=8.0.0->asqlcell) (0.8.3)\n",
      "Requirement already satisfied: ptyprocess>=0.5 in /home/linben/miniconda3/envs/asqlcell/lib/python3.8/site-packages (from pexpect>4.3->ipython>=6.1.0->ipywidgets>=8.0.0->asqlcell) (0.7.0)\n",
      "Requirement already satisfied: wcwidth in /home/linben/miniconda3/envs/asqlcell/lib/python3.8/site-packages (from prompt-toolkit!=3.0.37,<3.1.0,>=3.0.30->ipython>=6.1.0->ipywidgets>=8.0.0->asqlcell) (0.2.6)\n",
      "Requirement already satisfied: executing>=1.2.0 in /home/linben/miniconda3/envs/asqlcell/lib/python3.8/site-packages (from stack-data->ipython>=6.1.0->ipywidgets>=8.0.0->asqlcell) (1.2.0)\n",
      "Requirement already satisfied: asttokens>=2.1.0 in /home/linben/miniconda3/envs/asqlcell/lib/python3.8/site-packages (from stack-data->ipython>=6.1.0->ipywidgets>=8.0.0->asqlcell) (2.2.1)\n",
      "Requirement already satisfied: pure-eval in /home/linben/miniconda3/envs/asqlcell/lib/python3.8/site-packages (from stack-data->ipython>=6.1.0->ipywidgets>=8.0.0->asqlcell) (0.2.2)\n",
      "Note: you may need to restart the kernel to use updated packages.\n"
     ]
    }
   ],
   "source": [
    "%pip install asqlcell --upgrade"
   ]
  },
  {
   "cell_type": "markdown",
   "id": "08940cbe",
   "metadata": {},
   "source": [
    "# Usage\n",
    "\n",
    "Then you can import the module and load magic extension of analytical sql with `%load_ext`:"
   ]
  },
  {
   "cell_type": "code",
   "execution_count": 2,
   "id": "9a7aac89-a804-46db-8b99-6ffa3213d339",
   "metadata": {
    "tags": []
   },
   "outputs": [],
   "source": [
    "import asqlcell\n",
    "\n",
    "%load_ext asqlcell"
   ]
  },
  {
   "cell_type": "markdown",
   "id": "35d434cf-26f7-456d-ac11-9494f844b503",
   "metadata": {},
   "source": [
    "Analytical SQL Cell supports *line* magic `%sql` for loading data with SQL statement and a Pandas dataframe will be returned:"
   ]
  },
  {
   "cell_type": "code",
   "execution_count": 3,
   "id": "652a4eb6-8527-4bf8-a1d2-b1fa86c097fd",
   "metadata": {
    "scrolled": true,
    "tags": []
   },
   "outputs": [],
   "source": [
    "data = %sql SELECT * FROM 'introduction.csv'"
   ]
  },
  {
   "cell_type": "markdown",
   "id": "c63e5b8a",
   "metadata": {},
   "source": [
    "You can further explore `data` as follows:"
   ]
  },
  {
   "cell_type": "code",
   "execution_count": 4,
   "id": "f5386cd7",
   "metadata": {
    "tags": []
   },
   "outputs": [
    {
     "data": {
      "text/html": [
       "<div>\n",
       "<style scoped>\n",
       "    .dataframe tbody tr th:only-of-type {\n",
       "        vertical-align: middle;\n",
       "    }\n",
       "\n",
       "    .dataframe tbody tr th {\n",
       "        vertical-align: top;\n",
       "    }\n",
       "\n",
       "    .dataframe thead th {\n",
       "        text-align: right;\n",
       "    }\n",
       "</style>\n",
       "<table border=\"1\" class=\"dataframe\">\n",
       "  <thead>\n",
       "    <tr style=\"text-align: right;\">\n",
       "      <th></th>\n",
       "      <th>id</th>\n",
       "      <th>price</th>\n",
       "      <th>normal</th>\n",
       "    </tr>\n",
       "  </thead>\n",
       "  <tbody>\n",
       "    <tr>\n",
       "      <th>0</th>\n",
       "      <td>0</td>\n",
       "      <td>94.830479</td>\n",
       "      <td>True</td>\n",
       "    </tr>\n",
       "    <tr>\n",
       "      <th>1</th>\n",
       "      <td>1</td>\n",
       "      <td>72.969358</td>\n",
       "      <td>True</td>\n",
       "    </tr>\n",
       "    <tr>\n",
       "      <th>2</th>\n",
       "      <td>2</td>\n",
       "      <td>59.427536</td>\n",
       "      <td>True</td>\n",
       "    </tr>\n",
       "    <tr>\n",
       "      <th>3</th>\n",
       "      <td>3</td>\n",
       "      <td>8.669261</td>\n",
       "      <td>True</td>\n",
       "    </tr>\n",
       "    <tr>\n",
       "      <th>4</th>\n",
       "      <td>4</td>\n",
       "      <td>11.028436</td>\n",
       "      <td>True</td>\n",
       "    </tr>\n",
       "  </tbody>\n",
       "</table>\n",
       "</div>"
      ],
      "text/plain": [
       "   id      price  normal\n",
       "0   0  94.830479    True\n",
       "1   1  72.969358    True\n",
       "2   2  59.427536    True\n",
       "3   3   8.669261    True\n",
       "4   4  11.028436    True"
      ]
     },
     "execution_count": 4,
     "metadata": {},
     "output_type": "execute_result"
    }
   ],
   "source": [
    "data.head()"
   ]
  },
  {
   "cell_type": "markdown",
   "id": "ac8473df-a26b-462b-9e08-7c61b8445719",
   "metadata": {},
   "source": [
    "Analytical SQL Cell also supports *block* magic `%%sql` so that you can fill SQL statement in the whole cell. Notice that you'll need to specify the variable name to host the result set. In the following example, the result set will be stored in the variable named `data` specified by the cell magic:"
   ]
  },
  {
   "cell_type": "code",
   "execution_count": 5,
   "id": "9079bff8-005e-4fe0-9e58-2729ff785fd3",
   "metadata": {
    "tags": []
   },
   "outputs": [
    {
     "data": {
      "text/html": [],
      "text/plain": [
       "<IPython.core.display.HTML object>"
      ]
     },
     "metadata": {},
     "output_type": "display_data"
    },
    {
     "data": {
      "application/vnd.jupyter.widget-view+json": {
       "model_id": "9cd276507ae84a468c8d6e88d26f0d76",
       "version_major": 2,
       "version_minor": 0
      },
      "text/plain": [
       "SqlCellWidget(cache='{\"tabValue\": \"table\"}', chart_config='{\"type\": null, \"x\": {\"label\": null, \"field\": null, …"
      ]
     },
     "execution_count": 5,
     "metadata": {},
     "output_type": "execute_result"
    }
   ],
   "source": [
    "%%sql data\n",
    "\n",
    "SELECT\n",
    "*\n",
    "FROM 'introduction.csv'\n",
    "WHERE price > 50"
   ]
  },
  {
   "cell_type": "markdown",
   "id": "a114c093",
   "metadata": {},
   "source": [
    "As usual, you can further explore `data` as follows:"
   ]
  },
  {
   "cell_type": "code",
   "execution_count": 6,
   "id": "ad89daee-5cc2-4834-8f8f-6860268ef69e",
   "metadata": {
    "tags": []
   },
   "outputs": [
    {
     "data": {
      "text/html": [
       "<div>\n",
       "<style scoped>\n",
       "    .dataframe tbody tr th:only-of-type {\n",
       "        vertical-align: middle;\n",
       "    }\n",
       "\n",
       "    .dataframe tbody tr th {\n",
       "        vertical-align: top;\n",
       "    }\n",
       "\n",
       "    .dataframe thead th {\n",
       "        text-align: right;\n",
       "    }\n",
       "</style>\n",
       "<table border=\"1\" class=\"dataframe\">\n",
       "  <thead>\n",
       "    <tr style=\"text-align: right;\">\n",
       "      <th></th>\n",
       "      <th>id</th>\n",
       "      <th>price</th>\n",
       "      <th>normal</th>\n",
       "    </tr>\n",
       "  </thead>\n",
       "  <tbody>\n",
       "    <tr>\n",
       "      <th>0</th>\n",
       "      <td>0</td>\n",
       "      <td>94.830479</td>\n",
       "      <td>True</td>\n",
       "    </tr>\n",
       "    <tr>\n",
       "      <th>1</th>\n",
       "      <td>1</td>\n",
       "      <td>72.969358</td>\n",
       "      <td>True</td>\n",
       "    </tr>\n",
       "    <tr>\n",
       "      <th>2</th>\n",
       "      <td>2</td>\n",
       "      <td>59.427536</td>\n",
       "      <td>True</td>\n",
       "    </tr>\n",
       "  </tbody>\n",
       "</table>\n",
       "</div>"
      ],
      "text/plain": [
       "   id      price  normal\n",
       "0   0  94.830479    True\n",
       "1   1  72.969358    True\n",
       "2   2  59.427536    True"
      ]
     },
     "execution_count": 6,
     "metadata": {},
     "output_type": "execute_result"
    }
   ],
   "source": [
    "data.head()"
   ]
  },
  {
   "cell_type": "markdown",
   "id": "8a55f6ba-d8e4-408e-a183-ed1b22843734",
   "metadata": {},
   "source": [
    "Please find the docstring of the magic as follows:"
   ]
  },
  {
   "cell_type": "code",
   "execution_count": 7,
   "id": "7f5262da-e6cc-4ed0-9e25-e2e0fc070b7a",
   "metadata": {
    "tags": []
   },
   "outputs": [
    {
     "data": {
      "text/plain": [
       "\u001b[0;31mDocstring:\u001b[0m\n",
       "::\n",
       "\n",
       "  %execute [-o OUT] [-c CON] [-e EXPLAIN] [-d DB]\n",
       "               [output] [line [line ...]]\n",
       "\n",
       "Execute the magic extension. This could be a line magic or a cell magic.\n",
       "\n",
       "positional arguments:\n",
       "  output                The variable name for the result dataframe.\n",
       "  line                  The SQL statement.\n",
       "\n",
       "optional arguments:\n",
       "  -o OUT, --out OUT     The variable name for the result dataframe.\n",
       "  -c CON, --con CON     The variable name for database connection.\n",
       "  -e EXPLAIN, --explain EXPLAIN\n",
       "                        Return Sql Explain or not.\n",
       "  -d DB, --db DB        Use database.\n",
       "\u001b[0;31mFile:\u001b[0m      ~/miniconda3/envs/asqlcell/lib/python3.8/site-packages/asqlcell/magic.py"
      ]
     },
     "metadata": {},
     "output_type": "display_data"
    }
   ],
   "source": [
    "%sql?"
   ]
  },
  {
   "cell_type": "markdown",
   "id": "f72f732b-f620-46b7-886c-4cff4e4db170",
   "metadata": {},
   "source": [
    "# Tutorials\n",
    "\n",
    "Please refer to the tutorials for further information:\n",
    "\n",
    "[World Development in Numbers](gapminder.ipynb)"
   ]
  }
 ],
 "metadata": {
  "kernelspec": {
   "display_name": "Python 3 (ipykernel)",
   "language": "python",
   "name": "python3"
  },
  "language_info": {
   "codemirror_mode": {
    "name": "ipython",
    "version": 3
   },
   "file_extension": ".py",
   "mimetype": "text/x-python",
   "name": "python",
   "nbconvert_exporter": "python",
   "pygments_lexer": "ipython3",
   "version": "3.8.17"
  },
  "vscode": {
   "interpreter": {
    "hash": "e14e49767cf93412746d1786833441f6b192032bf9e90a563653dfb0e27875d3"
   }
  },
  "widgets": {
   "application/vnd.jupyter.widget-state+json": {
    "state": {},
    "version_major": 2,
    "version_minor": 0
   }
  }
 },
 "nbformat": 4,
 "nbformat_minor": 5
}
