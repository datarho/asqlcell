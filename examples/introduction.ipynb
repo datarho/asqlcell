{
 "cells": [
  {
   "cell_type": "markdown",
   "id": "5860544e",
   "metadata": {},
   "source": [
    "Comparing Pandas, SqlCellWidget and Magic Sql\n",
    "="
   ]
  },
  {
   "cell_type": "markdown",
   "id": "08940cbe",
   "metadata": {},
   "source": [
    "1.Prepare datasets\n",
    "="
   ]
  },
  {
   "cell_type": "code",
   "execution_count": 1,
   "id": "652a4eb6-8527-4bf8-a1d2-b1fa86c097fd",
   "metadata": {
    "scrolled": true
   },
   "outputs": [
    {
     "data": {
      "text/html": [
       "<div>\n",
       "<style scoped>\n",
       "    .dataframe tbody tr th:only-of-type {\n",
       "        vertical-align: middle;\n",
       "    }\n",
       "\n",
       "    .dataframe tbody tr th {\n",
       "        vertical-align: top;\n",
       "    }\n",
       "\n",
       "    .dataframe thead th {\n",
       "        text-align: right;\n",
       "    }\n",
       "</style>\n",
       "<table border=\"1\" class=\"dataframe\">\n",
       "  <thead>\n",
       "    <tr style=\"text-align: right;\">\n",
       "      <th></th>\n",
       "      <th>id</th>\n",
       "      <th>price</th>\n",
       "      <th>normal</th>\n",
       "    </tr>\n",
       "  </thead>\n",
       "  <tbody>\n",
       "    <tr>\n",
       "      <th>0</th>\n",
       "      <td>0</td>\n",
       "      <td>94.830479</td>\n",
       "      <td>True</td>\n",
       "    </tr>\n",
       "    <tr>\n",
       "      <th>1</th>\n",
       "      <td>1</td>\n",
       "      <td>72.969358</td>\n",
       "      <td>True</td>\n",
       "    </tr>\n",
       "    <tr>\n",
       "      <th>2</th>\n",
       "      <td>2</td>\n",
       "      <td>59.427536</td>\n",
       "      <td>True</td>\n",
       "    </tr>\n",
       "    <tr>\n",
       "      <th>3</th>\n",
       "      <td>3</td>\n",
       "      <td>8.669261</td>\n",
       "      <td>True</td>\n",
       "    </tr>\n",
       "    <tr>\n",
       "      <th>4</th>\n",
       "      <td>4</td>\n",
       "      <td>11.028436</td>\n",
       "      <td>True</td>\n",
       "    </tr>\n",
       "  </tbody>\n",
       "</table>\n",
       "</div>"
      ],
      "text/plain": [
       "   id      price  normal\n",
       "0   0  94.830479    True\n",
       "1   1  72.969358    True\n",
       "2   2  59.427536    True\n",
       "3   3   8.669261    True\n",
       "4   4  11.028436    True"
      ]
     },
     "execution_count": 1,
     "metadata": {},
     "output_type": "execute_result"
    }
   ],
   "source": [
    "from asqlcell import datasets\n",
    "data1 = %sql SELECT * FROM \"example.csv\"\n",
    "data2 = datasets.get_random_data(1000)\n",
    "data1"
   ]
  },
  {
   "cell_type": "markdown",
   "id": "c63e5b8a",
   "metadata": {},
   "source": [
    "2.Use *Pandas* to join data1 and data2, then scan \n",
    "="
   ]
  },
  {
   "cell_type": "code",
   "execution_count": 2,
   "id": "f5386cd7",
   "metadata": {},
   "outputs": [
    {
     "data": {
      "text/html": [
       "<div>\n",
       "<style scoped>\n",
       "    .dataframe tbody tr th:only-of-type {\n",
       "        vertical-align: middle;\n",
       "    }\n",
       "\n",
       "    .dataframe tbody tr th {\n",
       "        vertical-align: top;\n",
       "    }\n",
       "\n",
       "    .dataframe thead th {\n",
       "        text-align: right;\n",
       "    }\n",
       "</style>\n",
       "<table border=\"1\" class=\"dataframe\">\n",
       "  <thead>\n",
       "    <tr style=\"text-align: right;\">\n",
       "      <th></th>\n",
       "      <th>idid</th>\n",
       "      <th>priceid</th>\n",
       "      <th>normalid</th>\n",
       "      <th>idid</th>\n",
       "      <th>priceid</th>\n",
       "      <th>normalid</th>\n",
       "    </tr>\n",
       "  </thead>\n",
       "  <tbody>\n",
       "    <tr>\n",
       "      <th>0</th>\n",
       "      <td>0</td>\n",
       "      <td>94.830479</td>\n",
       "      <td>True</td>\n",
       "      <td>0</td>\n",
       "      <td>0</td>\n",
       "      <td>True</td>\n",
       "    </tr>\n",
       "    <tr>\n",
       "      <th>1</th>\n",
       "      <td>1</td>\n",
       "      <td>72.969358</td>\n",
       "      <td>True</td>\n",
       "      <td>1</td>\n",
       "      <td>1</td>\n",
       "      <td>True</td>\n",
       "    </tr>\n",
       "    <tr>\n",
       "      <th>2</th>\n",
       "      <td>2</td>\n",
       "      <td>59.427536</td>\n",
       "      <td>True</td>\n",
       "      <td>2</td>\n",
       "      <td>2</td>\n",
       "      <td>True</td>\n",
       "    </tr>\n",
       "    <tr>\n",
       "      <th>3</th>\n",
       "      <td>3</td>\n",
       "      <td>8.669261</td>\n",
       "      <td>True</td>\n",
       "      <td>3</td>\n",
       "      <td>3</td>\n",
       "      <td>True</td>\n",
       "    </tr>\n",
       "    <tr>\n",
       "      <th>4</th>\n",
       "      <td>4</td>\n",
       "      <td>11.028436</td>\n",
       "      <td>True</td>\n",
       "      <td>4</td>\n",
       "      <td>4</td>\n",
       "      <td>True</td>\n",
       "    </tr>\n",
       "  </tbody>\n",
       "</table>\n",
       "</div>"
      ],
      "text/plain": [
       "   idid    priceid  normalid  idid  priceid  normalid\n",
       "0     0  94.830479      True     0        0      True\n",
       "1     1  72.969358      True     1        1      True\n",
       "2     2  59.427536      True     2        2      True\n",
       "3     3   8.669261      True     3        3      True\n",
       "4     4  11.028436      True     4        4      True"
      ]
     },
     "execution_count": 2,
     "metadata": {},
     "output_type": "execute_result"
    }
   ],
   "source": [
    "df = data1.join(data2, lsuffix='id', rsuffix='id')\n",
    "df"
   ]
  },
  {
   "cell_type": "markdown",
   "id": "4c985450",
   "metadata": {},
   "source": [
    "3.Use *SqlCellWidget* to join data1 and data2, then scan \n",
    "="
   ]
  },
  {
   "cell_type": "code",
   "execution_count": 3,
   "id": "0febab6f",
   "metadata": {
    "scrolled": true
   },
   "outputs": [
    {
     "data": {
      "application/vnd.jupyter.widget-view+json": {
       "model_id": "ec0a152dcaeb4bde9234a686c479e2fd",
       "version_major": 2,
       "version_minor": 0
      },
      "text/plain": [
       "SqlcellWidget(data_range=(0, 10), index_sort=('', 0))"
      ]
     },
     "execution_count": 3,
     "metadata": {},
     "output_type": "execute_result"
    }
   ],
   "source": [
    "from asqlcell import SqlcellWidget\n",
    "w = SqlcellWidget()\n",
    "w"
   ]
  },
  {
   "cell_type": "markdown",
   "id": "a114c093",
   "metadata": {},
   "source": [
    "4.Use magic *'%%sql'* to join data1 and data2, then scan \n",
    "="
   ]
  },
  {
   "cell_type": "code",
   "execution_count": 4,
   "id": "a568f350-dcf5-4cd2-bc7e-fb7c5ac431cb",
   "metadata": {},
   "outputs": [
    {
     "data": {
      "application/vnd.jupyter.widget-view+json": {
       "model_id": "52a2489bf1434466b5e32485af8c1654",
       "version_major": 2,
       "version_minor": 0
      },
      "text/plain": [
       "SqlcellWidget(data_range=(0, 10), index_sort=('', 0))"
      ]
     },
     "execution_count": 4,
     "metadata": {},
     "output_type": "execute_result"
    }
   ],
   "source": [
    "%%sql df\n",
    "SELECT *\n",
    "FROM data1 JOIN data2 ON (data1.id = data2.id)"
   ]
  },
  {
   "cell_type": "markdown",
   "id": "69a51960",
   "metadata": {},
   "source": [
    "5.Use magic *'%sql'* to join data1 and data2, then scan \n",
    "="
   ]
  },
  {
   "cell_type": "code",
   "execution_count": 5,
   "id": "e6e9650f",
   "metadata": {},
   "outputs": [
    {
     "data": {
      "text/html": [
       "<div>\n",
       "<style scoped>\n",
       "    .dataframe tbody tr th:only-of-type {\n",
       "        vertical-align: middle;\n",
       "    }\n",
       "\n",
       "    .dataframe tbody tr th {\n",
       "        vertical-align: top;\n",
       "    }\n",
       "\n",
       "    .dataframe thead th {\n",
       "        text-align: right;\n",
       "    }\n",
       "</style>\n",
       "<table border=\"1\" class=\"dataframe\">\n",
       "  <thead>\n",
       "    <tr style=\"text-align: right;\">\n",
       "      <th></th>\n",
       "      <th>id</th>\n",
       "      <th>price</th>\n",
       "      <th>normal</th>\n",
       "      <th>id_2</th>\n",
       "      <th>price_2</th>\n",
       "      <th>normal_2</th>\n",
       "    </tr>\n",
       "  </thead>\n",
       "  <tbody>\n",
       "    <tr>\n",
       "      <th>0</th>\n",
       "      <td>0</td>\n",
       "      <td>94.830479</td>\n",
       "      <td>True</td>\n",
       "      <td>0</td>\n",
       "      <td>0</td>\n",
       "      <td>True</td>\n",
       "    </tr>\n",
       "    <tr>\n",
       "      <th>1</th>\n",
       "      <td>1</td>\n",
       "      <td>72.969358</td>\n",
       "      <td>True</td>\n",
       "      <td>1</td>\n",
       "      <td>1</td>\n",
       "      <td>True</td>\n",
       "    </tr>\n",
       "    <tr>\n",
       "      <th>2</th>\n",
       "      <td>2</td>\n",
       "      <td>59.427536</td>\n",
       "      <td>True</td>\n",
       "      <td>2</td>\n",
       "      <td>2</td>\n",
       "      <td>True</td>\n",
       "    </tr>\n",
       "    <tr>\n",
       "      <th>3</th>\n",
       "      <td>3</td>\n",
       "      <td>8.669261</td>\n",
       "      <td>True</td>\n",
       "      <td>3</td>\n",
       "      <td>3</td>\n",
       "      <td>True</td>\n",
       "    </tr>\n",
       "    <tr>\n",
       "      <th>4</th>\n",
       "      <td>4</td>\n",
       "      <td>11.028436</td>\n",
       "      <td>True</td>\n",
       "      <td>4</td>\n",
       "      <td>4</td>\n",
       "      <td>True</td>\n",
       "    </tr>\n",
       "  </tbody>\n",
       "</table>\n",
       "</div>"
      ],
      "text/plain": [
       "   id      price  normal  id_2  price_2  normal_2\n",
       "0   0  94.830479    True     0        0      True\n",
       "1   1  72.969358    True     1        1      True\n",
       "2   2  59.427536    True     2        2      True\n",
       "3   3   8.669261    True     3        3      True\n",
       "4   4  11.028436    True     4        4      True"
      ]
     },
     "execution_count": 5,
     "metadata": {},
     "output_type": "execute_result"
    }
   ],
   "source": [
    "result = %sql SELECT * FROM data1 JOIN data2 ON (data1.id = data2.id)\n",
    "result"
   ]
  }
 ],
 "metadata": {
  "kernelspec": {
   "display_name": "Python 3 (ipykernel)",
   "language": "python",
   "name": "python3"
  },
  "language_info": {
   "codemirror_mode": {
    "name": "ipython",
    "version": 3
   },
   "file_extension": ".py",
   "mimetype": "text/x-python",
   "name": "python",
   "nbconvert_exporter": "python",
   "pygments_lexer": "ipython3",
   "version": "3.11.0"
  },
  "widgets": {
   "application/vnd.jupyter.widget-state+json": {
    "state": {
     "3c57b22367384fc7a7fbe625c6fa0663": {
      "model_module": "@jupyter-widgets/base",
      "model_module_version": "2.0.0",
      "model_name": "LayoutModel",
      "state": {}
     },
     "52a2489bf1434466b5e32485af8c1654": {
      "model_module": "asqlcell",
      "model_module_version": "0.1.0",
      "model_name": "SqlCellModel",
      "state": {
       "data": "{\"columns\":[\"id\",\"price\",\"normal\",\"id_2\",\"price_2\",\"normal_2\"],\"index\":[0,1,2,3,4],\"data\":[[0,94.830479,true,0,0,true],[1,72.969358,true,1,1,true],[2,59.427536,true,2,2,true],[3,8.669261,true,3,3,true],[4,11.028436,true,4,4,true]]}\n5",
       "data_range": [
        0,
        10
       ],
       "dfs_button": "",
       "index_sort": [
        "",
        0
       ],
       "json_dump": "2023-01-09T08:34:33.131Z",
       "layout": "IPY_MODEL_a24836021f8140b89b52ea62ea1743f4",
       "sql_button": ""
      }
     },
     "6720096b495c46949a9bf802d7494222": {
      "model_module": "asqlcell",
      "model_module_version": "0.1.0",
      "model_name": "SqlCellModel",
      "state": {
       "data": "{\"columns\":[\"id\",\"price\",\"normal\",\"id_2\",\"price_2\",\"normal_2\"],\"index\":[0,1,2,3,4],\"data\":[[0,94.830479,true,0,0,true],[1,72.969358,true,1,1,true],[2,59.427536,true,2,2,true],[3,8.669261,true,3,3,true],[4,11.028436,true,4,4,true]]}\n5",
       "data_range": [
        0,
        10
       ],
       "dfs_button": "",
       "index_sort": [
        "",
        0
       ],
       "json_dump": "",
       "layout": "IPY_MODEL_c99bdbb5f42c4d35bf367465deece2a3",
       "sql_button": ""
      }
     },
     "a24836021f8140b89b52ea62ea1743f4": {
      "model_module": "@jupyter-widgets/base",
      "model_module_version": "2.0.0",
      "model_name": "LayoutModel",
      "state": {}
     },
     "c99bdbb5f42c4d35bf367465deece2a3": {
      "model_module": "@jupyter-widgets/base",
      "model_module_version": "2.0.0",
      "model_name": "LayoutModel",
      "state": {}
     },
     "d4cace7ec4fd43888e1d87faea20600a": {
      "model_module": "@jupyter-widgets/base",
      "model_module_version": "2.0.0",
      "model_name": "LayoutModel",
      "state": {}
     },
     "db3e873ed710408c93c866bdc513d804": {
      "model_module": "asqlcell",
      "model_module_version": "0.1.0",
      "model_name": "SqlCellModel",
      "state": {
       "data": "{\"columns\":[\"id\",\"price\",\"normal\"],\"index\":[0,1,2,3,4],\"data\":[[0,94.830479,true],[1,72.969358,true],[2,59.427536,true],[3,8.669261,true],[4,11.028436,true]]}\n5",
       "data_range": [
        0,
        10
       ],
       "dfs_button": "",
       "index_sort": [
        "",
        0
       ],
       "json_dump": "",
       "layout": "IPY_MODEL_d4cace7ec4fd43888e1d87faea20600a",
       "sql_button": ""
      }
     },
     "ec0a152dcaeb4bde9234a686c479e2fd": {
      "model_module": "asqlcell",
      "model_module_version": "0.1.0",
      "model_name": "SqlCellModel",
      "state": {
       "data_range": [
        0,
        10
       ],
       "dfs_button": "",
       "index_sort": [
        "",
        0
       ],
       "json_dump": "2023-01-09T08:34:32.837Z",
       "layout": "IPY_MODEL_3c57b22367384fc7a7fbe625c6fa0663",
       "sql_button": ""
      }
     }
    },
    "version_major": 2,
    "version_minor": 0
   }
  }
 },
 "nbformat": 4,
 "nbformat_minor": 5
}
