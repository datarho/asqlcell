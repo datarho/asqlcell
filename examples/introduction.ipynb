{
 "cells": [
  {
   "cell_type": "markdown",
   "id": "5860544e",
   "metadata": {},
   "source": [
    "# Introduction to Analytical SQL Cell"
   ]
  },
  {
   "cell_type": "markdown",
   "id": "e5bc4c72-0fac-4e15-8670-46dd26e35746",
   "metadata": {},
   "source": [
    "The installation of `asqlcell` with latest version is simple as:"
   ]
  },
  {
   "cell_type": "code",
   "execution_count": null,
   "id": "02c3cd1d-678e-4b25-a7d1-d8a390c7e1ba",
   "metadata": {},
   "outputs": [],
   "source": [
    "%pip install asqlcell --upgrade"
   ]
  },
  {
   "cell_type": "markdown",
   "id": "08940cbe",
   "metadata": {},
   "source": [
    "Analytical SQL Cell supports loading data from external CSV file with *inline* magic `%sql`. You can write SQL statement after the magic and the result set will be stored in the variable as a Pandas dataframe:"
   ]
  },
  {
   "cell_type": "code",
   "execution_count": null,
   "id": "652a4eb6-8527-4bf8-a1d2-b1fa86c097fd",
   "metadata": {
    "scrolled": true
   },
   "outputs": [],
   "source": [
    "import asqlcell\n",
    "\n",
    "data1 = %sql SELECT * FROM 'introduction.csv'"
   ]
  },
  {
   "cell_type": "markdown",
   "id": "c63e5b8a",
   "metadata": {},
   "source": [
    "We can further join `data1` with another Pandas dataframe:"
   ]
  },
  {
   "cell_type": "code",
   "execution_count": null,
   "id": "f5386cd7",
   "metadata": {},
   "outputs": [],
   "source": [
    "from asqlcell import datasets\n",
    "\n",
    "data2 = datasets.get_random_data(1000)\n",
    "\n",
    "data1.join(data2, lsuffix='id', rsuffix='id')"
   ]
  },
  {
   "cell_type": "markdown",
   "id": "a114c093",
   "metadata": {},
   "source": [
    "Analytical SQL Cell also supports *block* magic `%%sql` so that you can fill SQL statement in the whole cell. The result set will be stored in the variable named `sqlcelldf` specified after the magic:"
   ]
  },
  {
   "cell_type": "code",
   "execution_count": null,
   "id": "a568f350-dcf5-4cd2-bc7e-fb7c5ac431cb",
   "metadata": {},
   "outputs": [],
   "source": [
    "%%sql sqlcelldf\n",
    "\n",
    "SELECT *\n",
    "FROM data1 JOIN data2 ON (data1.id = data2.id)"
   ]
  },
  {
   "cell_type": "code",
   "execution_count": null,
   "id": "efd2e774-012e-4dc4-8876-c52fab1ea844",
   "metadata": {},
   "outputs": [],
   "source": []
  }
 ],
 "metadata": {
  "kernelspec": {
   "display_name": "Python 3 (ipykernel)",
   "language": "python",
   "name": "python3"
  },
  "language_info": {
   "codemirror_mode": {
    "name": "ipython",
    "version": 3
   },
   "file_extension": ".py",
   "mimetype": "text/x-python",
   "name": "python",
   "nbconvert_exporter": "python",
   "pygments_lexer": "ipython3",
   "version": "3.11.0"
  },
  "vscode": {
   "interpreter": {
    "hash": "e14e49767cf93412746d1786833441f6b192032bf9e90a563653dfb0e27875d3"
   }
  },
  "widgets": {
   "application/vnd.jupyter.widget-state+json": {
    "state": {},
    "version_major": 2,
    "version_minor": 0
   }
  }
 },
 "nbformat": 4,
 "nbformat_minor": 5
}
