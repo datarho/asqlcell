{
 "cells": [
  {
   "cell_type": "markdown",
   "id": "5860544e",
   "metadata": {},
   "source": [
    "# Introduction to Analytical SQL Cell"
   ]
  },
  {
   "cell_type": "markdown",
   "id": "e5bc4c72-0fac-4e15-8670-46dd26e35746",
   "metadata": {},
   "source": [
    "The installation of `asqlcell` with latest version is simple as:"
   ]
  },
  {
   "cell_type": "code",
   "execution_count": null,
   "id": "02c3cd1d-678e-4b25-a7d1-d8a390c7e1ba",
   "metadata": {},
   "outputs": [],
   "source": [
    "%pip install asqlcell --upgrade"
   ]
  },
  {
   "cell_type": "markdown",
   "id": "08940cbe",
   "metadata": {},
   "source": [
    "Analytical SQL Cell supports loading data from external CSV file with *inline* magic `%sql`. You can write SQL statement after the magic and the result set will be stored in the variable as a Pandas dataframe:"
   ]
  },
  {
   "cell_type": "code",
   "execution_count": 2,
   "id": "652a4eb6-8527-4bf8-a1d2-b1fa86c097fd",
   "metadata": {
    "scrolled": true
   },
   "outputs": [],
   "source": [
    "import asqlcell\n",
    "\n",
    "data1 = %sql SELECT * FROM 'introduction.csv'"
   ]
  },
  {
   "cell_type": "markdown",
   "id": "c63e5b8a",
   "metadata": {},
   "source": [
    "We can further join `data1` with another Pandas dataframe:"
   ]
  },
  {
   "cell_type": "code",
   "execution_count": 3,
   "id": "f5386cd7",
   "metadata": {},
   "outputs": [
    {
     "data": {
      "text/html": [
       "<div>\n",
       "<style scoped>\n",
       "    .dataframe tbody tr th:only-of-type {\n",
       "        vertical-align: middle;\n",
       "    }\n",
       "\n",
       "    .dataframe tbody tr th {\n",
       "        vertical-align: top;\n",
       "    }\n",
       "\n",
       "    .dataframe thead th {\n",
       "        text-align: right;\n",
       "    }\n",
       "</style>\n",
       "<table border=\"1\" class=\"dataframe\">\n",
       "  <thead>\n",
       "    <tr style=\"text-align: right;\">\n",
       "      <th></th>\n",
       "      <th>idid</th>\n",
       "      <th>priceid</th>\n",
       "      <th>normalid</th>\n",
       "      <th>idid</th>\n",
       "      <th>priceid</th>\n",
       "      <th>normalid</th>\n",
       "    </tr>\n",
       "  </thead>\n",
       "  <tbody>\n",
       "    <tr>\n",
       "      <th>0</th>\n",
       "      <td>0</td>\n",
       "      <td>94.830479</td>\n",
       "      <td>True</td>\n",
       "      <td>0</td>\n",
       "      <td>0</td>\n",
       "      <td>True</td>\n",
       "    </tr>\n",
       "    <tr>\n",
       "      <th>1</th>\n",
       "      <td>1</td>\n",
       "      <td>72.969358</td>\n",
       "      <td>True</td>\n",
       "      <td>1</td>\n",
       "      <td>1</td>\n",
       "      <td>True</td>\n",
       "    </tr>\n",
       "    <tr>\n",
       "      <th>2</th>\n",
       "      <td>2</td>\n",
       "      <td>59.427536</td>\n",
       "      <td>True</td>\n",
       "      <td>2</td>\n",
       "      <td>2</td>\n",
       "      <td>True</td>\n",
       "    </tr>\n",
       "    <tr>\n",
       "      <th>3</th>\n",
       "      <td>3</td>\n",
       "      <td>8.669261</td>\n",
       "      <td>True</td>\n",
       "      <td>3</td>\n",
       "      <td>3</td>\n",
       "      <td>True</td>\n",
       "    </tr>\n",
       "    <tr>\n",
       "      <th>4</th>\n",
       "      <td>4</td>\n",
       "      <td>11.028436</td>\n",
       "      <td>True</td>\n",
       "      <td>4</td>\n",
       "      <td>4</td>\n",
       "      <td>True</td>\n",
       "    </tr>\n",
       "  </tbody>\n",
       "</table>\n",
       "</div>"
      ],
      "text/plain": [
       "   idid    priceid  normalid  idid  priceid  normalid\n",
       "0     0  94.830479      True     0        0      True\n",
       "1     1  72.969358      True     1        1      True\n",
       "2     2  59.427536      True     2        2      True\n",
       "3     3   8.669261      True     3        3      True\n",
       "4     4  11.028436      True     4        4      True"
      ]
     },
     "execution_count": 3,
     "metadata": {},
     "output_type": "execute_result"
    }
   ],
   "source": [
    "from asqlcell import utils\n",
    "\n",
    "data2 = utils.get_random_data(1000)\n",
    "\n",
    "data1.join(data2, lsuffix='id', rsuffix='id')"
   ]
  },
  {
   "cell_type": "markdown",
   "id": "a114c093",
   "metadata": {},
   "source": [
    "Analytical SQL Cell also supports *block* magic `%%sql` so that you can fill SQL statement in the whole cell. The result set will be stored in the variable named `sqlcelldf` specified after the magic:"
   ]
  },
  {
   "cell_type": "code",
   "execution_count": 4,
   "id": "a568f350-dcf5-4cd2-bc7e-fb7c5ac431cb",
   "metadata": {},
   "outputs": [
    {
     "data": {
      "application/vnd.jupyter.widget-view+json": {
       "model_id": "a664e68d4eba4222816016caf3304b0d",
       "version_major": 2,
       "version_minor": 0
      },
      "text/plain": [
       "SqlcellWidget(column_sort=('', 0), data_grid='{\"columns\":[\"id\",\"price\",\"normal\",\"id_2\",\"price_2\",\"normal_2\"],\"…"
      ]
     },
     "execution_count": 4,
     "metadata": {},
     "output_type": "execute_result"
    }
   ],
   "source": [
    "%%sql sqlcelldf\n",
    "\n",
    "SELECT *\n",
    "FROM data1 JOIN data2 ON (data1.id = data2.id)"
   ]
  }
 ],
 "metadata": {
  "kernelspec": {
   "display_name": "Python 3 (ipykernel)",
   "language": "python",
   "name": "python3"
  },
  "language_info": {
   "codemirror_mode": {
    "name": "ipython",
    "version": 3
   },
   "file_extension": ".py",
   "mimetype": "text/x-python",
   "name": "python",
   "nbconvert_exporter": "python",
   "pygments_lexer": "ipython3",
   "version": "3.11.0"
  },
  "vscode": {
   "interpreter": {
    "hash": "e14e49767cf93412746d1786833441f6b192032bf9e90a563653dfb0e27875d3"
   }
  },
  "widgets": {
   "application/vnd.jupyter.widget-state+json": {
    "state": {},
    "version_major": 2,
    "version_minor": 0
   }
  }
 },
 "nbformat": 4,
 "nbformat_minor": 5
}
