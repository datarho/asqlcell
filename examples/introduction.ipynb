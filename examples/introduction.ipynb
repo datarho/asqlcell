{
 "cells": [
  {
   "cell_type": "markdown",
   "id": "5860544e",
   "metadata": {},
   "source": [
    "# Introduction to Analytical SQL Cell"
   ]
  },
  {
   "cell_type": "markdown",
   "id": "e5bc4c72-0fac-4e15-8670-46dd26e35746",
   "metadata": {},
   "source": [
    "The installation of `asqlcell` with latest version is simple as:"
   ]
  },
  {
   "cell_type": "code",
   "execution_count": null,
   "id": "02c3cd1d-678e-4b25-a7d1-d8a390c7e1ba",
   "metadata": {},
   "outputs": [],
   "source": [
    "%pip install asqlcell"
   ]
  },
  {
   "cell_type": "markdown",
   "id": "08940cbe",
   "metadata": {},
   "source": [
    "Analytical SQL Cell supports loading data from external CSV file with *inline* magic `%sql`. You can write SQL statement after the magic and the result set will be stored in the variable as a Pandas dataframe:"
   ]
  },
  {
   "cell_type": "code",
   "execution_count": 1,
   "id": "652a4eb6-8527-4bf8-a1d2-b1fa86c097fd",
   "metadata": {
    "scrolled": true
   },
   "outputs": [],
   "source": [
    "import asqlcell\n",
    "\n",
    "data1 = %sql SELECT * FROM 'introduction.csv'"
   ]
  },
  {
   "cell_type": "markdown",
   "id": "c63e5b8a",
   "metadata": {},
   "source": [
    "We can further join `data1` with another Pandas dataframe:"
   ]
  },
  {
   "cell_type": "code",
   "execution_count": 2,
   "id": "f5386cd7",
   "metadata": {},
   "outputs": [
    {
     "data": {
      "text/html": [
       "<div>\n",
       "<style scoped>\n",
       "    .dataframe tbody tr th:only-of-type {\n",
       "        vertical-align: middle;\n",
       "    }\n",
       "\n",
       "    .dataframe tbody tr th {\n",
       "        vertical-align: top;\n",
       "    }\n",
       "\n",
       "    .dataframe thead th {\n",
       "        text-align: right;\n",
       "    }\n",
       "</style>\n",
       "<table border=\"1\" class=\"dataframe\">\n",
       "  <thead>\n",
       "    <tr style=\"text-align: right;\">\n",
       "      <th></th>\n",
       "      <th>idid</th>\n",
       "      <th>priceid</th>\n",
       "      <th>normalid</th>\n",
       "      <th>idid</th>\n",
       "      <th>priceid</th>\n",
       "      <th>normalid</th>\n",
       "    </tr>\n",
       "  </thead>\n",
       "  <tbody>\n",
       "    <tr>\n",
       "      <th>0</th>\n",
       "      <td>0</td>\n",
       "      <td>94.830479</td>\n",
       "      <td>True</td>\n",
       "      <td>0</td>\n",
       "      <td>0</td>\n",
       "      <td>True</td>\n",
       "    </tr>\n",
       "    <tr>\n",
       "      <th>1</th>\n",
       "      <td>1</td>\n",
       "      <td>72.969358</td>\n",
       "      <td>True</td>\n",
       "      <td>1</td>\n",
       "      <td>1</td>\n",
       "      <td>True</td>\n",
       "    </tr>\n",
       "    <tr>\n",
       "      <th>2</th>\n",
       "      <td>2</td>\n",
       "      <td>59.427536</td>\n",
       "      <td>True</td>\n",
       "      <td>2</td>\n",
       "      <td>2</td>\n",
       "      <td>True</td>\n",
       "    </tr>\n",
       "    <tr>\n",
       "      <th>3</th>\n",
       "      <td>3</td>\n",
       "      <td>8.669261</td>\n",
       "      <td>True</td>\n",
       "      <td>3</td>\n",
       "      <td>3</td>\n",
       "      <td>True</td>\n",
       "    </tr>\n",
       "    <tr>\n",
       "      <th>4</th>\n",
       "      <td>4</td>\n",
       "      <td>11.028436</td>\n",
       "      <td>True</td>\n",
       "      <td>4</td>\n",
       "      <td>4</td>\n",
       "      <td>True</td>\n",
       "    </tr>\n",
       "  </tbody>\n",
       "</table>\n",
       "</div>"
      ],
      "text/plain": [
       "   idid    priceid  normalid  idid  priceid  normalid\n",
       "0     0  94.830479      True     0        0      True\n",
       "1     1  72.969358      True     1        1      True\n",
       "2     2  59.427536      True     2        2      True\n",
       "3     3   8.669261      True     3        3      True\n",
       "4     4  11.028436      True     4        4      True"
      ]
     },
     "execution_count": 2,
     "metadata": {},
     "output_type": "execute_result"
    }
   ],
   "source": [
    "from asqlcell import utils\n",
    "\n",
    "data2 = utils.get_random_data(1000)\n",
    "\n",
    "data1.join(data2, lsuffix='id', rsuffix='id')"
   ]
  },
  {
   "cell_type": "code",
   "execution_count": 17,
   "id": "9079bff8-005e-4fe0-9e58-2729ff785fd3",
   "metadata": {},
   "outputs": [
    {
     "data": {
      "application/vnd.jupyter.widget-view+json": {
       "model_id": "bad090a0f2934f8d9c395d2224a66d68",
       "version_major": 2,
       "version_minor": 0
      },
      "text/plain": [
       "SqlcellWidget(column_sort=('', 0), data_grid='{\"columns\":[\"code\",\"date\",\"O\",\"H\",\"C\",\"L\"],\"index\":[0,1,2,3,4,5,…"
      ]
     },
     "execution_count": 17,
     "metadata": {},
     "output_type": "execute_result"
    }
   ],
   "source": [
    "%%sql dataWithDate\n",
    "SELECT *\n",
    "FROM stock.parquet\n",
    "LIMIT 100\n"
   ]
  },
  {
   "cell_type": "code",
   "execution_count": 8,
   "id": "0ddc792a-a214-43ca-af5b-ac4d7dcec482",
   "metadata": {},
   "outputs": [
    {
     "data": {
      "text/html": [
       "<div>\n",
       "<style scoped>\n",
       "    .dataframe tbody tr th:only-of-type {\n",
       "        vertical-align: middle;\n",
       "    }\n",
       "\n",
       "    .dataframe tbody tr th {\n",
       "        vertical-align: top;\n",
       "    }\n",
       "\n",
       "    .dataframe thead th {\n",
       "        text-align: right;\n",
       "    }\n",
       "</style>\n",
       "<table border=\"1\" class=\"dataframe\">\n",
       "  <thead>\n",
       "    <tr style=\"text-align: right;\">\n",
       "      <th></th>\n",
       "      <th>0</th>\n",
       "      <th>code</th>\n",
       "      <th>date</th>\n",
       "      <th>O</th>\n",
       "      <th>H</th>\n",
       "      <th>C</th>\n",
       "      <th>L</th>\n",
       "    </tr>\n",
       "  </thead>\n",
       "  <tbody>\n",
       "    <tr>\n",
       "      <th>0</th>\n",
       "      <td>18</td>\n",
       "      <td>000001</td>\n",
       "      <td>2020-09-02</td>\n",
       "      <td>15.01</td>\n",
       "      <td>15.53</td>\n",
       "      <td>15.32</td>\n",
       "      <td>15.01</td>\n",
       "    </tr>\n",
       "    <tr>\n",
       "      <th>1</th>\n",
       "      <td>1</td>\n",
       "      <td>000001</td>\n",
       "      <td>2020-09-03</td>\n",
       "      <td>15.32</td>\n",
       "      <td>15.33</td>\n",
       "      <td>14.90</td>\n",
       "      <td>14.84</td>\n",
       "    </tr>\n",
       "    <tr>\n",
       "      <th>2</th>\n",
       "      <td>12</td>\n",
       "      <td>000001</td>\n",
       "      <td>2020-09-04</td>\n",
       "      <td>14.73</td>\n",
       "      <td>15.06</td>\n",
       "      <td>14.96</td>\n",
       "      <td>14.60</td>\n",
       "    </tr>\n",
       "    <tr>\n",
       "      <th>3</th>\n",
       "      <td>12</td>\n",
       "      <td>000001</td>\n",
       "      <td>2020-09-07</td>\n",
       "      <td>14.88</td>\n",
       "      <td>15.24</td>\n",
       "      <td>14.94</td>\n",
       "      <td>14.83</td>\n",
       "    </tr>\n",
       "    <tr>\n",
       "      <th>4</th>\n",
       "      <td>9</td>\n",
       "      <td>000001</td>\n",
       "      <td>2020-09-08</td>\n",
       "      <td>15.00</td>\n",
       "      <td>15.43</td>\n",
       "      <td>15.43</td>\n",
       "      <td>15.00</td>\n",
       "    </tr>\n",
       "    <tr>\n",
       "      <th>...</th>\n",
       "      <td>...</td>\n",
       "      <td>...</td>\n",
       "      <td>...</td>\n",
       "      <td>...</td>\n",
       "      <td>...</td>\n",
       "      <td>...</td>\n",
       "      <td>...</td>\n",
       "    </tr>\n",
       "    <tr>\n",
       "      <th>95</th>\n",
       "      <td>14</td>\n",
       "      <td>000001</td>\n",
       "      <td>2021-01-22</td>\n",
       "      <td>22.23</td>\n",
       "      <td>22.23</td>\n",
       "      <td>22.03</td>\n",
       "      <td>21.51</td>\n",
       "    </tr>\n",
       "    <tr>\n",
       "      <th>96</th>\n",
       "      <td>15</td>\n",
       "      <td>000001</td>\n",
       "      <td>2021-01-25</td>\n",
       "      <td>21.72</td>\n",
       "      <td>22.60</td>\n",
       "      <td>22.49</td>\n",
       "      <td>21.43</td>\n",
       "    </tr>\n",
       "    <tr>\n",
       "      <th>97</th>\n",
       "      <td>2</td>\n",
       "      <td>000001</td>\n",
       "      <td>2021-01-26</td>\n",
       "      <td>22.30</td>\n",
       "      <td>23.32</td>\n",
       "      <td>22.37</td>\n",
       "      <td>22.30</td>\n",
       "    </tr>\n",
       "    <tr>\n",
       "      <th>98</th>\n",
       "      <td>5</td>\n",
       "      <td>000001</td>\n",
       "      <td>2021-01-27</td>\n",
       "      <td>22.31</td>\n",
       "      <td>23.47</td>\n",
       "      <td>23.08</td>\n",
       "      <td>22.31</td>\n",
       "    </tr>\n",
       "    <tr>\n",
       "      <th>99</th>\n",
       "      <td>0</td>\n",
       "      <td>000001</td>\n",
       "      <td>2021-01-28</td>\n",
       "      <td>22.78</td>\n",
       "      <td>23.18</td>\n",
       "      <td>22.81</td>\n",
       "      <td>22.45</td>\n",
       "    </tr>\n",
       "  </tbody>\n",
       "</table>\n",
       "<p>100 rows × 7 columns</p>\n",
       "</div>"
      ],
      "text/plain": [
       "     0    code       date      O      H      C      L\n",
       "0   18  000001 2020-09-02  15.01  15.53  15.32  15.01\n",
       "1    1  000001 2020-09-03  15.32  15.33  14.90  14.84\n",
       "2   12  000001 2020-09-04  14.73  15.06  14.96  14.60\n",
       "3   12  000001 2020-09-07  14.88  15.24  14.94  14.83\n",
       "4    9  000001 2020-09-08  15.00  15.43  15.43  15.00\n",
       "..  ..     ...        ...    ...    ...    ...    ...\n",
       "95  14  000001 2021-01-22  22.23  22.23  22.03  21.51\n",
       "96  15  000001 2021-01-25  21.72  22.60  22.49  21.43\n",
       "97   2  000001 2021-01-26  22.30  23.32  22.37  22.30\n",
       "98   5  000001 2021-01-27  22.31  23.47  23.08  22.31\n",
       "99   0  000001 2021-01-28  22.78  23.18  22.81  22.45\n",
       "\n",
       "[100 rows x 7 columns]"
      ]
     },
     "execution_count": 8,
     "metadata": {},
     "output_type": "execute_result"
    }
   ],
   "source": [
    "import numpy as np\n",
    "import pandas as pd\n",
    "import math\n",
    "a = np.random.randint(math.ceil(max(dataWithDate.O)), size=len(dataWithDate))\n",
    "a = pd.DataFrame(data=a)\n",
    "b = pd.concat([a, dataWithDate], axis=1)\n",
    "b"
   ]
  },
  {
   "cell_type": "code",
   "execution_count": 40,
   "id": "60bce1ec-5afe-456a-8796-98ec08f18259",
   "metadata": {},
   "outputs": [
    {
     "data": {
      "text/html": [
       "<div>\n",
       "<style scoped>\n",
       "    .dataframe tbody tr th:only-of-type {\n",
       "        vertical-align: middle;\n",
       "    }\n",
       "\n",
       "    .dataframe tbody tr th {\n",
       "        vertical-align: top;\n",
       "    }\n",
       "\n",
       "    .dataframe thead th {\n",
       "        text-align: right;\n",
       "    }\n",
       "</style>\n",
       "<table border=\"1\" class=\"dataframe\">\n",
       "  <thead>\n",
       "    <tr style=\"text-align: right;\">\n",
       "      <th></th>\n",
       "      <th>a</th>\n",
       "      <th>b</th>\n",
       "      <th>c</th>\n",
       "      <th>d</th>\n",
       "    </tr>\n",
       "  </thead>\n",
       "  <tbody>\n",
       "    <tr>\n",
       "      <th>0</th>\n",
       "      <td>2.011701</td>\n",
       "      <td>1.853852</td>\n",
       "      <td>-0.453099</td>\n",
       "      <td>-0.280389</td>\n",
       "    </tr>\n",
       "    <tr>\n",
       "      <th>1</th>\n",
       "      <td>0.537766</td>\n",
       "      <td>1.319841</td>\n",
       "      <td>0.665797</td>\n",
       "      <td>-0.086168</td>\n",
       "    </tr>\n",
       "    <tr>\n",
       "      <th>2</th>\n",
       "      <td>-1.877105</td>\n",
       "      <td>-0.162144</td>\n",
       "      <td>-1.113990</td>\n",
       "      <td>1.167525</td>\n",
       "    </tr>\n",
       "    <tr>\n",
       "      <th>3</th>\n",
       "      <td>2.138236</td>\n",
       "      <td>-1.332385</td>\n",
       "      <td>-0.525549</td>\n",
       "      <td>1.149024</td>\n",
       "    </tr>\n",
       "    <tr>\n",
       "      <th>4</th>\n",
       "      <td>-1.364015</td>\n",
       "      <td>-0.531735</td>\n",
       "      <td>1.564186</td>\n",
       "      <td>0.816971</td>\n",
       "    </tr>\n",
       "    <tr>\n",
       "      <th>...</th>\n",
       "      <td>...</td>\n",
       "      <td>...</td>\n",
       "      <td>...</td>\n",
       "      <td>...</td>\n",
       "    </tr>\n",
       "    <tr>\n",
       "      <th>95</th>\n",
       "      <td>1.738298</td>\n",
       "      <td>0.539076</td>\n",
       "      <td>0.365641</td>\n",
       "      <td>1.997956</td>\n",
       "    </tr>\n",
       "    <tr>\n",
       "      <th>96</th>\n",
       "      <td>-0.449149</td>\n",
       "      <td>0.112368</td>\n",
       "      <td>0.281795</td>\n",
       "      <td>0.123073</td>\n",
       "    </tr>\n",
       "    <tr>\n",
       "      <th>97</th>\n",
       "      <td>-1.549035</td>\n",
       "      <td>1.093442</td>\n",
       "      <td>-2.124157</td>\n",
       "      <td>-1.443367</td>\n",
       "    </tr>\n",
       "    <tr>\n",
       "      <th>98</th>\n",
       "      <td>0.007268</td>\n",
       "      <td>-0.214703</td>\n",
       "      <td>0.202352</td>\n",
       "      <td>-0.890685</td>\n",
       "    </tr>\n",
       "    <tr>\n",
       "      <th>99</th>\n",
       "      <td>0.049562</td>\n",
       "      <td>-0.566267</td>\n",
       "      <td>0.376039</td>\n",
       "      <td>1.295565</td>\n",
       "    </tr>\n",
       "  </tbody>\n",
       "</table>\n",
       "<p>100 rows × 4 columns</p>\n",
       "</div>"
      ],
      "text/plain": [
       "           a         b         c         d\n",
       "0   2.011701  1.853852 -0.453099 -0.280389\n",
       "1   0.537766  1.319841  0.665797 -0.086168\n",
       "2  -1.877105 -0.162144 -1.113990  1.167525\n",
       "3   2.138236 -1.332385 -0.525549  1.149024\n",
       "4  -1.364015 -0.531735  1.564186  0.816971\n",
       "..       ...       ...       ...       ...\n",
       "95  1.738298  0.539076  0.365641  1.997956\n",
       "96 -0.449149  0.112368  0.281795  0.123073\n",
       "97 -1.549035  1.093442 -2.124157 -1.443367\n",
       "98  0.007268 -0.214703  0.202352 -0.890685\n",
       "99  0.049562 -0.566267  0.376039  1.295565\n",
       "\n",
       "[100 rows x 4 columns]"
      ]
     },
     "execution_count": 40,
     "metadata": {},
     "output_type": "execute_result"
    }
   ],
   "source": [
    "normal_dist = {}\n",
    "names=[\"a\",\"b\",\"c\",\"d\"]\n",
    "for i in range(4):\n",
    "    normal_dist[names[i]]= np.random.normal(loc=0.0, scale=1.0, size=100)\n",
    "normal_dist=pd.DataFrame(normal_dist)\n",
    "normal_dist"
   ]
  },
  {
   "cell_type": "markdown",
   "id": "a114c093",
   "metadata": {},
   "source": [
    "Analytical SQL Cell also supports *block* magic `%%sql` so that you can fill SQL statement in the whole cell. The result set will be stored in the variable named `sqlcelldf` specified after the magic:"
   ]
  },
  {
   "cell_type": "code",
   "execution_count": 45,
   "id": "a568f350-dcf5-4cd2-bc7e-fb7c5ac431cb",
   "metadata": {},
   "outputs": [
    {
     "data": {
      "application/vnd.jupyter.widget-view+json": {
       "model_id": "19fa23a7bef348ed98b7288db53134ef",
       "version_major": 2,
       "version_minor": 0
      },
      "text/plain": [
       "SqlcellWidget(column_sort=('', 0), mode='UI', row_range=(0, 10), vis_sql=('', ''))"
      ]
     },
     "execution_count": 45,
     "metadata": {},
     "output_type": "execute_result"
    }
   ],
   "source": [
    "asqlcell.SqlcellWidget()"
   ]
  },
  {
   "cell_type": "code",
   "execution_count": 13,
   "id": "b3e34786-b9dc-48e1-8501-eaf49c6fd743",
   "metadata": {},
   "outputs": [
    {
     "data": {
      "application/vnd.jupyter.widget-view+json": {
       "model_id": "52ff94710aca478e9d1fcfd68beffb3e",
       "version_major": 2,
       "version_minor": 0
      },
      "text/plain": [
       "SqlcellWidget(column_sort=('', 0), data_grid='{\"columns\":[\"0\",\"code\",\"date\",\"O\",\"H\",\"C\",\"L\"],\"index\":[0,1,2,3,…"
      ]
     },
     "execution_count": 13,
     "metadata": {},
     "output_type": "execute_result"
    }
   ],
   "source": [
    "%%sql\n",
    "SELECT *\n",
    "FROM b"
   ]
  },
  {
   "cell_type": "code",
   "execution_count": 44,
   "id": "5f3bf4c1-9aee-46f2-9439-0f8039557650",
   "metadata": {},
   "outputs": [
    {
     "data": {
      "application/vnd.jupyter.widget-view+json": {
       "model_id": "96e4d679023644ccb33651e8e1d12417",
       "version_major": 2,
       "version_minor": 0
      },
      "text/plain": [
       "SqlcellWidget(column_sort=('', 0), data_grid='{\"columns\":[\"a\",\"b\",\"c\",\"d\"],\"index\":[0,1,2,3,4,5,6,7,8,9],\"data…"
      ]
     },
     "execution_count": 44,
     "metadata": {},
     "output_type": "execute_result"
    }
   ],
   "source": [
    "%%sql\n",
    "SELECT *\n",
    "FROM normal_dist"
   ]
  },
  {
   "cell_type": "code",
   "execution_count": 8,
   "id": "1747c2c2-0d93-4d46-9c3a-e5fa6d0e6021",
   "metadata": {},
   "outputs": [
    {
     "data": {
      "application/vnd.jupyter.widget-view+json": {
       "model_id": "649fb6f317e94f14be35ef3e6f51235c",
       "version_major": 2,
       "version_minor": 0
      },
      "text/plain": [
       "SqlcellWidget(column_sort=('', 0), data_grid='{\"columns\":[\"date\",\"O\"],\"index\":[0,1,2,3,4,5,6,7,8,9],\"data\":[[\"…"
      ]
     },
     "execution_count": 8,
     "metadata": {},
     "output_type": "execute_result"
    }
   ],
   "source": [
    "%%sql\n",
    "SELECT date, O\n",
    "FROM dataWithDate"
   ]
  },
  {
   "cell_type": "code",
   "execution_count": 9,
   "id": "670f5f99-9694-4314-adfe-75d664c88b1c",
   "metadata": {},
   "outputs": [
    {
     "data": {
      "application/vnd.jupyter.widget-view+json": {
       "model_id": "1d03c9394cd04d54b3bd9fcbf0fc8977",
       "version_major": 2,
       "version_minor": 0
      },
      "text/plain": [
       "SqlcellWidget(column_sort=('', 0), data_grid='{\"columns\":[\"1\"],\"index\":[0],\"data\":[[1]]}\\n1', data_name='__670…"
      ]
     },
     "execution_count": 9,
     "metadata": {},
     "output_type": "execute_result"
    }
   ],
   "source": [
    "%%sql\n",
    "select 1"
   ]
  },
  {
   "cell_type": "code",
   "execution_count": 10,
   "id": "b8efbe67-6ae0-4c9d-ba7c-bb848e9523c8",
   "metadata": {},
   "outputs": [
    {
     "ename": "TraitError",
     "evalue": "The 'max' trait of an IntSlider instance expected an int, not the str 'a'.",
     "output_type": "error",
     "traceback": [
      "\u001b[0;31m---------------------------------------------------------------------------\u001b[0m",
      "\u001b[0;31mValueError\u001b[0m                                Traceback (most recent call last)",
      "File \u001b[0;32m/Library/Frameworks/Python.framework/Versions/3.9/lib/python3.9/site-packages/traitlets/traitlets.py:2392\u001b[0m, in \u001b[0;36mCInt.validate\u001b[0;34m(self, obj, value)\u001b[0m\n\u001b[1;32m   2391\u001b[0m \u001b[38;5;28;01mtry\u001b[39;00m:\n\u001b[0;32m-> 2392\u001b[0m     value \u001b[38;5;241m=\u001b[39m \u001b[38;5;28;43mint\u001b[39;49m\u001b[43m(\u001b[49m\u001b[43mvalue\u001b[49m\u001b[43m)\u001b[49m\n\u001b[1;32m   2393\u001b[0m \u001b[38;5;28;01mexcept\u001b[39;00m \u001b[38;5;167;01mException\u001b[39;00m:\n",
      "\u001b[0;31mValueError\u001b[0m: invalid literal for int() with base 10: 'a'",
      "\nDuring handling of the above exception, another exception occurred:\n",
      "\u001b[0;31mTraitError\u001b[0m                                Traceback (most recent call last)",
      "Cell \u001b[0;32mIn[10], line 3\u001b[0m\n\u001b[1;32m      1\u001b[0m \u001b[38;5;28;01mimport\u001b[39;00m \u001b[38;5;21;01mipywidgets\u001b[39;00m \u001b[38;5;28;01mas\u001b[39;00m \u001b[38;5;21;01mwidgets\u001b[39;00m\n\u001b[0;32m----> 3\u001b[0m intslider \u001b[38;5;241m=\u001b[39m \u001b[43mwidgets\u001b[49m\u001b[38;5;241;43m.\u001b[39;49m\u001b[43mIntSlider\u001b[49m\u001b[43m(\u001b[49m\n\u001b[1;32m      4\u001b[0m \u001b[43m    \u001b[49m\u001b[43mvalue\u001b[49m\u001b[38;5;241;43m=\u001b[39;49m\u001b[38;5;241;43m7\u001b[39;49m\u001b[43m,\u001b[49m\n\u001b[1;32m      5\u001b[0m \u001b[43m    \u001b[49m\u001b[38;5;28;43mmin\u001b[39;49m\u001b[38;5;241;43m=\u001b[39;49m\u001b[38;5;241;43m0\u001b[39;49m\u001b[43m,\u001b[49m\n\u001b[1;32m      6\u001b[0m \u001b[43m    \u001b[49m\u001b[38;5;28;43mmax\u001b[39;49m\u001b[38;5;241;43m=\u001b[39;49m\u001b[38;5;124;43m\"\u001b[39;49m\u001b[38;5;124;43ma\u001b[39;49m\u001b[38;5;124;43m\"\u001b[39;49m\u001b[43m,\u001b[49m\n\u001b[1;32m      7\u001b[0m \u001b[43m    \u001b[49m\u001b[43mstep\u001b[49m\u001b[38;5;241;43m=\u001b[39;49m\u001b[38;5;241;43m1\u001b[39;49m\u001b[43m,\u001b[49m\n\u001b[1;32m      8\u001b[0m \u001b[43m    \u001b[49m\u001b[43mdescription\u001b[49m\u001b[38;5;241;43m=\u001b[39;49m\u001b[38;5;124;43m'\u001b[39;49m\u001b[38;5;124;43mTest:\u001b[39;49m\u001b[38;5;124;43m'\u001b[39;49m\u001b[43m,\u001b[49m\n\u001b[1;32m      9\u001b[0m \u001b[43m)\u001b[49m\n\u001b[1;32m     10\u001b[0m display(intslider) \n",
      "File \u001b[0;32m/Library/Frameworks/Python.framework/Versions/3.9/lib/python3.9/site-packages/ipywidgets/widgets/widget_int.py:63\u001b[0m, in \u001b[0;36m_bounded_int_doc.<locals>.__init__\u001b[0;34m(self, value, min, max, step, **kwargs)\u001b[0m\n\u001b[1;32m     61\u001b[0m \u001b[38;5;28;01mif\u001b[39;00m step \u001b[38;5;129;01mis\u001b[39;00m \u001b[38;5;129;01mnot\u001b[39;00m \u001b[38;5;28;01mNone\u001b[39;00m:\n\u001b[1;32m     62\u001b[0m     kwargs[\u001b[38;5;124m'\u001b[39m\u001b[38;5;124mstep\u001b[39m\u001b[38;5;124m'\u001b[39m] \u001b[38;5;241m=\u001b[39m step\n\u001b[0;32m---> 63\u001b[0m \u001b[38;5;28;43msuper\u001b[39;49m\u001b[43m(\u001b[49m\u001b[38;5;28;43mcls\u001b[39;49m\u001b[43m,\u001b[49m\u001b[43m \u001b[49m\u001b[38;5;28;43mself\u001b[39;49m\u001b[43m)\u001b[49m\u001b[38;5;241;43m.\u001b[39;49m\u001b[38;5;21;43m__init__\u001b[39;49m\u001b[43m(\u001b[49m\u001b[38;5;241;43m*\u001b[39;49m\u001b[38;5;241;43m*\u001b[39;49m\u001b[43mkwargs\u001b[49m\u001b[43m)\u001b[49m\n",
      "File \u001b[0;32m/Library/Frameworks/Python.framework/Versions/3.9/lib/python3.9/site-packages/ipywidgets/widgets/widget_int.py:95\u001b[0m, in \u001b[0;36m_BoundedInt.__init__\u001b[0;34m(self, value, min, max, step, **kwargs)\u001b[0m\n\u001b[1;32m     93\u001b[0m \u001b[38;5;28;01mif\u001b[39;00m step \u001b[38;5;129;01mis\u001b[39;00m \u001b[38;5;129;01mnot\u001b[39;00m \u001b[38;5;28;01mNone\u001b[39;00m:\n\u001b[1;32m     94\u001b[0m     kwargs[\u001b[38;5;124m'\u001b[39m\u001b[38;5;124mstep\u001b[39m\u001b[38;5;124m'\u001b[39m] \u001b[38;5;241m=\u001b[39m step\n\u001b[0;32m---> 95\u001b[0m \u001b[38;5;28;43msuper\u001b[39;49m\u001b[43m(\u001b[49m\u001b[43m)\u001b[49m\u001b[38;5;241;43m.\u001b[39;49m\u001b[38;5;21;43m__init__\u001b[39;49m\u001b[43m(\u001b[49m\u001b[38;5;241;43m*\u001b[39;49m\u001b[38;5;241;43m*\u001b[39;49m\u001b[43mkwargs\u001b[49m\u001b[43m)\u001b[49m\n",
      "File \u001b[0;32m/Library/Frameworks/Python.framework/Versions/3.9/lib/python3.9/site-packages/ipywidgets/widgets/widget_int.py:77\u001b[0m, in \u001b[0;36m_Int.__init__\u001b[0;34m(self, value, **kwargs)\u001b[0m\n\u001b[1;32m     75\u001b[0m \u001b[38;5;28;01mif\u001b[39;00m value \u001b[38;5;129;01mis\u001b[39;00m \u001b[38;5;129;01mnot\u001b[39;00m \u001b[38;5;28;01mNone\u001b[39;00m:\n\u001b[1;32m     76\u001b[0m     kwargs[\u001b[38;5;124m'\u001b[39m\u001b[38;5;124mvalue\u001b[39m\u001b[38;5;124m'\u001b[39m] \u001b[38;5;241m=\u001b[39m value\n\u001b[0;32m---> 77\u001b[0m \u001b[38;5;28;43msuper\u001b[39;49m\u001b[43m(\u001b[49m\u001b[43m)\u001b[49m\u001b[38;5;241;43m.\u001b[39;49m\u001b[38;5;21;43m__init__\u001b[39;49m\u001b[43m(\u001b[49m\u001b[38;5;241;43m*\u001b[39;49m\u001b[38;5;241;43m*\u001b[39;49m\u001b[43mkwargs\u001b[49m\u001b[43m)\u001b[49m\n",
      "File \u001b[0;32m/Library/Frameworks/Python.framework/Versions/3.9/lib/python3.9/site-packages/ipywidgets/widgets/widget_description.py:35\u001b[0m, in \u001b[0;36mDescriptionWidget.__init__\u001b[0;34m(self, *args, **kwargs)\u001b[0m\n\u001b[1;32m     33\u001b[0m     kwargs\u001b[38;5;241m.\u001b[39msetdefault(\u001b[38;5;124m'\u001b[39m\u001b[38;5;124mtooltip\u001b[39m\u001b[38;5;124m'\u001b[39m, kwargs[\u001b[38;5;124m'\u001b[39m\u001b[38;5;124mdescription_tooltip\u001b[39m\u001b[38;5;124m'\u001b[39m])\n\u001b[1;32m     34\u001b[0m     \u001b[38;5;28;01mdel\u001b[39;00m kwargs[\u001b[38;5;124m'\u001b[39m\u001b[38;5;124mdescription_tooltip\u001b[39m\u001b[38;5;124m'\u001b[39m]\n\u001b[0;32m---> 35\u001b[0m \u001b[38;5;28;43msuper\u001b[39;49m\u001b[43m(\u001b[49m\u001b[43m)\u001b[49m\u001b[38;5;241;43m.\u001b[39;49m\u001b[38;5;21;43m__init__\u001b[39;49m\u001b[43m(\u001b[49m\u001b[38;5;241;43m*\u001b[39;49m\u001b[43margs\u001b[49m\u001b[43m,\u001b[49m\u001b[43m \u001b[49m\u001b[38;5;241;43m*\u001b[39;49m\u001b[38;5;241;43m*\u001b[39;49m\u001b[43mkwargs\u001b[49m\u001b[43m)\u001b[49m\n",
      "File \u001b[0;32m/Library/Frameworks/Python.framework/Versions/3.9/lib/python3.9/site-packages/ipywidgets/widgets/widget.py:502\u001b[0m, in \u001b[0;36mWidget.__init__\u001b[0;34m(self, **kwargs)\u001b[0m\n\u001b[1;32m    500\u001b[0m \u001b[38;5;124;03m\"\"\"Public constructor\"\"\"\u001b[39;00m\n\u001b[1;32m    501\u001b[0m \u001b[38;5;28mself\u001b[39m\u001b[38;5;241m.\u001b[39m_model_id \u001b[38;5;241m=\u001b[39m kwargs\u001b[38;5;241m.\u001b[39mpop(\u001b[38;5;124m'\u001b[39m\u001b[38;5;124mmodel_id\u001b[39m\u001b[38;5;124m'\u001b[39m, \u001b[38;5;28;01mNone\u001b[39;00m)\n\u001b[0;32m--> 502\u001b[0m \u001b[38;5;28;43msuper\u001b[39;49m\u001b[43m(\u001b[49m\u001b[43m)\u001b[49m\u001b[38;5;241;43m.\u001b[39;49m\u001b[38;5;21;43m__init__\u001b[39;49m\u001b[43m(\u001b[49m\u001b[38;5;241;43m*\u001b[39;49m\u001b[38;5;241;43m*\u001b[39;49m\u001b[43mkwargs\u001b[49m\u001b[43m)\u001b[49m\n\u001b[1;32m    504\u001b[0m Widget\u001b[38;5;241m.\u001b[39m_call_widget_constructed(\u001b[38;5;28mself\u001b[39m)\n\u001b[1;32m    505\u001b[0m \u001b[38;5;28mself\u001b[39m\u001b[38;5;241m.\u001b[39mopen()\n",
      "File \u001b[0;32m/Library/Frameworks/Python.framework/Versions/3.9/lib/python3.9/site-packages/traitlets/traitlets.py:1343\u001b[0m, in \u001b[0;36mHasTraits.__init__\u001b[0;34m(self, *args, **kwargs)\u001b[0m\n\u001b[1;32m   1341\u001b[0m \u001b[38;5;28;01mfor\u001b[39;00m key, value \u001b[38;5;129;01min\u001b[39;00m kwargs\u001b[38;5;241m.\u001b[39mitems():\n\u001b[1;32m   1342\u001b[0m     \u001b[38;5;28;01mif\u001b[39;00m \u001b[38;5;28mself\u001b[39m\u001b[38;5;241m.\u001b[39mhas_trait(key):\n\u001b[0;32m-> 1343\u001b[0m         \u001b[38;5;28;43msetattr\u001b[39;49m\u001b[43m(\u001b[49m\u001b[38;5;28;43mself\u001b[39;49m\u001b[43m,\u001b[49m\u001b[43m \u001b[49m\u001b[43mkey\u001b[49m\u001b[43m,\u001b[49m\u001b[43m \u001b[49m\u001b[43mvalue\u001b[49m\u001b[43m)\u001b[49m\n\u001b[1;32m   1344\u001b[0m         changes[key] \u001b[38;5;241m=\u001b[39m Bunch(\n\u001b[1;32m   1345\u001b[0m             name\u001b[38;5;241m=\u001b[39mkey,\n\u001b[1;32m   1346\u001b[0m             old\u001b[38;5;241m=\u001b[39m\u001b[38;5;28;01mNone\u001b[39;00m,\n\u001b[0;32m   (...)\u001b[0m\n\u001b[1;32m   1349\u001b[0m             \u001b[38;5;28mtype\u001b[39m\u001b[38;5;241m=\u001b[39m\u001b[38;5;124m\"\u001b[39m\u001b[38;5;124mchange\u001b[39m\u001b[38;5;124m\"\u001b[39m,\n\u001b[1;32m   1350\u001b[0m         )\n\u001b[1;32m   1351\u001b[0m     \u001b[38;5;28;01melse\u001b[39;00m:\n\u001b[1;32m   1352\u001b[0m         \u001b[38;5;66;03m# passthrough args that don't set traits to super\u001b[39;00m\n",
      "File \u001b[0;32m/Library/Frameworks/Python.framework/Versions/3.9/lib/python3.9/site-packages/traitlets/traitlets.py:729\u001b[0m, in \u001b[0;36mTraitType.__set__\u001b[0;34m(self, obj, value)\u001b[0m\n\u001b[1;32m    727\u001b[0m     \u001b[38;5;28;01mraise\u001b[39;00m TraitError(\u001b[38;5;124m'\u001b[39m\u001b[38;5;124mThe \u001b[39m\u001b[38;5;124m\"\u001b[39m\u001b[38;5;132;01m%s\u001b[39;00m\u001b[38;5;124m\"\u001b[39m\u001b[38;5;124m trait is read-only.\u001b[39m\u001b[38;5;124m'\u001b[39m \u001b[38;5;241m%\u001b[39m \u001b[38;5;28mself\u001b[39m\u001b[38;5;241m.\u001b[39mname)\n\u001b[1;32m    728\u001b[0m \u001b[38;5;28;01melse\u001b[39;00m:\n\u001b[0;32m--> 729\u001b[0m     \u001b[38;5;28;43mself\u001b[39;49m\u001b[38;5;241;43m.\u001b[39;49m\u001b[43mset\u001b[49m\u001b[43m(\u001b[49m\u001b[43mobj\u001b[49m\u001b[43m,\u001b[49m\u001b[43m \u001b[49m\u001b[43mvalue\u001b[49m\u001b[43m)\u001b[49m\n",
      "File \u001b[0;32m/Library/Frameworks/Python.framework/Versions/3.9/lib/python3.9/site-packages/traitlets/traitlets.py:703\u001b[0m, in \u001b[0;36mTraitType.set\u001b[0;34m(self, obj, value)\u001b[0m\n\u001b[1;32m    702\u001b[0m \u001b[38;5;28;01mdef\u001b[39;00m \u001b[38;5;21mset\u001b[39m(\u001b[38;5;28mself\u001b[39m, obj, value):\n\u001b[0;32m--> 703\u001b[0m     new_value \u001b[38;5;241m=\u001b[39m \u001b[38;5;28;43mself\u001b[39;49m\u001b[38;5;241;43m.\u001b[39;49m\u001b[43m_validate\u001b[49m\u001b[43m(\u001b[49m\u001b[43mobj\u001b[49m\u001b[43m,\u001b[49m\u001b[43m \u001b[49m\u001b[43mvalue\u001b[49m\u001b[43m)\u001b[49m\n\u001b[1;32m    704\u001b[0m     \u001b[38;5;28;01mtry\u001b[39;00m:\n\u001b[1;32m    705\u001b[0m         old_value \u001b[38;5;241m=\u001b[39m obj\u001b[38;5;241m.\u001b[39m_trait_values[\u001b[38;5;28mself\u001b[39m\u001b[38;5;241m.\u001b[39mname]\n",
      "File \u001b[0;32m/Library/Frameworks/Python.framework/Versions/3.9/lib/python3.9/site-packages/traitlets/traitlets.py:735\u001b[0m, in \u001b[0;36mTraitType._validate\u001b[0;34m(self, obj, value)\u001b[0m\n\u001b[1;32m    733\u001b[0m     \u001b[38;5;28;01mreturn\u001b[39;00m value\n\u001b[1;32m    734\u001b[0m \u001b[38;5;28;01mif\u001b[39;00m \u001b[38;5;28mhasattr\u001b[39m(\u001b[38;5;28mself\u001b[39m, \u001b[38;5;124m\"\u001b[39m\u001b[38;5;124mvalidate\u001b[39m\u001b[38;5;124m\"\u001b[39m):\n\u001b[0;32m--> 735\u001b[0m     value \u001b[38;5;241m=\u001b[39m \u001b[38;5;28;43mself\u001b[39;49m\u001b[38;5;241;43m.\u001b[39;49m\u001b[43mvalidate\u001b[49m\u001b[43m(\u001b[49m\u001b[43mobj\u001b[49m\u001b[43m,\u001b[49m\u001b[43m \u001b[49m\u001b[43mvalue\u001b[49m\u001b[43m)\u001b[49m\n\u001b[1;32m    736\u001b[0m \u001b[38;5;28;01mif\u001b[39;00m obj\u001b[38;5;241m.\u001b[39m_cross_validation_lock \u001b[38;5;129;01mis\u001b[39;00m \u001b[38;5;28;01mFalse\u001b[39;00m:\n\u001b[1;32m    737\u001b[0m     value \u001b[38;5;241m=\u001b[39m \u001b[38;5;28mself\u001b[39m\u001b[38;5;241m.\u001b[39m_cross_validate(obj, value)\n",
      "File \u001b[0;32m/Library/Frameworks/Python.framework/Versions/3.9/lib/python3.9/site-packages/traitlets/traitlets.py:2394\u001b[0m, in \u001b[0;36mCInt.validate\u001b[0;34m(self, obj, value)\u001b[0m\n\u001b[1;32m   2392\u001b[0m     value \u001b[38;5;241m=\u001b[39m \u001b[38;5;28mint\u001b[39m(value)\n\u001b[1;32m   2393\u001b[0m \u001b[38;5;28;01mexcept\u001b[39;00m \u001b[38;5;167;01mException\u001b[39;00m:\n\u001b[0;32m-> 2394\u001b[0m     \u001b[38;5;28;43mself\u001b[39;49m\u001b[38;5;241;43m.\u001b[39;49m\u001b[43merror\u001b[49m\u001b[43m(\u001b[49m\u001b[43mobj\u001b[49m\u001b[43m,\u001b[49m\u001b[43m \u001b[49m\u001b[43mvalue\u001b[49m\u001b[43m)\u001b[49m\n\u001b[1;32m   2395\u001b[0m \u001b[38;5;28;01mreturn\u001b[39;00m _validate_bounds(\u001b[38;5;28mself\u001b[39m, obj, value)\n",
      "File \u001b[0;32m/Library/Frameworks/Python.framework/Versions/3.9/lib/python3.9/site-packages/traitlets/traitlets.py:841\u001b[0m, in \u001b[0;36mTraitType.error\u001b[0;34m(self, obj, value, error, info)\u001b[0m\n\u001b[1;32m    835\u001b[0m \u001b[38;5;28;01melse\u001b[39;00m:\n\u001b[1;32m    836\u001b[0m     e \u001b[38;5;241m=\u001b[39m \u001b[38;5;124m\"\u001b[39m\u001b[38;5;124mThe \u001b[39m\u001b[38;5;124m'\u001b[39m\u001b[38;5;132;01m{}\u001b[39;00m\u001b[38;5;124m'\u001b[39m\u001b[38;5;124m trait expected \u001b[39m\u001b[38;5;132;01m{}\u001b[39;00m\u001b[38;5;124m, not \u001b[39m\u001b[38;5;132;01m{}\u001b[39;00m\u001b[38;5;124m.\u001b[39m\u001b[38;5;124m\"\u001b[39m\u001b[38;5;241m.\u001b[39mformat(\n\u001b[1;32m    837\u001b[0m         \u001b[38;5;28mself\u001b[39m\u001b[38;5;241m.\u001b[39mname,\n\u001b[1;32m    838\u001b[0m         \u001b[38;5;28mself\u001b[39m\u001b[38;5;241m.\u001b[39minfo(),\n\u001b[1;32m    839\u001b[0m         describe(\u001b[38;5;124m\"\u001b[39m\u001b[38;5;124mthe\u001b[39m\u001b[38;5;124m\"\u001b[39m, value),\n\u001b[1;32m    840\u001b[0m     )\n\u001b[0;32m--> 841\u001b[0m \u001b[38;5;28;01mraise\u001b[39;00m TraitError(e)\n",
      "\u001b[0;31mTraitError\u001b[0m: The 'max' trait of an IntSlider instance expected an int, not the str 'a'."
     ]
    }
   ],
   "source": [
    "import ipywidgets as widgets\n",
    "\n",
    "intslider = widgets.IntSlider(\n",
    "    value=7,\n",
    "    min=0,\n",
    "    max=\"a\",\n",
    "    step=1,\n",
    "    description='Test:',\n",
    ")\n",
    "display(intslider) "
   ]
  },
  {
   "cell_type": "code",
   "execution_count": null,
   "id": "ad89daee-5cc2-4834-8f8f-6860268ef69e",
   "metadata": {},
   "outputs": [],
   "source": []
  },
  {
   "cell_type": "code",
   "execution_count": null,
   "id": "7f5262da-e6cc-4ed0-9e25-e2e0fc070b7a",
   "metadata": {},
   "outputs": [],
   "source": []
  }
 ],
 "metadata": {
  "kernelspec": {
   "display_name": "Python 3 (ipykernel)",
   "language": "python",
   "name": "python3"
  },
  "language_info": {
   "codemirror_mode": {
    "name": "ipython",
    "version": 3
   },
   "file_extension": ".py",
   "mimetype": "text/x-python",
   "name": "python",
   "nbconvert_exporter": "python",
   "pygments_lexer": "ipython3",
   "version": "3.9.0"
  },
  "vscode": {
   "interpreter": {
    "hash": "e14e49767cf93412746d1786833441f6b192032bf9e90a563653dfb0e27875d3"
   }
  },
  "widgets": {
   "application/vnd.jupyter.widget-state+json": {
    "state": {
     "19fa23a7bef348ed98b7288db53134ef": {
      "model_module": "asqlcell",
      "model_module_version": "0.1.0",
      "model_name": "SqlCellModel",
      "state": {
       "column_sort": [
        "",
        0
       ],
       "data_grid": "",
       "data_name": "",
       "dfs_button": "",
       "dfs_result": "",
       "json_dump": "2023-05-04T03:16:44.745Z",
       "layout": "IPY_MODEL_e9acfb0f5ac948a09d026d9398680452",
       "mode": "UI",
       "row_range": [
        0,
        10
       ],
       "sql_button": "",
       "title_hist": "",
       "vis_data": "",
       "vis_sql": [
        "",
        ""
       ]
      }
     },
     "2e7948fb3e3048fe80789f3626861f08": {
      "model_module": "@jupyter-widgets/base",
      "model_module_version": "2.0.0",
      "model_name": "LayoutModel",
      "state": {}
     },
     "3590361072cb4e03960b82c6e64f920b": {
      "model_module": "@jupyter-widgets/base",
      "model_module_version": "2.0.0",
      "model_name": "LayoutModel",
      "state": {}
     },
     "52ff94710aca478e9d1fcfd68beffb3e": {
      "model_module": "asqlcell",
      "model_module_version": "0.1.0",
      "model_name": "SqlCellModel",
      "state": {
       "column_sort": [
        "",
        0
       ],
       "data_grid": "{\"columns\":[\"0\",\"code\",\"date\",\"O\",\"H\",\"C\",\"L\"],\"index\":[0,1,2,3,4,5,6,7,8,9],\"data\":[[7,\"000001\",\"2020-09-02T00:00:00.000\",15.01,15.53,15.32,15.01],[0,\"000001\",\"2020-09-03T00:00:00.000\",15.32,15.33,14.9,14.84],[15,\"000001\",\"2020-09-04T00:00:00.000\",14.73,15.06,14.96,14.6],[21,\"000001\",\"2020-09-07T00:00:00.000\",14.88,15.24,14.94,14.83],[4,\"000001\",\"2020-09-08T00:00:00.000\",15.0,15.43,15.43,15.0],[11,\"000001\",\"2020-09-09T00:00:00.000\",15.26,15.56,15.21,15.13],[4,\"000001\",\"2020-09-10T00:00:00.000\",15.32,15.48,15.34,15.2],[0,\"000001\",\"2020-09-11T00:00:00.000\",15.18,15.3,15.01,14.82],[14,\"000001\",\"2020-09-14T00:00:00.000\",15.01,15.3,15.3,14.92],[10,\"000001\",\"2020-09-15T00:00:00.000\",15.2,15.48,15.35,15.15]]}\n100",
       "data_name": "__b3e34786b9dc48e18501eaf49c6fd743",
       "dfs_button": "",
       "dfs_result": "",
       "exec_time": "2023-04-28 13:25:01.777383,2023-04-28 13:25:01.883392",
       "json_dump": "2023-05-04T03:16:44.744Z",
       "layout": "IPY_MODEL_aae32b17eebc433a9cb187ca06c48446",
       "mode": "CMD",
       "row_range": [
        0,
        10
       ],
       "sql_button": "",
       "title_hist": "[{\"columnName\": \"0\", \"dtype\": \"int64\", \"bins\": [{\"bin_start\": 0.0, \"bin_end\": 2.2, \"count\": 22}, {\"bin_start\": 2.2, \"bin_end\": 4.4, \"count\": 15}, {\"bin_start\": 4.4, \"bin_end\": 6.6000000000000005, \"count\": 11}, {\"bin_start\": 6.6000000000000005, \"bin_end\": 8.8, \"count\": 9}, {\"bin_start\": 8.8, \"bin_end\": 11.0, \"count\": 7}, {\"bin_start\": 11.0, \"bin_end\": 13.200000000000001, \"count\": 10}, {\"bin_start\": 13.200000000000001, \"bin_end\": 15.400000000000002, \"count\": 5}, {\"bin_start\": 15.400000000000002, \"bin_end\": 17.6, \"count\": 6}, {\"bin_start\": 17.6, \"bin_end\": 19.8, \"count\": 9}, {\"bin_start\": 19.8, \"bin_end\": 22.0, \"count\": 6}]}, {\"columnName\": \"code\", \"dtype\": \"object\", \"bins\": [{\"bin\": \"000001\", \"count\": 100}, {\"bin\": \"other\", \"count\": 0}]}, {\"columnName\": \"date\", \"dtype\": \"datetime64[ns]\", \"bins\": [{\"bin\": \"2021-01-28\", \"count\": 1}, {\"bin\": \"2020-10-30\", \"count\": 1}, {\"bin\": \"2020-10-16\", \"count\": 1}, {\"bin\": \"other\", \"count\": 97}]}, {\"columnName\": \"O\", \"dtype\": \"float64\", \"bins\": [{\"bin_start\": 14.73, \"bin_end\": 15.535, \"count\": 17}, {\"bin_start\": 15.535, \"bin_end\": 16.34, \"count\": 9}, {\"bin_start\": 16.34, \"bin_end\": 17.145, \"count\": 2}, {\"bin_start\": 17.145, \"bin_end\": 17.95, \"count\": 16}, {\"bin_start\": 17.95, \"bin_end\": 18.755000000000003, \"count\": 18}, {\"bin_start\": 18.755000000000003, \"bin_end\": 19.560000000000002, \"count\": 17}, {\"bin_start\": 19.560000000000002, \"bin_end\": 20.365000000000002, \"count\": 8}, {\"bin_start\": 20.365000000000002, \"bin_end\": 21.17, \"count\": 4}, {\"bin_start\": 21.17, \"bin_end\": 21.975, \"count\": 2}, {\"bin_start\": 21.975, \"bin_end\": 22.78, \"count\": 7}]}, {\"columnName\": \"H\", \"dtype\": \"float64\", \"bins\": [{\"bin_start\": 15.06, \"bin_end\": 15.901, \"count\": 20}, {\"bin_start\": 15.901, \"bin_end\": 16.742, \"count\": 5}, {\"bin_start\": 16.742, \"bin_end\": 17.583, \"count\": 4}, {\"bin_start\": 17.583, \"bin_end\": 18.424, \"count\": 17}, {\"bin_start\": 18.424, \"bin_end\": 19.265, \"count\": 24}, {\"bin_start\": 19.265, \"bin_end\": 20.106, \"count\": 14}, {\"bin_start\": 20.106, \"bin_end\": 20.947, \"count\": 4}, {\"bin_start\": 20.947, \"bin_end\": 21.788, \"count\": 2}, {\"bin_start\": 21.788, \"bin_end\": 22.628999999999998, \"count\": 3}, {\"bin_start\": 22.628999999999998, \"bin_end\": 23.47, \"count\": 7}]}, {\"columnName\": \"C\", \"dtype\": \"float64\", \"bins\": [{\"bin_start\": 14.8, \"bin_end\": 15.628, \"count\": 19}, {\"bin_start\": 15.628, \"bin_end\": 16.456, \"count\": 6}, {\"bin_start\": 16.456, \"bin_end\": 17.284, \"count\": 3}, {\"bin_start\": 17.284, \"bin_end\": 18.112, \"count\": 22}, {\"bin_start\": 18.112, \"bin_end\": 18.939999999999998, \"count\": 18}, {\"bin_start\": 18.939999999999998, \"bin_end\": 19.768, \"count\": 15}, {\"bin_start\": 19.768, \"bin_end\": 20.596, \"count\": 5}, {\"bin_start\": 20.596, \"bin_end\": 21.424, \"count\": 3}, {\"bin_start\": 21.424, \"bin_end\": 22.252, \"count\": 2}, {\"bin_start\": 22.252, \"bin_end\": 23.08, \"count\": 7}]}, {\"columnName\": \"L\", \"dtype\": \"float64\", \"bins\": [{\"bin_start\": 14.6, \"bin_end\": 15.385, \"count\": 18}, {\"bin_start\": 15.385, \"bin_end\": 16.169999999999998, \"count\": 8}, {\"bin_start\": 16.169999999999998, \"bin_end\": 16.955, \"count\": 3}, {\"bin_start\": 16.955, \"bin_end\": 17.74, \"count\": 18}, {\"bin_start\": 17.74, \"bin_end\": 18.525, \"count\": 19}, {\"bin_start\": 18.525, \"bin_end\": 19.31, \"count\": 15}, {\"bin_start\": 19.31, \"bin_end\": 20.095, \"count\": 7}, {\"bin_start\": 20.095, \"bin_end\": 20.88, \"count\": 3}, {\"bin_start\": 20.88, \"bin_end\": 21.665, \"count\": 3}, {\"bin_start\": 21.665, \"bin_end\": 22.45, \"count\": 6}]}]",
       "vis_data": "{\"columns\":[\"0\"],\"index\":[0,1,2,3,4,5,6,7,8,9,10,11,12,13,14,15,16,17,18,19,20,21,22,23,24,25,26,27,28,29,30,31,32,33,34,35,36,37,38,39,40,41,42,43,44,45,46,47,48,49,50,51,52,53,54,55,56,57,58,59,60,61,62,63,64,65,66,67,68,69,70,71,72,73,74,75,76,77,78,79,80,81,82,83,84,85,86,87,88,89,90,91,92,93,94,95,96,97,98,99],\"data\":[[7],[0],[15],[21],[4],[11],[4],[0],[14],[10],[0],[6],[4],[18],[1],[10],[7],[5],[2],[10],[3],[3],[8],[9],[18],[1],[21],[6],[10],[17],[13],[22],[1],[3],[13],[2],[10],[5],[14],[12],[16],[13],[0],[13],[13],[4],[6],[1],[8],[2],[17],[7],[3],[18],[1],[4],[5],[20],[14],[5],[1],[2],[10],[7],[5],[11],[19],[18],[6],[0],[0],[1],[4],[8],[17],[0],[21],[3],[2],[19],[4],[4],[3],[0],[21],[0],[18],[13],[6],[19],[17],[3],[13],[19],[7],[15],[16],[8],[0],[6]]}",
       "vis_sql": [
        "select * EXCLUDE (index_rn1qaz2wsx)\nfrom \n(\nSELECT \"0\", ROW_NUMBER() OVER () AS index_rn1qaz2wsx\nFROM $$__NAME__$$\n)\nusing SAMPLE reservoir (100 rows) REPEATABLE(42)\norder by index_rn1qaz2wsx",
        "2023-05-04T03:16:44.965Z"
       ]
      }
     },
     "93529b50942747269def1d829856fa9f": {
      "model_module": "asqlcell",
      "model_module_version": "0.1.0",
      "model_name": "SqlCellModel",
      "state": {
       "column_sort": [
        "",
        0
       ],
       "data_grid": "",
       "data_name": "sqlcelldf",
       "dfs_button": "2023-05-04T01:57:28.175Z",
       "dfs_result": "b\t(100, 7)\ndata1\t(5, 3)\ndata2\t(1000, 3)\ndataWithDate\t(100, 6)\nnormal_dist\t(100, 4)\n",
       "json_dump": "2023-05-04T03:16:44.744Z",
       "layout": "IPY_MODEL_9eb0fc25166b4d4bb5557c53a533cf1b",
       "mode": "UI",
       "row_range": [
        0,
        10
       ],
       "sql_button": "2023-04-28T07:47:47.097Z",
       "title_hist": "",
       "vis_data": "",
       "vis_sql": [
        "",
        ""
       ]
      }
     },
     "96e4d679023644ccb33651e8e1d12417": {
      "model_module": "asqlcell",
      "model_module_version": "0.1.0",
      "model_name": "SqlCellModel",
      "state": {
       "column_sort": [
        "",
        0
       ],
       "data_grid": "{\"columns\":[\"a\",\"b\",\"c\",\"d\"],\"index\":[0,1,2,3,4,5,6,7,8,9],\"data\":[[2.0117013987,1.8538520126,-0.4530993214,-0.2803889491],[0.5377658406,1.3198407786,0.6657970981,-0.0861675621],[-1.8771049912,-0.1621443316,-1.1139900185,1.1675248568],[2.1382355941,-1.3323854192,-0.5255487853,1.1490244839],[-1.3640150017,-0.5317347056,1.564185826,0.8169709788],[-1.0255500614,0.2042409975,-0.4721258038,0.4519766959],[-0.4643624972,-0.1177636225,-0.2071307223,0.4940029234],[-0.1633766441,-0.6186584823,1.2081801918,-0.0934571296],[-0.0308087565,1.1816071216,0.6496866472,-3.3746390295],[0.3580234798,-1.0620189329,0.3312677406,-0.5262281688]]}\n100",
       "data_name": "__5f3bf4c19aee46f294390f8039557650",
       "dfs_button": "",
       "dfs_result": "",
       "exec_time": "2023-04-28 16:36:41.014347,2023-04-28 16:36:41.140943",
       "json_dump": "2023-05-04T03:16:44.744Z",
       "layout": "IPY_MODEL_3590361072cb4e03960b82c6e64f920b",
       "mode": "CMD",
       "row_range": [
        0,
        10
       ],
       "sql_button": "",
       "title_hist": "[{\"columnName\": \"a\", \"dtype\": \"float64\", \"bins\": [{\"bin_start\": -2.5881890577132967, \"bin_end\": -2.0443407954563004, \"count\": 2}, {\"bin_start\": -2.0443407954563004, \"bin_end\": -1.5004925331993044, \"count\": 4}, {\"bin_start\": -1.5004925331993044, \"bin_end\": -0.9566442709423084, \"count\": 9}, {\"bin_start\": -0.9566442709423084, \"bin_end\": -0.4127960086853122, \"count\": 19}, {\"bin_start\": -0.4127960086853122, \"bin_end\": 0.13105225357168404, \"count\": 16}, {\"bin_start\": 0.13105225357168404, \"bin_end\": 0.6749005158286798, \"count\": 25}, {\"bin_start\": 0.6749005158286798, \"bin_end\": 1.218748778085676, \"count\": 9}, {\"bin_start\": 1.218748778085676, \"bin_end\": 1.7625970403426723, \"count\": 9}, {\"bin_start\": 1.7625970403426723, \"bin_end\": 2.3064453025996685, \"count\": 6}, {\"bin_start\": 2.3064453025996685, \"bin_end\": 2.8502935648566647, \"count\": 1}]}, {\"columnName\": \"b\", \"dtype\": \"float64\", \"bins\": [{\"bin_start\": -2.812411765594375, \"bin_end\": -2.2119101933582823, \"count\": 3}, {\"bin_start\": -2.2119101933582823, \"bin_end\": -1.6114086211221899, \"count\": 6}, {\"bin_start\": -1.6114086211221899, \"bin_end\": -1.0109070488860974, \"count\": 7}, {\"bin_start\": -1.0109070488860974, \"bin_end\": -0.4104054766500047, \"count\": 15}, {\"bin_start\": -0.4104054766500047, \"bin_end\": 0.19009609558608798, \"count\": 25}, {\"bin_start\": 0.19009609558608798, \"bin_end\": 0.7905976678221802, \"count\": 22}, {\"bin_start\": 0.7905976678221802, \"bin_end\": 1.391099240058273, \"count\": 14}, {\"bin_start\": 1.391099240058273, \"bin_end\": 1.9916008122943656, \"count\": 5}, {\"bin_start\": 1.9916008122943656, \"bin_end\": 2.5921023845304583, \"count\": 2}, {\"bin_start\": 2.5921023845304583, \"bin_end\": 3.192603956766551, \"count\": 1}]}, {\"columnName\": \"c\", \"dtype\": \"float64\", \"bins\": [{\"bin_start\": -2.838436396112373, \"bin_end\": -2.28287264938374, \"count\": 1}, {\"bin_start\": -2.28287264938374, \"bin_end\": -1.7273089026551074, \"count\": 4}, {\"bin_start\": -1.7273089026551074, \"bin_end\": -1.1717451559264747, \"count\": 6}, {\"bin_start\": -1.1717451559264747, \"bin_end\": -0.6161814091978419, \"count\": 18}, {\"bin_start\": -0.6161814091978419, \"bin_end\": -0.060617662469208966, \"count\": 23}, {\"bin_start\": -0.060617662469208966, \"bin_end\": 0.49494608425942355, \"count\": 18}, {\"bin_start\": 0.49494608425942355, \"bin_end\": 1.050509830988056, \"count\": 16}, {\"bin_start\": 1.050509830988056, \"bin_end\": 1.606073577716689, \"count\": 9}, {\"bin_start\": 1.606073577716689, \"bin_end\": 2.161637324445322, \"count\": 4}, {\"bin_start\": 2.161637324445322, \"bin_end\": 2.7172010711739554, \"count\": 1}]}, {\"columnName\": \"d\", \"dtype\": \"float64\", \"bins\": [{\"bin_start\": -3.374639029456708, \"bin_end\": -2.8200044365754873, \"count\": 1}, {\"bin_start\": -2.8200044365754873, \"bin_end\": -2.2653698436942666, \"count\": 1}, {\"bin_start\": -2.2653698436942666, \"bin_end\": -1.710735250813046, \"count\": 6}, {\"bin_start\": -1.710735250813046, \"bin_end\": -1.1561006579318254, \"count\": 6}, {\"bin_start\": -1.1561006579318254, \"bin_end\": -0.6014660650506047, \"count\": 17}, {\"bin_start\": -0.6014660650506047, \"bin_end\": -0.0468314721693841, \"count\": 24}, {\"bin_start\": -0.0468314721693841, \"bin_end\": 0.5078031207118365, \"count\": 18}, {\"bin_start\": 0.5078031207118365, \"bin_end\": 1.0624377135930572, \"count\": 12}, {\"bin_start\": 1.0624377135930572, \"bin_end\": 1.6170723064742778, \"count\": 8}, {\"bin_start\": 1.6170723064742778, \"bin_end\": 2.1717068993554984, \"count\": 7}]}]",
       "vis_data": "{\"columns\":[\"a\"],\"index\":[0,1,2,3,4,5,6,7,8,9,10,11,12,13,14,15,16,17,18,19,20,21,22,23,24,25,26,27,28,29,30,31,32,33,34,35,36,37,38,39,40,41,42,43,44,45,46,47,48,49,50,51,52,53,54,55,56,57,58,59,60,61,62,63,64,65,66,67,68,69,70,71,72,73,74,75,76,77,78,79,80,81,82,83,84,85,86,87,88,89,90,91,92,93,94,95,96,97,98,99],\"data\":[[2.0117013987],[0.5377658406],[-1.8771049912],[2.1382355941],[-1.3640150017],[-1.0255500614],[-0.4643624972],[-0.1633766441],[-0.0308087565],[0.3580234798],[0.0136930363],[-0.2489424753],[0.3686642934],[-0.50443039],[-0.3428594058],[0.2255186864],[0.3152033985],[1.4609544863],[0.5964605062],[0.4160644183],[0.3724380186],[0.2139306083],[1.0453732752],[0.3813264297],[0.8750832466],[0.8569610192],[-0.5751005186],[0.4318622225],[-2.1986956275],[0.6541937292],[-0.3317340178],[-0.5914084403],[-0.6064588487],[-1.4313664911],[-0.5532004904],[-1.9140129052],[-2.5881890577],[0.4470627887],[0.1680317073],[1.3210013723],[1.532561038],[-1.3774583157],[-0.9937395942],[0.0695483152],[0.6375450439],[2.8502935649],[0.2873999535],[-0.6555626402],[0.4218683658],[-0.6623362523],[-0.1330004299],[1.8564305643],[-1.9900635792],[-0.6999741655],[-0.6598566191],[-0.1086594992],[1.0071952919],[0.542102311],[-0.4477187615],[-1.4162084654],[1.8072718309],[-0.5787113784],[1.3070701354],[0.9170652217],[0.5677026227],[1.3629182411],[0.3197863468],[0.1806833165],[-0.5972531372],[1.0337357993],[1.2375376952],[0.3211783588],[1.2303629435],[0.0072329829],[-1.1959801102],[-0.2649505975],[-1.2511429744],[-0.0445024956],[-0.5728299529],[-0.6759363392],[-1.4659319136],[0.9561352617],[0.2229641542],[0.2869399178],[-0.6026289577],[0.1072345591],[1.847524159],[0.1698211312],[0.913775262],[-0.3604804626],[1.3380728607],[1.8481000422],[-0.7906396197],[1.1732908378],[-0.5298615527],[1.7382978676],[-0.4491490866],[-1.5490346304],[0.0072681753],[0.0495618978]]}",
       "vis_sql": [
        "select * EXCLUDE (index_rn1qaz2wsx)\nfrom \n(\nSELECT \"a\", ROW_NUMBER() OVER () AS index_rn1qaz2wsx\nFROM $$__NAME__$$\n)\nusing SAMPLE reservoir (100 rows) REPEATABLE(42)\norder by index_rn1qaz2wsx",
        "2023-05-04T03:16:44.986Z"
       ]
      }
     },
     "9eb0fc25166b4d4bb5557c53a533cf1b": {
      "model_module": "@jupyter-widgets/base",
      "model_module_version": "2.0.0",
      "model_name": "LayoutModel",
      "state": {}
     },
     "aae32b17eebc433a9cb187ca06c48446": {
      "model_module": "@jupyter-widgets/base",
      "model_module_version": "2.0.0",
      "model_name": "LayoutModel",
      "state": {}
     },
     "bad090a0f2934f8d9c395d2224a66d68": {
      "model_module": "asqlcell",
      "model_module_version": "0.1.0",
      "model_name": "SqlCellModel",
      "state": {
       "column_sort": [
        "",
        0
       ],
       "data_grid": "{\"columns\":[\"code\",\"date\",\"O\",\"H\",\"C\",\"L\"],\"index\":[0,1,2,3,4,5,6,7,8,9],\"data\":[[\"000001\",\"2020-09-02T00:00:00.000\",15.01,15.53,15.32,15.01],[\"000001\",\"2020-09-03T00:00:00.000\",15.32,15.33,14.9,14.84],[\"000001\",\"2020-09-04T00:00:00.000\",14.73,15.06,14.96,14.6],[\"000001\",\"2020-09-07T00:00:00.000\",14.88,15.24,14.94,14.83],[\"000001\",\"2020-09-08T00:00:00.000\",15.0,15.43,15.43,15.0],[\"000001\",\"2020-09-09T00:00:00.000\",15.26,15.56,15.21,15.13],[\"000001\",\"2020-09-10T00:00:00.000\",15.32,15.48,15.34,15.2],[\"000001\",\"2020-09-11T00:00:00.000\",15.18,15.3,15.01,14.82],[\"000001\",\"2020-09-14T00:00:00.000\",15.01,15.3,15.3,14.92],[\"000001\",\"2020-09-15T00:00:00.000\",15.2,15.48,15.35,15.15]]}\n100",
       "data_name": "dataWithDate",
       "dfs_button": "",
       "dfs_result": "",
       "exec_time": "2023-04-28 15:18:42.712410,2023-04-28 15:18:42.884316",
       "json_dump": "2023-05-04T03:16:44.744Z",
       "layout": "IPY_MODEL_2e7948fb3e3048fe80789f3626861f08",
       "mode": "CMD",
       "row_range": [
        0,
        10
       ],
       "sql_button": "",
       "title_hist": "[{\"columnName\": \"code\", \"dtype\": \"object\", \"bins\": [{\"bin\": \"000001\", \"count\": 100}, {\"bin\": \"other\", \"count\": 0}]}, {\"columnName\": \"date\", \"dtype\": \"datetime64[ns]\", \"bins\": [{\"bin\": \"2021-01-28\", \"count\": 1}, {\"bin\": \"2020-10-30\", \"count\": 1}, {\"bin\": \"2020-10-16\", \"count\": 1}, {\"bin\": \"other\", \"count\": 97}]}, {\"columnName\": \"O\", \"dtype\": \"float64\", \"bins\": [{\"bin_start\": 14.73, \"bin_end\": 15.535, \"count\": 17}, {\"bin_start\": 15.535, \"bin_end\": 16.34, \"count\": 9}, {\"bin_start\": 16.34, \"bin_end\": 17.145, \"count\": 2}, {\"bin_start\": 17.145, \"bin_end\": 17.95, \"count\": 16}, {\"bin_start\": 17.95, \"bin_end\": 18.755000000000003, \"count\": 18}, {\"bin_start\": 18.755000000000003, \"bin_end\": 19.560000000000002, \"count\": 17}, {\"bin_start\": 19.560000000000002, \"bin_end\": 20.365000000000002, \"count\": 8}, {\"bin_start\": 20.365000000000002, \"bin_end\": 21.17, \"count\": 4}, {\"bin_start\": 21.17, \"bin_end\": 21.975, \"count\": 2}, {\"bin_start\": 21.975, \"bin_end\": 22.78, \"count\": 7}]}, {\"columnName\": \"H\", \"dtype\": \"float64\", \"bins\": [{\"bin_start\": 15.06, \"bin_end\": 15.901, \"count\": 20}, {\"bin_start\": 15.901, \"bin_end\": 16.742, \"count\": 5}, {\"bin_start\": 16.742, \"bin_end\": 17.583, \"count\": 4}, {\"bin_start\": 17.583, \"bin_end\": 18.424, \"count\": 17}, {\"bin_start\": 18.424, \"bin_end\": 19.265, \"count\": 24}, {\"bin_start\": 19.265, \"bin_end\": 20.106, \"count\": 14}, {\"bin_start\": 20.106, \"bin_end\": 20.947, \"count\": 4}, {\"bin_start\": 20.947, \"bin_end\": 21.788, \"count\": 2}, {\"bin_start\": 21.788, \"bin_end\": 22.628999999999998, \"count\": 3}, {\"bin_start\": 22.628999999999998, \"bin_end\": 23.47, \"count\": 7}]}, {\"columnName\": \"C\", \"dtype\": \"float64\", \"bins\": [{\"bin_start\": 14.8, \"bin_end\": 15.628, \"count\": 19}, {\"bin_start\": 15.628, \"bin_end\": 16.456, \"count\": 6}, {\"bin_start\": 16.456, \"bin_end\": 17.284, \"count\": 3}, {\"bin_start\": 17.284, \"bin_end\": 18.112, \"count\": 22}, {\"bin_start\": 18.112, \"bin_end\": 18.939999999999998, \"count\": 18}, {\"bin_start\": 18.939999999999998, \"bin_end\": 19.768, \"count\": 15}, {\"bin_start\": 19.768, \"bin_end\": 20.596, \"count\": 5}, {\"bin_start\": 20.596, \"bin_end\": 21.424, \"count\": 3}, {\"bin_start\": 21.424, \"bin_end\": 22.252, \"count\": 2}, {\"bin_start\": 22.252, \"bin_end\": 23.08, \"count\": 7}]}, {\"columnName\": \"L\", \"dtype\": \"float64\", \"bins\": [{\"bin_start\": 14.6, \"bin_end\": 15.385, \"count\": 18}, {\"bin_start\": 15.385, \"bin_end\": 16.169999999999998, \"count\": 8}, {\"bin_start\": 16.169999999999998, \"bin_end\": 16.955, \"count\": 3}, {\"bin_start\": 16.955, \"bin_end\": 17.74, \"count\": 18}, {\"bin_start\": 17.74, \"bin_end\": 18.525, \"count\": 19}, {\"bin_start\": 18.525, \"bin_end\": 19.31, \"count\": 15}, {\"bin_start\": 19.31, \"bin_end\": 20.095, \"count\": 7}, {\"bin_start\": 20.095, \"bin_end\": 20.88, \"count\": 3}, {\"bin_start\": 20.88, \"bin_end\": 21.665, \"count\": 3}, {\"bin_start\": 21.665, \"bin_end\": 22.45, \"count\": 6}]}]",
       "vis_data": "{\"columns\":[\"O\"],\"index\":[0,1,2,3,4,5,6,7,8,9,10,11,12,13,14,15,16,17,18,19,20,21,22,23,24,25,26,27,28,29,30,31,32,33,34,35,36,37,38,39,40,41,42,43,44,45,46,47,48,49,50,51,52,53,54,55,56,57,58,59,60,61,62,63,64,65,66,67,68,69,70,71,72,73,74,75,76,77,78,79,80,81,82,83,84,85,86,87,88,89,90,91,92,93,94,95,96,97,98,99],\"data\":[[15.01],[15.32],[14.73],[14.88],[15.0],[15.26],[15.32],[15.18],[15.01],[15.2],[15.32],[15.54],[15.62],[16.0],[15.67],[15.59],[15.59],[15.2],[15.19],[15.39],[14.8],[15.3],[15.22],[15.9],[16.04],[16.2],[16.56],[17.3],[17.48],[17.64],[17.94],[17.53],[18.2],[18.0],[17.76],[17.54],[17.74],[17.65],[17.71],[18.35],[18.37],[17.71],[17.67],[18.0],[18.2],[17.81],[17.42],[17.08],[17.38],[17.78],[18.59],[18.83],[18.85],[19.62],[19.48],[19.05],[20.0],[19.9],[19.7],[19.93],[19.78],[19.47],[19.31],[18.92],[18.79],[18.73],[18.71],[18.6],[18.8],[18.8],[18.91],[19.0],[18.3],[18.36],[17.96],[18.15],[18.26],[18.02],[18.87],[19.0],[19.21],[19.1],[18.4],[18.08],[19.52],[19.9],[20.0],[20.39],[21.0],[20.68],[21.0],[21.2],[22.51],[22.15],[22.5],[22.23],[21.72],[22.3],[22.31],[22.78]]}",
       "vis_sql": [
        "select * EXCLUDE (index_rn1qaz2wsx)\nfrom \n(\nSELECT \"O\", ROW_NUMBER() OVER () AS index_rn1qaz2wsx\nFROM $$__NAME__$$\n)\nusing SAMPLE reservoir (100 rows) REPEATABLE(42)\norder by index_rn1qaz2wsx",
        "2023-05-04T03:16:44.930Z"
       ]
      }
     },
     "e9acfb0f5ac948a09d026d9398680452": {
      "model_module": "@jupyter-widgets/base",
      "model_module_version": "2.0.0",
      "model_name": "LayoutModel",
      "state": {}
     }
    },
    "version_major": 2,
    "version_minor": 0
   }
  }
 },
 "nbformat": 4,
 "nbformat_minor": 5
}
