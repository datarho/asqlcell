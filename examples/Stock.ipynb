{
 "cells": [
  {
   "cell_type": "markdown",
   "id": "e9f1bb3b-3bbb-4dd7-b32e-8cf301b5d77b",
   "metadata": {},
   "source": [
    "# Import sqlcell"
   ]
  },
  {
   "cell_type": "code",
   "execution_count": 1,
   "id": "562a258c-4dc4-4e73-92ab-9fcdd54c6874",
   "metadata": {},
   "outputs": [],
   "source": [
    "from sqlcell import SqlcellWidget"
   ]
  },
  {
   "cell_type": "code",
   "execution_count": 24,
   "id": "9ce3b21a-3929-483c-a0b9-3a9b7d882945",
   "metadata": {},
   "outputs": [
    {
     "data": {
      "application/vnd.jupyter.widget-view+json": {
       "model_id": "c204df99fcb140668335101d3cf09dfa",
       "version_major": 2,
       "version_minor": 0
      },
      "text/plain": [
       "SqlcellWidget(data_range=(0, 10), index_sort=('', 0))"
      ]
     },
     "execution_count": 24,
     "metadata": {},
     "output_type": "execute_result"
    }
   ],
   "source": [
    "%%sql\n",
    "SELECT *\n",
    "FROM 'data.csv'"
   ]
  },
  {
   "cell_type": "markdown",
   "id": "7aca279b-1382-4bcb-8baa-10fc526ceff6",
   "metadata": {
    "tags": []
   },
   "source": [
    "# Feature Engineering\n",
    "\n",
    "以下sql代码实现了在当前股票以及日期下，计算相关指标，以及后一天按开盘价买入，分别以T+1，T+2日收盘价卖出的收益。  \n",
    "可以以此来计算指标和未来收益的相关性，并且不存在未来函数。  \n",
    "  \n",
    "指标说明：  \n",
    "LOW5：5日最低价  \n",
    "HIGH5：5日最高价  \n",
    "FA：5日均价  \n",
    "FB：当日最高价  \n",
    "FC：当日收盘价除以5日最低价  \n",
    "FD：当日收盘价除以5日最高价  \n",
    "FE：日最高价除以最低价的5日最大值  \n",
    "FF：5日均价除以10日均价  \n",
    "FG：10日收盘价时间序的第5个收盘价  \n",
    "FH：10日收盘价的中位数 Median value  \n",
    "FI：10日收盘价和中位数的差值的中位数 MEDIAN(ABS(x-MEDIAN(x)))  \n",
    "FJ：10日最高价和最低价之间的相关性  \n",
    "canBuy：是否能在当前交易日的下一个交易日买入  \n",
    "gain：当前交易日的下一个交易日开盘价买入，T+1日收盘价卖出的收益  \n",
    "gain3：当前交易日的下一个交易日开盘价买入，T+2日收盘价卖出的收益  \n",
    "  \n",
    "WINDOW  \n",
    "five：5日窗口，按code分区按date排序  \n",
    "ten：10日窗口，按code分区按date排序  \n",
    "norm：一般窗口，不限定数量，按code分区按date排序  \n",
    "  \n",
    "WHERE  \n",
    "过滤gain波动太大的，有可能是脏数据  \n",
    "过滤无法买入的交易日  "
   ]
  },
  {
   "cell_type": "code",
   "execution_count": 17,
   "id": "cf72c38e-41ac-4e3b-804a-333ab55d9f8f",
   "metadata": {
    "tags": []
   },
   "outputs": [
    {
     "data": {
      "application/vnd.jupyter.widget-view+json": {
       "model_id": "64262d93e03b431cac7083a9a3a5ee37",
       "version_major": 2,
       "version_minor": 0
      },
      "text/plain": [
       "SqlcellWidget(data_range=(0, 10), index_sort=('', 0))"
      ]
     },
     "execution_count": 17,
     "metadata": {},
     "output_type": "execute_result"
    }
   ],
   "source": [
    "%%sql mytable\n",
    "SELECT *\n",
    "FROM\n",
    "(\n",
    "\tselect code, date,\n",
    "\t\t\tmin(L) OVER five as LOW5, \n",
    "\t\t\tmax(H) OVER five as HIGH5,\n",
    "\t\t\tLOW5 / HIGH5 as LH5,\n",
    "\t\t\t--Feature\n",
    "\t\t\tavg(C) OVER five as FA,\n",
    "\t\t\tH as FB,\n",
    "\t\t\tC / LOW5 as FC,\n",
    "\t\t\tC / HIGH5 as FD,\n",
    "\t\t\tmax(H / L) OVER five as FE,\n",
    "\t\t\tavg(C) OVER five / avg(C) over ten as FF,\n",
    "\t\t\tnth_value(C, 5) over ten as FG,\n",
    "\t\t\tquantile_cont(C, 0.5) OVER ten FH, \n",
    "\t\t\tmad(C) OVER ten FI,\n",
    "\t\t\tcorr(H, L) OVER ten FJ,\n",
    "\t\t\t--2 Days return ratio\n",
    "\t\t\tlead(L, 1, null) OVER norm < lead(H, 1, null) OVER norm as canBuy,\n",
    "\t\t\tlead(C, 2, null) OVER norm / lead(O, 1, null) OVER norm - 1 as gain,\n",
    "            lead(C, 3, null) OVER norm / lead(O, 1, null) OVER norm - 1 as gain3\n",
    "\tFROM 'data.csv'\n",
    "\tWINDOW\n",
    "\t\tfive AS (PARTITION BY code ORDER BY date ASC ROWS BETWEEN 4 PRECEDING AND 0 FOLLOWING),\n",
    "\t\tten AS (PARTITION BY code ORDER BY date ASC ROWS BETWEEN 9 PRECEDING AND 0 FOLLOWING),\n",
    "\t\tnorm AS (PARTITION BY code ORDER BY date ASC)\n",
    ") a\n",
    "WHERE gain is not null AND abs(gain) < 0.30 AND gain3 is not null AND\n",
    "\t\tcanBuy is not null AND canBuy"
   ]
  },
  {
   "cell_type": "markdown",
   "id": "66010902-de54-4f68-b16e-df45d78ebaca",
   "metadata": {},
   "source": [
    "# Percentage Return Ratio\n",
    "将指定特征排序，按日划分为十个分位，计算每个分位的平均收益  "
   ]
  },
  {
   "cell_type": "code",
   "execution_count": 23,
   "id": "65f6fb10-eb20-46c3-b92c-2f5059e3356e",
   "metadata": {},
   "outputs": [
    {
     "data": {
      "application/vnd.jupyter.widget-view+json": {
       "model_id": "4070ba394d85431983d54788e3e179b3",
       "version_major": 2,
       "version_minor": 0
      },
      "text/plain": [
       "SqlcellWidget(data_range=(0, 10), index_sort=('', 0))"
      ]
     },
     "execution_count": 23,
     "metadata": {},
     "output_type": "execute_result"
    }
   ],
   "source": [
    "%%sql df\n",
    "SELECT rank, avg(gain) * 100 GA, avg(gain3) * 100 GA3, count(1) c\n",
    "FROM\n",
    "(\n",
    "\tSELECT cast(percent_rank() OVER wds * 9 as int) rank, gain, gain3\n",
    "\tFROM mytable\n",
    "\tWINDOW wds as (PARTITION BY date ORDER BY FF)\n",
    ")\n",
    "GROUP BY rank\n",
    "ORDER BY rank"
   ]
  },
  {
   "cell_type": "markdown",
   "id": "9e9c1934-5bed-47d7-8168-01a9d365ea16",
   "metadata": {},
   "source": [
    "# Correlation Analysis\n",
    "相关性分析显示，FF与gain呈负相关，换句话说，当FF指标越大时，这个股票短期内越可能跌  "
   ]
  },
  {
   "cell_type": "code",
   "execution_count": 22,
   "id": "ffe188e5-25e9-4753-86a8-cdedaf50691d",
   "metadata": {},
   "outputs": [
    {
     "data": {
      "application/vnd.jupyter.widget-view+json": {
       "model_id": "4385765cac64473cb78686a24911e24e",
       "version_major": 2,
       "version_minor": 0
      },
      "text/plain": [
       "SqlcellWidget(data_range=(0, 10), index_sort=('', 0))"
      ]
     },
     "execution_count": 22,
     "metadata": {},
     "output_type": "execute_result"
    }
   ],
   "source": [
    "%%sql df\n",
    "SELECT corr(FA, gain),\n",
    "\t\tcorr(FB, gain),\n",
    "\t\tcorr(FC, gain),\n",
    "\t\tcorr(FD, gain),\n",
    "\t\tcorr(FE, gain),\n",
    "\t\tcorr(FF, gain),\n",
    "\t\tcorr(FG, gain),\n",
    "\t\tcorr(FH, gain),\n",
    "\t\tcorr(FI, gain)\n",
    "FROM mytable"
   ]
  },
  {
   "cell_type": "code",
   "execution_count": 25,
   "id": "8f3f2d8e-4925-42a0-b157-27e4fc6a5da6",
   "metadata": {},
   "outputs": [
    {
     "data": {
      "text/plain": [
       "[{'code': 'int32'},\n",
       " {'date': 'datetime64[ns]'},\n",
       " {'LOW5': 'float64'},\n",
       " {'HIGH5': 'float64'},\n",
       " {'LH5': 'float64'},\n",
       " {'FA': 'float64'},\n",
       " {'FB': 'float64'},\n",
       " {'FC': 'float64'},\n",
       " {'FD': 'float64'},\n",
       " {'FE': 'float64'},\n",
       " {'FF': 'float64'},\n",
       " {'canBuy': 'bool'},\n",
       " {'gain': 'float64'}]"
      ]
     },
     "execution_count": 25,
     "metadata": {},
     "output_type": "execute_result"
    }
   ],
   "source": [
    "[{column:mytable.dtypes[column].name} for column in mytable]"
   ]
  },
  {
   "cell_type": "code",
   "execution_count": null,
   "id": "b252a945-b557-4285-96bd-bf882b145fac",
   "metadata": {},
   "outputs": [],
   "source": []
  }
 ],
 "metadata": {
  "kernelspec": {
   "display_name": "Python 3 (ipykernel)",
   "language": "python",
   "name": "python3"
  },
  "language_info": {
   "codemirror_mode": {
    "name": "ipython",
    "version": 3
   },
   "file_extension": ".py",
   "mimetype": "text/x-python",
   "name": "python",
   "nbconvert_exporter": "python",
   "pygments_lexer": "ipython3",
   "version": "3.8.10"
  }
 },
 "nbformat": 4,
 "nbformat_minor": 5
}
