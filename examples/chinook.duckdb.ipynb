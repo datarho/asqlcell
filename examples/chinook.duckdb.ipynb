{
 "cells": [
  {
   "cell_type": "markdown",
   "id": "5596096d-55b2-4a14-bf93-1c66f8706954",
   "metadata": {
    "jp-MarkdownHeadingCollapsed": true,
    "tags": []
   },
   "source": [
    "# Business Questions on Chinook Music Store\n",
    "\n",
    "In this tutorial we will be looking at a database called Chinook which contains information about a fictional music shop. The database includes several tables on invoice, track, album, artist etc. related to the store's sales. We will use this database to explore business questions and propositions.\n",
    "\n",
    "The benefits of this approach are:\n",
    "\n",
    "1. Easy to bootstrap. Analytical SQL Cell widget for Jupyter Lab is all you need.\n",
    "2. Extremely efficient. Analytical SQL Cell will leverage [DuckDB](https://duckdb.org/) to query and visualize data in a performant way.\n",
    "3. Free and open source. No commercial database or ChatGPT is required :-)\n",
    "\n",
    "Chinook is a sample database available for SQL Server, Oracle, MySQL, etc. It is an alternative to the Northwind database, being ideal for demos and testing ORM tools targeting single and multiple database servers. The name of this sample database was based on the Northwind database. Chinooks are winds in the interior West of North America, where the Canadian Prairies and Great Plains meet various mountain ranges. Chinooks are most prevalent over southern Alberta in Canada. Chinook is a good name choice for a database that intents to be an alternative to Northwind.\n",
    "\n",
    "The database includes several tables on invoice, track, album, artist etc. related to the store's sales. The Entity Relationship Diagram of the database is provided as follows:\n",
    "\n",
    "![Chinook Database](https://m-soro.github.io/Business-Analytics/SQL-for-Data-Analysis/L4-Project-Query-Music-Store/Misc/001.png)"
   ]
  },
  {
   "cell_type": "markdown",
   "id": "c88e3932-5dcf-4e67-ba4c-163111a8a906",
   "metadata": {},
   "source": [
    "# Preparation\n",
    "\n",
    "Firstly we'll need to load extension from `asqlcell`."
   ]
  },
  {
   "cell_type": "code",
   "execution_count": null,
   "id": "dbf20659-9828-4f90-83ec-123e867f08c9",
   "metadata": {
    "tags": []
   },
   "outputs": [],
   "source": [
    "%load_ext asqlcell"
   ]
  },
  {
   "cell_type": "markdown",
   "id": "7cd3e7e2-5593-4708-897a-6f97b1b6cb18",
   "metadata": {},
   "source": [
    "Now we can create a connection object to the DuckDB database file. Notice that the connection object will be used for SQL queries later."
   ]
  },
  {
   "cell_type": "code",
   "execution_count": null,
   "id": "0b2dab17-95d8-44cd-8b87-f1a497bbeadd",
   "metadata": {
    "tags": []
   },
   "outputs": [],
   "source": [
    "from sqlalchemy import create_engine, inspect\n",
    "\n",
    "con = create_engine(f\"duckdb:///chinook.duckdb\").connect()"
   ]
  },
  {
   "cell_type": "markdown",
   "id": "8c33e260-176e-4b98-8363-3a7c86435268",
   "metadata": {},
   "source": [
    "We can take a look at the database's schema via the connection object to understand which tables it contains:"
   ]
  },
  {
   "cell_type": "code",
   "execution_count": null,
   "id": "ebdd4e88-2f2d-4614-9c9f-7449a4e18800",
   "metadata": {
    "tags": []
   },
   "outputs": [],
   "source": [
    "inspect(con).get_table_names()"
   ]
  },
  {
   "cell_type": "markdown",
   "id": "276f34e4-2119-4f1b-95fd-dc3750f63917",
   "metadata": {},
   "source": [
    "# Exploration"
   ]
  },
  {
   "cell_type": "markdown",
   "id": "27caf521-5e77-4f28-9e5e-4ee811d30b4a",
   "metadata": {},
   "source": [
    "## Sales\n",
    "\n",
    "Let's investigate the countries in which most sales occur."
   ]
  },
  {
   "cell_type": "markdown",
   "id": "85930398-b1ad-4058-a2fe-07111c4116ac",
   "metadata": {},
   "source": [
    "### How much did users spent in total per country?\n",
    "\n",
    "We can join `Invoice` and `Customer` tables to create a result set of country name, customer name and total spent grouped by all the spendings of the customers."
   ]
  },
  {
   "cell_type": "code",
   "execution_count": null,
   "id": "4a1f2d6b-abd6-4194-9be0-d8784384bb39",
   "metadata": {
    "tags": []
   },
   "outputs": [],
   "source": [
    "%%sql --con con\n",
    "\n",
    "SELECT\n",
    "    Customer.Country,\n",
    "    Customer.FirstName || ' ' || Customer.LastName AS Customer,\n",
    "    SUM(Invoice.Total) AS Total\n",
    "FROM Invoice\n",
    "JOIN Customer ON Customer.CustomerId = Invoice.CustomerId\n",
    "GROUP BY 1, 2\n",
    "ORDER BY 3 DESC"
   ]
  },
  {
   "cell_type": "markdown",
   "id": "cd6558af-7577-4a25-9038-02d531c3b713",
   "metadata": {},
   "source": [
    "We can also visualize the result set by clicking the Chart tab with the following settings:\n",
    "\n",
    "* Chart type: Column\n",
    "* X-Axis: Country\n",
    "* Y-Axis: Total, sort in descending order\n",
    "\n",
    "It is obvious that USA, Canada and France are top three countries contributing to the revenue."
   ]
  },
  {
   "cell_type": "markdown",
   "id": "71a734fe-520d-423f-904c-e7d267d63a1e",
   "metadata": {
    "tags": []
   },
   "source": [
    "### How many users are there per country?\n",
    "\n",
    "We could leverage `Customer` to create a table of country name and custmer count by grouping the customers by country. We'd like to sort the countries so that the countries with most customers should appear first."
   ]
  },
  {
   "cell_type": "code",
   "execution_count": null,
   "id": "b9542d01-d3ee-456a-a067-09f77ee22989",
   "metadata": {
    "tags": []
   },
   "outputs": [],
   "source": [
    "%%sql --con con\n",
    "\n",
    "SELECT\n",
    "    Country,\n",
    "    COUNT(CustomerId) AS Count\n",
    "FROM Customer\n",
    "GROUP BY 1\n",
    "ORDER BY 2\n",
    "DESC"
   ]
  },
  {
   "cell_type": "markdown",
   "id": "5572b85d-6c9d-463d-a9d4-ffab1e66adba",
   "metadata": {
    "tags": []
   },
   "source": [
    "We can also visualize the result set by clicking the Chart tab with the following settings:\n",
    "\n",
    "* Chart type: Pie\n",
    "* Size: Count\n",
    "* Color: Country, sort in descending order\n",
    "\n",
    "It is obvious that most customers reside in USA, Canada and Brazil."
   ]
  },
  {
   "cell_type": "markdown",
   "id": "0cba70ca-63bf-4a57-a6bf-a1c8dc8298ba",
   "metadata": {},
   "source": [
    "### How much did users spent per order per country?\n",
    "\n",
    "We will need to leverage subquery refactoring or CTE to make the logic clearer. First we can create a detailed sales table via `Invoice` and `Customer`, and then calculate the average order."
   ]
  },
  {
   "cell_type": "code",
   "execution_count": null,
   "id": "c9cd2774-6a36-4c5e-b77d-0dc165489550",
   "metadata": {
    "tags": []
   },
   "outputs": [],
   "source": [
    "%%sql --con con\n",
    "\n",
    "WITH DetailedSales AS\n",
    "(\n",
    "    SELECT\n",
    "        Customer.Country,\n",
    "        Customer.CustomerId,\n",
    "        Invoice.InvoiceId,\n",
    "        Invoice.Total\n",
    "    FROM Invoice\n",
    "    INNER JOIN Customer ON Customer.CustomerId = Invoice.CustomerId\n",
    ")\n",
    "\n",
    "SELECT\n",
    "    Country,\n",
    "    COUNT(DISTINCT CustomerId) AS Customers,\n",
    "    SUM(Total) / COUNT(DISTINCT InvoiceId) AS Average\n",
    "FROM DetailedSales\n",
    "GROUP BY Country\n",
    "HAVING Customers > 1\n",
    "ORDER BY Average DESC, Country ASC"
   ]
  },
  {
   "cell_type": "markdown",
   "id": "211fe7e5-207a-4f9b-b196-4d29162fb6c8",
   "metadata": {},
   "source": [
    "Notice that certain countries has only one customer, it is difficult to draw reasonable conclusions therefore they are excluded.\n",
    "\n",
    "We can also visualize the result set by clicking the Chart tab with the following settings:\n",
    "\n",
    "* Chart type: Column\n",
    "* X-Axis: Country\n",
    "* Y-Axis: Average\n",
    "\n",
    "As we can see, even though USA and Canada users spent quite a lot of money in total, there are countries we should keep an eye on regarding money spent per order:\n",
    "\n",
    "* Czech Republic\n",
    "* India\n",
    "* Germany\n",
    "\n",
    "The sample is not big enough to risk in large budget marketing campaigns, but we should start some smaller ones to get more customers and confirm the potential market."
   ]
  },
  {
   "cell_type": "markdown",
   "id": "30cd5c4f-a5a6-46c1-a1d4-61ae0da791f0",
   "metadata": {},
   "source": [
    "## Music\n",
    "\n",
    "The above analysis revealed some countries where the Chinook media store can make potential investments. Now let's identify the most popular music genres to aid the stores to make future marketing and investiment decisions."
   ]
  },
  {
   "cell_type": "markdown",
   "id": "9a5bec58-7c57-41a6-90ad-36cd3e761f2c",
   "metadata": {},
   "source": [
    "### How many tracks sold in the USA per genre?"
   ]
  },
  {
   "cell_type": "code",
   "execution_count": null,
   "id": "61073485-d342-4a38-abc2-f672319fea02",
   "metadata": {
    "tags": []
   },
   "outputs": [],
   "source": [
    "%%sql --con con\n",
    "\n",
    "SELECT \n",
    "    Genre.Name AS Genre,\n",
    "    SUM(InvoiceLine.Quantity) AS TracksSold,\n",
    "FROM Invoice\n",
    "INNER JOIN InvoiceLine ON Invoice.InvoiceId = InvoiceLine.InvoiceId\n",
    "INNER JOIN Track ON InvoiceLine.TrackId = Track.TrackId\n",
    "INNER JOIN Genre ON Track.GenreId = Genre.GenreId\n",
    "WHERE Invoice.BillingCountry = 'USA'\n",
    "GROUP BY 1\n",
    "ORDER BY TracksSold DESC"
   ]
  },
  {
   "cell_type": "markdown",
   "id": "bb85d1cd-70c3-4e84-8f5a-1a4c2c0b8f00",
   "metadata": {},
   "source": [
    "We can also visualize the result set by clicking the Chart tab with the following settings:\n",
    "\n",
    "* Chart type: Bar\n",
    "* X-Axis: Genre\n",
    "* Y-Axis: TracksSold\n",
    "\n",
    "The most popular genres in the USA are Rock, Latin, Metal and Alternative & Punk, followed with a big gap by all the others."
   ]
  },
  {
   "cell_type": "markdown",
   "id": "d1dd53a3-ebb0-41c6-9171-f1c51e293755",
   "metadata": {},
   "source": [
    "## Who is writing the rock music?\n",
    "\n",
    "Now that we know that our customers love rock music, we can decide which musicians to invite to play at the concert.\n",
    "\n",
    "Let’s invite the artists who have written the most rock music in our dataset. Write a query that returns the Artist name and total track count of the top 10 rock bands. We will need to use the Genre, Track , Album, and Artist tables."
   ]
  },
  {
   "cell_type": "code",
   "execution_count": null,
   "id": "1d8f1891-0bcf-449c-b29f-d7319000f182",
   "metadata": {},
   "outputs": [],
   "source": [
    "%%sql --con con\n",
    "\n",
    "SELECT\n",
    "    Artist.Name,\n",
    "    COUNT(Track.Name) AS Count\n",
    "FROM Track\n",
    "JOIN Genre ON Track.GenreId = Genre.GenreId\n",
    "JOIN Album ON Album.AlbumId = Track.AlbumId\n",
    "JOIN Artist ON Artist.ArtistId = Album.ArtistId\n",
    "WHERE Genre.Name = 'Rock'\n",
    "GROUP BY 1\n",
    "ORDER BY 2 DESC\n",
    "LIMIT 10"
   ]
  },
  {
   "cell_type": "markdown",
   "id": "cd48abaa-a5bb-40a1-a739-434b1859194f",
   "metadata": {},
   "source": [
    "We can visualize the result set by clicking the Chart tab with the following settings:\n",
    "\n",
    "* Chart type: Bar\n",
    "* X-Axis: Name\n",
    "* Y-Axis: Count\n",
    "\n",
    "It is obvious Led Zeppelin, U2 and Deep Purple are the most popular musicians."
   ]
  },
  {
   "cell_type": "markdown",
   "id": "f3d7c4a3-f9ee-460e-b191-c52cd4d2dfc3",
   "metadata": {},
   "source": [
    "## Employee\n",
    "\n",
    "Each customer for the Chinook store gets assigned to a sales support agent within the company when they first make a purchase. We can analyze the purchases of customers belonging to each employee to see if any sales support agent is performing well."
   ]
  },
  {
   "cell_type": "markdown",
   "id": "0730a0f3-185c-4cd7-90ea-883bc76a6646",
   "metadata": {},
   "source": [
    "### How about the total sales of each employee per month?\n",
    "\n",
    "We can use `DATETRUNC` to truncate the invoice date so we can group by month which will makes the data look nicer when we plot it."
   ]
  },
  {
   "cell_type": "code",
   "execution_count": null,
   "id": "564433d2-e966-47ee-b5d4-7ab43ff0212b",
   "metadata": {
    "tags": []
   },
   "outputs": [],
   "source": [
    "%%sql --con con\n",
    "\n",
    "SELECT\n",
    "    Employee.FirstName || ' ' || Employee.LastName AS Employee,\n",
    "    DATETRUNC('month', Invoice.InvoiceDate) AS Date,\n",
    "    SUM(Invoice.Total) AS Sales,\n",
    "FROM Employee\n",
    "JOIN Customer ON Customer.SupportRepId = Employee.EmployeeId\n",
    "JOIN Invoice ON Invoice.CustomerId = Customer.CustomerId\n",
    "WHERE Title = 'Sales Support Agent'\n",
    "GROUP BY 1, 2"
   ]
  },
  {
   "cell_type": "markdown",
   "id": "14d3a93c-f48c-4344-9782-a72d0f499d7c",
   "metadata": {},
   "source": [
    "We can visualize the result set by clicking the Chart tab with the following settings:\n",
    "\n",
    "* Chart type: Line\n",
    "* X-Axis: Date\n",
    "* Y-Axis: Sales\n",
    "* Color: Employee\n",
    "* Width: 900\n",
    "\n",
    "It is not obvious to evaluate the performance of employees."
   ]
  },
  {
   "cell_type": "markdown",
   "id": "0e5b04e0-14fb-4bfc-a29b-f3cc3809b31e",
   "metadata": {},
   "source": [
    "We should consider whether any extra columns from the employee table explain any variance which could be indicative of the employee performance. Let's try the hire date."
   ]
  },
  {
   "cell_type": "code",
   "execution_count": null,
   "id": "f8e08be1-00b6-402c-aa74-103042d8bfd2",
   "metadata": {
    "tags": []
   },
   "outputs": [],
   "source": [
    "%%sql --con con\n",
    "\n",
    "SELECT\n",
    "    Employee.HireDate,\n",
    "    Employee.FirstName || ' ' || Employee.LastName AS Employee,\n",
    "    SUM(Invoice.Total) AS Sales\n",
    "FROM Employee\n",
    "JOIN Customer ON Customer.SupportRepId = Employee.EmployeeId\n",
    "JOIN Invoice ON Invoice.CustomerId = Customer.CustomerId\n",
    "WHERE Title = 'Sales Support Agent'\n",
    "GROUP BY 1, 2"
   ]
  },
  {
   "cell_type": "markdown",
   "id": "c8d9b8fa-848e-4a97-85cc-77ba3762979b",
   "metadata": {},
   "source": [
    "We can visualize the result set by clicking the Chart tab with the following settings:\n",
    "\n",
    "* Chart type: Column\n",
    "* X-Axis: Employee\n",
    "* Y-Axis: Sales\n",
    "\n",
    "Well, there are differences in sales between Jane and Steve, but they were hired the same year so this shouldn't be the reason."
   ]
  }
 ],
 "metadata": {
  "kernelspec": {
   "display_name": "Python 3 (ipykernel)",
   "language": "python",
   "name": "python3"
  },
  "language_info": {
   "codemirror_mode": {
    "name": "ipython",
    "version": 3
   },
   "file_extension": ".py",
   "mimetype": "text/x-python",
   "name": "python",
   "nbconvert_exporter": "python",
   "pygments_lexer": "ipython3",
   "version": "3.10.11"
  },
  "widgets": {
   "application/vnd.jupyter.widget-state+json": {
    "state": {},
    "version_major": 2,
    "version_minor": 0
   }
  }
 },
 "nbformat": 4,
 "nbformat_minor": 5
}
