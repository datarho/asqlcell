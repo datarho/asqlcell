{
 "cells": [
  {
   "cell_type": "markdown",
   "id": "5596096d-55b2-4a14-bf93-1c66f8706954",
   "metadata": {},
   "source": [
    "# Business Questions on Chinook Music Store\n",
    "\n",
    "In this tutorial we will be looking at a database called Chinook which contains information about a fictional music shop. The database includes several tables on invoice, track, album, artist etc. related to the store's sales. We will use this database to explore business questions and propositions.\n",
    "\n",
    "The benefits of this approach are:\n",
    "\n",
    "1. Easy to bootstrap. Analytical SQL Cell widget for Jupyter Lab is all you need.\n",
    "2. Extremely efficient. Analytical SQL Cell will leverage [DuckDB](https://duckdb.org/) to query and visualize data in a performant way.\n",
    "3. Free and open source. No commercial database or ChatGPT is required :-)\n",
    "\n",
    "Chinook is a sample database available for SQL Server, Oracle, MySQL, etc. It is an alternative to the Northwind database, being ideal for demos and testing ORM tools targeting single and multiple database servers. The name of this sample database was based on the Northwind database. Chinooks are winds in the interior West of North America, where the Canadian Prairies and Great Plains meet various mountain ranges. Chinooks are most prevalent over southern Alberta in Canada. Chinook is a good name choice for a database that intents to be an alternative to Northwind.\n",
    "\n",
    "The database includes several tables on invoice, track, album, artist etc. related to the store's sales. The Entity Relationship Diagram of the database is provided as follows:\n",
    "\n",
    "![Chinook Database](https://m-soro.github.io/Business-Analytics/SQL-for-Data-Analysis/L4-Project-Query-Music-Store/Misc/001.png)"
   ]
  },
  {
   "cell_type": "markdown",
   "id": "c88e3932-5dcf-4e67-ba4c-163111a8a906",
   "metadata": {},
   "source": [
    "# Preparation\n",
    "\n",
    "Firstly we'll need to import `asqlcell` and load extension properly."
   ]
  },
  {
   "cell_type": "code",
   "execution_count": null,
   "id": "dbf20659-9828-4f90-83ec-123e867f08c9",
   "metadata": {
    "tags": []
   },
   "outputs": [],
   "source": [
    "import asqlcell\n",
    "\n",
    "%load_ext asqlcell"
   ]
  },
  {
   "cell_type": "markdown",
   "id": "7cd3e7e2-5593-4708-897a-6f97b1b6cb18",
   "metadata": {},
   "source": [
    "Now we can create a connection object to the DuckDB database file. Notice that the connection object will be used for SQL queries later."
   ]
  },
  {
   "cell_type": "code",
   "execution_count": null,
   "id": "0b2dab17-95d8-44cd-8b87-f1a497bbeadd",
   "metadata": {
    "tags": []
   },
   "outputs": [],
   "source": [
    "from sqlalchemy import create_engine, inspect\n",
    "\n",
    "con = create_engine(f\"duckdb:///chinook.duckdb\").connect()"
   ]
  },
  {
   "cell_type": "markdown",
   "id": "8c33e260-176e-4b98-8363-3a7c86435268",
   "metadata": {},
   "source": [
    "We can take a look at the database's schema via the connection object to understand which tables it contains:"
   ]
  },
  {
   "cell_type": "code",
   "execution_count": null,
   "id": "ebdd4e88-2f2d-4614-9c9f-7449a4e18800",
   "metadata": {
    "tags": []
   },
   "outputs": [],
   "source": [
    "inspect(con).get_table_names()"
   ]
  },
  {
   "cell_type": "markdown",
   "id": "276f34e4-2119-4f1b-95fd-dc3750f63917",
   "metadata": {},
   "source": [
    "# Exploration"
   ]
  },
  {
   "cell_type": "markdown",
   "id": "27caf521-5e77-4f28-9e5e-4ee811d30b4a",
   "metadata": {},
   "source": [
    "## Region\n",
    "\n",
    "Let's investigate regional information to understand the customers better."
   ]
  },
  {
   "cell_type": "markdown",
   "id": "71a734fe-520d-423f-904c-e7d267d63a1e",
   "metadata": {},
   "source": [
    "### How many users are there per country?\n",
    "\n",
    "We could leverage `Customer` to create a table of country name and custmer count by grouping the customers by country. We'd like to sort the countries so that the countries with most customers should appear first."
   ]
  },
  {
   "cell_type": "code",
   "execution_count": null,
   "id": "b9542d01-d3ee-456a-a067-09f77ee22989",
   "metadata": {
    "tags": []
   },
   "outputs": [],
   "source": [
    "%%sql --con con\n",
    "\n",
    "SELECT\n",
    "    Country,\n",
    "    COUNT(CustomerId) AS Count\n",
    "FROM Customer\n",
    "GROUP BY 1\n",
    "ORDER BY 2\n",
    "DESC"
   ]
  },
  {
   "cell_type": "markdown",
   "id": "5572b85d-6c9d-463d-a9d4-ffab1e66adba",
   "metadata": {},
   "source": [
    "We can also visualize the result set by clicking the Chart tab with the following settings:\n",
    "\n",
    "* Chart type: Pie\n",
    "* Size: Count\n",
    "* Color: Country\n",
    "\n",
    "It is obvious that most customers reside in USA, Canada and Brazil."
   ]
  },
  {
   "cell_type": "markdown",
   "id": "85930398-b1ad-4058-a2fe-07111c4116ac",
   "metadata": {},
   "source": [
    "### How much did users spent in total per country?\n",
    "\n",
    "We can join `Invoice` and `Customer` tables to create a result set of country name, customer name and total spent grouped by all the spendings of the customers."
   ]
  },
  {
   "cell_type": "code",
   "execution_count": null,
   "id": "4a1f2d6b-abd6-4194-9be0-d8784384bb39",
   "metadata": {
    "tags": []
   },
   "outputs": [],
   "source": [
    "%%sql --con con\n",
    "\n",
    "SELECT\n",
    "    Customer.Country,\n",
    "    Customer.FirstName || ' ' || Customer.LastName AS Customer,\n",
    "    SUM(Invoice.Total) AS Total\n",
    "FROM Invoice\n",
    "JOIN Customer ON Customer.CustomerId = Invoice.CustomerId\n",
    "GROUP BY 1, 2\n",
    "ORDER BY 3 DESC"
   ]
  },
  {
   "cell_type": "markdown",
   "id": "0cba70ca-63bf-4a57-a6bf-a1c8dc8298ba",
   "metadata": {},
   "source": [
    "### How much did users spent per order?\n",
    "\n",
    "We will need to leverage subquery refactoring or CTE to make the logic clearer. First we can create a detailed sales table via ``Invoice` and `Customer`, and then calculate the total sales as well as average order.\n",
    "\n",
    "Even though USA and Canada users spent quite a lot of money in total, there are countries we should keep an eye on regarding money spent per order:\n",
    "\n",
    "* Czech Republic\n",
    "* India\n",
    "* Germany\n",
    "\n",
    "The sample is not big enough to risk in large budget marketing campaigns, but we should start some smaller ones to get more customers and confirm the potential market."
   ]
  },
  {
   "cell_type": "code",
   "execution_count": null,
   "id": "c9cd2774-6a36-4c5e-b77d-0dc165489550",
   "metadata": {
    "tags": []
   },
   "outputs": [],
   "source": [
    "%%sql --con con\n",
    "\n",
    "WITH DetailedSales AS\n",
    "(\n",
    "    SELECT\n",
    "        c.Country,\n",
    "        c.CustomerId,\n",
    "        i.InvoiceId,\n",
    "        i.Total\n",
    "    FROM Invoice i\n",
    "    INNER JOIN Customer AS c ON c.CustomerId = i.CustomerId\n",
    ")\n",
    "\n",
    "SELECT\n",
    "    Country,\n",
    "    COUNT(DISTINCT CustomerId) AS Customers,\n",
    "    SUM(Total) AS TotalSales,\n",
    "    SUM(Total) / COUNT(DISTINCT InvoiceId) AS AverageOrder\n",
    "FROM DetailedSales\n",
    "GROUP BY Country\n",
    "HAVING Customers > 1\n",
    "ORDER BY TotalSales DESC, Country ASC"
   ]
  },
  {
   "cell_type": "markdown",
   "id": "0462cb8f-602b-44d4-8afd-7cdc8b7e261d",
   "metadata": {
    "tags": []
   },
   "source": [
    "### Which city has the best customers?\n",
    "\n",
    "We would like to throw a promotional Music Festival in the city we made the most money.\n",
    "\n",
    "We could write a query that returns the cities that has the highest sum of invoice totals:"
   ]
  },
  {
   "cell_type": "code",
   "execution_count": null,
   "id": "3216be3b-55ba-4701-b4f2-d148faacc352",
   "metadata": {
    "tags": []
   },
   "outputs": [],
   "source": [
    "%%sql --con con\n",
    "\n",
    "SELECT\n",
    "    BillingCity,\n",
    "    SUM(Total) AS Total\n",
    "FROM Invoice\n",
    "GROUP BY 1\n",
    "ORDER BY 2 DESC"
   ]
  },
  {
   "cell_type": "markdown",
   "id": "30cd5c4f-a5a6-46c1-a1d4-61ae0da791f0",
   "metadata": {},
   "source": [
    "# Music\n",
    "\n"
   ]
  },
  {
   "cell_type": "code",
   "execution_count": null,
   "id": "f593b74d-79b9-438b-95c2-fc7133cd6add",
   "metadata": {},
   "outputs": [],
   "source": [
    "WITH DetailedSales AS\n",
    "(\n",
    "     SELECT\n",
    "       c.Country AS Country,\n",
    "       c.CustomerId,\n",
    "       il.*\n",
    "     FROM InvoiceLine il\n",
    "     INNER JOIN Invoice AS i ON i.InvoiceId = il.InvoiceId\n",
    "     INNER JOIN Customer AS c ON c.CustomerId = i.CustomerId\n",
    ")\n",
    "\n",
    "SELECT\n",
    "    Country,\n",
    "    COUNT(DISTINCT CustomerId) AS Customers,\n",
    "    SUM(UnitPrice) AS TotalSales,\n",
    "    SUM(UnitPrice) / COUNT(DISTINCT InvoiceId) AS AverageOrder\n",
    "FROM DetailedSales\n",
    "GROUP BY Country\n",
    "ORDER BY TotalSales DESC, Country ASC"
   ]
  },
  {
   "cell_type": "markdown",
   "id": "46ef8635-da3a-4631-b396-84a3a26d87b9",
   "metadata": {},
   "source": [
    "## Who is the best customer?\n",
    "\n",
    "The customer who has spent the most money will be declared the best customer.\n",
    "\n",
    "We could build a query that returns the person who has spent the most money. The solution is to link `Invoice` and `Customer` tables to retrieve this information."
   ]
  },
  {
   "cell_type": "code",
   "execution_count": null,
   "id": "3361b900-b0f3-4e63-a7cf-b287e8a4536e",
   "metadata": {},
   "outputs": [],
   "source": [
    "%%sql --con con\n",
    "\n",
    "SELECT\n",
    "    C.CustomerId,\n",
    "    C.FirstName || ' ' || C.LastName AS Customer,\n",
    "    SUM(I.Total) AS Total\n",
    "FROM Customer C\n",
    "JOIN Invoice I ON C.CustomerId = I.CustomerId\n",
    "GROUP BY 1, 2\n",
    "ORDER BY 3 DESC"
   ]
  },
  {
   "cell_type": "code",
   "execution_count": null,
   "id": "8bc231e2-f6ef-41be-989b-da44ee2c9089",
   "metadata": {},
   "outputs": [],
   "source": []
  },
  {
   "cell_type": "markdown",
   "id": "d1dd53a3-ebb0-41c6-9171-f1c51e293755",
   "metadata": {},
   "source": [
    "## Who is writing the rock music?\n",
    "\n",
    "Now that we know that our customers love rock music, we can decide which musicians to invite to play at the concert.\n",
    "\n",
    "Let’s invite the artists who have written the most rock music in our dataset. Write a query that returns the Artist name and total track count of the top 10 rock bands. We will need to use the Genre, Track , Album, and Artist tables."
   ]
  },
  {
   "cell_type": "code",
   "execution_count": null,
   "id": "1d8f1891-0bcf-449c-b29f-d7319000f182",
   "metadata": {},
   "outputs": [],
   "source": [
    "%%sql --con con\n",
    "\n",
    "SELECT\n",
    "    AR.Name,\n",
    "    COUNT(T.Name) AS Count\n",
    "FROM Track T\n",
    "JOIN Genre G ON T.GenreId = G.GenreId\n",
    "JOIN Album AL ON AL.AlbumId = T.AlbumId\n",
    "JOIN Artist AR ON AR.ArtistId = AL.ArtistId\n",
    "WHERE G.Name = 'Rock'\n",
    "GROUP BY 1\n",
    "ORDER BY 2 DESC\n",
    "LIMIT 10"
   ]
  },
  {
   "cell_type": "markdown",
   "id": "910615e3-2a43-460b-93d9-46326da6bc59",
   "metadata": {},
   "source": [
    "## How many songs base on genre does customer 12 bought?\n",
    "\n"
   ]
  },
  {
   "cell_type": "code",
   "execution_count": null,
   "id": "03390502-eee3-4ada-93c2-cd46904dd48f",
   "metadata": {
    "tags": []
   },
   "outputs": [],
   "source": [
    "%%sql --con con\n",
    "\n",
    "SELECT\n",
    "    G.Name AS Genre,\n",
    "    COUNT(T.Name)\n",
    "FROM Customer C\n",
    "JOIN Invoice I ON I.CustomerId = C.CustomerId\n",
    "JOIN InvoiceLine IL ON IL.InvoiceId = I.InvoiceId\n",
    "JOIN TRACK T ON T.TrackId = IL.TrackId\n",
    "JOIN GENRE G ON G.GenreId = T.GenreId\n",
    "WHERE C.CustomerId = 12\n",
    "GROUP BY 1\n",
    "ORDER BY 1"
   ]
  },
  {
   "cell_type": "code",
   "execution_count": null,
   "id": "19b95245-01bc-404c-936a-39bcf4e534bc",
   "metadata": {
    "tags": []
   },
   "outputs": [],
   "source": [
    "%%sql --con con\n",
    "\n",
    "SELECT\n",
    "    FirstName,\n",
    "    LastName,\n",
    "    CustomerId,\n",
    "    Country\n",
    "FROM Customer \n",
    "WHERE Country != 'USA'"
   ]
  },
  {
   "cell_type": "code",
   "execution_count": null,
   "id": "e633e75f-1239-4e44-ad1d-bbe7a6a10fbb",
   "metadata": {
    "tags": []
   },
   "outputs": [],
   "source": [
    "%%sql --con con\n",
    "\n",
    "SELECT\n",
    "    FirstName,\n",
    "    LastName,\n",
    "    CustomerId,\n",
    "    Country\n",
    "FROM Customer \n",
    "WHERE Country == 'Brazil'"
   ]
  },
  {
   "cell_type": "markdown",
   "id": "09f4b100-82a6-46ca-ae7d-c98c3729cf17",
   "metadata": {},
   "source": [
    "Provide a query showing the Invoices of customers who are from Brazil. The resultant table should show the customer's full name, Invoice ID, Date of the invoice and billing country."
   ]
  },
  {
   "cell_type": "code",
   "execution_count": null,
   "id": "e2f478f9-7ff2-4c5c-b497-9fbe75a263d1",
   "metadata": {
    "tags": []
   },
   "outputs": [],
   "source": [
    "%%sql --con con\n",
    "\n",
    "SELECT\n",
    "    C.FirstName || ' ' || C.LastName AS Customer,\n",
    "    I.InvoiceId,\n",
    "    I.InvoiceDate,\n",
    "    C.Country\n",
    "FROM Customer C \n",
    "JOIN Invoice I ON C.CustomerId == I.CustomerId \n",
    "WHERE C.Country == 'Brazil'"
   ]
  }
 ],
 "metadata": {
  "kernelspec": {
   "display_name": "Python 3 (ipykernel)",
   "language": "python",
   "name": "python3"
  },
  "language_info": {
   "codemirror_mode": {
    "name": "ipython",
    "version": 3
   },
   "file_extension": ".py",
   "mimetype": "text/x-python",
   "name": "python",
   "nbconvert_exporter": "python",
   "pygments_lexer": "ipython3",
   "version": "3.10.11"
  },
  "widgets": {
   "application/vnd.jupyter.widget-state+json": {
    "state": {},
    "version_major": 2,
    "version_minor": 0
   }
  }
 },
 "nbformat": 4,
 "nbformat_minor": 5
}
