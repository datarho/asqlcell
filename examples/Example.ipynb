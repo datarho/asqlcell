{
 "cells": [
  {
   "cell_type": "markdown",
   "id": "5860544e",
   "metadata": {},
   "source": [
    "Comparing Pandas, SqlCellWidget and Magic Sql\n",
    "="
   ]
  },
  {
   "cell_type": "markdown",
   "id": "08940cbe",
   "metadata": {},
   "source": [
    "1.Prepare datasets\n",
    "="
   ]
  },
  {
   "cell_type": "code",
   "execution_count": 3,
   "id": "652a4eb6-8527-4bf8-a1d2-b1fa86c097fd",
   "metadata": {
    "scrolled": true
   },
   "outputs": [
    {
     "data": {
      "text/html": [
       "<div>\n",
       "<style scoped>\n",
       "    .dataframe tbody tr th:only-of-type {\n",
       "        vertical-align: middle;\n",
       "    }\n",
       "\n",
       "    .dataframe tbody tr th {\n",
       "        vertical-align: top;\n",
       "    }\n",
       "\n",
       "    .dataframe thead th {\n",
       "        text-align: right;\n",
       "    }\n",
       "</style>\n",
       "<table border=\"1\" class=\"dataframe\">\n",
       "  <thead>\n",
       "    <tr style=\"text-align: right;\">\n",
       "      <th></th>\n",
       "      <th>id</th>\n",
       "      <th>price</th>\n",
       "      <th>normal</th>\n",
       "    </tr>\n",
       "  </thead>\n",
       "  <tbody>\n",
       "    <tr>\n",
       "      <th>0</th>\n",
       "      <td>0</td>\n",
       "      <td>94.830479</td>\n",
       "      <td>True</td>\n",
       "    </tr>\n",
       "    <tr>\n",
       "      <th>1</th>\n",
       "      <td>1</td>\n",
       "      <td>72.969358</td>\n",
       "      <td>True</td>\n",
       "    </tr>\n",
       "    <tr>\n",
       "      <th>2</th>\n",
       "      <td>2</td>\n",
       "      <td>59.427536</td>\n",
       "      <td>True</td>\n",
       "    </tr>\n",
       "    <tr>\n",
       "      <th>3</th>\n",
       "      <td>3</td>\n",
       "      <td>8.669261</td>\n",
       "      <td>True</td>\n",
       "    </tr>\n",
       "    <tr>\n",
       "      <th>4</th>\n",
       "      <td>4</td>\n",
       "      <td>11.028436</td>\n",
       "      <td>True</td>\n",
       "    </tr>\n",
       "  </tbody>\n",
       "</table>\n",
       "</div>"
      ],
      "text/plain": [
       "   id      price  normal\n",
       "0   0  94.830479    True\n",
       "1   1  72.969358    True\n",
       "2   2  59.427536    True\n",
       "3   3   8.669261    True\n",
       "4   4  11.028436    True"
      ]
     },
     "execution_count": 3,
     "metadata": {},
     "output_type": "execute_result"
    }
   ],
   "source": [
    "from asqlcell import datasets\n",
    "data1 = %sql SELECT * FROM \"example.csv\"\n",
    "data2 = datasets.get_random_data(1000)\n",
    "data1"
   ]
  },
  {
   "cell_type": "markdown",
   "id": "c63e5b8a",
   "metadata": {},
   "source": [
    "2.Use *Pandas* to join data1 and data2, then scan \n",
    "="
   ]
  },
  {
   "cell_type": "code",
   "execution_count": 4,
   "id": "f5386cd7",
   "metadata": {},
   "outputs": [
    {
     "data": {
      "text/html": [
       "<div>\n",
       "<style scoped>\n",
       "    .dataframe tbody tr th:only-of-type {\n",
       "        vertical-align: middle;\n",
       "    }\n",
       "\n",
       "    .dataframe tbody tr th {\n",
       "        vertical-align: top;\n",
       "    }\n",
       "\n",
       "    .dataframe thead th {\n",
       "        text-align: right;\n",
       "    }\n",
       "</style>\n",
       "<table border=\"1\" class=\"dataframe\">\n",
       "  <thead>\n",
       "    <tr style=\"text-align: right;\">\n",
       "      <th></th>\n",
       "      <th>idid</th>\n",
       "      <th>priceid</th>\n",
       "      <th>normalid</th>\n",
       "      <th>idid</th>\n",
       "      <th>priceid</th>\n",
       "      <th>normalid</th>\n",
       "    </tr>\n",
       "  </thead>\n",
       "  <tbody>\n",
       "    <tr>\n",
       "      <th>0</th>\n",
       "      <td>0</td>\n",
       "      <td>94.830479</td>\n",
       "      <td>True</td>\n",
       "      <td>0</td>\n",
       "      <td>20.347405</td>\n",
       "      <td>True</td>\n",
       "    </tr>\n",
       "    <tr>\n",
       "      <th>1</th>\n",
       "      <td>1</td>\n",
       "      <td>72.969358</td>\n",
       "      <td>True</td>\n",
       "      <td>1</td>\n",
       "      <td>66.148068</td>\n",
       "      <td>True</td>\n",
       "    </tr>\n",
       "    <tr>\n",
       "      <th>2</th>\n",
       "      <td>2</td>\n",
       "      <td>59.427536</td>\n",
       "      <td>True</td>\n",
       "      <td>2</td>\n",
       "      <td>31.204693</td>\n",
       "      <td>True</td>\n",
       "    </tr>\n",
       "    <tr>\n",
       "      <th>3</th>\n",
       "      <td>3</td>\n",
       "      <td>8.669261</td>\n",
       "      <td>True</td>\n",
       "      <td>3</td>\n",
       "      <td>78.957783</td>\n",
       "      <td>True</td>\n",
       "    </tr>\n",
       "    <tr>\n",
       "      <th>4</th>\n",
       "      <td>4</td>\n",
       "      <td>11.028436</td>\n",
       "      <td>True</td>\n",
       "      <td>4</td>\n",
       "      <td>43.238865</td>\n",
       "      <td>True</td>\n",
       "    </tr>\n",
       "  </tbody>\n",
       "</table>\n",
       "</div>"
      ],
      "text/plain": [
       "   idid    priceid  normalid  idid    priceid  normalid\n",
       "0     0  94.830479      True     0  20.347405      True\n",
       "1     1  72.969358      True     1  66.148068      True\n",
       "2     2  59.427536      True     2  31.204693      True\n",
       "3     3   8.669261      True     3  78.957783      True\n",
       "4     4  11.028436      True     4  43.238865      True"
      ]
     },
     "execution_count": 4,
     "metadata": {},
     "output_type": "execute_result"
    }
   ],
   "source": [
    "df = data1.join(data2, lsuffix='id', rsuffix='id')\n",
    "df"
   ]
  },
  {
   "cell_type": "markdown",
   "id": "4c985450",
   "metadata": {},
   "source": [
    "3.Use *SqlCellWidget* to join data1 and data2, then scan \n",
    "="
   ]
  },
  {
   "cell_type": "code",
   "execution_count": 5,
   "id": "0febab6f",
   "metadata": {
    "scrolled": true
   },
   "outputs": [
    {
     "data": {
      "application/vnd.jupyter.widget-view+json": {
       "model_id": "3f6321c086f6487793d518ac173bc8b6",
       "version_major": 2,
       "version_minor": 0
      },
      "text/plain": [
       "SqlcellWidget(data_range=(0, 10), index_sort=('', 0))"
      ]
     },
     "execution_count": 5,
     "metadata": {},
     "output_type": "execute_result"
    }
   ],
   "source": [
    "from asqlcell import SqlcellWidget\n",
    "w = SqlcellWidget()\n",
    "w"
   ]
  },
  {
   "cell_type": "markdown",
   "id": "a114c093",
   "metadata": {},
   "source": [
    "4.Use magic *'%%sql'* to join data1 and data2, then scan \n",
    "="
   ]
  },
  {
   "cell_type": "code",
   "execution_count": 6,
   "id": "a568f350-dcf5-4cd2-bc7e-fb7c5ac431cb",
   "metadata": {},
   "outputs": [
    {
     "data": {
      "application/vnd.jupyter.widget-view+json": {
       "model_id": "729c06e546fc45839316a7fa72e7bb7d",
       "version_major": 2,
       "version_minor": 0
      },
      "text/plain": [
       "SqlcellWidget(data_range=(0, 10), index_sort=('', 0))"
      ]
     },
     "execution_count": 6,
     "metadata": {},
     "output_type": "execute_result"
    }
   ],
   "source": [
    "%%sql df\n",
    "SELECT *\n",
    "FROM data1 JOIN data2 ON (data1.id = data2.id)"
   ]
  },
  {
   "cell_type": "markdown",
   "id": "69a51960",
   "metadata": {},
   "source": [
    "5.Use magic *'%sql'* to join data1 and data2, then scan \n",
    "="
   ]
  },
  {
   "cell_type": "code",
   "execution_count": 7,
   "id": "e6e9650f",
   "metadata": {},
   "outputs": [
    {
     "data": {
      "text/html": [
       "<div>\n",
       "<style scoped>\n",
       "    .dataframe tbody tr th:only-of-type {\n",
       "        vertical-align: middle;\n",
       "    }\n",
       "\n",
       "    .dataframe tbody tr th {\n",
       "        vertical-align: top;\n",
       "    }\n",
       "\n",
       "    .dataframe thead th {\n",
       "        text-align: right;\n",
       "    }\n",
       "</style>\n",
       "<table border=\"1\" class=\"dataframe\">\n",
       "  <thead>\n",
       "    <tr style=\"text-align: right;\">\n",
       "      <th></th>\n",
       "      <th>id</th>\n",
       "      <th>price</th>\n",
       "      <th>normal</th>\n",
       "      <th>id_2</th>\n",
       "      <th>price_2</th>\n",
       "      <th>normal_2</th>\n",
       "    </tr>\n",
       "  </thead>\n",
       "  <tbody>\n",
       "    <tr>\n",
       "      <th>0</th>\n",
       "      <td>0</td>\n",
       "      <td>94.830479</td>\n",
       "      <td>True</td>\n",
       "      <td>0</td>\n",
       "      <td>20.347405</td>\n",
       "      <td>True</td>\n",
       "    </tr>\n",
       "    <tr>\n",
       "      <th>1</th>\n",
       "      <td>1</td>\n",
       "      <td>72.969358</td>\n",
       "      <td>True</td>\n",
       "      <td>1</td>\n",
       "      <td>66.148068</td>\n",
       "      <td>True</td>\n",
       "    </tr>\n",
       "    <tr>\n",
       "      <th>2</th>\n",
       "      <td>2</td>\n",
       "      <td>59.427536</td>\n",
       "      <td>True</td>\n",
       "      <td>2</td>\n",
       "      <td>31.204693</td>\n",
       "      <td>True</td>\n",
       "    </tr>\n",
       "    <tr>\n",
       "      <th>3</th>\n",
       "      <td>3</td>\n",
       "      <td>8.669261</td>\n",
       "      <td>True</td>\n",
       "      <td>3</td>\n",
       "      <td>78.957783</td>\n",
       "      <td>True</td>\n",
       "    </tr>\n",
       "    <tr>\n",
       "      <th>4</th>\n",
       "      <td>4</td>\n",
       "      <td>11.028436</td>\n",
       "      <td>True</td>\n",
       "      <td>4</td>\n",
       "      <td>43.238865</td>\n",
       "      <td>True</td>\n",
       "    </tr>\n",
       "  </tbody>\n",
       "</table>\n",
       "</div>"
      ],
      "text/plain": [
       "   id      price  normal  id_2    price_2  normal_2\n",
       "0   0  94.830479    True     0  20.347405      True\n",
       "1   1  72.969358    True     1  66.148068      True\n",
       "2   2  59.427536    True     2  31.204693      True\n",
       "3   3   8.669261    True     3  78.957783      True\n",
       "4   4  11.028436    True     4  43.238865      True"
      ]
     },
     "execution_count": 7,
     "metadata": {},
     "output_type": "execute_result"
    }
   ],
   "source": [
    "result = %sql SELECT * FROM data1 JOIN data2 ON (data1.id = data2.id)\n",
    "result"
   ]
  },
  {
   "cell_type": "code",
   "execution_count": null,
   "id": "f7a111a1-3cb9-467e-a6b4-42cc5d6da236",
   "metadata": {},
   "outputs": [],
   "source": []
  }
 ],
 "metadata": {
  "kernelspec": {
   "display_name": "Python 3 (ipykernel)",
   "language": "python",
   "name": "python3"
  },
  "language_info": {
   "codemirror_mode": {
    "name": "ipython",
    "version": 3
   },
   "file_extension": ".py",
   "mimetype": "text/x-python",
   "name": "python",
   "nbconvert_exporter": "python",
   "pygments_lexer": "ipython3",
   "version": "3.9.0"
  },
  "widgets": {
   "application/vnd.jupyter.widget-state+json": {
    "state": {
     "37a1850f21724b6fabcbb4c7ae96f015": {
      "model_module": "asqlcell",
      "model_module_version": "0.1.0",
      "model_name": "SqlCellModel",
      "state": {
       "data": "{\"columns\":[\"id\",\"price\",\"normal\",\"id_2\",\"price_2\",\"normal_2\"],\"index\":[0,1,2,3,4],\"data\":[[0,94.830479,true,0,20.3474048875,true],[1,72.969358,true,1,66.1480682306,true],[2,59.427536,true,2,31.2046931683,true],[3,8.669261,true,3,78.9577834548,true],[4,11.028436,true,4,43.2388653904,true]]}\n5",
       "data_range": [
        0,
        10
       ],
       "dfs_button": "",
       "index_sort": [
        "",
        0
       ],
       "json_dump": "",
       "layout": "IPY_MODEL_7baf84b090f1463f902f385ed9b2fcef",
       "sql_button": ""
      }
     },
     "3bfad24c9d5c4d8ca81092a98867bc30": {
      "model_module": "@jupyter-widgets/base",
      "model_module_version": "2.0.0",
      "model_name": "LayoutModel",
      "state": {}
     },
     "3f6321c086f6487793d518ac173bc8b6": {
      "model_module": "asqlcell",
      "model_module_version": "0.1.0",
      "model_name": "SqlCellModel",
      "state": {
       "data_range": [
        0,
        10
       ],
       "dfs_button": "2023-01-06T14:55:01.649Z",
       "index_sort": [
        "",
        0
       ],
       "json_dump": "2023-01-06T14:55:03.612Z",
       "layout": "IPY_MODEL_7de4077173dc4c94bc19c6fd043f23af",
       "sql_button": "2023-01-06T14:55:03.491Z",
       "value": "select * from data2"
      }
     },
     "405fd5c34167433bbde88ec9ddb81da6": {
      "model_module": "@jupyter-widgets/base",
      "model_module_version": "2.0.0",
      "model_name": "LayoutModel",
      "state": {}
     },
     "6adb7bb893154beea1ceb12911dea2f5": {
      "model_module": "@jupyter-widgets/base",
      "model_module_version": "2.0.0",
      "model_name": "LayoutModel",
      "state": {}
     },
     "729c06e546fc45839316a7fa72e7bb7d": {
      "model_module": "asqlcell",
      "model_module_version": "0.1.0",
      "model_name": "SqlCellModel",
      "state": {
       "data": "{\"columns\":[\"id\",\"price\",\"normal\",\"id_2\",\"price_2\",\"normal_2\"],\"index\":[0,1,2,3,4],\"data\":[[0,94.830479,true,0,20.3474048875,true],[1,72.969358,true,1,66.1480682306,true],[2,59.427536,true,2,31.2046931683,true],[3,8.669261,true,3,78.9577834548,true],[4,11.028436,true,4,43.2388653904,true]]}\n5",
       "data_range": [
        0,
        10
       ],
       "dfs_button": "",
       "index_sort": [
        "",
        0
       ],
       "json_dump": "2023-01-06T14:55:08.787Z",
       "layout": "IPY_MODEL_6adb7bb893154beea1ceb12911dea2f5",
       "sql_button": ""
      }
     },
     "7baf84b090f1463f902f385ed9b2fcef": {
      "model_module": "@jupyter-widgets/base",
      "model_module_version": "2.0.0",
      "model_name": "LayoutModel",
      "state": {}
     },
     "7de4077173dc4c94bc19c6fd043f23af": {
      "model_module": "@jupyter-widgets/base",
      "model_module_version": "2.0.0",
      "model_name": "LayoutModel",
      "state": {}
     },
     "c98ee3b7d8a042b882d9a9a82ba29cda": {
      "model_module": "asqlcell",
      "model_module_version": "0.1.0",
      "model_name": "SqlCellModel",
      "state": {
       "data_range": [
        0,
        10
       ],
       "dfs_button": "2023-01-06T14:54:19.783Z",
       "index_sort": [
        "",
        0
       ],
       "json_dump": "2023-01-06T14:54:10.102Z",
       "layout": "IPY_MODEL_3bfad24c9d5c4d8ca81092a98867bc30",
       "sql_button": "2023-01-06T14:54:10.102Z",
       "value": "select * from data1"
      }
     },
     "cc9cd1d0b80d4818a1021669f14e2b41": {
      "model_module": "asqlcell",
      "model_module_version": "0.1.0",
      "model_name": "SqlCellModel",
      "state": {
       "data": "{\"columns\":[\"id\",\"price\",\"normal\"],\"index\":[0,1,2,3,4],\"data\":[[0,94.830479,true],[1,72.969358,true],[2,59.427536,true],[3,8.669261,true],[4,11.028436,true]]}\n5",
       "data_range": [
        0,
        10
       ],
       "dfs_button": "",
       "index_sort": [
        "",
        0
       ],
       "json_dump": "",
       "layout": "IPY_MODEL_d8f1e1be6256425d810ecbd1db7dd070",
       "sql_button": ""
      }
     },
     "d8f1e1be6256425d810ecbd1db7dd070": {
      "model_module": "@jupyter-widgets/base",
      "model_module_version": "2.0.0",
      "model_name": "LayoutModel",
      "state": {}
     },
     "f0bd20489968441db860125f3eb99ec0": {
      "model_module": "asqlcell",
      "model_module_version": "0.1.0",
      "model_name": "SqlCellModel",
      "state": {
       "data_range": [
        0,
        10
       ],
       "dfs_button": "",
       "index_sort": [
        "",
        0
       ],
       "json_dump": "2023-01-06T14:54:44.074Z",
       "layout": "IPY_MODEL_405fd5c34167433bbde88ec9ddb81da6",
       "sql_button": ""
      }
     }
    },
    "version_major": 2,
    "version_minor": 0
   }
  }
 },
 "nbformat": 4,
 "nbformat_minor": 5
}
