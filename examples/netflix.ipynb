{
 "cells": [
  {
   "cell_type": "markdown",
   "id": "8334f197-2aff-4a29-8b66-ebd225f596f2",
   "metadata": {},
   "source": [
    "# Visualise Netflix Data With Analytical SQL\n",
    "\n",
    "Netflix is a streaming service that allows its customers to watch a wide variety of video entertainment on thousands of Internet-connected devices. It is a direct-to-consumer subscription video service.\n",
    "\n",
    "One key factor behind Netflix's success was innovation. The first time Netflix innovated was when they were shipping DVDs via mail. Then they abolished late fees which lead to Blockbuster’s crush and burn demise. After that they transitioned from mailing content to streaming movies and TV shows digitally and finally, Netflix began producing its own original content.\n",
    "\n",
    "Netflix is successful because it keeps its subscribers’ needs at heart. Its co-founders were courageous enough to steer the ship in a different direction than the industry and teach their teams to live by the business strategy of adapt and adopt.\n",
    "\n",
    "It might not be obvious that the company’s transformations are supported by technology innovations. That being said, Netflix is not an entertainment company, it is a technology company, much like Amazon, Google or Facebook. Some of the ways they’ve used big data and analytics include:\n",
    "\n",
    "* Customer segmentation: Each viewer’s experience with the platform is unique, tailored to their viewing habits, interests, and interaction with the platform.\n",
    "* Offer a tailored experience: Netflix is able to offer each subscriber content that HE/SHE wants to watch via a personalized recommended engine. This motivates viewers to return and watch more content with excitement.\n",
    "* Predicting the future: Understanding which genres, themes, and content formats are most likely to prove a hit. Netflix also has a proven track record of identifying and targeting users who are attracted to certain touchpoints so they were confident they could successfully market it.\n",
    "\n",
    "Netflix has grown to the size it is today thanks to the help of individuals passionate about diving deep into data. Some of Netflix’s data is built from information that users voluntarily provide, like their name, address, e-mail, payment method, and content reviews. Netflix itself automatically collects other forms of data, such as the platform used to watch Netflix, a user’s watch history, search queries, and time spent watching a show. The company also collects some bits of data from other sources, such as demographic data, interest-based data, and Internet browsing behavior. Then data scientists build models and data engineers develop technical solutions to improve data usage and data access, so that data are indeed put into actions.\n",
    "\n",
    "\n",
    "\n",
    "\n",
    "\n",
    "\n",
    "\n",
    "\n"
   ]
  },
  {
   "cell_type": "markdown",
   "id": "d7ed6bad-3f95-46bf-969a-f0bdec5616f7",
   "metadata": {},
   "source": [
    "# Preparation\n",
    "\n",
    "We'll use the following modules:\n",
    "\n",
    "* `asqlcell` for data analytics with SQL statements in a performant way.\n",
    "* `pandas` for data manipulation.\n",
    "* `matplotlib` and `seaborn` for data visualization.\n",
    "\n",
    "We can install these modules as follows:"
   ]
  },
  {
   "cell_type": "code",
   "execution_count": null,
   "id": "a146e7c6-40bb-4877-a3bb-3529461c170b",
   "metadata": {
    "tags": []
   },
   "outputs": [],
   "source": [
    "%pip install asqlcell --upgrade"
   ]
  },
  {
   "cell_type": "markdown",
   "id": "a519dd50-4049-4527-8673-9da07cc5df2a",
   "metadata": {},
   "source": [
    "Now we can import these modules:"
   ]
  },
  {
   "cell_type": "code",
   "execution_count": null,
   "id": "8c149c50-e88c-41de-a1de-6f8ad8e60f31",
   "metadata": {
    "tags": []
   },
   "outputs": [],
   "source": [
    "import asqlcell\n",
    "\n",
    "%load_ext asqlcell"
   ]
  },
  {
   "cell_type": "markdown",
   "id": "0afefbf5-fd07-4b2f-96de-e42f7c2726e3",
   "metadata": {},
   "source": [
    "Now we are ready to proceed with the data analytics."
   ]
  },
  {
   "cell_type": "markdown",
   "id": "97254657-09ae-4669-b353-ced840ae6e40",
   "metadata": {},
   "source": [
    "# Data\n",
    "\n",
    "Kaggle provides a dataset about [Netflix Movies and TV Shows](https://www.kaggle.com/code/arvinthsss/sql-syntax-series-using-netflix-dataset/data) which consists of listings of all the movies and tv shows available on Netflix as of mid-2021, along with details such as cast, directors, ratings, release year, duration, etc. This dataset is licensed under CC0: Public Domain. We can leverage this dataset to understand Netflix’s history and goals, the target market, and the existing product.\n",
    "\n",
    "This dataset is stored in CSV file. Instead of using pandas, we can use analytical sql to load data needed for probing:"
   ]
  },
  {
   "cell_type": "code",
   "execution_count": null,
   "id": "5309ecfa-261f-4392-8d2f-5bda25b56ca9",
   "metadata": {
    "tags": []
   },
   "outputs": [],
   "source": [
    "%%sql\n",
    "\n",
    "SELECT *\n",
    "FROM 'netflix.csv.gz'\n",
    "LIMIT 100"
   ]
  },
  {
   "cell_type": "markdown",
   "id": "96ac8277-ddf1-460e-a9f2-06150c7975f5",
   "metadata": {},
   "source": [
    "Here `%%sql` is a cell magic indicating that the cell block should be executed as SQL statement. Magic are special commands to add functionalities that are not straight forward to achieve with jupyter notebook interface.\n",
    "\n",
    "In the SQL statement we specify the CSV file in `FROM` clause. Keep in mind that you can use compressed CSV files e.g. a gzipped file such as `netflix.csv.gz` will work just fine."
   ]
  },
  {
   "cell_type": "markdown",
   "id": "2e4fedbe-0d0a-4d0e-8d61-763a76ac813a",
   "metadata": {},
   "source": [
    "# Data Observation\n",
    "\n",
    "Next, we explore the data to gain insights into our dataset."
   ]
  },
  {
   "cell_type": "markdown",
   "id": "9a3cd12c-90d7-4d41-b19d-61ffde1916b5",
   "metadata": {},
   "source": [
    "## Country\n",
    "\n"
   ]
  },
  {
   "cell_type": "markdown",
   "id": "a037638a-1c64-430b-b7bc-4788e6720a7e",
   "metadata": {},
   "source": [
    "Let's check the top 10 countries as contributors to Netflix as follows:"
   ]
  },
  {
   "cell_type": "code",
   "execution_count": null,
   "id": "8f738b26-c4a8-457a-aab1-cfccf058aeb6",
   "metadata": {
    "tags": []
   },
   "outputs": [],
   "source": [
    "%%sql\n",
    "\n",
    "SELECT\n",
    "    country,\n",
    "    count(*) AS count\n",
    "FROM 'netflix.csv.gz'\n",
    "WHERE country IS NOT NULL\n",
    "GROUP BY country\n",
    "ORDER BY count\n",
    "DESC\n",
    "LIMIT 10"
   ]
  },
  {
   "cell_type": "markdown",
   "id": "9b03d409-99eb-49d6-aa2c-cf4b6c5766e6",
   "metadata": {},
   "source": [
    "We can also visualize the result set by clicking the Chart tab with the following settings:\n",
    "\n",
    "* Chart type: Pie\n",
    "* Size: count\n",
    "* Color: country\n",
    "\n",
    "Also you can specify the width and hight of the chart in the Display tab.\n",
    "\n",
    "If you're happy with the result, you can also click the `Pin` button to persist the result in the notebook. In this way, your colleague will be able to see the chart after receiving your notebook (without starting a kernel)."
   ]
  },
  {
   "cell_type": "markdown",
   "id": "f3f669ec-f8d3-4905-a71d-644cdded139a",
   "metadata": {},
   "source": [
    "The United States has the highest contributor with 45.9% of videos on Netflix. India surprisingly ranks second with 15.8%, followed by United Kingdom with 6.8%."
   ]
  },
  {
   "cell_type": "markdown",
   "id": "028f056d-6883-47c9-8204-8cf73ee34a09",
   "metadata": {},
   "source": [
    "## Types\n",
    "\n",
    "Let's investigate the types and their total numbers in the dataset:"
   ]
  },
  {
   "cell_type": "code",
   "execution_count": null,
   "id": "9ed1db6f-f3ba-4dfb-a58d-a41c24c08867",
   "metadata": {
    "tags": []
   },
   "outputs": [],
   "source": [
    "%%sql\n",
    "\n",
    "SELECT\n",
    "    type,\n",
    "    count(type) AS count\n",
    "FROM 'netflix.csv.gz'\n",
    "GROUP BY type"
   ]
  },
  {
   "cell_type": "markdown",
   "id": "e9726d9e-79be-46bc-b7de-055a31ae8200",
   "metadata": {},
   "source": [
    "We can plot a pie chart to compare the types of videos that Netflix offers with the following settings:\n",
    "\n",
    "* Chart type: Pie\n",
    "* Size: count\n",
    "* Color: type"
   ]
  },
  {
   "cell_type": "markdown",
   "id": "ed7785ef-fd6d-4c6f-9e51-935b13ebc362",
   "metadata": {},
   "source": [
    "We can see that Movie has a viewers rate of 69.6% which is much higher than that of TV Shows which is 30.4%. It is clear that Netflix viewers explore more Movies than TV Shows overall.\n",
    "\n",
    "However, is this still true over the years? Let's add release year as one more dimension:"
   ]
  },
  {
   "cell_type": "code",
   "execution_count": null,
   "id": "6d6cedf1-8180-427f-91de-676255423c42",
   "metadata": {
    "tags": []
   },
   "outputs": [],
   "source": [
    "%%sql\n",
    "\n",
    "SELECT\n",
    "    release_year,\n",
    "    type,\n",
    "    COUNT(type) AS count,\n",
    "FROM 'netflix.csv.gz'\n",
    "GROUP BY release_year, type\n",
    "ORDER BY release_year"
   ]
  },
  {
   "cell_type": "markdown",
   "id": "72fa625c-42ed-4186-aafa-6905daaa2cf9",
   "metadata": {},
   "source": [
    "Now we can visualize the result with stacked column chart:\n",
    "\n",
    "* Chart type: Column\n",
    "* X-Axis: release_year\n",
    "* Y-Axis: count\n",
    "* Color: type\n",
    "* Width: 900\n",
    "* Height: 400"
   ]
  },
  {
   "cell_type": "markdown",
   "id": "c5caed29-b989-483e-a260-d789a0e9f2e2",
   "metadata": {},
   "source": [
    "Now we can see that **Netflix releases more and more TV shows in recent years**, in 2021 there are in fact 315 TV shows compared with 277 for movies. If you have watched Stranger Things and Squid Game, you may agree that Netflix is better at making great TV shows than movies :-)"
   ]
  },
  {
   "cell_type": "markdown",
   "id": "917c6b0e-b2da-4d89-803f-cdb2eb07eb75",
   "metadata": {},
   "source": [
    "## Genre"
   ]
  },
  {
   "cell_type": "markdown",
   "id": "39f66233-78db-4cbc-afaf-b131f9ea836e",
   "metadata": {},
   "source": [
    "In order to understand what people want to watch, we can analyze the genre of movies and TV shows.\n",
    "\n",
    "This might not be very straightforward at the first glance, as the dataset only provides a column of text with the genres that the video is listed in concatenated by comma. For example, the value of Blood & Water International is `International TV Shows, TV Dramas, TV Mysteries`, meaning the video is listed in TV Shows, TV Dramas and TV Mysteries.\n",
    "\n",
    "Luckily, we an leverage `split` function to get the list of genres separated by comma, and then use `unnest` to unnest the list of genres by one level. In this way, we can get three rows for Blood & Water with each a different genre. That said, `unnest` is a scalar function that can change the cardinality of the result with one tuple per entry in the list.\n",
    "\n",
    "Here is the SQL statement to wrangle the original data into the desired form. As mentioned before, the result set is stored in a dataframe named `distribution_of_genre`:"
   ]
  },
  {
   "cell_type": "code",
   "execution_count": null,
   "id": "a0697484-673e-41b5-a4ad-3073fdc244cc",
   "metadata": {
    "tags": []
   },
   "outputs": [],
   "source": [
    "%%sql distribution_of_genre\n",
    "\n",
    "SELECT\n",
    "    type,\n",
    "    title,\n",
    "    unnest(split(listed_in, ', ')) AS genre\n",
    "FROM 'netflix.csv.gz'\n",
    "LIMIT 100"
   ]
  },
  {
   "cell_type": "markdown",
   "id": "90c0caaf-7a26-435c-a569-a647c437619e",
   "metadata": {},
   "source": [
    "Now we can further investigate dataframe `distribution_of_genre` for more observations.\n",
    "\n",
    "First, let us count the number of each genre of all the movies and limit to the top tweenty:"
   ]
  },
  {
   "cell_type": "code",
   "execution_count": null,
   "id": "76d4694c-77f1-4bef-a672-e15ef89c50c3",
   "metadata": {
    "tags": []
   },
   "outputs": [],
   "source": [
    "%%sql distribution_of_movie_genre\n",
    "\n",
    "SELECT\n",
    "    genre,\n",
    "    count(genre) AS count\n",
    "    FROM distribution_of_genre\n",
    "WHERE type= 'Movie'\n",
    "GROUP BY genre\n",
    "ORDER BY count DESC\n",
    "LIMIT 10"
   ]
  },
  {
   "cell_type": "markdown",
   "id": "c8874699-d121-42bc-ac4a-6b2295d04af8",
   "metadata": {},
   "source": [
    "You may have noticed that in the SQL statement above, the `FROM` clause actually specifies the dataframe on which the remainder of the query should operate. This means that analytical SQL not only can save result set as dataframe, it can also consume and operate data from dataframe! In this way we are able to  interleave Python and SQL to get the most out of the two technologies 😎 \n",
    "\n",
    "Now we ca visualize the result set with bar chart:\n",
    "\n",
    "* Chart type: Bar\n",
    "* X-Axis: genre\n",
    "* Y-Axis: count\n",
    "* Color: genre\n",
    "* Width: 500\n",
    "* Height: 300"
   ]
  },
  {
   "cell_type": "markdown",
   "id": "881cc256-7e9c-4098-9b30-e520adf43de2",
   "metadata": {},
   "source": [
    "We can see Drama has the highest genre rate of movies users explore on Netflix, followed by International Movies and Comedies.\n",
    "\n",
    "Next, let us count the number of each genre of all the TV shows and also limit to the top tweenty:"
   ]
  },
  {
   "cell_type": "code",
   "execution_count": null,
   "id": "763571a3-28bc-43a1-a765-b4044765d289",
   "metadata": {
    "tags": []
   },
   "outputs": [],
   "source": [
    "%%sql\n",
    "\n",
    "SELECT\n",
    "    genre,\n",
    "    count(*) AS count\n",
    "FROM (\n",
    "    SELECT\n",
    "        title,\n",
    "        unnest(split(listed_in, ', ')) AS genre\n",
    "    FROM 'netflix.csv.gz'\n",
    "    WHERE type= 'TV Show'\n",
    ")\n",
    "GROUP BY genre\n",
    "ORDER BY count DESC\n",
    "LIMIT 10"
   ]
  },
  {
   "cell_type": "markdown",
   "id": "c6df71bb-5376-4f3b-b0ad-2f4d5182b681",
   "metadata": {},
   "source": [
    "Now we can visualize the result set as follows:\n",
    "\n",
    "* Chart type: Bar\n",
    "* X-Axis: genre\n",
    "* Y-Axis: count\n",
    "* Color: genre\n",
    "* Width: 500\n",
    "* Height: 300\n"
   ]
  },
  {
   "cell_type": "markdown",
   "id": "e60d3c20-912b-4682-8ab1-a206658f5a94",
   "metadata": {},
   "source": [
    "We can see International TV Shows (1351) has the highest genre rate of TV shows users explore on Netflix, followed by TV Dramas (763) and TV Comedies (581).\n",
    "\n",
    "It is interesting that international, dramas and comedies are very welcome for both movie and TV show."
   ]
  },
  {
   "cell_type": "markdown",
   "id": "4ebbede2-7308-4162-bc17-5e0406341c22",
   "metadata": {},
   "source": [
    "## Rating"
   ]
  },
  {
   "cell_type": "markdown",
   "id": "e5c346a7-20b3-4061-9e47-0e0a8e762370",
   "metadata": {},
   "source": [
    "The film rating system is used in the United States to rate a motion picture's suitability for certain audiences based on its content.\n",
    "\n",
    "The MPA film ratings are as follows:\n",
    "\n",
    "* G – General Audiences\n",
    "* PG – Parental Guidance Suggested\n",
    "* PG-13 – Parents Strongly Cautioned\n",
    "* R – Restricted\n",
    "* NC-17 – Adults Only\n",
    "* NR - Not Rated\n",
    "* UR - Unrated\n",
    "\n",
    "We can leverage `IN` clause to filter out the videos with film ratings:"
   ]
  },
  {
   "cell_type": "code",
   "execution_count": null,
   "id": "35b98ebd-15e6-476f-991e-9edc342e2afd",
   "metadata": {
    "tags": []
   },
   "outputs": [],
   "source": [
    "%%sql\n",
    "\n",
    "SELECT\n",
    "    rating,\n",
    "    count(*) as count\n",
    "FROM 'netflix.csv.gz'\n",
    "GROUP BY rating\n",
    "HAVING rating IN ('G', 'PG', 'PG-13', 'R', 'NC-17', 'NR', 'UR')\n",
    "ORDER BY count\n",
    "DESC"
   ]
  },
  {
   "cell_type": "markdown",
   "id": "f162db28-40a6-4df5-893b-524802478134",
   "metadata": {},
   "source": [
    "Now we can visualize the data with categorical plots which involve a variable representing categories. This type of plots are commonly used when we want to make comparisons between different groups.\n",
    "\n",
    "* Chart type: Column\n",
    "* X-Axis: rating\n",
    "* Y-Axis: count\n",
    "* Color: rating\n",
    "* Width: 500\n",
    "* Height: 300"
   ]
  },
  {
   "cell_type": "markdown",
   "id": "a7e925a8-b865-4e50-a859-beb7400b2069",
   "metadata": {},
   "source": [
    "We can conclude from the findings that Netflix majorly comprises videos rated R, PG-13 and PG."
   ]
  },
  {
   "cell_type": "markdown",
   "id": "84d377d7-1e58-48f0-b20e-be77a965c557",
   "metadata": {},
   "source": [
    "Similarly, television content rating systems are systems for evaluating the content and reporting the suitability of television programs. Many countries have their own television rating system, here is the system used in United States:\n",
    "\n",
    "* TV-Y – This program is aimed at a very young audience, including children from ages 2–6.\n",
    "* TV-Y7 – This program is designed for children age 7 and above.\n",
    "* TV-G – Most parents would find this program suitable for all ages.\n",
    "* TV-PG – Parental guidance is recommended.\n",
    "* TV-14 – This program contains some material that many parents would find unsuitable for children under 14 years of age.\n",
    "* TV-MA – This program is intended to be viewed by adults and therefore may be unsuitable for children under 17.\n",
    "\n",
    "We can leverage `IN` clause to filter out the videos with film ratings:"
   ]
  },
  {
   "cell_type": "code",
   "execution_count": null,
   "id": "c5394029-9927-44d1-a1ef-c394f9e6dc67",
   "metadata": {
    "tags": []
   },
   "outputs": [],
   "source": [
    "%%sql\n",
    "\n",
    "SELECT\n",
    "    rating,\n",
    "    count(*) as count\n",
    "FROM 'netflix.csv.gz'\n",
    "GROUP BY rating\n",
    "HAVING rating IN ('TV-Y7', 'TV-Y', 'TV-Y7', 'TV-G', 'TV-PG', 'TV-14', 'TV-MA')\n",
    "ORDER BY count\n",
    "DESC"
   ]
  },
  {
   "cell_type": "markdown",
   "id": "7d1b8743-eebf-49bd-aa82-54439218fea6",
   "metadata": {},
   "source": [
    "The comparison can be visualized as follows:\n",
    "\n",
    "* Chart type: Column\n",
    "* X-Axis: rating\n",
    "* Y-Axis: count\n",
    "* Color: rating\n",
    "* Width: 500\n",
    "* Height: 300"
   ]
  },
  {
   "cell_type": "markdown",
   "id": "1f174f91-3a98-496a-b97c-95b4d67dff09",
   "metadata": {},
   "source": [
    "We can conclude from the findings that Netflix majorly comprises videos rated TV-MA, TV-14 and TV-PG."
   ]
  },
  {
   "cell_type": "code",
   "execution_count": null,
   "id": "5d68debe-2ca2-4a00-a329-b8f2a9ae3fe3",
   "metadata": {},
   "outputs": [],
   "source": []
  }
 ],
 "metadata": {
  "kernelspec": {
   "display_name": "Python 3 (ipykernel)",
   "language": "python",
   "name": "python3"
  },
  "language_info": {
   "codemirror_mode": {
    "name": "ipython",
    "version": 3
   },
   "file_extension": ".py",
   "mimetype": "text/x-python",
   "name": "python",
   "nbconvert_exporter": "python",
   "pygments_lexer": "ipython3",
   "version": "3.10.11"
  },
  "widgets": {
   "application/vnd.jupyter.widget-state+json": {
    "state": {},
    "version_major": 2,
    "version_minor": 0
   }
  }
 },
 "nbformat": 4,
 "nbformat_minor": 5
}
