{
 "cells": [
  {
   "cell_type": "markdown",
   "id": "8334f197-2aff-4a29-8b66-ebd225f596f2",
   "metadata": {},
   "source": [
    "# Visualise Netflix Data With Analytical SQL\n",
    "\n",
    "Netflix is a streaming service that allows its customers to watch a wide variety of video entertainment on thousands of Internet-connected devices. It is a direct-to-consumer subscription video service.\n",
    "\n",
    "One key factor behind Netflix's success was innovation. The first time Netflix innovated was when they were shipping DVDs via mail. Then they abolished late fees which lead to Blockbuster’s crush and burn demise. After that they transitioned from mailing content to streaming movies and TV shows digitally and finally, Netflix began producing its own original content.\n",
    "\n",
    "Netflix is successful because it keeps its subscribers’ needs at heart. Its co-founders were courageous enough to steer the ship in a different direction than the industry and teach their teams to live by the business strategy of adapt and adopt.\n",
    "\n",
    "It might not be obvious that the company’s transformations are supported by technology innovations. That being said, Netflix is not an entertainment company, it is a technology company, much like Amazon, Google or Facebook. Some of the ways they’ve used big data and analytics include:\n",
    "\n",
    "* Customer segmentation: Each viewer’s experience with the platform is unique, tailored to their viewing habits, interests, and interaction with the platform.\n",
    "* Offer a tailored experience: Netflix is able to offer each subscriber content that HE/SHE wants to watch via a personalized recommended engine. This motivates viewers to return and watch more content with excitement.\n",
    "* Predicting the future: Understanding which genres, themes, and content formats are most likely to prove a hit. Netflix also has a proven track record of identifying and targeting users who are attracted to certain touchpoints so they were confident they could successfully market it.\n",
    "\n",
    "Netflix has grown to the size it is today thanks to the help of individuals passionate about diving deep into data. Some of Netflix’s data is built from information that users voluntarily provide, like their name, address, e-mail, payment method, and content reviews. Netflix itself automatically collects other forms of data, such as the platform used to watch Netflix, a user’s watch history, search queries, and time spent watching a show. The company also collects some bits of data from other sources, such as demographic data, interest-based data, and Internet browsing behavior. Then data scientists build models and data engineers develop technical solutions to improve data usage and data access, so that data are indeed put into actions.\n",
    "\n",
    "\n",
    "\n",
    "\n",
    "\n",
    "\n",
    "\n",
    "\n"
   ]
  },
  {
   "cell_type": "markdown",
   "id": "d7ed6bad-3f95-46bf-969a-f0bdec5616f7",
   "metadata": {},
   "source": [
    "# Preparation\n",
    "\n",
    "We'll use the following modules:\n",
    "\n",
    "* `asqlcell` for data analytics with SQL statements in a performant way.\n",
    "* `pandas` for data manipulation.\n",
    "* `matplotlib` and `seaborn` for data visualization.\n",
    "\n",
    "We can install these modules as follows:"
   ]
  },
  {
   "cell_type": "code",
   "execution_count": null,
   "id": "a146e7c6-40bb-4877-a3bb-3529461c170b",
   "metadata": {
    "tags": []
   },
   "outputs": [],
   "source": [
    "%pip install asqlcell --upgrade"
   ]
  },
  {
   "cell_type": "markdown",
   "id": "a519dd50-4049-4527-8673-9da07cc5df2a",
   "metadata": {},
   "source": [
    "Now we can import these modules:"
   ]
  },
  {
   "cell_type": "code",
   "execution_count": 2,
   "id": "8c149c50-e88c-41de-a1de-6f8ad8e60f31",
   "metadata": {
    "tags": []
   },
   "outputs": [],
   "source": [
    "import asqlcell\n",
    "\n",
    "%load_ext asqlcell"
   ]
  },
  {
   "cell_type": "markdown",
   "id": "0afefbf5-fd07-4b2f-96de-e42f7c2726e3",
   "metadata": {},
   "source": [
    "Now we are ready to proceed with the data analytics."
   ]
  },
  {
   "cell_type": "markdown",
   "id": "97254657-09ae-4669-b353-ced840ae6e40",
   "metadata": {},
   "source": [
    "# Data\n",
    "\n",
    "Kaggle provides a dataset about [Netflix Movies and TV Shows](https://www.kaggle.com/code/arvinthsss/sql-syntax-series-using-netflix-dataset/data) which consists of listings of all the movies and tv shows available on Netflix as of mid-2021, along with details such as cast, directors, ratings, release year, duration, etc. This dataset is licensed under CC0: Public Domain. We can leverage this dataset to understand Netflix’s history and goals, the target market, and the existing product.\n",
    "\n",
    "This dataset is stored in CSV file. Instead of using pandas, we can use analytical sql to load data needed for probing:"
   ]
  },
  {
   "cell_type": "code",
   "execution_count": 3,
   "id": "5309ecfa-261f-4392-8d2f-5bda25b56ca9",
   "metadata": {
    "tags": []
   },
   "outputs": [
    {
     "data": {
      "text/html": [],
      "text/plain": [
       "<IPython.core.display.HTML object>"
      ]
     },
     "metadata": {},
     "output_type": "display_data"
    },
    {
     "data": {
      "application/vnd.jupyter.widget-view+json": {
       "model_id": "905be1c48ed1461782b61c64e3e952e8",
       "version_major": 2,
       "version_minor": 0
      },
      "text/plain": [
       "SqlCellWidget(chart_config='{\"type\": null, \"x\": null, \"y\": null, \"color\": null, \"theta\": null, \"aggregation\": …"
      ]
     },
     "execution_count": 3,
     "metadata": {},
     "output_type": "execute_result"
    }
   ],
   "source": [
    "%%sql\n",
    "\n",
    "SELECT *\n",
    "FROM 'netflix.csv.gz'\n",
    "LIMIT 100"
   ]
  },
  {
   "cell_type": "markdown",
   "id": "96ac8277-ddf1-460e-a9f2-06150c7975f5",
   "metadata": {},
   "source": [
    "Here `%%sql` is a cell magic indicating that the cell block should be executed as SQL statement. Magic are special commands to add functionalities that are not straight forward to achieve with jupyter notebook interface.\n",
    "\n",
    "In the SQL statement we specify the CSV file in `FROM` clause. Keep in mind that you can use compressed CSV files e.g. a gzipped file such as `netflix.csv.gz` will work just fine."
   ]
  },
  {
   "cell_type": "markdown",
   "id": "2e4fedbe-0d0a-4d0e-8d61-763a76ac813a",
   "metadata": {},
   "source": [
    "# Data Observation\n",
    "\n",
    "Next, we explore the data to gain insights into our dataset."
   ]
  },
  {
   "cell_type": "markdown",
   "id": "9a3cd12c-90d7-4d41-b19d-61ffde1916b5",
   "metadata": {},
   "source": [
    "## Country\n",
    "\n"
   ]
  },
  {
   "cell_type": "markdown",
   "id": "a037638a-1c64-430b-b7bc-4788e6720a7e",
   "metadata": {},
   "source": [
    "Let's check the top 10 countries as contributors to Netflix as follows:"
   ]
  },
  {
   "cell_type": "code",
   "execution_count": 4,
   "id": "8f738b26-c4a8-457a-aab1-cfccf058aeb6",
   "metadata": {
    "tags": []
   },
   "outputs": [
    {
     "data": {
      "text/html": [
       "\n",
       "<style>\n",
       "  #altair-viz-2feb774d393c4e3e81e0fe84ec9280a7.vega-embed {\n",
       "    width: 100%;\n",
       "    display: flex;\n",
       "  }\n",
       "\n",
       "  #altair-viz-2feb774d393c4e3e81e0fe84ec9280a7.vega-embed details,\n",
       "  #altair-viz-2feb774d393c4e3e81e0fe84ec9280a7.vega-embed details summary {\n",
       "    position: relative;\n",
       "  }\n",
       "</style>\n",
       "<div id=\"altair-viz-2feb774d393c4e3e81e0fe84ec9280a7\"></div>\n",
       "<script type=\"text/javascript\">\n",
       "  var VEGA_DEBUG = (typeof VEGA_DEBUG == \"undefined\") ? {} : VEGA_DEBUG;\n",
       "  (function(spec, embedOpt){\n",
       "    let outputDiv = document.currentScript.previousElementSibling;\n",
       "    if (outputDiv.id !== \"altair-viz-2feb774d393c4e3e81e0fe84ec9280a7\") {\n",
       "      outputDiv = document.getElementById(\"altair-viz-2feb774d393c4e3e81e0fe84ec9280a7\");\n",
       "    }\n",
       "    const paths = {\n",
       "      \"vega\": \"https://cdn.jsdelivr.net/npm/vega@5?noext\",\n",
       "      \"vega-lib\": \"https://cdn.jsdelivr.net/npm/vega-lib?noext\",\n",
       "      \"vega-lite\": \"https://cdn.jsdelivr.net/npm/vega-lite@5.8.0?noext\",\n",
       "      \"vega-embed\": \"https://cdn.jsdelivr.net/npm/vega-embed@6?noext\",\n",
       "    };\n",
       "\n",
       "    function maybeLoadScript(lib, version) {\n",
       "      var key = `${lib.replace(\"-\", \"\")}_version`;\n",
       "      return (VEGA_DEBUG[key] == version) ?\n",
       "        Promise.resolve(paths[lib]) :\n",
       "        new Promise(function(resolve, reject) {\n",
       "          var s = document.createElement('script');\n",
       "          document.getElementsByTagName(\"head\")[0].appendChild(s);\n",
       "          s.async = true;\n",
       "          s.onload = () => {\n",
       "            VEGA_DEBUG[key] = version;\n",
       "            return resolve(paths[lib]);\n",
       "          };\n",
       "          s.onerror = () => reject(`Error loading script: ${paths[lib]}`);\n",
       "          s.src = paths[lib];\n",
       "        });\n",
       "    }\n",
       "\n",
       "    function showError(err) {\n",
       "      outputDiv.innerHTML = `<div class=\"error\" style=\"color:red;\">${err}</div>`;\n",
       "      throw err;\n",
       "    }\n",
       "\n",
       "    function displayChart(vegaEmbed) {\n",
       "      vegaEmbed(outputDiv, spec, embedOpt)\n",
       "        .catch(err => showError(`Javascript Error: ${err.message}<br>This usually means there's a typo in your chart specification. See the javascript console for the full traceback.`));\n",
       "    }\n",
       "\n",
       "    if(typeof define === \"function\" && define.amd) {\n",
       "      requirejs.config({paths});\n",
       "      require([\"vega-embed\"], displayChart, err => showError(`Error loading script: ${err.message}`));\n",
       "    } else {\n",
       "      maybeLoadScript(\"vega\", \"5\")\n",
       "        .then(() => maybeLoadScript(\"vega-lite\", \"5.8.0\"))\n",
       "        .then(() => maybeLoadScript(\"vega-embed\", \"6\"))\n",
       "        .catch(showError)\n",
       "        .then(() => displayChart(vegaEmbed));\n",
       "    }\n",
       "  })({\"config\": {\"view\": {\"continuousWidth\": 300, \"continuousHeight\": 300}}, \"data\": {\"name\": \"data-27e8d5f893c555755ff9cbbe9e6d710f\"}, \"mark\": {\"type\": \"arc\"}, \"encoding\": {\"color\": {\"field\": \"country\", \"sort\": null, \"type\": \"nominal\"}, \"theta\": {\"field\": \"count\", \"sort\": \"color\", \"type\": \"quantitative\"}, \"tooltip\": [{\"field\": \"country\", \"type\": \"nominal\"}, {\"field\": \"count\", \"type\": \"quantitative\"}]}, \"height\": 0, \"width\": 0, \"$schema\": \"https://vega.github.io/schema/vega-lite/v5.8.0.json\", \"datasets\": {\"data-27e8d5f893c555755ff9cbbe9e6d710f\": [{\"country\": \"United States\", \"count\": 2818}, {\"country\": \"India\", \"count\": 972}, {\"country\": \"United Kingdom\", \"count\": 419}, {\"country\": \"Japan\", \"count\": 245}, {\"country\": \"South Korea\", \"count\": 199}, {\"country\": \"Canada\", \"count\": 181}, {\"country\": \"Spain\", \"count\": 145}, {\"country\": \"France\", \"count\": 124}, {\"country\": \"Mexico\", \"count\": 110}, {\"country\": \"Egypt\", \"count\": 106}]}}, {\"mode\": \"vega-lite\"});\n",
       "</script>"
      ],
      "text/plain": [
       "alt.Chart(...)"
      ]
     },
     "metadata": {},
     "output_type": "display_data"
    },
    {
     "data": {
      "application/vnd.jupyter.widget-view+json": {
       "model_id": "ccd706af4bb64cbe8ea78a9a48618b7c",
       "version_major": 2,
       "version_minor": 0
      },
      "text/plain": [
       "SqlCellWidget(chart_config='{\"type\": null, \"x\": null, \"y\": null, \"color\": null, \"theta\": null, \"aggregation\": …"
      ]
     },
     "execution_count": 4,
     "metadata": {},
     "output_type": "execute_result"
    }
   ],
   "source": [
    "%%sql\n",
    "\n",
    "SELECT\n",
    "    country,\n",
    "    count(*) AS count\n",
    "FROM 'netflix.csv.gz'\n",
    "WHERE country IS NOT NULL\n",
    "GROUP BY country\n",
    "ORDER BY count\n",
    "DESC\n",
    "LIMIT 10"
   ]
  },
  {
   "cell_type": "markdown",
   "id": "9b03d409-99eb-49d6-aa2c-cf4b6c5766e6",
   "metadata": {},
   "source": [
    "We can also visualize the result set by clicking the Chart tab with the following settings:\n",
    "\n",
    "* Chart type: Pie\n",
    "* Size: count\n",
    "* Color: country\n",
    "\n",
    "Also you can specify the width and hight of the chart in the Display tab.\n",
    "\n",
    "If you're happy with the result, you can also click the `Pin` button to persist the result in the notebook. In this way, your colleague will be able to see the chart after receiving your notebook (without starting a kernel)."
   ]
  },
  {
   "cell_type": "markdown",
   "id": "f3f669ec-f8d3-4905-a71d-644cdded139a",
   "metadata": {},
   "source": [
    "The United States has the highest contributor with 45.9% of videos on Netflix. India surprisingly ranks second with 15.8%, followed by United Kingdom with 6.8%."
   ]
  },
  {
   "cell_type": "markdown",
   "id": "028f056d-6883-47c9-8204-8cf73ee34a09",
   "metadata": {},
   "source": [
    "## Types\n",
    "\n",
    "Let's investigate the types and their total numbers in the dataset:"
   ]
  },
  {
   "cell_type": "code",
   "execution_count": 6,
   "id": "9ed1db6f-f3ba-4dfb-a58d-a41c24c08867",
   "metadata": {
    "tags": []
   },
   "outputs": [
    {
     "data": {
      "text/html": [
       "\n",
       "<style>\n",
       "  #altair-viz-7a39747fcec143d58670536f927cab43.vega-embed {\n",
       "    width: 100%;\n",
       "    display: flex;\n",
       "  }\n",
       "\n",
       "  #altair-viz-7a39747fcec143d58670536f927cab43.vega-embed details,\n",
       "  #altair-viz-7a39747fcec143d58670536f927cab43.vega-embed details summary {\n",
       "    position: relative;\n",
       "  }\n",
       "</style>\n",
       "<div id=\"altair-viz-7a39747fcec143d58670536f927cab43\"></div>\n",
       "<script type=\"text/javascript\">\n",
       "  var VEGA_DEBUG = (typeof VEGA_DEBUG == \"undefined\") ? {} : VEGA_DEBUG;\n",
       "  (function(spec, embedOpt){\n",
       "    let outputDiv = document.currentScript.previousElementSibling;\n",
       "    if (outputDiv.id !== \"altair-viz-7a39747fcec143d58670536f927cab43\") {\n",
       "      outputDiv = document.getElementById(\"altair-viz-7a39747fcec143d58670536f927cab43\");\n",
       "    }\n",
       "    const paths = {\n",
       "      \"vega\": \"https://cdn.jsdelivr.net/npm/vega@5?noext\",\n",
       "      \"vega-lib\": \"https://cdn.jsdelivr.net/npm/vega-lib?noext\",\n",
       "      \"vega-lite\": \"https://cdn.jsdelivr.net/npm/vega-lite@5.8.0?noext\",\n",
       "      \"vega-embed\": \"https://cdn.jsdelivr.net/npm/vega-embed@6?noext\",\n",
       "    };\n",
       "\n",
       "    function maybeLoadScript(lib, version) {\n",
       "      var key = `${lib.replace(\"-\", \"\")}_version`;\n",
       "      return (VEGA_DEBUG[key] == version) ?\n",
       "        Promise.resolve(paths[lib]) :\n",
       "        new Promise(function(resolve, reject) {\n",
       "          var s = document.createElement('script');\n",
       "          document.getElementsByTagName(\"head\")[0].appendChild(s);\n",
       "          s.async = true;\n",
       "          s.onload = () => {\n",
       "            VEGA_DEBUG[key] = version;\n",
       "            return resolve(paths[lib]);\n",
       "          };\n",
       "          s.onerror = () => reject(`Error loading script: ${paths[lib]}`);\n",
       "          s.src = paths[lib];\n",
       "        });\n",
       "    }\n",
       "\n",
       "    function showError(err) {\n",
       "      outputDiv.innerHTML = `<div class=\"error\" style=\"color:red;\">${err}</div>`;\n",
       "      throw err;\n",
       "    }\n",
       "\n",
       "    function displayChart(vegaEmbed) {\n",
       "      vegaEmbed(outputDiv, spec, embedOpt)\n",
       "        .catch(err => showError(`Javascript Error: ${err.message}<br>This usually means there's a typo in your chart specification. See the javascript console for the full traceback.`));\n",
       "    }\n",
       "\n",
       "    if(typeof define === \"function\" && define.amd) {\n",
       "      requirejs.config({paths});\n",
       "      require([\"vega-embed\"], displayChart, err => showError(`Error loading script: ${err.message}`));\n",
       "    } else {\n",
       "      maybeLoadScript(\"vega\", \"5\")\n",
       "        .then(() => maybeLoadScript(\"vega-lite\", \"5.8.0\"))\n",
       "        .then(() => maybeLoadScript(\"vega-embed\", \"6\"))\n",
       "        .catch(showError)\n",
       "        .then(() => displayChart(vegaEmbed));\n",
       "    }\n",
       "  })({\"config\": {\"view\": {\"continuousWidth\": 300, \"continuousHeight\": 300}}, \"data\": {\"name\": \"data-9f0b5bc79c0e1d547b2efe2f28765e92\"}, \"mark\": {\"type\": \"arc\"}, \"encoding\": {\"color\": {\"field\": \"type\", \"sort\": null, \"type\": \"nominal\"}, \"theta\": {\"field\": \"count\", \"sort\": \"color\", \"type\": \"quantitative\"}, \"tooltip\": [{\"field\": \"type\", \"type\": \"nominal\"}, {\"field\": \"count\", \"type\": \"quantitative\"}]}, \"height\": 300, \"width\": 600, \"$schema\": \"https://vega.github.io/schema/vega-lite/v5.8.0.json\", \"datasets\": {\"data-9f0b5bc79c0e1d547b2efe2f28765e92\": [{\"type\": \"TV Show\", \"count\": 2676}, {\"type\": \"Movie\", \"count\": 6131}]}}, {\"mode\": \"vega-lite\"});\n",
       "</script>"
      ],
      "text/plain": [
       "alt.Chart(...)"
      ]
     },
     "metadata": {},
     "output_type": "display_data"
    },
    {
     "data": {
      "application/vnd.jupyter.widget-view+json": {
       "model_id": "6b6c4c4514414e7e97f9af4ac28a7303",
       "version_major": 2,
       "version_minor": 0
      },
      "text/plain": [
       "SqlCellWidget(chart_config='{\"type\": null, \"x\": null, \"y\": null, \"color\": null, \"theta\": null, \"aggregation\": …"
      ]
     },
     "execution_count": 6,
     "metadata": {},
     "output_type": "execute_result"
    }
   ],
   "source": [
    "%%sql\n",
    "\n",
    "SELECT\n",
    "    type,\n",
    "    count(type) AS count\n",
    "FROM 'netflix.csv.gz'\n",
    "GROUP BY type"
   ]
  },
  {
   "cell_type": "markdown",
   "id": "e9726d9e-79be-46bc-b7de-055a31ae8200",
   "metadata": {},
   "source": [
    "We can plot a pie chart to compare the types of videos that Netflix offers with the following settings:\n",
    "\n",
    "* Chart type: Pie\n",
    "* Size: count\n",
    "* Color: type"
   ]
  },
  {
   "cell_type": "markdown",
   "id": "ed7785ef-fd6d-4c6f-9e51-935b13ebc362",
   "metadata": {},
   "source": [
    "We can see that Movie has a viewers rate of 69.6% which is much higher than that of TV Shows which is 30.4%. It is clear that Netflix viewers explore more Movies than TV Shows overall.\n",
    "\n",
    "However, is this still true over the years? Let's add release year as one more dimension:"
   ]
  },
  {
   "cell_type": "code",
   "execution_count": 8,
   "id": "6d6cedf1-8180-427f-91de-676255423c42",
   "metadata": {
    "tags": []
   },
   "outputs": [
    {
     "data": {
      "text/html": [
       "\n",
       "<style>\n",
       "  #altair-viz-6c3919d7cc9044008913f82311f1096e.vega-embed {\n",
       "    width: 100%;\n",
       "    display: flex;\n",
       "  }\n",
       "\n",
       "  #altair-viz-6c3919d7cc9044008913f82311f1096e.vega-embed details,\n",
       "  #altair-viz-6c3919d7cc9044008913f82311f1096e.vega-embed details summary {\n",
       "    position: relative;\n",
       "  }\n",
       "</style>\n",
       "<div id=\"altair-viz-6c3919d7cc9044008913f82311f1096e\"></div>\n",
       "<script type=\"text/javascript\">\n",
       "  var VEGA_DEBUG = (typeof VEGA_DEBUG == \"undefined\") ? {} : VEGA_DEBUG;\n",
       "  (function(spec, embedOpt){\n",
       "    let outputDiv = document.currentScript.previousElementSibling;\n",
       "    if (outputDiv.id !== \"altair-viz-6c3919d7cc9044008913f82311f1096e\") {\n",
       "      outputDiv = document.getElementById(\"altair-viz-6c3919d7cc9044008913f82311f1096e\");\n",
       "    }\n",
       "    const paths = {\n",
       "      \"vega\": \"https://cdn.jsdelivr.net/npm/vega@5?noext\",\n",
       "      \"vega-lib\": \"https://cdn.jsdelivr.net/npm/vega-lib?noext\",\n",
       "      \"vega-lite\": \"https://cdn.jsdelivr.net/npm/vega-lite@5.8.0?noext\",\n",
       "      \"vega-embed\": \"https://cdn.jsdelivr.net/npm/vega-embed@6?noext\",\n",
       "    };\n",
       "\n",
       "    function maybeLoadScript(lib, version) {\n",
       "      var key = `${lib.replace(\"-\", \"\")}_version`;\n",
       "      return (VEGA_DEBUG[key] == version) ?\n",
       "        Promise.resolve(paths[lib]) :\n",
       "        new Promise(function(resolve, reject) {\n",
       "          var s = document.createElement('script');\n",
       "          document.getElementsByTagName(\"head\")[0].appendChild(s);\n",
       "          s.async = true;\n",
       "          s.onload = () => {\n",
       "            VEGA_DEBUG[key] = version;\n",
       "            return resolve(paths[lib]);\n",
       "          };\n",
       "          s.onerror = () => reject(`Error loading script: ${paths[lib]}`);\n",
       "          s.src = paths[lib];\n",
       "        });\n",
       "    }\n",
       "\n",
       "    function showError(err) {\n",
       "      outputDiv.innerHTML = `<div class=\"error\" style=\"color:red;\">${err}</div>`;\n",
       "      throw err;\n",
       "    }\n",
       "\n",
       "    function displayChart(vegaEmbed) {\n",
       "      vegaEmbed(outputDiv, spec, embedOpt)\n",
       "        .catch(err => showError(`Javascript Error: ${err.message}<br>This usually means there's a typo in your chart specification. See the javascript console for the full traceback.`));\n",
       "    }\n",
       "\n",
       "    if(typeof define === \"function\" && define.amd) {\n",
       "      requirejs.config({paths});\n",
       "      require([\"vega-embed\"], displayChart, err => showError(`Error loading script: ${err.message}`));\n",
       "    } else {\n",
       "      maybeLoadScript(\"vega\", \"5\")\n",
       "        .then(() => maybeLoadScript(\"vega-lite\", \"5.8.0\"))\n",
       "        .then(() => maybeLoadScript(\"vega-embed\", \"6\"))\n",
       "        .catch(showError)\n",
       "        .then(() => displayChart(vegaEmbed));\n",
       "    }\n",
       "  })({\"config\": {\"view\": {\"continuousWidth\": 300, \"continuousHeight\": 300}}, \"data\": {\"name\": \"data-5274573b7ead2768eef8dc2e7fba8757\"}, \"mark\": {\"type\": \"bar\"}, \"encoding\": {\"color\": {\"field\": \"type\", \"type\": \"nominal\"}, \"tooltip\": [{\"field\": \"release_year\", \"type\": \"quantitative\"}, {\"field\": \"count\", \"type\": \"quantitative\"}], \"x\": {\"field\": \"release_year\", \"sort\": null, \"type\": \"quantitative\"}, \"y\": {\"field\": \"count\", \"type\": \"quantitative\"}}, \"height\": 500, \"width\": 1000, \"$schema\": \"https://vega.github.io/schema/vega-lite/v5.8.0.json\", \"datasets\": {\"data-5274573b7ead2768eef8dc2e7fba8757\": [{\"release_year\": 1925, \"type\": \"TV Show\", \"count\": 1}, {\"release_year\": 1942, \"type\": \"Movie\", \"count\": 2}, {\"release_year\": 1943, \"type\": \"Movie\", \"count\": 3}, {\"release_year\": 1944, \"type\": \"Movie\", \"count\": 3}, {\"release_year\": 1945, \"type\": \"TV Show\", \"count\": 1}, {\"release_year\": 1945, \"type\": \"Movie\", \"count\": 3}, {\"release_year\": 1946, \"type\": \"Movie\", \"count\": 1}, {\"release_year\": 1946, \"type\": \"TV Show\", \"count\": 1}, {\"release_year\": 1947, \"type\": \"Movie\", \"count\": 1}, {\"release_year\": 1954, \"type\": \"Movie\", \"count\": 2}, {\"release_year\": 1955, \"type\": \"Movie\", \"count\": 3}, {\"release_year\": 1956, \"type\": \"Movie\", \"count\": 2}, {\"release_year\": 1958, \"type\": \"Movie\", \"count\": 3}, {\"release_year\": 1959, \"type\": \"Movie\", \"count\": 1}, {\"release_year\": 1960, \"type\": \"Movie\", \"count\": 4}, {\"release_year\": 1961, \"type\": \"Movie\", \"count\": 1}, {\"release_year\": 1962, \"type\": \"Movie\", \"count\": 3}, {\"release_year\": 1963, \"type\": \"Movie\", \"count\": 1}, {\"release_year\": 1963, \"type\": \"TV Show\", \"count\": 1}, {\"release_year\": 1964, \"type\": \"Movie\", \"count\": 2}, {\"release_year\": 1965, \"type\": \"Movie\", \"count\": 2}, {\"release_year\": 1966, \"type\": \"Movie\", \"count\": 1}, {\"release_year\": 1967, \"type\": \"Movie\", \"count\": 4}, {\"release_year\": 1967, \"type\": \"TV Show\", \"count\": 1}, {\"release_year\": 1968, \"type\": \"Movie\", \"count\": 3}, {\"release_year\": 1969, \"type\": \"Movie\", \"count\": 2}, {\"release_year\": 1970, \"type\": \"Movie\", \"count\": 2}, {\"release_year\": 1971, \"type\": \"Movie\", \"count\": 5}, {\"release_year\": 1972, \"type\": \"Movie\", \"count\": 4}, {\"release_year\": 1972, \"type\": \"TV Show\", \"count\": 1}, {\"release_year\": 1973, \"type\": \"Movie\", \"count\": 10}, {\"release_year\": 1974, \"type\": \"TV Show\", \"count\": 1}, {\"release_year\": 1974, \"type\": \"Movie\", \"count\": 6}, {\"release_year\": 1975, \"type\": \"Movie\", \"count\": 7}, {\"release_year\": 1976, \"type\": \"Movie\", \"count\": 9}, {\"release_year\": 1977, \"type\": \"Movie\", \"count\": 6}, {\"release_year\": 1977, \"type\": \"TV Show\", \"count\": 1}, {\"release_year\": 1978, \"type\": \"Movie\", \"count\": 7}, {\"release_year\": 1979, \"type\": \"Movie\", \"count\": 10}, {\"release_year\": 1979, \"type\": \"TV Show\", \"count\": 1}, {\"release_year\": 1980, \"type\": \"Movie\", \"count\": 11}, {\"release_year\": 1981, \"type\": \"Movie\", \"count\": 12}, {\"release_year\": 1981, \"type\": \"TV Show\", \"count\": 1}, {\"release_year\": 1982, \"type\": \"Movie\", \"count\": 17}, {\"release_year\": 1983, \"type\": \"Movie\", \"count\": 11}, {\"release_year\": 1984, \"type\": \"Movie\", \"count\": 12}, {\"release_year\": 1985, \"type\": \"Movie\", \"count\": 9}, {\"release_year\": 1985, \"type\": \"TV Show\", \"count\": 1}, {\"release_year\": 1986, \"type\": \"Movie\", \"count\": 11}, {\"release_year\": 1986, \"type\": \"TV Show\", \"count\": 2}, {\"release_year\": 1987, \"type\": \"Movie\", \"count\": 8}, {\"release_year\": 1988, \"type\": \"Movie\", \"count\": 16}, {\"release_year\": 1988, \"type\": \"TV Show\", \"count\": 2}, {\"release_year\": 1989, \"type\": \"Movie\", \"count\": 15}, {\"release_year\": 1989, \"type\": \"TV Show\", \"count\": 1}, {\"release_year\": 1990, \"type\": \"Movie\", \"count\": 19}, {\"release_year\": 1990, \"type\": \"TV Show\", \"count\": 3}, {\"release_year\": 1991, \"type\": \"Movie\", \"count\": 16}, {\"release_year\": 1991, \"type\": \"TV Show\", \"count\": 1}, {\"release_year\": 1992, \"type\": \"TV Show\", \"count\": 3}, {\"release_year\": 1992, \"type\": \"Movie\", \"count\": 20}, {\"release_year\": 1993, \"type\": \"Movie\", \"count\": 24}, {\"release_year\": 1993, \"type\": \"TV Show\", \"count\": 4}, {\"release_year\": 1994, \"type\": \"TV Show\", \"count\": 2}, {\"release_year\": 1994, \"type\": \"Movie\", \"count\": 20}, {\"release_year\": 1995, \"type\": \"Movie\", \"count\": 23}, {\"release_year\": 1995, \"type\": \"TV Show\", \"count\": 2}, {\"release_year\": 1996, \"type\": \"Movie\", \"count\": 21}, {\"release_year\": 1996, \"type\": \"TV Show\", \"count\": 3}, {\"release_year\": 1997, \"type\": \"Movie\", \"count\": 34}, {\"release_year\": 1997, \"type\": \"TV Show\", \"count\": 4}, {\"release_year\": 1998, \"type\": \"Movie\", \"count\": 32}, {\"release_year\": 1998, \"type\": \"TV Show\", \"count\": 4}, {\"release_year\": 1999, \"type\": \"Movie\", \"count\": 32}, {\"release_year\": 1999, \"type\": \"TV Show\", \"count\": 7}, {\"release_year\": 2000, \"type\": \"Movie\", \"count\": 33}, {\"release_year\": 2000, \"type\": \"TV Show\", \"count\": 4}, {\"release_year\": 2001, \"type\": \"Movie\", \"count\": 40}, {\"release_year\": 2001, \"type\": \"TV Show\", \"count\": 5}, {\"release_year\": 2002, \"type\": \"Movie\", \"count\": 44}, {\"release_year\": 2002, \"type\": \"TV Show\", \"count\": 7}, {\"release_year\": 2003, \"type\": \"Movie\", \"count\": 51}, {\"release_year\": 2003, \"type\": \"TV Show\", \"count\": 10}, {\"release_year\": 2004, \"type\": \"Movie\", \"count\": 55}, {\"release_year\": 2004, \"type\": \"TV Show\", \"count\": 9}, {\"release_year\": 2005, \"type\": \"Movie\", \"count\": 67}, {\"release_year\": 2005, \"type\": \"TV Show\", \"count\": 13}, {\"release_year\": 2006, \"type\": \"Movie\", \"count\": 82}, {\"release_year\": 2006, \"type\": \"TV Show\", \"count\": 14}, {\"release_year\": 2007, \"type\": \"Movie\", \"count\": 74}, {\"release_year\": 2007, \"type\": \"TV Show\", \"count\": 14}, {\"release_year\": 2008, \"type\": \"Movie\", \"count\": 113}, {\"release_year\": 2008, \"type\": \"TV Show\", \"count\": 23}, {\"release_year\": 2009, \"type\": \"Movie\", \"count\": 118}, {\"release_year\": 2009, \"type\": \"TV Show\", \"count\": 34}, {\"release_year\": 2010, \"type\": \"Movie\", \"count\": 154}, {\"release_year\": 2010, \"type\": \"TV Show\", \"count\": 40}, {\"release_year\": 2011, \"type\": \"Movie\", \"count\": 145}, {\"release_year\": 2011, \"type\": \"TV Show\", \"count\": 40}, {\"release_year\": 2012, \"type\": \"Movie\", \"count\": 173}, {\"release_year\": 2012, \"type\": \"TV Show\", \"count\": 64}, {\"release_year\": 2013, \"type\": \"Movie\", \"count\": 225}, {\"release_year\": 2013, \"type\": \"TV Show\", \"count\": 63}, {\"release_year\": 2014, \"type\": \"TV Show\", \"count\": 88}, {\"release_year\": 2014, \"type\": \"Movie\", \"count\": 264}, {\"release_year\": 2015, \"type\": \"TV Show\", \"count\": 162}, {\"release_year\": 2015, \"type\": \"Movie\", \"count\": 398}, {\"release_year\": 2016, \"type\": \"TV Show\", \"count\": 244}, {\"release_year\": 2016, \"type\": \"Movie\", \"count\": 658}, {\"release_year\": 2017, \"type\": \"Movie\", \"count\": 767}, {\"release_year\": 2017, \"type\": \"TV Show\", \"count\": 265}, {\"release_year\": 2018, \"type\": \"TV Show\", \"count\": 380}, {\"release_year\": 2018, \"type\": \"Movie\", \"count\": 767}, {\"release_year\": 2019, \"type\": \"TV Show\", \"count\": 397}, {\"release_year\": 2019, \"type\": \"Movie\", \"count\": 633}, {\"release_year\": 2020, \"type\": \"Movie\", \"count\": 517}, {\"release_year\": 2020, \"type\": \"TV Show\", \"count\": 436}, {\"release_year\": 2021, \"type\": \"TV Show\", \"count\": 315}, {\"release_year\": 2021, \"type\": \"Movie\", \"count\": 277}]}}, {\"mode\": \"vega-lite\"});\n",
       "</script>"
      ],
      "text/plain": [
       "alt.Chart(...)"
      ]
     },
     "metadata": {},
     "output_type": "display_data"
    },
    {
     "data": {
      "application/vnd.jupyter.widget-view+json": {
       "model_id": "86e651d459c24f7397adcf2d27526795",
       "version_major": 2,
       "version_minor": 0
      },
      "text/plain": [
       "SqlCellWidget(chart_config='{\"type\": null, \"x\": null, \"y\": null, \"color\": null, \"theta\": null, \"aggregation\": …"
      ]
     },
     "execution_count": 8,
     "metadata": {},
     "output_type": "execute_result"
    }
   ],
   "source": [
    "%%sql\n",
    "\n",
    "SELECT\n",
    "    release_year,\n",
    "    type,\n",
    "    COUNT(type) AS count,\n",
    "FROM 'netflix.csv.gz'\n",
    "GROUP BY release_year, type\n",
    "ORDER BY release_year"
   ]
  },
  {
   "cell_type": "markdown",
   "id": "72fa625c-42ed-4186-aafa-6905daaa2cf9",
   "metadata": {},
   "source": [
    "Now we can visualize the result with stacked column chart:\n",
    "\n",
    "* Chart type: Column\n",
    "* X-Axis: release_year\n",
    "* Y-Axis: count\n",
    "* Color: type\n",
    "* Width: 900\n",
    "* Height: 400"
   ]
  },
  {
   "cell_type": "markdown",
   "id": "c5caed29-b989-483e-a260-d789a0e9f2e2",
   "metadata": {},
   "source": [
    "Now we can see that **Netflix releases more and more TV shows in recent years**, in 2021 there are in fact 315 TV shows compared with 277 for movies. If you have watched Stranger Things and Squid Game, you may agree that Netflix is better at making great TV shows than movies :-)"
   ]
  },
  {
   "cell_type": "markdown",
   "id": "917c6b0e-b2da-4d89-803f-cdb2eb07eb75",
   "metadata": {},
   "source": [
    "## Genre"
   ]
  },
  {
   "cell_type": "markdown",
   "id": "39f66233-78db-4cbc-afaf-b131f9ea836e",
   "metadata": {},
   "source": [
    "In order to understand what people want to watch, we can analyze the genre of movies and TV shows.\n",
    "\n",
    "This might not be very straightforward at the first glance, as the dataset only provides a column of text with the genres that the video is listed in concatenated by comma. For example, the value of Blood & Water International is `International TV Shows, TV Dramas, TV Mysteries`, meaning the video is listed in TV Shows, TV Dramas and TV Mysteries.\n",
    "\n",
    "Luckily, we an leverage `split` function to get the list of genres separated by comma, and then use `unnest` to unnest the list of genres by one level. In this way, we can get three rows for Blood & Water with each a different genre. That said, `unnest` is a scalar function that can change the cardinality of the result with one tuple per entry in the list.\n",
    "\n",
    "Here is the SQL statement to wrangle the original data into the desired form. As mentioned before, the result set is stored in a dataframe named `distribution_of_genre`:"
   ]
  },
  {
   "cell_type": "code",
   "execution_count": 9,
   "id": "a0697484-673e-41b5-a4ad-3073fdc244cc",
   "metadata": {
    "tags": []
   },
   "outputs": [
    {
     "data": {
      "text/html": [],
      "text/plain": [
       "<IPython.core.display.HTML object>"
      ]
     },
     "metadata": {},
     "output_type": "display_data"
    },
    {
     "data": {
      "application/vnd.jupyter.widget-view+json": {
       "model_id": "3f890ddafa3242a0a2480da77ef4c798",
       "version_major": 2,
       "version_minor": 0
      },
      "text/plain": [
       "SqlCellWidget(chart_config='{\"type\": null, \"x\": null, \"y\": null, \"color\": null, \"theta\": null, \"aggregation\": …"
      ]
     },
     "execution_count": 9,
     "metadata": {},
     "output_type": "execute_result"
    }
   ],
   "source": [
    "%%sql distribution_of_genre\n",
    "\n",
    "SELECT\n",
    "    type,\n",
    "    title,\n",
    "    unnest(split(listed_in, ', ')) AS genre\n",
    "FROM 'netflix.csv.gz'\n",
    "LIMIT 100"
   ]
  },
  {
   "cell_type": "markdown",
   "id": "90c0caaf-7a26-435c-a569-a647c437619e",
   "metadata": {},
   "source": [
    "Now we can further investigate dataframe `distribution_of_genre` for more observations.\n",
    "\n",
    "First, let us count the number of each genre of all the movies and limit to the top tweenty:"
   ]
  },
  {
   "cell_type": "code",
   "execution_count": 10,
   "id": "76d4694c-77f1-4bef-a672-e15ef89c50c3",
   "metadata": {
    "tags": []
   },
   "outputs": [
    {
     "data": {
      "text/html": [
       "\n",
       "<style>\n",
       "  #altair-viz-f7cec470821b4c9fa16b7e72213b0d0c.vega-embed {\n",
       "    width: 100%;\n",
       "    display: flex;\n",
       "  }\n",
       "\n",
       "  #altair-viz-f7cec470821b4c9fa16b7e72213b0d0c.vega-embed details,\n",
       "  #altair-viz-f7cec470821b4c9fa16b7e72213b0d0c.vega-embed details summary {\n",
       "    position: relative;\n",
       "  }\n",
       "</style>\n",
       "<div id=\"altair-viz-f7cec470821b4c9fa16b7e72213b0d0c\"></div>\n",
       "<script type=\"text/javascript\">\n",
       "  var VEGA_DEBUG = (typeof VEGA_DEBUG == \"undefined\") ? {} : VEGA_DEBUG;\n",
       "  (function(spec, embedOpt){\n",
       "    let outputDiv = document.currentScript.previousElementSibling;\n",
       "    if (outputDiv.id !== \"altair-viz-f7cec470821b4c9fa16b7e72213b0d0c\") {\n",
       "      outputDiv = document.getElementById(\"altair-viz-f7cec470821b4c9fa16b7e72213b0d0c\");\n",
       "    }\n",
       "    const paths = {\n",
       "      \"vega\": \"https://cdn.jsdelivr.net/npm/vega@5?noext\",\n",
       "      \"vega-lib\": \"https://cdn.jsdelivr.net/npm/vega-lib?noext\",\n",
       "      \"vega-lite\": \"https://cdn.jsdelivr.net/npm/vega-lite@5.8.0?noext\",\n",
       "      \"vega-embed\": \"https://cdn.jsdelivr.net/npm/vega-embed@6?noext\",\n",
       "    };\n",
       "\n",
       "    function maybeLoadScript(lib, version) {\n",
       "      var key = `${lib.replace(\"-\", \"\")}_version`;\n",
       "      return (VEGA_DEBUG[key] == version) ?\n",
       "        Promise.resolve(paths[lib]) :\n",
       "        new Promise(function(resolve, reject) {\n",
       "          var s = document.createElement('script');\n",
       "          document.getElementsByTagName(\"head\")[0].appendChild(s);\n",
       "          s.async = true;\n",
       "          s.onload = () => {\n",
       "            VEGA_DEBUG[key] = version;\n",
       "            return resolve(paths[lib]);\n",
       "          };\n",
       "          s.onerror = () => reject(`Error loading script: ${paths[lib]}`);\n",
       "          s.src = paths[lib];\n",
       "        });\n",
       "    }\n",
       "\n",
       "    function showError(err) {\n",
       "      outputDiv.innerHTML = `<div class=\"error\" style=\"color:red;\">${err}</div>`;\n",
       "      throw err;\n",
       "    }\n",
       "\n",
       "    function displayChart(vegaEmbed) {\n",
       "      vegaEmbed(outputDiv, spec, embedOpt)\n",
       "        .catch(err => showError(`Javascript Error: ${err.message}<br>This usually means there's a typo in your chart specification. See the javascript console for the full traceback.`));\n",
       "    }\n",
       "\n",
       "    if(typeof define === \"function\" && define.amd) {\n",
       "      requirejs.config({paths});\n",
       "      require([\"vega-embed\"], displayChart, err => showError(`Error loading script: ${err.message}`));\n",
       "    } else {\n",
       "      maybeLoadScript(\"vega\", \"5\")\n",
       "        .then(() => maybeLoadScript(\"vega-lite\", \"5.8.0\"))\n",
       "        .then(() => maybeLoadScript(\"vega-embed\", \"6\"))\n",
       "        .catch(showError)\n",
       "        .then(() => displayChart(vegaEmbed));\n",
       "    }\n",
       "  })({\"config\": {\"view\": {\"continuousWidth\": 300, \"continuousHeight\": 300}}, \"data\": {\"name\": \"data-a09eec0fc334172d521a4e8cc4d3223b\"}, \"mark\": {\"type\": \"bar\"}, \"encoding\": {\"color\": {\"field\": \"genre\", \"type\": \"nominal\"}, \"tooltip\": [{\"aggregate\": \"sum\", \"field\": \"count\", \"type\": \"quantitative\"}, {\"field\": \"genre\", \"type\": \"nominal\"}], \"x\": {\"aggregate\": \"sum\", \"field\": \"count\", \"type\": \"quantitative\"}, \"y\": {\"field\": \"genre\", \"sort\": null, \"type\": \"nominal\"}}, \"height\": 400, \"width\": 400, \"$schema\": \"https://vega.github.io/schema/vega-lite/v5.8.0.json\", \"datasets\": {\"data-a09eec0fc334172d521a4e8cc4d3223b\": [{\"genre\": \"Dramas\", \"count\": 9}, {\"genre\": \"International Movies\", \"count\": 9}, {\"genre\": \"Comedies\", \"count\": 6}, {\"genre\": \"Thrillers\", \"count\": 4}, {\"genre\": \"Action & Adventure\", \"count\": 4}, {\"genre\": \"Children & Family Movies\", \"count\": 3}, {\"genre\": \"Documentaries\", \"count\": 2}, {\"genre\": \"Independent Movies\", \"count\": 2}, {\"genre\": \"Horror Movies\", \"count\": 2}, {\"genre\": \"Romantic Movies\", \"count\": 1}]}}, {\"mode\": \"vega-lite\"});\n",
       "</script>"
      ],
      "text/plain": [
       "alt.Chart(...)"
      ]
     },
     "metadata": {},
     "output_type": "display_data"
    },
    {
     "data": {
      "application/vnd.jupyter.widget-view+json": {
       "model_id": "57fb4dafcb184ee2ae42d04ad3927799",
       "version_major": 2,
       "version_minor": 0
      },
      "text/plain": [
       "SqlCellWidget(chart_config='{\"type\": null, \"x\": null, \"y\": null, \"color\": null, \"theta\": null, \"aggregation\": …"
      ]
     },
     "execution_count": 10,
     "metadata": {},
     "output_type": "execute_result"
    }
   ],
   "source": [
    "%%sql distribution_of_movie_genre\n",
    "\n",
    "SELECT\n",
    "    genre,\n",
    "    count(genre) AS count\n",
    "    FROM distribution_of_genre\n",
    "WHERE type= 'Movie'\n",
    "GROUP BY genre\n",
    "ORDER BY count DESC\n",
    "LIMIT 10"
   ]
  },
  {
   "cell_type": "markdown",
   "id": "c8874699-d121-42bc-ac4a-6b2295d04af8",
   "metadata": {},
   "source": [
    "You may have noticed that in the SQL statement above, the `FROM` clause actually specifies the dataframe on which the remainder of the query should operate. This means that analytical SQL not only can save result set as dataframe, it can also consume and operate data from dataframe! In this way we are able to  interleave Python and SQL to get the most out of the two technologies 😎 \n",
    "\n",
    "Now we ca visualize the result set with bar chart:\n",
    "\n",
    "* Chart type: Bar\n",
    "* X-Axis: genre\n",
    "* Y-Axis: count\n",
    "* Color: genre\n",
    "* Width: 500\n",
    "* Height: 300"
   ]
  },
  {
   "cell_type": "markdown",
   "id": "881cc256-7e9c-4098-9b30-e520adf43de2",
   "metadata": {},
   "source": [
    "We can see Drama has the highest genre rate of movies users explore on Netflix, followed by International Movies and Comedies.\n",
    "\n",
    "Next, let us count the number of each genre of all the TV shows and also limit to the top tweenty:"
   ]
  },
  {
   "cell_type": "code",
   "execution_count": 11,
   "id": "763571a3-28bc-43a1-a765-b4044765d289",
   "metadata": {
    "tags": []
   },
   "outputs": [
    {
     "data": {
      "text/html": [
       "\n",
       "<style>\n",
       "  #altair-viz-1feb6a7b9ddf45cbab3c20503d2a7b1c.vega-embed {\n",
       "    width: 100%;\n",
       "    display: flex;\n",
       "  }\n",
       "\n",
       "  #altair-viz-1feb6a7b9ddf45cbab3c20503d2a7b1c.vega-embed details,\n",
       "  #altair-viz-1feb6a7b9ddf45cbab3c20503d2a7b1c.vega-embed details summary {\n",
       "    position: relative;\n",
       "  }\n",
       "</style>\n",
       "<div id=\"altair-viz-1feb6a7b9ddf45cbab3c20503d2a7b1c\"></div>\n",
       "<script type=\"text/javascript\">\n",
       "  var VEGA_DEBUG = (typeof VEGA_DEBUG == \"undefined\") ? {} : VEGA_DEBUG;\n",
       "  (function(spec, embedOpt){\n",
       "    let outputDiv = document.currentScript.previousElementSibling;\n",
       "    if (outputDiv.id !== \"altair-viz-1feb6a7b9ddf45cbab3c20503d2a7b1c\") {\n",
       "      outputDiv = document.getElementById(\"altair-viz-1feb6a7b9ddf45cbab3c20503d2a7b1c\");\n",
       "    }\n",
       "    const paths = {\n",
       "      \"vega\": \"https://cdn.jsdelivr.net/npm/vega@5?noext\",\n",
       "      \"vega-lib\": \"https://cdn.jsdelivr.net/npm/vega-lib?noext\",\n",
       "      \"vega-lite\": \"https://cdn.jsdelivr.net/npm/vega-lite@5.8.0?noext\",\n",
       "      \"vega-embed\": \"https://cdn.jsdelivr.net/npm/vega-embed@6?noext\",\n",
       "    };\n",
       "\n",
       "    function maybeLoadScript(lib, version) {\n",
       "      var key = `${lib.replace(\"-\", \"\")}_version`;\n",
       "      return (VEGA_DEBUG[key] == version) ?\n",
       "        Promise.resolve(paths[lib]) :\n",
       "        new Promise(function(resolve, reject) {\n",
       "          var s = document.createElement('script');\n",
       "          document.getElementsByTagName(\"head\")[0].appendChild(s);\n",
       "          s.async = true;\n",
       "          s.onload = () => {\n",
       "            VEGA_DEBUG[key] = version;\n",
       "            return resolve(paths[lib]);\n",
       "          };\n",
       "          s.onerror = () => reject(`Error loading script: ${paths[lib]}`);\n",
       "          s.src = paths[lib];\n",
       "        });\n",
       "    }\n",
       "\n",
       "    function showError(err) {\n",
       "      outputDiv.innerHTML = `<div class=\"error\" style=\"color:red;\">${err}</div>`;\n",
       "      throw err;\n",
       "    }\n",
       "\n",
       "    function displayChart(vegaEmbed) {\n",
       "      vegaEmbed(outputDiv, spec, embedOpt)\n",
       "        .catch(err => showError(`Javascript Error: ${err.message}<br>This usually means there's a typo in your chart specification. See the javascript console for the full traceback.`));\n",
       "    }\n",
       "\n",
       "    if(typeof define === \"function\" && define.amd) {\n",
       "      requirejs.config({paths});\n",
       "      require([\"vega-embed\"], displayChart, err => showError(`Error loading script: ${err.message}`));\n",
       "    } else {\n",
       "      maybeLoadScript(\"vega\", \"5\")\n",
       "        .then(() => maybeLoadScript(\"vega-lite\", \"5.8.0\"))\n",
       "        .then(() => maybeLoadScript(\"vega-embed\", \"6\"))\n",
       "        .catch(showError)\n",
       "        .then(() => displayChart(vegaEmbed));\n",
       "    }\n",
       "  })({\"config\": {\"view\": {\"continuousWidth\": 300, \"continuousHeight\": 300}}, \"data\": {\"name\": \"data-5efd0fb7b9ca0f608437ba805044c580\"}, \"mark\": {\"type\": \"bar\"}, \"encoding\": {\"color\": {\"field\": \"genre\", \"type\": \"nominal\"}, \"tooltip\": [{\"field\": \"count\", \"type\": \"quantitative\"}, {\"field\": \"genre\", \"type\": \"nominal\"}], \"x\": {\"field\": \"count\", \"type\": \"quantitative\"}, \"y\": {\"field\": \"genre\", \"sort\": null, \"type\": \"nominal\"}}, \"height\": 300, \"width\": 500, \"$schema\": \"https://vega.github.io/schema/vega-lite/v5.8.0.json\", \"datasets\": {\"data-5efd0fb7b9ca0f608437ba805044c580\": [{\"genre\": \"International TV Shows\", \"count\": 1351}, {\"genre\": \"TV Dramas\", \"count\": 763}, {\"genre\": \"TV Comedies\", \"count\": 581}, {\"genre\": \"Crime TV Shows\", \"count\": 470}, {\"genre\": \"Kids' TV\", \"count\": 451}, {\"genre\": \"Docuseries\", \"count\": 395}, {\"genre\": \"Romantic TV Shows\", \"count\": 370}, {\"genre\": \"Reality TV\", \"count\": 255}, {\"genre\": \"British TV Shows\", \"count\": 253}, {\"genre\": \"Anime Series\", \"count\": 176}]}}, {\"mode\": \"vega-lite\"});\n",
       "</script>"
      ],
      "text/plain": [
       "alt.Chart(...)"
      ]
     },
     "metadata": {},
     "output_type": "display_data"
    },
    {
     "data": {
      "application/vnd.jupyter.widget-view+json": {
       "model_id": "1b55a37094b340ffa65aa626a0db220e",
       "version_major": 2,
       "version_minor": 0
      },
      "text/plain": [
       "SqlCellWidget(chart_config='{\"type\": null, \"x\": null, \"y\": null, \"color\": null, \"theta\": null, \"aggregation\": …"
      ]
     },
     "execution_count": 11,
     "metadata": {},
     "output_type": "execute_result"
    }
   ],
   "source": [
    "%%sql\n",
    "\n",
    "SELECT\n",
    "    genre,\n",
    "    count(*) AS count\n",
    "FROM (\n",
    "    SELECT\n",
    "        title,\n",
    "        unnest(split(listed_in, ', ')) AS genre\n",
    "    FROM 'netflix.csv.gz'\n",
    "    WHERE type= 'TV Show'\n",
    ")\n",
    "GROUP BY genre\n",
    "ORDER BY count DESC\n",
    "LIMIT 10"
   ]
  },
  {
   "cell_type": "markdown",
   "id": "c6df71bb-5376-4f3b-b0ad-2f4d5182b681",
   "metadata": {},
   "source": [
    "Now we can visualize the result set as follows:\n",
    "\n",
    "* Chart type: Bar\n",
    "* X-Axis: genre\n",
    "* Y-Axis: count\n",
    "* Color: genre\n",
    "* Width: 500\n",
    "* Height: 300\n"
   ]
  },
  {
   "cell_type": "markdown",
   "id": "e60d3c20-912b-4682-8ab1-a206658f5a94",
   "metadata": {},
   "source": [
    "We can see International TV Shows (1351) has the highest genre rate of TV shows users explore on Netflix, followed by TV Dramas (763) and TV Comedies (581).\n",
    "\n",
    "It is interesting that international, dramas and comedies are very welcome for both movie and TV show."
   ]
  },
  {
   "cell_type": "markdown",
   "id": "4ebbede2-7308-4162-bc17-5e0406341c22",
   "metadata": {},
   "source": [
    "## Rating"
   ]
  },
  {
   "cell_type": "markdown",
   "id": "e5c346a7-20b3-4061-9e47-0e0a8e762370",
   "metadata": {},
   "source": [
    "The film rating system is used in the United States to rate a motion picture's suitability for certain audiences based on its content.\n",
    "\n",
    "The MPA film ratings are as follows:\n",
    "\n",
    "* G – General Audiences\n",
    "* PG – Parental Guidance Suggested\n",
    "* PG-13 – Parents Strongly Cautioned\n",
    "* R – Restricted\n",
    "* NC-17 – Adults Only\n",
    "* NR - Not Rated\n",
    "* UR - Unrated\n",
    "\n",
    "We can leverage `IN` clause to filter out the videos with film ratings:"
   ]
  },
  {
   "cell_type": "code",
   "execution_count": 12,
   "id": "35b98ebd-15e6-476f-991e-9edc342e2afd",
   "metadata": {
    "tags": []
   },
   "outputs": [
    {
     "data": {
      "text/html": [
       "\n",
       "<style>\n",
       "  #altair-viz-715e9f581e42467b8af0719281fdf173.vega-embed {\n",
       "    width: 100%;\n",
       "    display: flex;\n",
       "  }\n",
       "\n",
       "  #altair-viz-715e9f581e42467b8af0719281fdf173.vega-embed details,\n",
       "  #altair-viz-715e9f581e42467b8af0719281fdf173.vega-embed details summary {\n",
       "    position: relative;\n",
       "  }\n",
       "</style>\n",
       "<div id=\"altair-viz-715e9f581e42467b8af0719281fdf173\"></div>\n",
       "<script type=\"text/javascript\">\n",
       "  var VEGA_DEBUG = (typeof VEGA_DEBUG == \"undefined\") ? {} : VEGA_DEBUG;\n",
       "  (function(spec, embedOpt){\n",
       "    let outputDiv = document.currentScript.previousElementSibling;\n",
       "    if (outputDiv.id !== \"altair-viz-715e9f581e42467b8af0719281fdf173\") {\n",
       "      outputDiv = document.getElementById(\"altair-viz-715e9f581e42467b8af0719281fdf173\");\n",
       "    }\n",
       "    const paths = {\n",
       "      \"vega\": \"https://cdn.jsdelivr.net/npm/vega@5?noext\",\n",
       "      \"vega-lib\": \"https://cdn.jsdelivr.net/npm/vega-lib?noext\",\n",
       "      \"vega-lite\": \"https://cdn.jsdelivr.net/npm/vega-lite@5.8.0?noext\",\n",
       "      \"vega-embed\": \"https://cdn.jsdelivr.net/npm/vega-embed@6?noext\",\n",
       "    };\n",
       "\n",
       "    function maybeLoadScript(lib, version) {\n",
       "      var key = `${lib.replace(\"-\", \"\")}_version`;\n",
       "      return (VEGA_DEBUG[key] == version) ?\n",
       "        Promise.resolve(paths[lib]) :\n",
       "        new Promise(function(resolve, reject) {\n",
       "          var s = document.createElement('script');\n",
       "          document.getElementsByTagName(\"head\")[0].appendChild(s);\n",
       "          s.async = true;\n",
       "          s.onload = () => {\n",
       "            VEGA_DEBUG[key] = version;\n",
       "            return resolve(paths[lib]);\n",
       "          };\n",
       "          s.onerror = () => reject(`Error loading script: ${paths[lib]}`);\n",
       "          s.src = paths[lib];\n",
       "        });\n",
       "    }\n",
       "\n",
       "    function showError(err) {\n",
       "      outputDiv.innerHTML = `<div class=\"error\" style=\"color:red;\">${err}</div>`;\n",
       "      throw err;\n",
       "    }\n",
       "\n",
       "    function displayChart(vegaEmbed) {\n",
       "      vegaEmbed(outputDiv, spec, embedOpt)\n",
       "        .catch(err => showError(`Javascript Error: ${err.message}<br>This usually means there's a typo in your chart specification. See the javascript console for the full traceback.`));\n",
       "    }\n",
       "\n",
       "    if(typeof define === \"function\" && define.amd) {\n",
       "      requirejs.config({paths});\n",
       "      require([\"vega-embed\"], displayChart, err => showError(`Error loading script: ${err.message}`));\n",
       "    } else {\n",
       "      maybeLoadScript(\"vega\", \"5\")\n",
       "        .then(() => maybeLoadScript(\"vega-lite\", \"5.8.0\"))\n",
       "        .then(() => maybeLoadScript(\"vega-embed\", \"6\"))\n",
       "        .catch(showError)\n",
       "        .then(() => displayChart(vegaEmbed));\n",
       "    }\n",
       "  })({\"config\": {\"view\": {\"continuousWidth\": 300, \"continuousHeight\": 300}}, \"data\": {\"name\": \"data-a248e1f04a41a36e447196790d8cc813\"}, \"mark\": {\"type\": \"bar\"}, \"encoding\": {\"color\": {\"field\": \"rating\", \"type\": \"nominal\"}, \"tooltip\": [{\"field\": \"rating\", \"type\": \"nominal\"}, {\"field\": \"count\", \"type\": \"quantitative\"}], \"x\": {\"field\": \"rating\", \"sort\": null, \"type\": \"nominal\"}, \"y\": {\"field\": \"count\", \"type\": \"quantitative\"}}, \"height\": 300, \"width\": 500, \"$schema\": \"https://vega.github.io/schema/vega-lite/v5.8.0.json\", \"datasets\": {\"data-a248e1f04a41a36e447196790d8cc813\": [{\"rating\": \"R\", \"count\": 799}, {\"rating\": \"PG-13\", \"count\": 490}, {\"rating\": \"PG\", \"count\": 287}, {\"rating\": \"NR\", \"count\": 80}, {\"rating\": \"G\", \"count\": 41}, {\"rating\": \"NC-17\", \"count\": 3}, {\"rating\": \"UR\", \"count\": 3}]}}, {\"mode\": \"vega-lite\"});\n",
       "</script>"
      ],
      "text/plain": [
       "alt.Chart(...)"
      ]
     },
     "metadata": {},
     "output_type": "display_data"
    },
    {
     "data": {
      "application/vnd.jupyter.widget-view+json": {
       "model_id": "6d7bd2384e2542a4acbab0ba0d703c3f",
       "version_major": 2,
       "version_minor": 0
      },
      "text/plain": [
       "SqlCellWidget(chart_config='{\"type\": null, \"x\": null, \"y\": null, \"color\": null, \"theta\": null, \"aggregation\": …"
      ]
     },
     "execution_count": 12,
     "metadata": {},
     "output_type": "execute_result"
    }
   ],
   "source": [
    "%%sql\n",
    "\n",
    "SELECT\n",
    "    rating,\n",
    "    count(*) as count\n",
    "FROM 'netflix.csv.gz'\n",
    "GROUP BY rating\n",
    "HAVING rating IN ('G', 'PG', 'PG-13', 'R', 'NC-17', 'NR', 'UR')\n",
    "ORDER BY count\n",
    "DESC"
   ]
  },
  {
   "cell_type": "markdown",
   "id": "f162db28-40a6-4df5-893b-524802478134",
   "metadata": {},
   "source": [
    "Now we can visualize the data with categorical plots which involve a variable representing categories. This type of plots are commonly used when we want to make comparisons between different groups.\n",
    "\n",
    "* Chart type: Column\n",
    "* X-Axis: rating\n",
    "* Y-Axis: count\n",
    "* Color: rating\n",
    "* Width: 500\n",
    "* Height: 300"
   ]
  },
  {
   "cell_type": "markdown",
   "id": "a7e925a8-b865-4e50-a859-beb7400b2069",
   "metadata": {},
   "source": [
    "We can conclude from the findings that Netflix majorly comprises videos rated R, PG-13 and PG."
   ]
  },
  {
   "cell_type": "markdown",
   "id": "84d377d7-1e58-48f0-b20e-be77a965c557",
   "metadata": {},
   "source": [
    "Similarly, television content rating systems are systems for evaluating the content and reporting the suitability of television programs. Many countries have their own television rating system, here is the system used in United States:\n",
    "\n",
    "* TV-Y – This program is aimed at a very young audience, including children from ages 2–6.\n",
    "* TV-Y7 – This program is designed for children age 7 and above.\n",
    "* TV-G – Most parents would find this program suitable for all ages.\n",
    "* TV-PG – Parental guidance is recommended.\n",
    "* TV-14 – This program contains some material that many parents would find unsuitable for children under 14 years of age.\n",
    "* TV-MA – This program is intended to be viewed by adults and therefore may be unsuitable for children under 17.\n",
    "\n",
    "We can leverage `IN` clause to filter out the videos with film ratings:"
   ]
  },
  {
   "cell_type": "code",
   "execution_count": 13,
   "id": "c5394029-9927-44d1-a1ef-c394f9e6dc67",
   "metadata": {
    "tags": []
   },
   "outputs": [
    {
     "data": {
      "text/html": [
       "\n",
       "<style>\n",
       "  #altair-viz-d02e7f5910844d7e95cc0c9e690f5da7.vega-embed {\n",
       "    width: 100%;\n",
       "    display: flex;\n",
       "  }\n",
       "\n",
       "  #altair-viz-d02e7f5910844d7e95cc0c9e690f5da7.vega-embed details,\n",
       "  #altair-viz-d02e7f5910844d7e95cc0c9e690f5da7.vega-embed details summary {\n",
       "    position: relative;\n",
       "  }\n",
       "</style>\n",
       "<div id=\"altair-viz-d02e7f5910844d7e95cc0c9e690f5da7\"></div>\n",
       "<script type=\"text/javascript\">\n",
       "  var VEGA_DEBUG = (typeof VEGA_DEBUG == \"undefined\") ? {} : VEGA_DEBUG;\n",
       "  (function(spec, embedOpt){\n",
       "    let outputDiv = document.currentScript.previousElementSibling;\n",
       "    if (outputDiv.id !== \"altair-viz-d02e7f5910844d7e95cc0c9e690f5da7\") {\n",
       "      outputDiv = document.getElementById(\"altair-viz-d02e7f5910844d7e95cc0c9e690f5da7\");\n",
       "    }\n",
       "    const paths = {\n",
       "      \"vega\": \"https://cdn.jsdelivr.net/npm/vega@5?noext\",\n",
       "      \"vega-lib\": \"https://cdn.jsdelivr.net/npm/vega-lib?noext\",\n",
       "      \"vega-lite\": \"https://cdn.jsdelivr.net/npm/vega-lite@5.8.0?noext\",\n",
       "      \"vega-embed\": \"https://cdn.jsdelivr.net/npm/vega-embed@6?noext\",\n",
       "    };\n",
       "\n",
       "    function maybeLoadScript(lib, version) {\n",
       "      var key = `${lib.replace(\"-\", \"\")}_version`;\n",
       "      return (VEGA_DEBUG[key] == version) ?\n",
       "        Promise.resolve(paths[lib]) :\n",
       "        new Promise(function(resolve, reject) {\n",
       "          var s = document.createElement('script');\n",
       "          document.getElementsByTagName(\"head\")[0].appendChild(s);\n",
       "          s.async = true;\n",
       "          s.onload = () => {\n",
       "            VEGA_DEBUG[key] = version;\n",
       "            return resolve(paths[lib]);\n",
       "          };\n",
       "          s.onerror = () => reject(`Error loading script: ${paths[lib]}`);\n",
       "          s.src = paths[lib];\n",
       "        });\n",
       "    }\n",
       "\n",
       "    function showError(err) {\n",
       "      outputDiv.innerHTML = `<div class=\"error\" style=\"color:red;\">${err}</div>`;\n",
       "      throw err;\n",
       "    }\n",
       "\n",
       "    function displayChart(vegaEmbed) {\n",
       "      vegaEmbed(outputDiv, spec, embedOpt)\n",
       "        .catch(err => showError(`Javascript Error: ${err.message}<br>This usually means there's a typo in your chart specification. See the javascript console for the full traceback.`));\n",
       "    }\n",
       "\n",
       "    if(typeof define === \"function\" && define.amd) {\n",
       "      requirejs.config({paths});\n",
       "      require([\"vega-embed\"], displayChart, err => showError(`Error loading script: ${err.message}`));\n",
       "    } else {\n",
       "      maybeLoadScript(\"vega\", \"5\")\n",
       "        .then(() => maybeLoadScript(\"vega-lite\", \"5.8.0\"))\n",
       "        .then(() => maybeLoadScript(\"vega-embed\", \"6\"))\n",
       "        .catch(showError)\n",
       "        .then(() => displayChart(vegaEmbed));\n",
       "    }\n",
       "  })({\"config\": {\"view\": {\"continuousWidth\": 300, \"continuousHeight\": 300}}, \"data\": {\"name\": \"data-fe5dc5fa76520859f383fb275433bc44\"}, \"mark\": {\"type\": \"bar\"}, \"encoding\": {\"color\": {\"field\": \"rating\", \"type\": \"nominal\"}, \"tooltip\": [{\"field\": \"rating\", \"type\": \"nominal\"}, {\"field\": \"count\", \"type\": \"quantitative\"}], \"x\": {\"field\": \"rating\", \"sort\": null, \"type\": \"nominal\"}, \"y\": {\"field\": \"count\", \"type\": \"quantitative\"}}, \"height\": 300, \"width\": 500, \"$schema\": \"https://vega.github.io/schema/vega-lite/v5.8.0.json\", \"datasets\": {\"data-fe5dc5fa76520859f383fb275433bc44\": [{\"rating\": \"TV-MA\", \"count\": 3207}, {\"rating\": \"TV-14\", \"count\": 2160}, {\"rating\": \"TV-PG\", \"count\": 863}, {\"rating\": \"TV-Y7\", \"count\": 334}, {\"rating\": \"TV-Y\", \"count\": 307}, {\"rating\": \"TV-G\", \"count\": 220}]}}, {\"mode\": \"vega-lite\"});\n",
       "</script>"
      ],
      "text/plain": [
       "alt.Chart(...)"
      ]
     },
     "metadata": {},
     "output_type": "display_data"
    },
    {
     "data": {
      "application/vnd.jupyter.widget-view+json": {
       "model_id": "c6a1660041e6401ab6e36c9fe0746706",
       "version_major": 2,
       "version_minor": 0
      },
      "text/plain": [
       "SqlCellWidget(chart_config='{\"type\": null, \"x\": null, \"y\": null, \"color\": null, \"theta\": null, \"aggregation\": …"
      ]
     },
     "execution_count": 13,
     "metadata": {},
     "output_type": "execute_result"
    }
   ],
   "source": [
    "%%sql\n",
    "\n",
    "SELECT\n",
    "    rating,\n",
    "    count(*) as count\n",
    "FROM 'netflix.csv.gz'\n",
    "GROUP BY rating\n",
    "HAVING rating IN ('TV-Y7', 'TV-Y', 'TV-Y7', 'TV-G', 'TV-PG', 'TV-14', 'TV-MA')\n",
    "ORDER BY count\n",
    "DESC"
   ]
  },
  {
   "cell_type": "markdown",
   "id": "7d1b8743-eebf-49bd-aa82-54439218fea6",
   "metadata": {},
   "source": [
    "The comparison can be visualized as follows:\n",
    "\n",
    "* Chart type: Column\n",
    "* X-Axis: rating\n",
    "* Y-Axis: count\n",
    "* Color: rating\n",
    "* Width: 500\n",
    "* Height: 300"
   ]
  },
  {
   "cell_type": "markdown",
   "id": "1f174f91-3a98-496a-b97c-95b4d67dff09",
   "metadata": {},
   "source": [
    "We can conclude from the findings that Netflix majorly comprises videos rated TV-MA, TV-14 and TV-PG."
   ]
  },
  {
   "cell_type": "code",
   "execution_count": null,
   "id": "5d68debe-2ca2-4a00-a329-b8f2a9ae3fe3",
   "metadata": {},
   "outputs": [],
   "source": []
  }
 ],
 "metadata": {
  "kernelspec": {
   "display_name": "Python 3 (ipykernel)",
   "language": "python",
   "name": "python3"
  },
  "language_info": {
   "codemirror_mode": {
    "name": "ipython",
    "version": 3
   },
   "file_extension": ".py",
   "mimetype": "text/x-python",
   "name": "python",
   "nbconvert_exporter": "python",
   "pygments_lexer": "ipython3",
   "version": "3.10.11"
  },
  "widgets": {
   "application/vnd.jupyter.widget-state+json": {
    "state": {},
    "version_major": 2,
    "version_minor": 0
   }
  }
 },
 "nbformat": 4,
 "nbformat_minor": 5
}
