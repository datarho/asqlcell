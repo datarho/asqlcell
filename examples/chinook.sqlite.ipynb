{
 "cells": [
  {
   "cell_type": "markdown",
   "id": "dc646008-fce6-4e35-a713-85c4a5cb31cb",
   "metadata": {
    "jp-MarkdownHeadingCollapsed": true,
    "tags": []
   },
   "source": [
    "# Learn SQL with Jupyter Lab\n",
    "\n",
    "In this tutorial we will be looking at a novel approach to learn SQL solely with Jupyter Lab. Even though Jupyter Lab has become the handy tool for data scientists, SQL however is a missing piece from the picture. With the emmergence of [Analytical SQL Cell](https://github.com/datarho/asqlcell), SQL has become the first class citizen of Jupyter Lab.\n",
    "\n",
    "The benefits of learning SQL with Jupyter Lab are:\n",
    "\n",
    "1. Easy to bootstrap. Analytical SQL Cell widget for Jupyter Lab is all you need.\n",
    "2. Extremely efficient. Analytical SQL Cell will leverage [DuckDB](https://duckdb.org/) to query and visualize data in a performant way.\n",
    "3. Free and open source. No commercial database or ChatGPT is required :-)\n",
    "\n",
    "We'll use a database called Chinook which contains information about a fictional music shop. In this tutorial, data is stored in a [SQLite](https://www.sqlite.org/) database file.\n",
    "\n",
    "Chinook is a sample database for MySQL, SQL Server, etc. It is an alternative to the Northwind database, being ideal for demos. The name of this sample database was based on the Northwind database. Chinooks are winds in the interior West of North America, where the Canadian Prairies and Great Plains meet various mountain ranges. Therefore, Chinook is a good name choice for a database that intents to be an alternative to Northwind.\n",
    "\n",
    "The database includes several tables on invoice, track, album, artist etc. related to the store's sales. The Entity Relationship Diagram of the database is provided as follows:\n",
    "\n",
    "![Chinook Database](https://m-soro.github.io/Business-Analytics/SQL-for-Data-Analysis/L4-Project-Query-Music-Store/Misc/001.png)"
   ]
  },
  {
   "cell_type": "markdown",
   "id": "2da4b83b-f80e-4148-8fb8-85e6a00a6ae1",
   "metadata": {},
   "source": [
    "# Preparation\n",
    "\n",
    "Firstly we'll need to install `asqlcell`:"
   ]
  },
  {
   "cell_type": "code",
   "execution_count": null,
   "id": "def01af3-2176-4b5b-b5e9-8c1368441e5d",
   "metadata": {},
   "outputs": [],
   "source": [
    "%pip install asqlcell --upgrade"
   ]
  },
  {
   "cell_type": "markdown",
   "id": "8c8c59d4-0375-4162-ab7d-332e58f55354",
   "metadata": {},
   "source": [
    "And then import `asqlcell` and load extention properly. In this way, a `sql` magic will be enabled in the cell for writing SQL queries later on."
   ]
  },
  {
   "cell_type": "code",
   "execution_count": null,
   "id": "3f9c5e93-2ef1-4d5e-bf3e-04147f26fd4a",
   "metadata": {
    "tags": []
   },
   "outputs": [],
   "source": [
    "%load_ext asqlcell"
   ]
  },
  {
   "cell_type": "markdown",
   "id": "5f079680-4982-4558-803a-5686eae85897",
   "metadata": {},
   "source": [
    "Now we can create a connection object to the SQLite database file containing Chinook data. The connection object will be used together with the `sql` magic."
   ]
  },
  {
   "cell_type": "code",
   "execution_count": null,
   "id": "0e50e6a0-3b4c-4cc5-b933-f0ad316b595c",
   "metadata": {
    "tags": []
   },
   "outputs": [],
   "source": [
    "from sqlalchemy import create_engine\n",
    "\n",
    "con = create_engine(f\"sqlite:///chinook.sqlite\").connect()"
   ]
  },
  {
   "cell_type": "markdown",
   "id": "01523613-7f6e-4477-b6bf-71458a963196",
   "metadata": {},
   "source": [
    "# Exercise\n",
    "\n",
    "Now we are ready to query the database with SQL statements.\n",
    "\n",
    "In each code cell, the first line will always be `%%sql --con con` which tells Jupyter Lab to use `sql` magic with the specified connection object to handle the code in the cell. In this way, Analytical SQL Cell will process the SQL query for the result set."
   ]
  },
  {
   "cell_type": "markdown",
   "id": "277d2452-af49-4bc7-9ff9-2bbfe8291ec4",
   "metadata": {},
   "source": [
    "## Customers"
   ]
  },
  {
   "cell_type": "markdown",
   "id": "0c129e7b-ec3b-4bb2-a16a-04889695fef6",
   "metadata": {},
   "source": [
    "Provide a query showing a distinct list of billing countries from the invoice table.\n",
    "\n",
    "Hint: you can find the data in `Invoice` table. Remember to remove the duplicated items."
   ]
  },
  {
   "cell_type": "code",
   "execution_count": null,
   "id": "29a735a7-03d9-4b16-a92e-943dd26134fc",
   "metadata": {
    "tags": []
   },
   "outputs": [],
   "source": [
    "%%sql --con con\n",
    "\n",
    "SELECT DISTINCT\n",
    "    BillingCountry\n",
    "FROM Invoice"
   ]
  },
  {
   "cell_type": "markdown",
   "id": "e7ccdf45-ea5a-4ed8-b99f-e6d4a7db12c7",
   "metadata": {},
   "source": [
    "Provide a query showing customers with their full names, customer id and country who are not in the US.\n",
    "\n",
    "Hint: you can find the data in `Customer` table. You'll need to concatinate first name and last name for the full name."
   ]
  },
  {
   "cell_type": "code",
   "execution_count": null,
   "id": "d20ad42b-48a8-4f94-92a5-c6a555bf9e42",
   "metadata": {
    "tags": []
   },
   "outputs": [],
   "source": [
    "%%sql --con con\n",
    "\n",
    "SELECT\n",
    "    FirstName || ' ' || LastName AS Customer,\n",
    "    CustomerId,\n",
    "    Country\n",
    "FROM Customer \n",
    "WHERE Country != 'USA'"
   ]
  },
  {
   "cell_type": "markdown",
   "id": "4e98824b-caa5-4f9b-a0dd-c26b21c27918",
   "metadata": {},
   "source": [
    "Provide a query only showing the customers from Brazil."
   ]
  },
  {
   "cell_type": "code",
   "execution_count": null,
   "id": "639735c1-1263-43f9-9935-e4a2cbc21968",
   "metadata": {
    "tags": []
   },
   "outputs": [],
   "source": [
    "%%sql --con con\n",
    "\n",
    "SELECT\n",
    "    FirstName || ' ' || LastName AS Customer,\n",
    "    CustomerId,\n",
    "    Country\n",
    "FROM Customer \n",
    "WHERE Country = 'Brazil'"
   ]
  },
  {
   "cell_type": "markdown",
   "id": "dfe053e7-5911-4d47-ad66-2bf411f95086",
   "metadata": {},
   "source": [
    "Provide a query showing the invoices of customers who are from Brazil. The resultant table should show the customer's full name, invoice id, date of the invoice and billing country.\n",
    "\n",
    "Hint: you'll need both `Customer` and `Invoice` tables to built the query."
   ]
  },
  {
   "cell_type": "code",
   "execution_count": null,
   "id": "ec9b0b48-3ded-4ca5-bf02-25b395b7dadb",
   "metadata": {
    "tags": []
   },
   "outputs": [],
   "source": [
    "%%sql --con con\n",
    "\n",
    "SELECT\n",
    "    Customer.FirstName || ' ' || Customer.LastName AS Customer,\n",
    "    Invoice.InvoiceId,\n",
    "    Invoice.InvoiceDate,\n",
    "    Invoice.BillingCountry\n",
    "FROM Customer\n",
    "JOIN Invoice ON Customer.CustomerId = Invoice.CustomerId \n",
    "WHERE Invoice.BillingCountry = 'Brazil'"
   ]
  },
  {
   "cell_type": "markdown",
   "id": "9e12f539-178d-4c35-b888-fd43138b3e48",
   "metadata": {},
   "source": [
    "## Music"
   ]
  },
  {
   "cell_type": "markdown",
   "id": "09802f6c-c2db-4efc-a61d-1384916fa5e5",
   "metadata": {},
   "source": [
    "Print the first 10 track sales from the invoice line table.\n",
    "\n",
    "Hint: you can read from `InvoiceLine` table with a limit of 10 records."
   ]
  },
  {
   "cell_type": "code",
   "execution_count": null,
   "id": "378cfc32-8ace-4ff5-9776-b8d6846dadf6",
   "metadata": {
    "tags": []
   },
   "outputs": [],
   "source": [
    "%%sql --con con\n",
    "\n",
    "SELECT\n",
    "    *\n",
    "FROM InvoiceLine\n",
    "LIMIT 10"
   ]
  },
  {
   "cell_type": "markdown",
   "id": "77e81e98-f26f-424c-8ded-ea07a7fbbbed",
   "metadata": {},
   "source": [
    "Find the names of top 10 tracks sold and how many they times they were sold.\n",
    "\n",
    "Hint: you will also need `Track` table in addition to `InvoiceLine` to get track information."
   ]
  },
  {
   "cell_type": "code",
   "execution_count": null,
   "id": "076668ff-bdc2-41dc-a18e-80a4bc09b159",
   "metadata": {
    "tags": []
   },
   "outputs": [],
   "source": [
    "%%sql --con con\n",
    "\n",
    "SELECT\n",
    "    Track.TrackId,\n",
    "    Track.Name,\n",
    "    SUM(InvoiceLine.Quantity) AS Sold\n",
    "FROM Track\n",
    "JOIN InvoiceLine ON Track.TrackId = InvoiceLine.TrackId\n",
    "GROUP BY 1, 2\n",
    "ORDER BY 3 DESC\n",
    "LIMIT 10"
   ]
  },
  {
   "cell_type": "markdown",
   "id": "8b1ddaa4-98fd-45fd-ba82-50ef6ab279ef",
   "metadata": {},
   "source": [
    "Who are the top 10 highest selling artists?\n",
    "\n",
    "Hint: you need to get data from  the `InvoiceLine`, `Track`, `Album` and `Artist` tables."
   ]
  },
  {
   "cell_type": "code",
   "execution_count": null,
   "id": "5f38848e-f853-4507-9fd8-c7c40cedd368",
   "metadata": {
    "tags": []
   },
   "outputs": [],
   "source": [
    "%%sql --con con\n",
    "\n",
    "SELECT\n",
    "    Artist.ArtistId,\n",
    "    Artist.Name,\n",
    "    SUM(InvoiceLine.Quantity) AS Sold\n",
    "FROM InvoiceLine\n",
    "JOIN Track ON Track.TrackId = InvoiceLine.TrackId\n",
    "JOIN Album ON Album.AlbumId = Track.AlbumId\n",
    "JOIN Artist ON Artist.ArtistId = Album.ArtistId\n",
    "GROUP BY 1, 2\n",
    "ORDER BY 3 DESC\n",
    "LIMIT 10"
   ]
  },
  {
   "cell_type": "markdown",
   "id": "f2582ec9-aa57-4a88-91e7-ab696cd168bb",
   "metadata": {},
   "source": [
    "We can also visualize the result set by clicking the Chart tab with the following settings:\n",
    "\n",
    "* Chart type: Column\n",
    "* X-Axis: Name\n",
    "* Y-Axis: Sold\n",
    "* Color: Name\n",
    "\n",
    "Also you can specify the width and hight of the chart in the Display tab.\n",
    "\n",
    "If you're happy with the result, you can also click the `Pin` button to persist the result in the notebook. In this way, your colleague will be able to see the chart after receiving your notebook (without starting a kernel)."
   ]
  },
  {
   "cell_type": "markdown",
   "id": "a2f3fa71-b756-4a68-8939-cb4996c25cc1",
   "metadata": {},
   "source": [
    "## Employees"
   ]
  },
  {
   "cell_type": "markdown",
   "id": "f57f078e-5c13-42c9-aa62-14157f8307f0",
   "metadata": {},
   "source": [
    "Provide a query showing only the employees who are sales support agents.\n",
    "\n",
    "Hint: you can find the data in `Employee` table."
   ]
  },
  {
   "cell_type": "code",
   "execution_count": null,
   "id": "d78e68bb-601c-4381-8583-3a787f73acf8",
   "metadata": {
    "tags": []
   },
   "outputs": [],
   "source": [
    "%%sql --con con\n",
    "\n",
    "SELECT\n",
    "    FirstName || ' ' || LastName AS Employee,\n",
    "    EmployeeID\n",
    "FROM Employee\n",
    "WHERE Title = 'Sales Support Agent'"
   ]
  },
  {
   "cell_type": "markdown",
   "id": "faa5cfec-28c6-4814-bf98-7e88af9f891b",
   "metadata": {},
   "source": [
    "Provide a query that shows the invoices associated with each sales agent.\n",
    "\n",
    "Hint: you'll need `Customer`, `Invoice` and `Employee` tables to built the query."
   ]
  },
  {
   "cell_type": "code",
   "execution_count": null,
   "id": "5ac1863b-68bf-4b59-9722-9e300e31f357",
   "metadata": {
    "tags": []
   },
   "outputs": [],
   "source": [
    "%%sql --con con\n",
    "\n",
    "SELECT\n",
    "    Invoice.InvoiceID,\n",
    "    Invoice.Total,\n",
    "    Employee.FirstName || ' ' || Employee.LastName AS 'Sales Agent'\n",
    "FROM Invoice\n",
    "JOIN Customer ON Invoice.CustomerId = Customer.CustomerId\n",
    "JOIN Employee ON Customer.SupportRepId = Employee.EmployeeId"
   ]
  },
  {
   "cell_type": "markdown",
   "id": "0029b6c8-8180-4f69-9787-4ad03be56bf2",
   "metadata": {},
   "source": [
    "We can visualize the result set by clicking the Chart tab with the following settings:\n",
    "\n",
    "* Chart type: Bar\n",
    "* X-Axis: Sales Agent\n",
    "* Y-Axis: Total\n",
    "* Color: Sales Agent\n",
    "\n",
    "Also you can specify the width and hight of the chart in the Display tab."
   ]
  },
  {
   "cell_type": "markdown",
   "id": "f5f17c74-35e8-4425-addb-cf9e1d76b9ba",
   "metadata": {},
   "source": [
    "Provide a query that shows the invoice total, customer name, country and sale agent name for all invoices and customers.\n",
    "\n",
    "Hint: you'll need `Customer`, `Invoice` and `Employee` tables to built the query."
   ]
  },
  {
   "cell_type": "code",
   "execution_count": null,
   "id": "68d35ddc-e87f-4817-89d7-cc1e949a013a",
   "metadata": {
    "tags": []
   },
   "outputs": [],
   "source": [
    "%%sql --con con\n",
    "\n",
    "SELECT\n",
    "    Invoice.Total,\n",
    "    Customer.FirstName || ' ' || Customer.LastName AS Customer,\n",
    "    Customer.Country,\n",
    "    Employee.FirstName || ' ' || Employee.LastName AS 'Sales Agent'\n",
    "FROM Invoice\n",
    "JOIN Customer ON Invoice.CustomerId = Customer.CustomerId\n",
    "JOIN Employee ON Customer.SupportRepId = Employee.EmployeeId"
   ]
  },
  {
   "cell_type": "markdown",
   "id": "80db4fa2-4d3c-4cf4-8b37-d8bc3297e52f",
   "metadata": {},
   "source": [
    "We can visualize the result set by clicking the Chart tab with the following settings:\n",
    "\n",
    "* Chart type: Column\n",
    "* X-Axis: Country\n",
    "* Y-Axis: Total\n",
    "* Color: Sales Agent"
   ]
  },
  {
   "cell_type": "markdown",
   "id": "d057968a-f404-4618-9549-fa0f27276e79",
   "metadata": {},
   "source": [
    "## Conclusion\n",
    "\n",
    "We can see that with the help of [Analytical SQL Cell](https://github.com/datarho/asqlcell), SQL is now the first class citizen of Jupyter Lab. We can learn SQL and even visualize the result with ease."
   ]
  }
 ],
 "metadata": {
  "kernelspec": {
   "display_name": "Python 3 (ipykernel)",
   "language": "python",
   "name": "python3"
  },
  "language_info": {
   "codemirror_mode": {
    "name": "ipython",
    "version": 3
   },
   "file_extension": ".py",
   "mimetype": "text/x-python",
   "name": "python",
   "nbconvert_exporter": "python",
   "pygments_lexer": "ipython3",
   "version": "3.10.11"
  },
  "widgets": {
   "application/vnd.jupyter.widget-state+json": {
    "state": {},
    "version_major": 2,
    "version_minor": 0
   }
  }
 },
 "nbformat": 4,
 "nbformat_minor": 5
}
