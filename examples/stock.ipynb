{
 "cells": [
  {
   "cell_type": "markdown",
   "id": "e9f1bb3b-3bbb-4dd7-b32e-8cf301b5d77b",
   "metadata": {},
   "source": [
    "# Import asqlcell"
   ]
  },
  {
   "cell_type": "code",
   "execution_count": 1,
   "id": "562a258c-4dc4-4e73-92ab-9fcdd54c6874",
   "metadata": {},
   "outputs": [],
   "source": [
    "import asqlcell"
   ]
  },
  {
   "cell_type": "markdown",
   "id": "40693f39-43f6-498d-9c78-d4b0a64ccf13",
   "metadata": {
    "tags": []
   },
   "source": [
    "# Data Preview\n",
    "The data comes from A-shares.  \n",
    "code: Stock code  \n",
    "date: Date  \n",
    "O: Opening price  \n",
    "H: Highest price  \n",
    "C: Closing price  \n",
    "L: Lowest price  "
   ]
  },
  {
   "cell_type": "code",
   "execution_count": 19,
   "id": "9ce3b21a-3929-483c-a0b9-3a9b7d882945",
   "metadata": {},
   "outputs": [
    {
     "data": {
      "application/vnd.jupyter.widget-view+json": {
       "model_id": "041d0f644cda4c0e98a4b85883b6789e",
       "version_major": 2,
       "version_minor": 0
      },
      "text/plain": [
       "SqlcellWidget(cache='{\"selectedCol\":[{\"seriesName\":\"\",\"colName\":\"O\",\"aggregate\":\"\"},{\"seriesName\":\"\",\"colName\"…"
      ]
     },
     "execution_count": 19,
     "metadata": {},
     "output_type": "execute_result"
    }
   ],
   "source": [
    "%%sql\n",
    "SELECT *\n",
    "FROM stock.parquet\n",
    "LIMIT 100"
   ]
  },
  {
   "cell_type": "markdown",
   "id": "7aca279b-1382-4bcb-8baa-10fc526ceff6",
   "metadata": {
    "tags": []
   },
   "source": [
    "# Feature Engineering\n",
    "\n",
    "The following sql code generates the relevant indicators of the stock, as well as the earnings of buying at the opening price of the next day and selling at the closing price of T+1 and T+2 respectively.\n",
    "  \n",
    "Description of the indicator,    \n",
    "LOW5：5-day low  \n",
    "HIGH5: 5-day high  \n",
    "FA: 5-day average price  \n",
    "FB: LOW5 / HIGH5  \n",
    "FC: The closing price of the day divided by the 5-day low  \n",
    "FD: The closing price of the day divided by the 5-day high  \n",
    "FE: The daily high divided by the 5-day maximum of the low  \n",
    "FF: 5-day average price divided by 10-day average price  \n",
    "FG: 5th closing price  \n",
    "FH: Median value of the 10-day closing price  \n",
    "FI: Median of the difference between the 10-day closing price and the median MEDIAN(ABS(x-MEDIAN(x)))  \n",
    "FJ: Correlation between 10-day highs and lows  \n",
    "FK: Slope of 10-day H and L linear regression  \n",
    "canBuy: Whether you can buy on the next trading day of the current trading day  \n",
    "gain: The gain from buying at the opening price of the next trading day of the current trading day and selling at the closing price of T+1  \n",
    "gain3: The gain of buying at the opening price of the next trading day of the current trading day, and selling at the closing price of T+2  \n",
    "  \n",
    "WINDOW  \n",
    "Five: 5-day window, sorted by date partition by code  \n",
    "ten: 10-day window, sorted by date partition by code  \n",
    "norm: general window, unlimited number, sorted by date partition by code  \n",
    "  \n",
    "WHERE  \n",
    "Filter gain fluctuates too much, it may be dirty data  \n",
    "Filter for trading days where you can't buy"
   ]
  },
  {
   "cell_type": "code",
   "execution_count": 3,
   "id": "cf72c38e-41ac-4e3b-804a-333ab55d9f8f",
   "metadata": {
    "tags": []
   },
   "outputs": [
    {
     "data": {
      "application/vnd.jupyter.widget-view+json": {
       "model_id": "ebddd79cae744835a8fb3e05a0bcf3e1",
       "version_major": 2,
       "version_minor": 0
      },
      "text/plain": [
       "SqlcellWidget(column_sort=('', 0), data_grid='{\"columns\":[\"code\",\"date\",\"LOW5\",\"HIGH5\",\"FA\",\"FB\",\"FC\",\"FD\",\"FE…"
      ]
     },
     "execution_count": 3,
     "metadata": {},
     "output_type": "execute_result"
    }
   ],
   "source": [
    "%%sql mytable\n",
    "SELECT *\n",
    "FROM\n",
    "(\n",
    "\tselect code, date,\n",
    "\t\t\tmin(L) OVER five as LOW5, \n",
    "\t\t\tmax(H) OVER five as HIGH5,\n",
    "\t\t\t--Feature\n",
    "\t\t\tavg(C) OVER five as FA,\n",
    "\t\t\tLOW5 / HIGH5 as FB,\n",
    "\t\t\tC / LOW5 as FC,\n",
    "\t\t\tC / HIGH5 as FD,\n",
    "\t\t\tmax(H / L) OVER five as FE,\n",
    "\t\t\tavg(C) OVER five / avg(C) over ten as FF,\n",
    "\t\t\tC / nth_value(C, 5) over ten as FG,\n",
    "\t\t\tquantile_cont(C, 0.5) OVER ten FH, --Median value\n",
    "\t\t\tmad(C) OVER ten FI,\n",
    "\t\t\tcorr(H, L) OVER ten FJ,\n",
    "\t\t\tregr_slope(H, L) OVER ten FK,\n",
    "\t\t\t--2 Days return ratio\n",
    "\t\t\tlead(L, 1, null) OVER norm < lead(H, 1, null) OVER norm as canBuy,\n",
    "\t\t\tlead(C, 2, null) OVER norm / lead(O, 1, null) OVER norm - 1 as gain,\n",
    "\t\t\tlead(C, 3, null) OVER norm / lead(O, 1, null) OVER norm - 1 as gain3\n",
    "\tFROM stock.parquet\n",
    "\tWINDOW\n",
    "\t\tfive AS (PARTITION BY code ORDER BY date ASC ROWS BETWEEN 4 PRECEDING AND 0 FOLLOWING),\n",
    "\t\tten AS (PARTITION BY code ORDER BY date ASC ROWS BETWEEN 9 PRECEDING AND 0 FOLLOWING),\n",
    "\t\tnorm AS (PARTITION BY code ORDER BY date ASC)\n",
    ") a\n",
    "WHERE gain is not null AND abs(gain) < 0.30 AND gain3 is not null AND\n",
    "\t\tcanBuy is not null AND canBuy"
   ]
  },
  {
   "cell_type": "markdown",
   "id": "08c463c1-3dd1-4550-95c8-4ca208e67f43",
   "metadata": {},
   "source": [
    "The type of each field in mytable"
   ]
  },
  {
   "cell_type": "code",
   "execution_count": 4,
   "id": "8f3f2d8e-4925-42a0-b157-27e4fc6a5da6",
   "metadata": {},
   "outputs": [
    {
     "data": {
      "text/plain": [
       "[{'code': 'object'},\n",
       " {'date': 'datetime64[ns]'},\n",
       " {'LOW5': 'float64'},\n",
       " {'HIGH5': 'float64'},\n",
       " {'FA': 'float64'},\n",
       " {'FB': 'float64'},\n",
       " {'FC': 'float64'},\n",
       " {'FD': 'float64'},\n",
       " {'FE': 'float64'},\n",
       " {'FF': 'float64'},\n",
       " {'FG': 'float64'},\n",
       " {'FH': 'float64'},\n",
       " {'FI': 'float64'},\n",
       " {'FJ': 'float64'},\n",
       " {'FK': 'float64'},\n",
       " {'canBuy': 'bool'},\n",
       " {'gain': 'float64'},\n",
       " {'gain3': 'float64'}]"
      ]
     },
     "execution_count": 4,
     "metadata": {},
     "output_type": "execute_result"
    }
   ],
   "source": [
    "[{column:mytable.dtypes[column].name} for column in mytable]"
   ]
  },
  {
   "cell_type": "code",
   "execution_count": 5,
   "id": "38bc0af5-4b18-4249-bdb5-68dff8f9255f",
   "metadata": {},
   "outputs": [
    {
     "data": {
      "application/vnd.jupyter.widget-view+json": {
       "model_id": "a9fb0c4000ca4ee0959da856961a6a32",
       "version_major": 2,
       "version_minor": 0
      },
      "text/plain": [
       "SqlcellWidget(column_sort=('', 0), data_grid='{\"columns\":[\"date\"],\"index\":[0,1,2,3,4,5,6,7,8,9],\"data\":[[\"2020…"
      ]
     },
     "execution_count": 5,
     "metadata": {},
     "output_type": "execute_result"
    }
   ],
   "source": [
    "%%sql\n",
    "select date from mytable"
   ]
  },
  {
   "cell_type": "markdown",
   "id": "66010902-de54-4f68-b16e-df45d78ebaca",
   "metadata": {},
   "source": [
    "# Percentage Return Ratio\n",
    "Sort the indicator into 6 quantiles by day and calculate the average return for each quantile.    \n",
    " "
   ]
  },
  {
   "cell_type": "code",
   "execution_count": 6,
   "id": "97ee563d-cbeb-46ee-8fdf-9ed9aaef6a8d",
   "metadata": {},
   "outputs": [
    {
     "data": {
      "application/vnd.jupyter.widget-view+json": {
       "model_id": "e824d8a6f59c423389a51e2b3e543486",
       "version_major": 2,
       "version_minor": 0
      },
      "text/plain": [
       "SqlcellWidget(column_sort=('', 0), data_grid='{\"columns\":[\"RA\",\"GA\",\"GA3\",\"c\"],\"index\":[0,1,2,3,4,5,6,7,8,9],\"…"
      ]
     },
     "execution_count": 6,
     "metadata": {},
     "output_type": "execute_result"
    }
   ],
   "source": [
    "%%sql\n",
    "SELECT RA, avg(gain) * 100 GA, avg(gain3) * 100 GA3, count(1) c\n",
    "FROM\n",
    "(\n",
    "\tSELECT cast(percent_rank() OVER wa * 20 as int) RA, gain, gain3\n",
    "\tFROM mytable\n",
    "\tWINDOW wa as (PARTITION BY date ORDER BY FA)\n",
    ")\n",
    "GROUP BY RA"
   ]
  },
  {
   "cell_type": "markdown",
   "id": "74986cf1-ce5e-496f-b639-b4733b1fa658",
   "metadata": {},
   "source": [
    "Here the syntax of GROUP BY CUBE is used to directly generate all subsets in parentheses, calculate the average payoff in each subcube.  \n",
    "This method is more convenient for joint analysis of indicators.  "
   ]
  },
  {
   "cell_type": "code",
   "execution_count": 7,
   "id": "65f6fb10-eb20-46c3-b92c-2f5059e3356e",
   "metadata": {},
   "outputs": [
    {
     "data": {
      "application/vnd.jupyter.widget-view+json": {
       "model_id": "03409dde65cd4fe69a800e0adee81a40",
       "version_major": 2,
       "version_minor": 0
      },
      "text/plain": [
       "SqlcellWidget(column_sort=('', 0), data_grid='{\"columns\":[\"RA\",\"RB\",\"RC\",\"GA\",\"(avg(gain3) * 10)\",\"c\"],\"index\"…"
      ]
     },
     "execution_count": 7,
     "metadata": {},
     "output_type": "execute_result"
    }
   ],
   "source": [
    "%%sql\n",
    "SELECT RA, RB, RC, avg(gain) * 100 GA, avg(gain3) * 10, count(1) c\n",
    "FROM\n",
    "(\n",
    "\tSELECT cast(percent_rank() OVER wa * 5 as int) RA,\n",
    "\t\t\tcast(percent_rank() OVER wb * 5 as int) RB,\n",
    "\t\t\tcast(percent_rank() OVER wc * 5 as int) RC,\n",
    "\t\t\tgain, gain3\n",
    "\tFROM mytable\n",
    "\tWINDOW\n",
    "\t\twa as (PARTITION BY date ORDER BY FA),\n",
    "\t\twb as (PARTITION BY date ORDER BY FB),\n",
    "\t\twc as (PARTITION BY date ORDER BY FC)\n",
    ")\n",
    "GROUP BY CUBE (RA, RB, RC)"
   ]
  },
  {
   "cell_type": "markdown",
   "id": "9e9c1934-5bed-47d7-8168-01a9d365ea16",
   "metadata": {},
   "source": [
    "# Correlation Analysis\n",
    "Correlation analysis, calculated using 'colunms', shows that FF is negatively correlated with gain, in other words, when the FF indicator is larger, the more likely the stock is to fall in the short term.  "
   ]
  },
  {
   "cell_type": "code",
   "execution_count": 8,
   "id": "ffe188e5-25e9-4753-86a8-cdedaf50691d",
   "metadata": {},
   "outputs": [
    {
     "data": {
      "application/vnd.jupyter.widget-view+json": {
       "model_id": "685802b995c044cebcb6611cc4e8bc1c",
       "version_major": 2,
       "version_minor": 0
      },
      "text/plain": [
       "SqlcellWidget(column_sort=('', 0), data_grid='{\"columns\":[\"f\",\"f_2\",\"f_3\",\"f_4\",\"f_5\",\"f_6\",\"f_7\",\"f_8\",\"f_9\",…"
      ]
     },
     "execution_count": 8,
     "metadata": {},
     "output_type": "execute_result"
    }
   ],
   "source": [
    "%%sql\n",
    "SELECT corr(columns('F.+'), gain) as f\n",
    "FROM mytable"
   ]
  },
  {
   "cell_type": "markdown",
   "id": "bce1e7c1-dc7b-48bf-b3f8-6072253515a5",
   "metadata": {},
   "source": [
    "# Performance Optimization\n",
    "Use the following statement to save data in parquet format, which will greatly improve the efficiency of data storage and file loading."
   ]
  },
  {
   "cell_type": "code",
   "execution_count": 9,
   "id": "9f5adfd9-2308-458e-8941-de45d526c9a7",
   "metadata": {},
   "outputs": [
    {
     "data": {
      "application/vnd.jupyter.widget-view+json": {
       "model_id": "17de7703e098444582d8133276f7fa68",
       "version_major": 2,
       "version_minor": 0
      },
      "text/plain": [
       "SqlcellWidget(column_sort=('', 0), data_grid='{\"columns\":[\"Count\"],\"index\":[0],\"data\":[[2518419]]}\\n1', data_n…"
      ]
     },
     "execution_count": 9,
     "metadata": {},
     "output_type": "execute_result"
    }
   ],
   "source": [
    "%%sql\n",
    "COPY (SELECT * FROM stock.parquet) to 'stock.parquet' (FORMAT PARQUET)"
   ]
  },
  {
   "cell_type": "markdown",
   "id": "7f2f1697-c348-4e95-a29e-9dbd34de6911",
   "metadata": {},
   "source": [
    "Export to the partition table of parquet"
   ]
  },
  {
   "cell_type": "code",
   "execution_count": 10,
   "id": "c3a2890f-e705-4825-bca8-df84a226c5df",
   "metadata": {
    "tags": []
   },
   "outputs": [
    {
     "data": {
      "application/vnd.jupyter.widget-view+json": {
       "model_id": "00181b30ddf3483c8c223ab175c7d776",
       "version_major": 2,
       "version_minor": 0
      },
      "text/plain": [
       "FloatProgress(value=0.0, layout=Layout(width='auto'), style=ProgressStyle(bar_color='black'))"
      ]
     },
     "metadata": {},
     "output_type": "display_data"
    },
    {
     "data": {
      "application/vnd.jupyter.widget-view+json": {
       "model_id": "964ec4a304e94026b53c7f8e98a70569",
       "version_major": 2,
       "version_minor": 0
      },
      "text/plain": [
       "SqlcellWidget(column_sort=('', 0), data_grid='{\"columns\":[\"Count\"],\"index\":[0],\"data\":[[0]]}\\n1', data_name='_…"
      ]
     },
     "execution_count": 10,
     "metadata": {},
     "output_type": "execute_result"
    }
   ],
   "source": [
    "%%sql\n",
    "COPY (SELECT * FROM stock.parquet) to 'stock' (FORMAT PARQUET, PARTITION_BY date, OVERWRITE_OR_IGNORE TRUE)"
   ]
  },
  {
   "cell_type": "markdown",
   "id": "79be6950-b160-4df6-8969-29c9789e84f0",
   "metadata": {},
   "source": [
    "Specify the partition by WHERE"
   ]
  },
  {
   "cell_type": "code",
   "execution_count": 11,
   "id": "230a98da-73b7-4105-a5fe-11999850a540",
   "metadata": {
    "tags": []
   },
   "outputs": [
    {
     "data": {
      "application/vnd.jupyter.widget-view+json": {
       "model_id": "647e1dee4dbb4c97ad4e26fbac5235f5",
       "version_major": 2,
       "version_minor": 0
      },
      "text/plain": [
       "SqlcellWidget(column_sort=('', 0), data_grid='{\"columns\":[\"Count\"],\"index\":[0],\"data\":[[0]]}\\n1', data_name='_…"
      ]
     },
     "execution_count": 11,
     "metadata": {},
     "output_type": "execute_result"
    }
   ],
   "source": [
    "%%sql\n",
    "COPY (SELECT * FROM stock.parquet WHERE date='2020-09-02') to 'stock' (FORMAT PARQUET, PARTITION_BY date, OVERWRITE_OR_IGNORE TRUE)"
   ]
  },
  {
   "cell_type": "markdown",
   "id": "70ce1874-5149-4ddd-a704-4389c46c5854",
   "metadata": {},
   "source": [
    "Load partition table"
   ]
  },
  {
   "cell_type": "code",
   "execution_count": 12,
   "id": "577d667a-efec-40c9-b908-eee991c17229",
   "metadata": {},
   "outputs": [
    {
     "data": {
      "application/vnd.jupyter.widget-view+json": {
       "model_id": "f7955f74d7144ec9a6a35c6bac0ab33e",
       "version_major": 2,
       "version_minor": 0
      },
      "text/plain": [
       "SqlcellWidget(column_sort=('', 0), data_grid='{\"columns\":[\"code\",\"date\",\"O\",\"H\",\"C\",\"L\"],\"index\":[0,1,2,3,4,5,…"
      ]
     },
     "execution_count": 12,
     "metadata": {},
     "output_type": "execute_result"
    }
   ],
   "source": [
    "%%sql data\n",
    "SELECT * FROM read_parquet('stock/*/*.parquet', HIVE_PARTITIONING=1)"
   ]
  },
  {
   "cell_type": "markdown",
   "id": "52884eca-8306-4eb4-8071-05c0e992ea63",
   "metadata": {},
   "source": [
    "# Reference Python variables directly in %sql statements"
   ]
  },
  {
   "cell_type": "code",
   "execution_count": 13,
   "id": "711f7456-de2d-4deb-b0ff-660ff94df54c",
   "metadata": {},
   "outputs": [
    {
     "data": {
      "text/html": [
       "<div>\n",
       "<style scoped>\n",
       "    .dataframe tbody tr th:only-of-type {\n",
       "        vertical-align: middle;\n",
       "    }\n",
       "\n",
       "    .dataframe tbody tr th {\n",
       "        vertical-align: top;\n",
       "    }\n",
       "\n",
       "    .dataframe thead th {\n",
       "        text-align: right;\n",
       "    }\n",
       "</style>\n",
       "<table border=\"1\" class=\"dataframe\">\n",
       "  <thead>\n",
       "    <tr style=\"text-align: right;\">\n",
       "      <th></th>\n",
       "      <th>corr(FA, FB)</th>\n",
       "    </tr>\n",
       "  </thead>\n",
       "  <tbody>\n",
       "    <tr>\n",
       "      <th>0</th>\n",
       "      <td>-0.118705</td>\n",
       "    </tr>\n",
       "  </tbody>\n",
       "</table>\n",
       "</div>"
      ],
      "text/plain": [
       "   corr(FA, FB)\n",
       "0     -0.118705"
      ]
     },
     "execution_count": 13,
     "metadata": {},
     "output_type": "execute_result"
    }
   ],
   "source": [
    "colunm1 = 'FA'\n",
    "colunm2 = 'FB'\n",
    "%sql SELECT corr({colunm1}, {colunm2}) from mytable"
   ]
  },
  {
   "cell_type": "markdown",
   "id": "28c75691-d68f-40d6-8708-0c6b836eb770",
   "metadata": {},
   "source": [
    "# Sql Parameterization"
   ]
  },
  {
   "cell_type": "code",
   "execution_count": 14,
   "id": "59b05a70-d70d-48df-b6af-b91da750b1ff",
   "metadata": {},
   "outputs": [],
   "source": [
    "columns = ['FA', 'FB', 'FC']\n",
    "codes = ['000001', '600001']\n",
    "tablename = 'mytable'\n",
    "limit = 500\n",
    "sort = 'asc'"
   ]
  },
  {
   "cell_type": "code",
   "execution_count": 15,
   "id": "1b5f8b99-0195-497a-a8d5-c4d15b077353",
   "metadata": {},
   "outputs": [
    {
     "data": {
      "application/vnd.jupyter.widget-view+json": {
       "model_id": "6f031dd8e7f0481d84642b0d6d243c97",
       "version_major": 2,
       "version_minor": 0
      },
      "text/plain": [
       "SqlcellWidget(column_sort=('', 0), data_grid='{\"columns\":[\"code\",\"date\",\"FA\",\"FB\",\"FC\"],\"index\":[0,1,2,3,4,5,6…"
      ]
     },
     "execution_count": 15,
     "metadata": {},
     "output_type": "execute_result"
    }
   ],
   "source": [
    "%%sql \n",
    "SELECT code, date,\n",
    "{% for i in columns %}\n",
    "    {{i | e}}\n",
    "    {% if not loop.last %}\n",
    "        ,\n",
    "    {% endif %}\n",
    "{% endfor %}\n",
    "FROM \n",
    "{{ tablename | sqlsafe }}\n",
    "where code in ({{ codes | inclause }}) \n",
    "order by date {{ sort | sqlsafe }}\n",
    "limit {{limit}}"
   ]
  }
 ],
 "metadata": {
  "kernelspec": {
   "display_name": "Python 3 (ipykernel)",
   "language": "python",
   "name": "python3"
  },
  "language_info": {
   "codemirror_mode": {
    "name": "ipython",
    "version": 3
   },
   "file_extension": ".py",
   "mimetype": "text/x-python",
   "name": "python",
   "nbconvert_exporter": "python",
   "pygments_lexer": "ipython3",
   "version": "3.11.0"
  },
  "widgets": {
   "application/vnd.jupyter.widget-state+json": {
    "state": {
     "453bc79f697247a2857436b6c1e01457": {
      "model_module": "@jupyter-widgets/base",
      "model_module_version": "2.0.0",
      "model_name": "LayoutModel",
      "state": {}
     },
     "7585ed4d17c5458cb722c19b6dd6a58a": {
      "model_module": "@jupyter-widgets/base",
      "model_module_version": "2.0.0",
      "model_name": "LayoutModel",
      "state": {}
     },
     "a6fbc197acb443689857f81ef1b06bb8": {
      "model_module": "asqlcell",
      "model_module_version": "0.1.0",
      "model_name": "SqlCellModel",
      "state": {
       "column_sort": [
        "",
        0
       ],
       "data_grid": "{\"columns\":[\"code\",\"date\",\"O\",\"H\",\"C\",\"L\"],\"index\":[0,1,2,3,4,5,6,7,8,9],\"data\":[[\"000001\",\"2020-09-02T00:00:00.000\",15.01,15.53,15.32,15.01],[\"000001\",\"2020-09-03T00:00:00.000\",15.32,15.33,14.9,14.84],[\"000001\",\"2020-09-04T00:00:00.000\",14.73,15.06,14.96,14.6],[\"000001\",\"2020-09-07T00:00:00.000\",14.88,15.24,14.94,14.83],[\"000001\",\"2020-09-08T00:00:00.000\",15.0,15.43,15.43,15.0],[\"000001\",\"2020-09-09T00:00:00.000\",15.26,15.56,15.21,15.13],[\"000001\",\"2020-09-10T00:00:00.000\",15.32,15.48,15.34,15.2],[\"000001\",\"2020-09-11T00:00:00.000\",15.18,15.3,15.01,14.82],[\"000001\",\"2020-09-14T00:00:00.000\",15.01,15.3,15.3,14.92],[\"000001\",\"2020-09-15T00:00:00.000\",15.2,15.48,15.35,15.15]]}\n100",
       "data_name": "__9ce3b21a3929483ca0b93a9b7d882945",
       "data_sql": "SELECT *\nFROM stock.parquet\nLIMIT 100\n",
       "dfs_button": "",
       "dfs_result": "",
       "error": "",
       "exec_time": "2023-04-25 17:16:30.251795,2023-04-25 17:16:30.322617",
       "json_dump": "2023-04-27T03:22:52.382Z",
       "layout": "IPY_MODEL_7585ed4d17c5458cb722c19b6dd6a58a",
       "mode": "CMD",
       "row_range": [
        0,
        10
       ],
       "sql_button": "",
       "title_hist": "[{\"columnName\": \"code\", \"dtype\": \"object\", \"bins\": [{\"bin\": \"000001\", \"count\": 100}, {\"bin\": \"other\", \"count\": 0}]}, {\"columnName\": \"date\", \"dtype\": \"datetime64[ns]\", \"bins\": [{\"bin\": \"2021-01-28T00:00:00.000000000\", \"count\": 1}, {\"bin\": \"2020-10-30T00:00:00.000000000\", \"count\": 1}, {\"bin\": \"2020-10-16T00:00:00.000000000\", \"count\": 1}, {\"bin\": \"2020-10-19T00:00:00.000000000\", \"count\": 1}, {\"bin\": \"other\", \"count\": 96}]}, {\"columnName\": \"O\", \"dtype\": \"float64\", \"bins\": [{\"bin_start\": 14.73, \"bin_end\": 15.535, \"count\": 17}, {\"bin_start\": 15.535, \"bin_end\": 16.34, \"count\": 9}, {\"bin_start\": 16.34, \"bin_end\": 17.145, \"count\": 2}, {\"bin_start\": 17.145, \"bin_end\": 17.95, \"count\": 16}, {\"bin_start\": 17.95, \"bin_end\": 18.755000000000003, \"count\": 18}, {\"bin_start\": 18.755000000000003, \"bin_end\": 19.560000000000002, \"count\": 17}, {\"bin_start\": 19.560000000000002, \"bin_end\": 20.365000000000002, \"count\": 8}, {\"bin_start\": 20.365000000000002, \"bin_end\": 21.17, \"count\": 4}, {\"bin_start\": 21.17, \"bin_end\": 21.975, \"count\": 2}, {\"bin_start\": 21.975, \"bin_end\": 22.78, \"count\": 7}]}, {\"columnName\": \"H\", \"dtype\": \"float64\", \"bins\": [{\"bin_start\": 15.06, \"bin_end\": 15.901, \"count\": 20}, {\"bin_start\": 15.901, \"bin_end\": 16.742, \"count\": 5}, {\"bin_start\": 16.742, \"bin_end\": 17.583, \"count\": 4}, {\"bin_start\": 17.583, \"bin_end\": 18.424, \"count\": 17}, {\"bin_start\": 18.424, \"bin_end\": 19.265, \"count\": 24}, {\"bin_start\": 19.265, \"bin_end\": 20.106, \"count\": 14}, {\"bin_start\": 20.106, \"bin_end\": 20.947, \"count\": 4}, {\"bin_start\": 20.947, \"bin_end\": 21.788, \"count\": 2}, {\"bin_start\": 21.788, \"bin_end\": 22.628999999999998, \"count\": 3}, {\"bin_start\": 22.628999999999998, \"bin_end\": 23.47, \"count\": 7}]}, {\"columnName\": \"C\", \"dtype\": \"float64\", \"bins\": [{\"bin_start\": 14.8, \"bin_end\": 15.628, \"count\": 19}, {\"bin_start\": 15.628, \"bin_end\": 16.456, \"count\": 6}, {\"bin_start\": 16.456, \"bin_end\": 17.284, \"count\": 3}, {\"bin_start\": 17.284, \"bin_end\": 18.112, \"count\": 22}, {\"bin_start\": 18.112, \"bin_end\": 18.939999999999998, \"count\": 18}, {\"bin_start\": 18.939999999999998, \"bin_end\": 19.768, \"count\": 15}, {\"bin_start\": 19.768, \"bin_end\": 20.596, \"count\": 5}, {\"bin_start\": 20.596, \"bin_end\": 21.424, \"count\": 3}, {\"bin_start\": 21.424, \"bin_end\": 22.252, \"count\": 2}, {\"bin_start\": 22.252, \"bin_end\": 23.08, \"count\": 7}]}, {\"columnName\": \"L\", \"dtype\": \"float64\", \"bins\": [{\"bin_start\": 14.6, \"bin_end\": 15.385, \"count\": 18}, {\"bin_start\": 15.385, \"bin_end\": 16.169999999999998, \"count\": 8}, {\"bin_start\": 16.169999999999998, \"bin_end\": 16.955, \"count\": 3}, {\"bin_start\": 16.955, \"bin_end\": 17.74, \"count\": 18}, {\"bin_start\": 17.74, \"bin_end\": 18.525, \"count\": 19}, {\"bin_start\": 18.525, \"bin_end\": 19.31, \"count\": 15}, {\"bin_start\": 19.31, \"bin_end\": 20.095, \"count\": 7}, {\"bin_start\": 20.095, \"bin_end\": 20.88, \"count\": 3}, {\"bin_start\": 20.88, \"bin_end\": 21.665, \"count\": 3}, {\"bin_start\": 21.665, \"bin_end\": 22.45, \"count\": 6}]}]",
       "vis_data": "{\"columns\":[\"O\"],\"index\":[0,1,2,3,4,5,6,7,8,9,10,11,12,13,14,15,16,17,18,19,20,21,22,23,24,25,26,27,28,29,30,31,32,33,34,35,36,37,38,39,40,41,42,43,44,45,46,47,48,49,50,51,52,53,54,55,56,57,58,59,60,61,62,63,64,65,66,67,68,69,70,71,72,73,74,75,76,77,78,79,80,81,82,83,84,85,86,87,88,89,90,91,92,93,94,95,96,97,98,99],\"data\":[[15.01],[15.32],[14.73],[14.88],[15.0],[15.26],[15.32],[15.18],[15.01],[15.2],[15.32],[15.54],[15.62],[16.0],[15.67],[15.59],[15.59],[15.2],[15.19],[15.39],[14.8],[15.3],[15.22],[15.9],[16.04],[16.2],[16.56],[17.3],[17.48],[17.64],[17.94],[17.53],[18.2],[18.0],[17.76],[17.54],[17.74],[17.65],[17.71],[18.35],[18.37],[17.71],[17.67],[18.0],[18.2],[17.81],[17.42],[17.08],[17.38],[17.78],[18.59],[18.83],[18.85],[19.62],[19.48],[19.05],[20.0],[19.9],[19.7],[19.93],[19.78],[19.47],[19.31],[18.92],[18.79],[18.73],[18.71],[18.6],[18.8],[18.8],[18.91],[19.0],[18.3],[18.36],[17.96],[18.15],[18.26],[18.02],[18.87],[19.0],[19.21],[19.1],[18.4],[18.08],[19.52],[19.9],[20.0],[20.39],[21.0],[20.68],[21.0],[21.2],[22.51],[22.15],[22.5],[22.23],[21.72],[22.3],[22.31],[22.78]]}",
       "vis_sql": [
        "select * EXCLUDE (index_rn1qaz2wsx)\nfrom \n(\nSELECT \"O\", ROW_NUMBER() OVER () AS index_rn1qaz2wsx\nFROM $$__NAME__$$\n)\nusing SAMPLE reservoir (100 rows) REPEATABLE(42)\norder by index_rn1qaz2wsx",
        "2023-04-25T09:16:30.367Z"
       ]
      }
     },
     "a988b9b0ce7a4bcb89320be7b94d68d5": {
      "model_module": "asqlcell",
      "model_module_version": "0.1.0",
      "model_name": "SqlCellModel",
      "state": {
       "column_sort": [
        "",
        0
       ],
       "data_grid": "{\"columns\":[\"date\"],\"index\":[0,1,2,3,4,5,6,7,8,9],\"data\":[[\"2020-11-09T00:00:00.000\"],[\"2020-11-10T00:00:00.000\"],[\"2020-11-11T00:00:00.000\"],[\"2020-11-12T00:00:00.000\"],[\"2020-11-13T00:00:00.000\"],[\"2020-11-16T00:00:00.000\"],[\"2020-11-17T00:00:00.000\"],[\"2020-11-18T00:00:00.000\"],[\"2020-11-19T00:00:00.000\"],[\"2020-11-20T00:00:00.000\"]]}\n2496660",
       "data_name": "__38bc0af54b184249bdb568dff8f9255f",
       "data_sql": "select date from mytable\n",
       "dfs_button": "",
       "dfs_result": "",
       "error": "",
       "exec_time": "2023-04-26 10:31:43.112524,2023-04-26 10:31:44.580905",
       "json_dump": "2023-04-27T03:22:52.382Z",
       "layout": "IPY_MODEL_e1d2579b33e54bee8e26b8aaa98c74f1",
       "mode": "CMD",
       "row_range": [
        0,
        10
       ],
       "sql_button": "",
       "title_hist": "[{\"columnName\": \"date\", \"dtype\": \"datetime64[ns]\", \"bins\": [{\"bin\": \"2022-12-23T00:00:00.000000000\", \"count\": 4879}, {\"bin\": \"2022-12-14T00:00:00.000000000\", \"count\": 4878}, {\"bin\": \"2022-12-15T00:00:00.000000000\", \"count\": 4878}, {\"bin\": \"2022-12-19T00:00:00.000000000\", \"count\": 4878}, {\"bin\": \"other\", \"count\": 2477147}]}]",
       "vis_data": "",
       "vis_sql": [
        "select * EXCLUDE (index_rn1qaz2wsx)\nfrom \n(\nSELECT \"undefined\", ROW_NUMBER() OVER () AS index_rn1qaz2wsx\nFROM $$__NAME__$$\n)\nusing SAMPLE reservoir (100 rows) REPEATABLE(42)\norder by index_rn1qaz2wsx",
        "2023-04-26T02:31:44.649Z"
       ]
      }
     },
     "aa59f12117d84855b69f822e5ed0fed3": {
      "model_module": "asqlcell",
      "model_module_version": "0.1.0",
      "model_name": "SqlCellModel",
      "state": {
       "column_sort": [
        "",
        0
       ],
       "data_grid": "{\"columns\":[\"code\",\"date\",\"LOW5\",\"HIGH5\",\"FA\",\"FB\",\"FC\",\"FD\",\"FE\",\"FF\",\"FG\",\"FH\",\"FI\",\"FJ\",\"FK\",\"canBuy\",\"gain\",\"gain3\"],\"index\":[0,1,2,3,4,5,6,7,8,9],\"data\":[[\"000029\",\"2020-11-09T00:00:00.000\",10.35,11.89,11.89,0.8704793944,1.1487922705,1.0,1.1487922705,1.0,null,11.89,0.0,null,null,true,-0.1332133213,-0.1917191719],[\"000029\",\"2020-11-10T00:00:00.000\",10.35,11.89,11.295,0.8704793944,1.0338164251,0.8999158957,1.1487922705,1.0,null,11.295,0.595,-1.0,-0.8571428571,true,-0.102,-0.109],[\"000029\",\"2020-11-11T00:00:00.000\",9.63,11.89,10.74,0.8099243061,1.0,0.8099243061,1.1487922705,1.0,null,10.7,1.07,0.8830309066,1.5055437339,true,-0.0419354839,-0.0612903226],[\"000029\",\"2020-11-12T00:00:00.000\",8.88,11.89,10.3,0.7468460892,1.0112612613,0.7552565181,1.1487922705,1.0,null,10.165,0.86,0.952052749,1.3932187788,true,-0.01578354,0.0304396843],[\"000029\",\"2020-11-13T00:00:00.000\",8.72,11.89,10.022,0.7333894029,1.0217889908,0.7493692178,1.1487922705,1.0,1.0,9.63,0.72,0.9681409605,1.3862947956,true,0.0269662921,-0.004494382],[\"000029\",\"2020-11-16T00:00:00.000\",8.57,11.59,9.39,0.7394305436,1.0186697783,0.7532355479,1.0831775701,0.9575118967,0.9797979798,9.305,0.485,0.9758184737,1.3931347391,true,0.0195627158,0.0057537399],[\"000029\",\"2020-11-17T00:00:00.000\",8.57,10.15,9.078,0.8443349754,1.0665110852,0.9004926108,1.1033681765,0.9347749338,1.0258136925,9.14,0.41,0.9647583876,1.3098573472,true,-0.0288888889,-0.0411111111],[\"000029\",\"2020-11-18T00:00:00.000\",8.57,9.5,8.924,0.9021052632,1.0338389732,0.9326315789,1.1033681765,0.9290994274,0.9943883277,9.06,0.265,0.9643365957,1.3382330618,true,-0.020431328,-0.020431328],[\"000029\",\"2020-11-19T00:00:00.000\",8.57,9.5,8.876,0.9021052632,1.0198366394,0.92,1.1033681765,0.9334423931,0.9809203143,8.98,0.24,0.9646151437,1.3645049354,true,-0.0114547537,0.0068728522],[\"000029\",\"2020-11-20T00:00:00.000\",8.57,9.5,8.82,0.9021052632,1.0070011669,0.9084210526,1.1033681765,0.9362063475,0.9685746352,8.945,0.21,0.9660320664,1.3880559698,true,0.0244755245,0.0011655012]]}\n2496660",
       "data_name": "mytable",
       "data_sql": "SELECT *\nFROM\n(\n\tselect code, date,\n\t\t\tmin(L) OVER five as LOW5, \n\t\t\tmax(H) OVER five as HIGH5,\n\t\t\t--Feature\n\t\t\tavg(C) OVER five as FA,\n\t\t\tLOW5 / HIGH5 as FB,\n\t\t\tC / LOW5 as FC,\n\t\t\tC / HIGH5 as FD,\n\t\t\tmax(H / L) OVER five as FE,\n\t\t\tavg(C) OVER five / avg(C) over ten as FF,\n\t\t\tC / nth_value(C, 5) over ten as FG,\n\t\t\tquantile_cont(C, 0.5) OVER ten FH, --Median value\n\t\t\tmad(C) OVER ten FI,\n\t\t\tcorr(H, L) OVER ten FJ,\n\t\t\tregr_slope(H, L) OVER ten FK,\n\t\t\t--2 Days return ratio\n\t\t\tlead(L, 1, null) OVER norm < lead(H, 1, null) OVER norm as canBuy,\n\t\t\tlead(C, 2, null) OVER norm / lead(O, 1, null) OVER norm - 1 as gain,\n\t\t\tlead(C, 3, null) OVER norm / lead(O, 1, null) OVER norm - 1 as gain3\n\tFROM stock.parquet\n\tWINDOW\n\t\tfive AS (PARTITION BY code ORDER BY date ASC ROWS BETWEEN 4 PRECEDING AND 0 FOLLOWING),\n\t\tten AS (PARTITION BY code ORDER BY date ASC ROWS BETWEEN 9 PRECEDING AND 0 FOLLOWING),\n\t\tnorm AS (PARTITION BY code ORDER BY date ASC)\n) a\nWHERE gain is not null AND abs(gain) < 0.30 AND gain3 is not null AND\n\t\tcanBuy is not null AND canBuy\n",
       "dfs_button": "",
       "dfs_result": "",
       "error": "",
       "exec_time": "2023-04-26 09:29:07.297519,2023-04-26 09:29:29.405549",
       "json_dump": "2023-04-27T03:22:52.382Z",
       "layout": "IPY_MODEL_453bc79f697247a2857436b6c1e01457",
       "mode": "CMD",
       "row_range": [
        0,
        10
       ],
       "sql_button": "",
       "title_hist": "[{\"columnName\": \"code\", \"dtype\": \"object\", \"bins\": [{\"bin\": \"000001\", \"count\": 561}, {\"bin\": \"600106\", \"count\": 561}, {\"bin\": \"600138\", \"count\": 561}, {\"bin\": \"600135\", \"count\": 561}, {\"bin\": \"other\", \"count\": 2494416}]}, {\"columnName\": \"date\", \"dtype\": \"datetime64[ns]\", \"bins\": [{\"bin\": \"2022-12-23T00:00:00.000000000\", \"count\": 4879}, {\"bin\": \"2022-12-14T00:00:00.000000000\", \"count\": 4878}, {\"bin\": \"2022-12-15T00:00:00.000000000\", \"count\": 4878}, {\"bin\": \"2022-12-19T00:00:00.000000000\", \"count\": 4878}, {\"bin\": \"other\", \"count\": 2477147}]}, {\"columnName\": \"LOW5\", \"dtype\": \"float64\", \"bins\": [{\"bin_start\": 0.19, \"bin_end\": 231.471, \"count\": 2477308}, {\"bin_start\": 231.471, \"bin_end\": 462.752, \"count\": 15778}, {\"bin_start\": 462.752, \"bin_end\": 694.0330000000001, \"count\": 2439}, {\"bin_start\": 694.0330000000001, \"bin_end\": 925.3140000000001, \"count\": 355}, {\"bin_start\": 925.3140000000001, \"bin_end\": 1156.595, \"count\": 173}, {\"bin_start\": 1156.595, \"bin_end\": 1387.8760000000002, \"count\": 54}, {\"bin_start\": 1387.8760000000002, \"bin_end\": 1619.1570000000002, \"count\": 66}, {\"bin_start\": 1619.1570000000002, \"bin_end\": 1850.438, \"count\": 257}, {\"bin_start\": 1850.438, \"bin_end\": 2081.719, \"count\": 206}, {\"bin_start\": 2081.719, \"bin_end\": 2313.0, \"count\": 24}]}, {\"columnName\": \"HIGH5\", \"dtype\": \"float64\", \"bins\": [{\"bin_start\": 0.21, \"bin_end\": 262.977, \"count\": 2477060}, {\"bin_start\": 262.977, \"bin_end\": 525.744, \"count\": 15962}, {\"bin_start\": 525.744, \"bin_end\": 788.511, \"count\": 2462}, {\"bin_start\": 788.511, \"bin_end\": 1051.278, \"count\": 375}, {\"bin_start\": 1051.278, \"bin_end\": 1314.045, \"count\": 186}, {\"bin_start\": 1314.045, \"bin_end\": 1576.812, \"count\": 67}, {\"bin_start\": 1576.812, \"bin_end\": 1839.579, \"count\": 193}, {\"bin_start\": 1839.579, \"bin_end\": 2102.346, \"count\": 250}, {\"bin_start\": 2102.346, \"bin_end\": 2365.113, \"count\": 95}, {\"bin_start\": 2365.113, \"bin_end\": 2627.88, \"count\": 10}]}, {\"columnName\": \"FA\", \"dtype\": \"float64\", \"bins\": [{\"bin_start\": 0.2, \"bin_end\": 247.3246, \"count\": 2477271}, {\"bin_start\": 247.3246, \"bin_end\": 494.4492, \"count\": 15795}, {\"bin_start\": 494.4492, \"bin_end\": 741.5738000000001, \"count\": 2452}, {\"bin_start\": 741.5738000000001, \"bin_end\": 988.6984000000001, \"count\": 346}, {\"bin_start\": 988.6984000000001, \"bin_end\": 1235.823, \"count\": 192}, {\"bin_start\": 1235.823, \"bin_end\": 1482.9476000000002, \"count\": 51}, {\"bin_start\": 1482.9476000000002, \"bin_end\": 1730.0722, \"count\": 126}, {\"bin_start\": 1730.0722, \"bin_end\": 1977.1968000000002, \"count\": 274}, {\"bin_start\": 1977.1968000000002, \"bin_end\": 2224.3214, \"count\": 136}, {\"bin_start\": 2224.3214, \"bin_end\": 2471.446, \"count\": 17}]}, {\"columnName\": \"FB\", \"dtype\": \"float64\", \"bins\": [{\"bin_start\": 0.08433734939759036, \"bin_end\": 0.17590361445783131, \"count\": 32}, {\"bin_start\": 0.17590361445783131, \"bin_end\": 0.26746987951807233, \"count\": 41}, {\"bin_start\": 0.26746987951807233, \"bin_end\": 0.3590361445783133, \"count\": 38}, {\"bin_start\": 0.3590361445783133, \"bin_end\": 0.45060240963855425, \"count\": 112}, {\"bin_start\": 0.45060240963855425, \"bin_end\": 0.5421686746987953, \"count\": 697}, {\"bin_start\": 0.5421686746987953, \"bin_end\": 0.6337349397590362, \"count\": 3596}, {\"bin_start\": 0.6337349397590362, \"bin_end\": 0.7253012048192771, \"count\": 19754}, {\"bin_start\": 0.7253012048192771, \"bin_end\": 0.8168674698795182, \"count\": 126178}, {\"bin_start\": 0.8168674698795182, \"bin_end\": 0.9084337349397591, \"count\": 877904}, {\"bin_start\": 0.9084337349397591, \"bin_end\": 1.0, \"count\": 1468308}]}, {\"columnName\": \"FC\", \"dtype\": \"float64\", \"bins\": [{\"bin_start\": 1.0, \"bin_end\": 1.2604894061474186, \"count\": 2472346}, {\"bin_start\": 1.2604894061474186, \"bin_end\": 1.5209788122948373, \"count\": 22464}, {\"bin_start\": 1.5209788122948373, \"bin_end\": 1.7814682184422561, \"count\": 1651}, {\"bin_start\": 1.7814682184422561, \"bin_end\": 2.0419576245896747, \"count\": 155}, {\"bin_start\": 2.0419576245896747, \"bin_end\": 2.3024470307370932, \"count\": 35}, {\"bin_start\": 2.3024470307370932, \"bin_end\": 2.5629364368845122, \"count\": 6}, {\"bin_start\": 2.5629364368845122, \"bin_end\": 2.823425843031931, \"count\": 2}, {\"bin_start\": 2.823425843031931, \"bin_end\": 3.0839152491793493, \"count\": 0}, {\"bin_start\": 3.0839152491793493, \"bin_end\": 3.344404655326768, \"count\": 0}, {\"bin_start\": 3.344404655326768, \"bin_end\": 3.604894061474187, \"count\": 1}]}, {\"columnName\": \"FD\", \"dtype\": \"float64\", \"bins\": [{\"bin_start\": 0.08915662650602409, \"bin_end\": 0.18024096385542168, \"count\": 24}, {\"bin_start\": 0.18024096385542168, \"bin_end\": 0.2713253012048193, \"count\": 32}, {\"bin_start\": 0.2713253012048193, \"bin_end\": 0.3624096385542169, \"count\": 40}, {\"bin_start\": 0.3624096385542169, \"bin_end\": 0.45349397590361445, \"count\": 51}, {\"bin_start\": 0.45349397590361445, \"bin_end\": 0.5445783132530121, \"count\": 339}, {\"bin_start\": 0.5445783132530121, \"bin_end\": 0.6356626506024097, \"count\": 1085}, {\"bin_start\": 0.6356626506024097, \"bin_end\": 0.7267469879518073, \"count\": 5174}, {\"bin_start\": 0.7267469879518073, \"bin_end\": 0.8178313253012048, \"count\": 32049}, {\"bin_start\": 0.8178313253012048, \"bin_end\": 0.9089156626506024, \"count\": 310239}, {\"bin_start\": 0.9089156626506024, \"bin_end\": 1.0, \"count\": 2147627}]}, {\"columnName\": \"FE\", \"dtype\": \"float64\", \"bins\": [{\"bin_start\": 1.0, \"bin_end\": 1.2309066843150231, \"count\": 2489151}, {\"bin_start\": 1.2309066843150231, \"bin_end\": 1.4618133686300463, \"count\": 7107}, {\"bin_start\": 1.4618133686300463, \"bin_end\": 1.6927200529450697, \"count\": 293}, {\"bin_start\": 1.6927200529450697, \"bin_end\": 1.9236267372600928, \"count\": 58}, {\"bin_start\": 1.9236267372600928, \"bin_end\": 2.154533421575116, \"count\": 9}, {\"bin_start\": 2.154533421575116, \"bin_end\": 2.3854401058901393, \"count\": 28}, {\"bin_start\": 2.3854401058901393, \"bin_end\": 2.6163467902051627, \"count\": 5}, {\"bin_start\": 2.6163467902051627, \"bin_end\": 2.8472534745201856, \"count\": 0}, {\"bin_start\": 2.8472534745201856, \"bin_end\": 3.078160158835209, \"count\": 0}, {\"bin_start\": 3.078160158835209, \"bin_end\": 3.309066843150232, \"count\": 9}]}, {\"columnName\": \"FF\", \"dtype\": \"float64\", \"bins\": [{\"bin_start\": 0.18899273104880576, \"bin_end\": 0.30552876900901926, \"count\": 12}, {\"bin_start\": 0.30552876900901926, \"bin_end\": 0.42206480696923276, \"count\": 19}, {\"bin_start\": 0.42206480696923276, \"bin_end\": 0.5386008449294463, \"count\": 45}, {\"bin_start\": 0.5386008449294463, \"bin_end\": 0.6551368828896598, \"count\": 79}, {\"bin_start\": 0.6551368828896598, \"bin_end\": 0.7716729208498733, \"count\": 426}, {\"bin_start\": 0.7716729208498733, \"bin_end\": 0.8882089588100868, \"count\": 5539}, {\"bin_start\": 0.8882089588100868, \"bin_end\": 1.0047449967703002, \"count\": 1552915}, {\"bin_start\": 1.0047449967703002, \"bin_end\": 1.1212810347305138, \"count\": 930503}, {\"bin_start\": 1.1212810347305138, \"bin_end\": 1.2378170726907274, \"count\": 6985}, {\"bin_start\": 1.2378170726907274, \"bin_end\": 1.3543531106509408, \"count\": 137}]}, {\"columnName\": \"FG\", \"dtype\": \"float64\", \"bins\": [{\"bin_start\": 0.08466819221967962, \"bin_end\": 0.3250554140109807, \"count\": 98}, {\"bin_start\": 0.3250554140109807, \"bin_end\": 0.5654426358022817, \"count\": 454}, {\"bin_start\": 0.5654426358022817, \"bin_end\": 0.8058298575935828, \"count\": 14552}, {\"bin_start\": 0.8058298575935828, \"bin_end\": 1.046217079384884, \"count\": 2005979}, {\"bin_start\": 1.046217079384884, \"bin_end\": 1.286604301176185, \"count\": 444961}, {\"bin_start\": 1.286604301176185, \"bin_end\": 1.5269915229674862, \"count\": 10084}, {\"bin_start\": 1.5269915229674862, \"bin_end\": 1.7673787447587872, \"count\": 1396}, {\"bin_start\": 1.7673787447587872, \"bin_end\": 2.007765966550088, \"count\": 120}, {\"bin_start\": 2.007765966550088, \"bin_end\": 2.248153188341389, \"count\": 21}, {\"bin_start\": 2.248153188341389, \"bin_end\": 2.48854041013269, \"count\": 11}]}, {\"columnName\": \"FH\", \"dtype\": \"float64\", \"bins\": [{\"bin_start\": 0.2, \"bin_end\": 234.6625, \"count\": 2475168}, {\"bin_start\": 234.6625, \"bin_end\": 469.125, \"count\": 17322}, {\"bin_start\": 469.125, \"bin_end\": 703.5875000000001, \"count\": 2881}, {\"bin_start\": 703.5875000000001, \"bin_end\": 938.0500000000001, \"count\": 453}, {\"bin_start\": 938.0500000000001, \"bin_end\": 1172.5125, \"count\": 207}, {\"bin_start\": 1172.5125, \"bin_end\": 1406.9750000000001, \"count\": 62}, {\"bin_start\": 1406.9750000000001, \"bin_end\": 1641.4375, \"count\": 52}, {\"bin_start\": 1641.4375, \"bin_end\": 1875.9, \"count\": 265}, {\"bin_start\": 1875.9, \"bin_end\": 2110.3624999999997, \"count\": 208}, {\"bin_start\": 2110.3624999999997, \"bin_end\": 2344.825, \"count\": 42}]}, {\"columnName\": \"FI\", \"dtype\": \"float64\", \"bins\": [{\"bin_start\": 0.0, \"bin_end\": 17.316999999999997, \"count\": 2492631}, {\"bin_start\": 17.316999999999997, \"bin_end\": 34.63399999999999, \"count\": 3250}, {\"bin_start\": 34.63399999999999, \"bin_end\": 51.95099999999999, \"count\": 588}, {\"bin_start\": 51.95099999999999, \"bin_end\": 69.26799999999999, \"count\": 105}, {\"bin_start\": 69.26799999999999, \"bin_end\": 86.58499999999998, \"count\": 41}, {\"bin_start\": 86.58499999999998, \"bin_end\": 103.90199999999999, \"count\": 22}, {\"bin_start\": 103.90199999999999, \"bin_end\": 121.21899999999998, \"count\": 6}, {\"bin_start\": 121.21899999999998, \"bin_end\": 138.53599999999997, \"count\": 9}, {\"bin_start\": 138.53599999999997, \"bin_end\": 155.85299999999998, \"count\": 6}, {\"bin_start\": 155.85299999999998, \"bin_end\": 173.16999999999996, \"count\": 2}]}, {\"columnName\": \"FJ\", \"dtype\": \"float64\", \"bins\": [{\"bin_start\": -1.0000000000007105, \"bin_end\": -0.8000000000005685, \"count\": 1277}, {\"bin_start\": -0.8000000000005685, \"bin_end\": -0.6000000000004263, \"count\": 413}, {\"bin_start\": -0.6000000000004263, \"bin_end\": -0.40000000000028413, \"count\": 1103}, {\"bin_start\": -0.40000000000028413, \"bin_end\": -0.20000000000014206, \"count\": 2783}, {\"bin_start\": -0.20000000000014206, \"bin_end\": 0.0, \"count\": 7220}, {\"bin_start\": 0.0, \"bin_end\": 0.2000000000001423, \"count\": 18237}, {\"bin_start\": 0.2000000000001423, \"bin_end\": 0.40000000000028435, \"count\": 48684}, {\"bin_start\": 0.40000000000028435, \"bin_end\": 0.6000000000004264, \"count\": 138946}, {\"bin_start\": 0.6000000000004264, \"bin_end\": 0.8000000000005685, \"count\": 488410}, {\"bin_start\": 0.8000000000005685, \"bin_end\": 1.0000000000007105, \"count\": 1784510}]}, {\"columnName\": \"FK\", \"dtype\": \"float64\", \"bins\": [{\"bin_start\": -566.0000000001123, \"bin_end\": -372.5000000003657, \"count\": 1}, {\"bin_start\": -372.5000000003657, \"bin_end\": -179.00000000061902, \"count\": 2}, {\"bin_start\": -179.00000000061902, \"bin_end\": 14.499999999127567, \"count\": 2491643}, {\"bin_start\": 14.499999999127567, \"bin_end\": 207.99999999887427, \"count\": 83}, {\"bin_start\": 207.99999999887427, \"bin_end\": 401.499999998621, \"count\": 1}, {\"bin_start\": 401.499999998621, \"bin_end\": 594.9999999983675, \"count\": 0}, {\"bin_start\": 594.9999999983675, \"bin_end\": 788.4999999981142, \"count\": 0}, {\"bin_start\": 788.4999999981142, \"bin_end\": 981.9999999978609, \"count\": 0}, {\"bin_start\": 981.9999999978609, \"bin_end\": 1175.4999999976076, \"count\": 0}, {\"bin_start\": 1175.4999999976076, \"bin_end\": 1368.999999997354, \"count\": 1}]}, {\"columnName\": \"canBuy\", \"dtype\": \"bool\", \"bins\": [{\"bin\": \"True\", \"count\": 2496660}, {\"bin\": \"other\", \"count\": 0}]}, {\"columnName\": \"gain\", \"dtype\": \"float64\", \"bins\": [{\"bin_start\": -0.29999999999999993, \"bin_end\": -0.24002457002456998, \"count\": 460}, {\"bin_start\": -0.24002457002456998, \"bin_end\": -0.18004914004914002, \"count\": 1567}, {\"bin_start\": -0.18004914004914002, \"bin_end\": -0.12007371007371004, \"count\": 11717}, {\"bin_start\": -0.12007371007371004, \"bin_end\": -0.06009828009828008, \"count\": 118365}, {\"bin_start\": -0.06009828009828008, \"bin_end\": -0.00012285012285012664, \"count\": 1139224}, {\"bin_start\": -0.00012285012285012664, \"bin_end\": 0.05985257985257986, \"count\": 1054437}, {\"bin_start\": 0.05985257985257986, \"bin_end\": 0.11982800982800978, \"count\": 135558}, {\"bin_start\": 0.11982800982800978, \"bin_end\": 0.17980343980343977, \"count\": 26050}, {\"bin_start\": 0.17980343980343977, \"bin_end\": 0.23977886977886975, \"count\": 7814}, {\"bin_start\": 0.23977886977886975, \"bin_end\": 0.2997542997542997, \"count\": 1468}]}, {\"columnName\": \"gain3\", \"dtype\": \"float64\", \"bins\": [{\"bin_start\": -0.8264462809917356, \"bin_end\": -0.6457179203368444, \"count\": 9}, {\"bin_start\": -0.6457179203368444, \"bin_end\": -0.4649895596819533, \"count\": 47}, {\"bin_start\": -0.4649895596819533, \"bin_end\": -0.28426119902706215, \"count\": 742}, {\"bin_start\": -0.28426119902706215, \"bin_end\": -0.10353283837217109, \"count\": 50476}, {\"bin_start\": -0.10353283837217109, \"bin_end\": 0.07719552228271997, \"count\": 2284553}, {\"bin_start\": 0.07719552228271997, \"bin_end\": 0.25792388293761126, \"count\": 155383}, {\"bin_start\": 0.25792388293761126, \"bin_end\": 0.4386522435925023, \"count\": 5203}, {\"bin_start\": 0.4386522435925023, \"bin_end\": 0.6193806042473934, \"count\": 246}, {\"bin_start\": 0.6193806042473934, \"bin_end\": 0.8001089649022844, \"count\": 0}, {\"bin_start\": 0.8001089649022844, \"bin_end\": 0.9808373255571756, \"count\": 1}]}]",
       "vis_data": "{\"columns\":[\"HIGH5\"],\"index\":[0,1,2,3,4,5,6,7,8,9,10,11,12,13,14,15,16,17,18,19,20,21,22,23,24,25,26,27,28,29,30,31,32,33,34,35,36,37,38,39,40,41,42,43,44,45,46,47,48,49,50,51,52,53,54,55,56,57,58,59,60,61,62,63,64,65,66,67,68,69,70,71,72,73,74,75,76,77,78,79,80,81,82,83,84,85,86,87,88,89,90,91,92,93,94,95,96,97,98,99],\"data\":[[11.43],[5.3],[10.13],[4.73],[5.4],[7.42],[8.25],[8.05],[4.38],[5.74],[7.15],[9.39],[21.49],[4.57],[13.83],[5.29],[63.3],[15.33],[3.07],[51.48],[25.08],[18.93],[3.1],[12.93],[5.59],[29.27],[4.09],[5.72],[23.2],[13.9],[5.93],[33.3],[12.2],[16.3],[18.3],[7.19],[4.28],[33.46],[49.32],[11.51],[372.0],[5.99],[30.0],[7.17],[52.44],[6.11],[10.39],[26.55],[39.9],[74.9],[28.92],[13.48],[67.55],[26.38],[5.81],[11.59],[5.36],[7.02],[3.75],[43.27],[8.93],[514.0],[3.26],[12.16],[23.5],[216.44],[5.71],[7.5],[4.68],[11.75],[5.95],[183.8],[177.33],[19.6],[5.26],[13.41],[61.5],[19.28],[62.18],[22.45],[14.73],[10.62],[16.0],[8.82],[85.37],[6.25],[14.86],[2.57],[6.82],[7.34],[10.95],[16.63],[17.89],[9.0],[19.65],[14.73],[12.75],[15.69],[26.07],[188.06]]}",
       "vis_sql": [
        "select * EXCLUDE (index_rn1qaz2wsx)\nfrom \n(\nSELECT \"HIGH5\", ROW_NUMBER() OVER () AS index_rn1qaz2wsx\nFROM $$__NAME__$$\n)\nusing SAMPLE reservoir (100 rows) REPEATABLE(42)\norder by index_rn1qaz2wsx",
        "2023-04-26T01:29:36.947Z"
       ]
      }
     },
     "e1d2579b33e54bee8e26b8aaa98c74f1": {
      "model_module": "@jupyter-widgets/base",
      "model_module_version": "2.0.0",
      "model_name": "LayoutModel",
      "state": {}
     }
    },
    "version_major": 2,
    "version_minor": 0
   }
  }
 },
 "nbformat": 4,
 "nbformat_minor": 5
}
