{
 "cells": [
  {
   "cell_type": "markdown",
   "id": "e9f1bb3b-3bbb-4dd7-b32e-8cf301b5d77b",
   "metadata": {},
   "source": [
    "# Import asqlcell"
   ]
  },
  {
   "cell_type": "code",
   "execution_count": 1,
   "id": "562a258c-4dc4-4e73-92ab-9fcdd54c6874",
   "metadata": {},
   "outputs": [],
   "source": [
    "import asqlcell"
   ]
  },
  {
   "cell_type": "markdown",
   "id": "40693f39-43f6-498d-9c78-d4b0a64ccf13",
   "metadata": {
    "tags": []
   },
   "source": [
    "# Data Preview\n",
    "The data comes from A-shares.  \n",
    "code: Stock code  \n",
    "date: Date  \n",
    "O: Opening price  \n",
    "H: Highest price  \n",
    "C: Closing price  \n",
    "L: Lowest price  "
   ]
  },
  {
   "cell_type": "code",
   "execution_count": 2,
   "id": "9ce3b21a-3929-483c-a0b9-3a9b7d882945",
   "metadata": {},
   "outputs": [
    {
     "data": {
      "application/vnd.jupyter.widget-view+json": {
       "model_id": "1a41a6dee5ec4f3b8bc5097da4a4d074",
       "version_major": 2,
       "version_minor": 0
      },
      "text/plain": [
       "SqlcellWidget(data_range=(0, 10, ''), index_sort=('', 0))"
      ]
     },
     "execution_count": 2,
     "metadata": {},
     "output_type": "execute_result"
    }
   ],
   "source": [
    "%%sql\n",
    "SELECT *\n",
    "FROM stock.parquet\n",
    "LIMIT 100"
   ]
  },
  {
   "cell_type": "markdown",
   "id": "7aca279b-1382-4bcb-8baa-10fc526ceff6",
   "metadata": {
    "tags": []
   },
   "source": [
    "# Feature Engineering\n",
    "\n",
    "The following sql code generates the relevant indicators of the stock, as well as the earnings of buying at the opening price of the next day and selling at the closing price of T+1 and T+2 respectively.\n",
    "  \n",
    "Description of the indicator,    \n",
    "LOW5：5-day low  \n",
    "HIGH5: 5-day high  \n",
    "FA: 5-day average price  \n",
    "FB: LOW5 / HIGH5  \n",
    "FC: The closing price of the day divided by the 5-day low  \n",
    "FD: The closing price of the day divided by the 5-day high  \n",
    "FE: The daily high divided by the 5-day maximum of the low  \n",
    "FF: 5-day average price divided by 10-day average price  \n",
    "FG: 5th closing price  \n",
    "FH: Median value of the 10-day closing price  \n",
    "FI: Median of the difference between the 10-day closing price and the median MEDIAN(ABS(x-MEDIAN(x)))  \n",
    "FJ: Correlation between 10-day highs and lows  \n",
    "FK: Slope of 10-day H and L linear regression  \n",
    "canBuy: Whether you can buy on the next trading day of the current trading day  \n",
    "gain: The gain from buying at the opening price of the next trading day of the current trading day and selling at the closing price of T+1  \n",
    "gain3: The gain of buying at the opening price of the next trading day of the current trading day, and selling at the closing price of T+2  \n",
    "  \n",
    "WINDOW  \n",
    "Five: 5-day window, sorted by date partition by code  \n",
    "ten: 10-day window, sorted by date partition by code  \n",
    "norm: general window, unlimited number, sorted by date partition by code  \n",
    "  \n",
    "WHERE  \n",
    "Filter gain fluctuates too much, it may be dirty data  \n",
    "Filter for trading days where you can't buy"
   ]
  },
  {
   "cell_type": "code",
   "execution_count": 3,
   "id": "cf72c38e-41ac-4e3b-804a-333ab55d9f8f",
   "metadata": {
    "tags": []
   },
   "outputs": [
    {
     "data": {
      "application/vnd.jupyter.widget-view+json": {
       "model_id": "c1f439b62a43465d86e4197e54e6e64b",
       "version_major": 2,
       "version_minor": 0
      },
      "text/plain": [
       "SqlcellWidget(data_range=(0, 10, ''), index_sort=('', 0))"
      ]
     },
     "execution_count": 3,
     "metadata": {},
     "output_type": "execute_result"
    }
   ],
   "source": [
    "%%sql mytable\n",
    "SELECT *\n",
    "FROM\n",
    "(\n",
    "\tselect code, date,\n",
    "\t\t\tmin(L) OVER five as LOW5, \n",
    "\t\t\tmax(H) OVER five as HIGH5,\n",
    "\t\t\t--Feature\n",
    "\t\t\tavg(C) OVER five as FA,\n",
    "\t\t\tLOW5 / HIGH5 as FB,\n",
    "\t\t\tC / LOW5 as FC,\n",
    "\t\t\tC / HIGH5 as FD,\n",
    "\t\t\tmax(H / L) OVER five as FE,\n",
    "\t\t\tavg(C) OVER five / avg(C) over ten as FF,\n",
    "\t\t\tC / nth_value(C, 5) over ten as FG,\n",
    "\t\t\tquantile_cont(C, 0.5) OVER ten FH, --Median value\n",
    "\t\t\tmad(C) OVER ten FI,\n",
    "\t\t\tcorr(H, L) OVER ten FJ,\n",
    "\t\t\tregr_slope(H, L) OVER ten FK,\n",
    "\t\t\t--2 Days return ratio\n",
    "\t\t\tlead(L, 1, null) OVER norm < lead(H, 1, null) OVER norm as canBuy,\n",
    "\t\t\tlead(C, 2, null) OVER norm / lead(O, 1, null) OVER norm - 1 as gain,\n",
    "\t\t\tlead(C, 3, null) OVER norm / lead(O, 1, null) OVER norm - 1 as gain3\n",
    "\tFROM stock.parquet\n",
    "\tWINDOW\n",
    "\t\tfive AS (PARTITION BY code ORDER BY date ASC ROWS BETWEEN 4 PRECEDING AND 0 FOLLOWING),\n",
    "\t\tten AS (PARTITION BY code ORDER BY date ASC ROWS BETWEEN 9 PRECEDING AND 0 FOLLOWING),\n",
    "\t\tnorm AS (PARTITION BY code ORDER BY date ASC)\n",
    ") a\n",
    "WHERE gain is not null AND abs(gain) < 0.30 AND gain3 is not null AND\n",
    "\t\tcanBuy is not null AND canBuy"
   ]
  },
  {
   "cell_type": "markdown",
   "id": "08c463c1-3dd1-4550-95c8-4ca208e67f43",
   "metadata": {},
   "source": [
    "The type of each field in mytable"
   ]
  },
  {
   "cell_type": "code",
   "execution_count": 4,
   "id": "8f3f2d8e-4925-42a0-b157-27e4fc6a5da6",
   "metadata": {},
   "outputs": [
    {
     "data": {
      "text/plain": [
       "[{'code': 'object'},\n",
       " {'date': 'datetime64[ns]'},\n",
       " {'LOW5': 'float64'},\n",
       " {'HIGH5': 'float64'},\n",
       " {'FA': 'float64'},\n",
       " {'FB': 'float64'},\n",
       " {'FC': 'float64'},\n",
       " {'FD': 'float64'},\n",
       " {'FE': 'float64'},\n",
       " {'FF': 'float64'},\n",
       " {'FG': 'float64'},\n",
       " {'FH': 'float64'},\n",
       " {'FI': 'float64'},\n",
       " {'FJ': 'float64'},\n",
       " {'FK': 'float64'},\n",
       " {'canBuy': 'bool'},\n",
       " {'gain': 'float64'},\n",
       " {'gain3': 'float64'}]"
      ]
     },
     "execution_count": 4,
     "metadata": {},
     "output_type": "execute_result"
    }
   ],
   "source": [
    "[{column:mytable.dtypes[column].name} for column in mytable]"
   ]
  },
  {
   "cell_type": "markdown",
   "id": "66010902-de54-4f68-b16e-df45d78ebaca",
   "metadata": {},
   "source": [
    "# Percentage Return Ratio\n",
    "Sort the indicator into 6 quantiles by day and calculate the average return for each quantile.    \n",
    " "
   ]
  },
  {
   "cell_type": "code",
   "execution_count": 5,
   "id": "97ee563d-cbeb-46ee-8fdf-9ed9aaef6a8d",
   "metadata": {},
   "outputs": [
    {
     "data": {
      "application/vnd.jupyter.widget-view+json": {
       "model_id": "cf60b4024a6e4372a6c4c9510c4a68f3",
       "version_major": 2,
       "version_minor": 0
      },
      "text/plain": [
       "SqlcellWidget(data_range=(0, 10, ''), index_sort=('', 0))"
      ]
     },
     "execution_count": 5,
     "metadata": {},
     "output_type": "execute_result"
    }
   ],
   "source": [
    "%%sql\n",
    "SELECT RA, avg(gain) * 100 GA, avg(gain3) * 100 GA3, count(1) c\n",
    "FROM\n",
    "(\n",
    "\tSELECT cast(percent_rank() OVER wa * 5 as int) RA, gain, gain3\n",
    "\tFROM mytable\n",
    "\tWINDOW wa as (PARTITION BY date ORDER BY FA)\n",
    ")\n",
    "GROUP BY RA"
   ]
  },
  {
   "cell_type": "markdown",
   "id": "74986cf1-ce5e-496f-b639-b4733b1fa658",
   "metadata": {},
   "source": [
    "Here the syntax of GROUP BY CUBE is used to directly generate all subsets in parentheses, calculate the average payoff in each subcube.  \n",
    "This method is more convenient for joint analysis of indicators.  "
   ]
  },
  {
   "cell_type": "code",
   "execution_count": 6,
   "id": "65f6fb10-eb20-46c3-b92c-2f5059e3356e",
   "metadata": {},
   "outputs": [
    {
     "data": {
      "application/vnd.jupyter.widget-view+json": {
       "model_id": "1b0214a2fca74c1ab818558c93276e89",
       "version_major": 2,
       "version_minor": 0
      },
      "text/plain": [
       "SqlcellWidget(data_range=(0, 10, ''), index_sort=('', 0))"
      ]
     },
     "execution_count": 6,
     "metadata": {},
     "output_type": "execute_result"
    }
   ],
   "source": [
    "%%sql\n",
    "SELECT RA, RB, RC, avg(gain) * 100 GA, avg(gain3) * 100 GA3, count(1) c\n",
    "FROM\n",
    "(\n",
    "\tSELECT cast(percent_rank() OVER wa * 5 as int) RA,\n",
    "\t\t\tcast(percent_rank() OVER wb * 5 as int) RB,\n",
    "\t\t\tcast(percent_rank() OVER wc * 5 as int) RC,\n",
    "\t\t\tgain, gain3\n",
    "\tFROM mytable\n",
    "\tWINDOW\n",
    "\t\twa as (PARTITION BY date ORDER BY FA),\n",
    "\t\twb as (PARTITION BY date ORDER BY FB),\n",
    "\t\twc as (PARTITION BY date ORDER BY FC)\n",
    ")\n",
    "GROUP BY CUBE (RA, RB, RC)"
   ]
  },
  {
   "cell_type": "markdown",
   "id": "9e9c1934-5bed-47d7-8168-01a9d365ea16",
   "metadata": {},
   "source": [
    "# Correlation Analysis\n",
    "Correlation analysis, calculated using 'colunms', shows that FF is negatively correlated with gain, in other words, when the FF indicator is larger, the more likely the stock is to fall in the short term.  "
   ]
  },
  {
   "cell_type": "code",
   "execution_count": 7,
   "id": "ffe188e5-25e9-4753-86a8-cdedaf50691d",
   "metadata": {},
   "outputs": [
    {
     "data": {
      "application/vnd.jupyter.widget-view+json": {
       "model_id": "ae5431197bd04dd5a403ac24ae0ddfec",
       "version_major": 2,
       "version_minor": 0
      },
      "text/plain": [
       "SqlcellWidget(data_range=(0, 10, ''), index_sort=('', 0))"
      ]
     },
     "execution_count": 7,
     "metadata": {},
     "output_type": "execute_result"
    }
   ],
   "source": [
    "%%sql\n",
    "SELECT corr(columns('F.+'), gain)\n",
    "FROM mytable"
   ]
  },
  {
   "cell_type": "markdown",
   "id": "bce1e7c1-dc7b-48bf-b3f8-6072253515a5",
   "metadata": {},
   "source": [
    "# Performance Optimization\n",
    "Use the following statement to save data in parquet format, which will greatly improve the efficiency of data storage and file loading."
   ]
  },
  {
   "cell_type": "code",
   "execution_count": 8,
   "id": "9f5adfd9-2308-458e-8941-de45d526c9a7",
   "metadata": {},
   "outputs": [
    {
     "data": {
      "application/vnd.jupyter.widget-view+json": {
       "model_id": "c142334d20504b009345737a57982e0a",
       "version_major": 2,
       "version_minor": 0
      },
      "text/plain": [
       "SqlcellWidget(data_range=(0, 10, ''), index_sort=('', 0))"
      ]
     },
     "execution_count": 8,
     "metadata": {},
     "output_type": "execute_result"
    }
   ],
   "source": [
    "%%sql\n",
    "COPY (SELECT * FROM stock.parquet) to 'stock.parquet' (FORMAT PARQUET)"
   ]
  },
  {
   "cell_type": "markdown",
   "id": "7f2f1697-c348-4e95-a29e-9dbd34de6911",
   "metadata": {},
   "source": [
    "Export to the partition table of parquet"
   ]
  },
  {
   "cell_type": "code",
   "execution_count": 9,
   "id": "c3a2890f-e705-4825-bca8-df84a226c5df",
   "metadata": {
    "tags": []
   },
   "outputs": [
    {
     "data": {
      "application/vnd.jupyter.widget-view+json": {
       "model_id": "3bfb470249cf440eb492927357d01335",
       "version_major": 2,
       "version_minor": 0
      },
      "text/plain": [
       "FloatProgress(value=0.0, layout=Layout(width='100%'), style=ProgressStyle(bar_color='black'))"
      ]
     },
     "metadata": {},
     "output_type": "display_data"
    },
    {
     "data": {
      "application/vnd.jupyter.widget-view+json": {
       "model_id": "c7b15b41f0f34e5ea979ef2ae81f2edc",
       "version_major": 2,
       "version_minor": 0
      },
      "text/plain": [
       "SqlcellWidget(data_range=(0, 10, ''), index_sort=('', 0))"
      ]
     },
     "execution_count": 9,
     "metadata": {},
     "output_type": "execute_result"
    }
   ],
   "source": [
    "%%sql\n",
    "COPY (SELECT * FROM stock.parquet) to 'stock' (FORMAT PARQUET, PARTITION_BY date, ALLOW_OVERWRITE TRUE)"
   ]
  },
  {
   "cell_type": "markdown",
   "id": "79be6950-b160-4df6-8969-29c9789e84f0",
   "metadata": {},
   "source": [
    "Specify the partition by WHERE"
   ]
  },
  {
   "cell_type": "code",
   "execution_count": 10,
   "id": "230a98da-73b7-4105-a5fe-11999850a540",
   "metadata": {
    "tags": []
   },
   "outputs": [
    {
     "data": {
      "application/vnd.jupyter.widget-view+json": {
       "model_id": "f82ebe4e68af4ba6bbd699c839e3197b",
       "version_major": 2,
       "version_minor": 0
      },
      "text/plain": [
       "SqlcellWidget(data_range=(0, 10, ''), index_sort=('', 0))"
      ]
     },
     "execution_count": 10,
     "metadata": {},
     "output_type": "execute_result"
    }
   ],
   "source": [
    "%%sql\n",
    "COPY (SELECT * FROM stock.parquet WHERE date='2020-09-02') to 'stock' (FORMAT PARQUET, PARTITION_BY date, ALLOW_OVERWRITE TRUE)"
   ]
  },
  {
   "cell_type": "markdown",
   "id": "70ce1874-5149-4ddd-a704-4389c46c5854",
   "metadata": {},
   "source": [
    "Load partition table"
   ]
  },
  {
   "cell_type": "code",
   "execution_count": 11,
   "id": "577d667a-efec-40c9-b908-eee991c17229",
   "metadata": {},
   "outputs": [
    {
     "data": {
      "application/vnd.jupyter.widget-view+json": {
       "model_id": "29f0ef05db64467f92b76104e7b344d9",
       "version_major": 2,
       "version_minor": 0
      },
      "text/plain": [
       "SqlcellWidget(data_range=(0, 10, ''), index_sort=('', 0))"
      ]
     },
     "execution_count": 11,
     "metadata": {},
     "output_type": "execute_result"
    }
   ],
   "source": [
    "%%sql data\n",
    "SELECT * FROM read_parquet('stock/*/*.parquet', HIVE_PARTITIONING=1)"
   ]
  },
  {
   "cell_type": "markdown",
   "id": "52884eca-8306-4eb4-8071-05c0e992ea63",
   "metadata": {},
   "source": [
    "# Reference Python variables directly in %sql statements"
   ]
  },
  {
   "cell_type": "code",
   "execution_count": 12,
   "id": "711f7456-de2d-4deb-b0ff-660ff94df54c",
   "metadata": {},
   "outputs": [
    {
     "data": {
      "text/html": [
       "<div>\n",
       "<style scoped>\n",
       "    .dataframe tbody tr th:only-of-type {\n",
       "        vertical-align: middle;\n",
       "    }\n",
       "\n",
       "    .dataframe tbody tr th {\n",
       "        vertical-align: top;\n",
       "    }\n",
       "\n",
       "    .dataframe thead th {\n",
       "        text-align: right;\n",
       "    }\n",
       "</style>\n",
       "<table border=\"1\" class=\"dataframe\">\n",
       "  <thead>\n",
       "    <tr style=\"text-align: right;\">\n",
       "      <th></th>\n",
       "      <th>corr(\"FA\", \"FB\")</th>\n",
       "    </tr>\n",
       "  </thead>\n",
       "  <tbody>\n",
       "    <tr>\n",
       "      <th>0</th>\n",
       "      <td>-0.118705</td>\n",
       "    </tr>\n",
       "  </tbody>\n",
       "</table>\n",
       "</div>"
      ],
      "text/plain": [
       "   corr(\"FA\", \"FB\")\n",
       "0         -0.118705"
      ]
     },
     "execution_count": 12,
     "metadata": {},
     "output_type": "execute_result"
    }
   ],
   "source": [
    "colunm1 = 'FA'\n",
    "colunm2 = 'FB'\n",
    "%sql SELECT corr({colunm1}, {colunm2}) from mytable"
   ]
  }
 ],
 "metadata": {
  "kernelspec": {
   "display_name": "Python 3 (ipykernel)",
   "language": "python",
   "name": "python3"
  },
  "language_info": {
   "codemirror_mode": {
    "name": "ipython",
    "version": 3
   },
   "file_extension": ".py",
   "mimetype": "text/x-python",
   "name": "python",
   "nbconvert_exporter": "python",
   "pygments_lexer": "ipython3",
   "version": "3.11.0"
  },
  "widgets": {
   "application/vnd.jupyter.widget-state+json": {
    "state": {
     "042cd13e076f48b2a08f131c55b2ac1a": {
      "model_module": "asqlcell",
      "model_module_version": "0.1.0",
      "model_name": "SqlCellModel",
      "state": {
       "data": "{\"columns\":[\"rank\",\"GA\",\"GA3\",\"c\"],\"index\":[0,1,2,3,4,5,6,7,8,9],\"data\":[[0,-0.0933765142,-0.2472703763,157501],[1,0.1454714935,0.1757070603,275113],[2,0.1251969441,0.1621424073,275423],[3,0.1333727617,0.1671232151,275332],[4,0.1025515219,0.1444774166,275439],[5,0.0914681281,0.1211130183,274706],[6,0.0800365946,0.1000215516,275199],[7,0.0876614083,0.0988245076,274918],[8,0.0374592971,0.0067128943,275182],[9,-0.1459925435,-0.3027793996,137847]]}\n10",
       "data_range": [
        0,
        10
       ],
       "dfs_button": "",
       "index_sort": [
        "",
        0
       ],
       "json_dump": "2023-01-13T02:43:29.158Z",
       "layout": "IPY_MODEL_949708a5d9f24f6cb9c2eb6965ca92ef",
       "sql_button": ""
      }
     },
     "0c4fb68616c44cd3807967d0517686b2": {
      "model_module": "@jupyter-widgets/base",
      "model_module_version": "2.0.0",
      "model_name": "LayoutModel",
      "state": {}
     },
     "1d35a714623d429f97ae611672ef9dbd": {
      "model_module": "asqlcell",
      "model_module_version": "0.1.0",
      "model_name": "SqlCellModel",
      "state": {
       "data": "{\"columns\":[\"code\",\"date\",\"O\",\"H\",\"C\",\"L\"],\"index\":[0,1,2,3,4,5,6,7,8,9],\"data\":[[1,\"2020-09-02T00:00:00.000\",15.01,15.53,15.32,15.01],[1,\"2020-09-03T00:00:00.000\",15.32,15.33,14.9,14.84],[1,\"2020-09-04T00:00:00.000\",14.73,15.06,14.96,14.6],[1,\"2020-09-07T00:00:00.000\",14.88,15.24,14.94,14.83],[1,\"2020-09-08T00:00:00.000\",15.0,15.43,15.43,15.0],[1,\"2020-09-09T00:00:00.000\",15.26,15.56,15.21,15.13],[1,\"2020-09-10T00:00:00.000\",15.32,15.48,15.34,15.2],[1,\"2020-09-11T00:00:00.000\",15.18,15.3,15.01,14.82],[1,\"2020-09-14T00:00:00.000\",15.01,15.3,15.3,14.92],[1,\"2020-09-15T00:00:00.000\",15.2,15.48,15.35,15.15]]}\n2518419",
       "data_range": [
        0,
        10
       ],
       "dfs_button": "",
       "index_sort": [
        "",
        0
       ],
       "json_dump": "2023-01-13T02:44:01.597Z",
       "layout": "IPY_MODEL_5906eaa383e14d5988b034e8e20f1e9b",
       "sql_button": ""
      }
     },
     "345500c78c7547959d42361f3a49729f": {
      "model_module": "@jupyter-widgets/base",
      "model_module_version": "2.0.0",
      "model_name": "LayoutModel",
      "state": {}
     },
     "45a899897f8041b39ac4ce2f0d6edecf": {
      "model_module": "asqlcell",
      "model_module_version": "0.1.0",
      "model_name": "SqlCellModel",
      "state": {
       "data": "{\"columns\":[\"code\",\"date\",\"LOW5\",\"HIGH5\",\"FA\",\"FB\",\"FC\",\"FD\",\"FE\",\"FF\",\"FG\",\"FH\",\"FI\",\"FJ\",\"FK\",\"canBuy\",\"gain\",\"gain3\"],\"index\":[0,1,2,3,4,5,6,7,8,9],\"data\":[[1,\"2020-09-02T00:00:00.000\",15.01,15.53,15.32,0.9665164198,1.0206528981,0.9864777849,1.034643571,1.0,null,15.32,0.0,null,null,true,-0.0234986945,-0.0248041775],[1,\"2020-09-03T00:00:00.000\",14.84,15.53,15.11,0.9555698648,1.0040431267,0.9594333548,1.034643571,1.0,null,15.11,0.21,1.0,1.1764705882,true,0.0142566191,0.0475220638],[1,\"2020-09-04T00:00:00.000\",14.6,15.53,15.06,0.9401159047,1.0246575342,0.9632968448,1.034643571,1.0,null,14.96,0.06,0.9999221601,1.1449332286,true,0.0369623656,0.0221774194],[1,\"2020-09-07T00:00:00.000\",14.6,15.53,15.03,0.9401159047,1.0232876712,0.9620090148,1.034643571,1.0,null,14.95,0.03,0.9777448603,1.1352941176,true,0.014,0.0226666667],[1,\"2020-09-08T00:00:00.000\",14.6,15.53,15.11,0.9401159047,1.0568493151,0.99356085,1.034643571,1.0,1.0,14.96,0.06,0.970461178,1.0517490083,true,0.005242464,-0.0163826999],[1,\"2020-09-09T00:00:00.000\",14.6,15.56,15.088,0.9383033419,1.0417808219,0.9775064267,1.0330188679,0.9974438078,0.9857420609,15.085,0.165,0.9753523128,0.9909693534,true,-0.0202349869,-0.001305483],[1,\"2020-09-10T00:00:00.000\",14.6,15.56,15.176,0.9383033419,1.0506849315,0.9858611825,1.0315068493,1.0012441093,0.9941672067,15.21,0.22,0.927670675,0.8128574697,true,0.0079051383,0.011198946],[1,\"2020-09-11T00:00:00.000\",14.82,15.56,15.186,0.9524421594,1.0128205128,0.9646529563,1.032388664,1.0031211296,0.9727802981,15.11,0.19,0.928129422,0.8024023169,true,0.0226515656,0.0286475683],[1,\"2020-09-14T00:00:00.000\",14.82,15.56,15.258,0.9524421594,1.032388664,0.9832904884,1.032388664,1.0066857269,0.9915748542,15.21,0.2,0.9211863212,0.8041515484,true,0.0157894737,0.0243421053],[1,\"2020-09-15T00:00:00.000\",14.82,15.56,15.242,0.9524421594,1.0357624831,0.986503856,1.032388664,1.0043489721,0.9948152949,15.255,0.135,0.9197768086,0.7667316439,true,0.0163185379,0.0489556136]]}\n2496660",
       "data_range": [
        0,
        10
       ],
       "dfs_button": "",
       "index_sort": [
        "",
        0
       ],
       "json_dump": "2023-01-13T02:43:28.997Z",
       "layout": "IPY_MODEL_0c4fb68616c44cd3807967d0517686b2",
       "sql_button": ""
      }
     },
     "531737cf6f8c49f9a21ea299d5f106cf": {
      "model_module": "asqlcell",
      "model_module_version": "0.1.0",
      "model_name": "SqlCellModel",
      "state": {
       "data": "{\"columns\":[\"code\",\"date\",\"O\",\"H\",\"C\",\"L\"],\"index\":[0,1,2,3,4,5,6,7,8,9],\"data\":[[1,\"2020-09-02T00:00:00.000\",15.01,15.53,15.32,15.01],[1,\"2020-09-03T00:00:00.000\",15.32,15.33,14.9,14.84],[1,\"2020-09-04T00:00:00.000\",14.73,15.06,14.96,14.6],[1,\"2020-09-07T00:00:00.000\",14.88,15.24,14.94,14.83],[1,\"2020-09-08T00:00:00.000\",15.0,15.43,15.43,15.0],[1,\"2020-09-09T00:00:00.000\",15.26,15.56,15.21,15.13],[1,\"2020-09-10T00:00:00.000\",15.32,15.48,15.34,15.2],[1,\"2020-09-11T00:00:00.000\",15.18,15.3,15.01,14.82],[1,\"2020-09-14T00:00:00.000\",15.01,15.3,15.3,14.92],[1,\"2020-09-15T00:00:00.000\",15.2,15.48,15.35,15.15]]}\n2518419",
       "data_range": [
        0,
        10
       ],
       "dfs_button": "",
       "index_sort": [
        "",
        0
       ],
       "json_dump": "2023-01-13T02:43:18.247Z",
       "layout": "IPY_MODEL_a4c6a81cf0cc4fc2bbd755443e572302",
       "sql_button": ""
      }
     },
     "5906eaa383e14d5988b034e8e20f1e9b": {
      "model_module": "@jupyter-widgets/base",
      "model_module_version": "2.0.0",
      "model_name": "LayoutModel",
      "state": {}
     },
     "5f0514cb84594ee29cfc64fd16c07130": {
      "model_module": "@jupyter-widgets/base",
      "model_module_version": "2.0.0",
      "model_name": "LayoutModel",
      "state": {}
     },
     "627dba76024c45ec8bf0e16dc4a6530a": {
      "model_module": "asqlcell",
      "model_module_version": "0.1.0",
      "model_name": "SqlCellModel",
      "state": {
       "data": "{\"columns\":[\"code\",\"date\",\"O\",\"H\",\"C\",\"L\"],\"index\":[0,1,2,3,4,5,6,7,8,9],\"data\":[[1,\"2020-09-02T00:00:00.000\",15.01,15.53,15.32,15.01],[1,\"2020-09-03T00:00:00.000\",15.32,15.33,14.9,14.84],[1,\"2020-09-04T00:00:00.000\",14.73,15.06,14.96,14.6],[1,\"2020-09-07T00:00:00.000\",14.88,15.24,14.94,14.83],[1,\"2020-09-08T00:00:00.000\",15.0,15.43,15.43,15.0],[1,\"2020-09-09T00:00:00.000\",15.26,15.56,15.21,15.13],[1,\"2020-09-10T00:00:00.000\",15.32,15.48,15.34,15.2],[1,\"2020-09-11T00:00:00.000\",15.18,15.3,15.01,14.82],[1,\"2020-09-14T00:00:00.000\",15.01,15.3,15.3,14.92],[1,\"2020-09-15T00:00:00.000\",15.2,15.48,15.35,15.15]]}\n2518419",
       "data_range": [
        0,
        10
       ],
       "dfs_button": "",
       "index_sort": [
        "",
        0
       ],
       "json_dump": "2023-01-13T02:43:57.648Z",
       "layout": "IPY_MODEL_8ca9d070c45e4880aa57d37014ee451b",
       "sql_button": ""
      }
     },
     "8ca9d070c45e4880aa57d37014ee451b": {
      "model_module": "@jupyter-widgets/base",
      "model_module_version": "2.0.0",
      "model_name": "LayoutModel",
      "state": {}
     },
     "949708a5d9f24f6cb9c2eb6965ca92ef": {
      "model_module": "@jupyter-widgets/base",
      "model_module_version": "2.0.0",
      "model_name": "LayoutModel",
      "state": {}
     },
     "a0d14bfed44b447f81ae7bee54077622": {
      "model_module": "asqlcell",
      "model_module_version": "0.1.0",
      "model_name": "SqlCellModel",
      "state": {
       "data_range": [
        0,
        10
       ],
       "dfs_button": "",
       "index_sort": [
        "",
        0
       ],
       "json_dump": "2023-01-13T02:43:29.021Z",
       "layout": "IPY_MODEL_b87bf04a3c44430e9fb53e41234bd534",
       "sql_button": ""
      }
     },
     "a4c6a81cf0cc4fc2bbd755443e572302": {
      "model_module": "@jupyter-widgets/base",
      "model_module_version": "2.0.0",
      "model_name": "LayoutModel",
      "state": {}
     },
     "aa402ec0d1a946e789d9502a573f202a": {
      "model_module": "asqlcell",
      "model_module_version": "0.1.0",
      "model_name": "SqlCellModel",
      "state": {
       "data": "{\"columns\":[\"rank1\",\"rank2\",\"GA\",\"GA3\",\"c\"],\"index\":[0,1,2,3,4,5,6,7,8,9],\"data\":[[1,1,0.1929800937,0.264539256,180443],[0,4,0.181398254,0.0182629431,61596],[0,3,0.15182625,0.1148870062,49465],[0,0,0.1502570876,0.1718999776,108941],[1,2,0.1480576777,0.2036167927,111911],[0,2,0.1479194711,0.1335748681,34361],[1,4,0.1389054753,0.0773565508,81946],[2,2,0.13839013,0.207105334,168037],[0,1,0.125668261,0.1570787813,57972],[1,3,0.1243816302,0.1154350591,128034]]}\n25",
       "data_range": [
        0,
        10
       ],
       "dfs_button": "",
       "index_sort": [
        "",
        0
       ],
       "json_dump": "2023-01-13T02:43:29.425Z",
       "layout": "IPY_MODEL_5f0514cb84594ee29cfc64fd16c07130",
       "sql_button": ""
      }
     },
     "b87bf04a3c44430e9fb53e41234bd534": {
      "model_module": "@jupyter-widgets/base",
      "model_module_version": "2.0.0",
      "model_name": "LayoutModel",
      "state": {}
     },
     "e43d33da52094943885af9da58f8aded": {
      "model_module": "asqlcell",
      "model_module_version": "0.1.0",
      "model_name": "SqlCellModel",
      "state": {
       "data": "{\"columns\":[\"corr(\\\"FA\\\", gain)\",\"corr(\\\"FB\\\", gain)\",\"corr(\\\"FC\\\", gain)\",\"corr(\\\"FD\\\", gain)\",\"corr(\\\"FE\\\", gain)\",\"corr(\\\"FF\\\", gain)\",\"corr(\\\"FG\\\", gain)\",\"corr(\\\"FH\\\", gain)\",\"corr(\\\"FI\\\", gain)\"],\"index\":[0],\"data\":[[-0.0091434974,-0.0235480096,-0.001915039,-0.0284763342,0.0149036799,-0.0292473392,-0.0265913769,-0.0085768553,0.0007376333]]}\n1",
       "data_range": [
        0,
        10
       ],
       "dfs_button": "",
       "index_sort": [
        "",
        0
       ],
       "json_dump": "2023-01-13T02:43:29.497Z",
       "layout": "IPY_MODEL_345500c78c7547959d42361f3a49729f",
       "sql_button": ""
      }
     }
    },
    "version_major": 2,
    "version_minor": 0
   }
  }
 },
 "nbformat": 4,
 "nbformat_minor": 5
}
