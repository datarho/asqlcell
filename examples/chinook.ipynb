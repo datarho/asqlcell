{
 "cells": [
  {
   "cell_type": "markdown",
   "id": "5596096d-55b2-4a14-bf93-1c66f8706954",
   "metadata": {},
   "source": [
    "In this tutorial we will be looking at a database called Chinook which contains information about a fictional music shop. The database includes several tables on invoice, track, album, artist etc. related to the store's sales. We will use this database to explore four fictional business questions and propositions."
   ]
  },
  {
   "cell_type": "markdown",
   "id": "c88e3932-5dcf-4e67-ba4c-163111a8a906",
   "metadata": {},
   "source": [
    "# Preparation\n",
    "\n",
    "Firstly we'll need to import `asqlcell` and load extension properly."
   ]
  },
  {
   "cell_type": "code",
   "execution_count": null,
   "id": "dbf20659-9828-4f90-83ec-123e867f08c9",
   "metadata": {
    "tags": []
   },
   "outputs": [],
   "source": [
    "import asqlcell\n",
    "\n",
    "%load_ext asqlcell"
   ]
  },
  {
   "cell_type": "markdown",
   "id": "7cd3e7e2-5593-4708-897a-6f97b1b6cb18",
   "metadata": {},
   "source": [
    "Now we can create a connection object to the DuckDB database file. Notice that the connection object will be used for SQL queries later."
   ]
  },
  {
   "cell_type": "code",
   "execution_count": null,
   "id": "0b2dab17-95d8-44cd-8b87-f1a497bbeadd",
   "metadata": {
    "tags": []
   },
   "outputs": [],
   "source": [
    "from sqlalchemy import create_engine, inspect\n",
    "\n",
    "con = create_engine(f\"duckdb:///chinook.duckdb\").connect()"
   ]
  },
  {
   "cell_type": "markdown",
   "id": "8c33e260-176e-4b98-8363-3a7c86435268",
   "metadata": {},
   "source": [
    "We can take a look at the database's schema via the connection object to understand which tables it contains:"
   ]
  },
  {
   "cell_type": "code",
   "execution_count": null,
   "id": "ebdd4e88-2f2d-4614-9c9f-7449a4e18800",
   "metadata": {
    "tags": []
   },
   "outputs": [],
   "source": [
    "inspect(con).get_table_names()"
   ]
  },
  {
   "cell_type": "markdown",
   "id": "9771e9e9-24eb-4fd0-9a90-396a525221cb",
   "metadata": {},
   "source": [
    "The Entity Relationship Diagram of the database is provided as follows:\n",
    "\n",
    "![Chinook Database](https://m-soro.github.io/Business-Analytics/SQL-for-Data-Analysis/L4-Project-Query-Music-Store/Misc/001.png)"
   ]
  },
  {
   "cell_type": "markdown",
   "id": "f283a3c3-2d96-4c42-8164-81428246c4f3",
   "metadata": {},
   "source": [
    "# Questions\n",
    "\n",
    "## Which countries have the most invoices?\n",
    "\n",
    "We could use the `Invoice` table to determine the countries that have the most invoices by providing a table of `BillingCountry` and `Invoices` ordered by the number of invoices for each country. ALso, the country with the most invoices should appear first."
   ]
  },
  {
   "cell_type": "code",
   "execution_count": null,
   "id": "cab809eb-7993-4deb-a5dd-c3678244ee92",
   "metadata": {
    "tags": []
   },
   "outputs": [],
   "source": [
    "%%sql --con con\n",
    "\n",
    "SELECT\n",
    "    BillingCountry,\n",
    "    COUNT(InvoiceId) AS Invoices\n",
    "FROM Invoice\n",
    "GROUP BY 1\n",
    "ORDER BY 2 DESC"
   ]
  },
  {
   "cell_type": "markdown",
   "id": "0462cb8f-602b-44d4-8afd-7cdc8b7e261d",
   "metadata": {},
   "source": [
    "## Which city has the best customers?\n",
    "\n",
    "We would like to throw a promotional Music Festival in the city we made the most money.\n",
    "\n",
    "We could write a query that returns the first city that has the highest sum of invoice totals. Return both the city name and the sum of all invoice totals."
   ]
  },
  {
   "cell_type": "code",
   "execution_count": null,
   "id": "3216be3b-55ba-4701-b4f2-d148faacc352",
   "metadata": {
    "tags": []
   },
   "outputs": [],
   "source": [
    "%%sql --con con\n",
    "\n",
    "SELECT\n",
    "    BillingCity,\n",
    "    SUM(Total) AS Total\n",
    "FROM Invoice\n",
    "GROUP BY 1\n",
    "ORDER BY 2 DESC"
   ]
  },
  {
   "cell_type": "markdown",
   "id": "46ef8635-da3a-4631-b396-84a3a26d87b9",
   "metadata": {},
   "source": [
    "## Who is the best customer?\n",
    "\n",
    "The customer who has spent the most money will be declared the best customer.\n",
    "\n",
    "We could build a query that returns the person who has spent the most money. The solution is to link `Invoice` and `Customer` tables to retrieve this information."
   ]
  },
  {
   "cell_type": "code",
   "execution_count": null,
   "id": "3361b900-b0f3-4e63-a7cf-b287e8a4536e",
   "metadata": {},
   "outputs": [],
   "source": [
    "%%sql --con con\n",
    "\n",
    "SELECT\n",
    "    C.CustomerId,\n",
    "    C.FirstName || ' ' || C.LastName AS Customer,\n",
    "    SUM(I.Total) AS Total\n",
    "FROM Customer C\n",
    "JOIN Invoice I ON C.CustomerId = I.CustomerId\n",
    "GROUP BY 1, 2\n",
    "ORDER BY 3 DESC"
   ]
  },
  {
   "cell_type": "markdown",
   "id": "d1dd53a3-ebb0-41c6-9171-f1c51e293755",
   "metadata": {},
   "source": [
    "## Who is writing the rock music?\n",
    "\n",
    "Now that we know that our customers love rock music, we can decide which musicians to invite to play at the concert.\n",
    "\n",
    "Let’s invite the artists who have written the most rock music in our dataset. Write a query that returns the Artist name and total track count of the top 10 rock bands. We will need to use the Genre, Track , Album, and Artist tables."
   ]
  },
  {
   "cell_type": "code",
   "execution_count": null,
   "id": "1d8f1891-0bcf-449c-b29f-d7319000f182",
   "metadata": {},
   "outputs": [],
   "source": [
    "%%sql --con con\n",
    "\n",
    "SELECT\n",
    "    AR.Name,\n",
    "    COUNT(T.Name) AS Count\n",
    "FROM Track T\n",
    "JOIN Genre G ON T.GenreId = G.GenreId\n",
    "JOIN Album AL ON AL.AlbumId = T.AlbumId\n",
    "JOIN Artist AR ON AR.ArtistId = AL.ArtistId\n",
    "WHERE G.Name = 'Rock'\n",
    "GROUP BY 1\n",
    "ORDER BY 2 DESC\n",
    "LIMIT 10"
   ]
  },
  {
   "cell_type": "code",
   "execution_count": null,
   "id": "934b396a-a948-47af-9f0a-c2b71a72588c",
   "metadata": {},
   "outputs": [],
   "source": []
  }
 ],
 "metadata": {
  "kernelspec": {
   "display_name": "Python 3 (ipykernel)",
   "language": "python",
   "name": "python3"
  },
  "language_info": {
   "codemirror_mode": {
    "name": "ipython",
    "version": 3
   },
   "file_extension": ".py",
   "mimetype": "text/x-python",
   "name": "python",
   "nbconvert_exporter": "python",
   "pygments_lexer": "ipython3",
   "version": "3.10.11"
  },
  "widgets": {
   "application/vnd.jupyter.widget-state+json": {
    "state": {},
    "version_major": 2,
    "version_minor": 0
   }
  }
 },
 "nbformat": 4,
 "nbformat_minor": 5
}
