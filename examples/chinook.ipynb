{
 "cells": [
  {
   "cell_type": "code",
   "execution_count": null,
   "id": "dbf20659-9828-4f90-83ec-123e867f08c9",
   "metadata": {
    "tags": []
   },
   "outputs": [],
   "source": [
    "import asqlcell\n",
    "\n",
    "%load_ext asqlcell"
   ]
  },
  {
   "cell_type": "code",
   "execution_count": null,
   "id": "0b2dab17-95d8-44cd-8b87-f1a497bbeadd",
   "metadata": {
    "tags": []
   },
   "outputs": [],
   "source": [
    "from pathlib import Path\n",
    "from sqlalchemy import create_engine, inspect\n",
    "\n",
    "file = Path(\"chinook.duckdb\")\n",
    "con = create_engine(f\"duckdb:///{file}\").connect()"
   ]
  },
  {
   "cell_type": "code",
   "execution_count": null,
   "id": "fa3de0ec-8b6e-48c5-8ae7-db115bafd572",
   "metadata": {
    "tags": []
   },
   "outputs": [],
   "source": [
    "inspect(con).get_table_names()"
   ]
  },
  {
   "cell_type": "code",
   "execution_count": null,
   "id": "87a6f9db-de5a-4ce6-97ee-edd463c2a071",
   "metadata": {},
   "outputs": [],
   "source": []
  },
  {
   "cell_type": "markdown",
   "id": "f283a3c3-2d96-4c42-8164-81428246c4f3",
   "metadata": {},
   "source": [
    "Which countries have the most invoices?"
   ]
  },
  {
   "cell_type": "code",
   "execution_count": null,
   "id": "cab809eb-7993-4deb-a5dd-c3678244ee92",
   "metadata": {
    "tags": []
   },
   "outputs": [],
   "source": [
    "%%sql --con con\n",
    "\n",
    "SELECT\n",
    "    BillingCountry,\n",
    "    COUNT(InvoiceId) AS Count\n",
    "FROM INVOICE\n",
    "GROUP BY 1\n",
    "ORDER BY 2 DESC"
   ]
  },
  {
   "cell_type": "code",
   "execution_count": null,
   "id": "bc849179-191c-4b6a-83c9-64d50cd2c2f1",
   "metadata": {},
   "outputs": [],
   "source": []
  },
  {
   "cell_type": "code",
   "execution_count": null,
   "id": "3216be3b-55ba-4701-b4f2-d148faacc352",
   "metadata": {
    "tags": []
   },
   "outputs": [],
   "source": [
    "%%sql --con con\n",
    "\n",
    "SELECT\n",
    "    BillingCity,\n",
    "    SUM(Total) AS Total\n",
    "FROM Invoice\n",
    "GROUP BY 1\n",
    "ORDER BY 2 DESC"
   ]
  },
  {
   "cell_type": "code",
   "execution_count": null,
   "id": "5dfa2ddb-8c1b-4fb1-ad9a-e4a1df3ae184",
   "metadata": {},
   "outputs": [],
   "source": []
  },
  {
   "cell_type": "code",
   "execution_count": null,
   "id": "3361b900-b0f3-4e63-a7cf-b287e8a4536e",
   "metadata": {},
   "outputs": [],
   "source": []
  },
  {
   "cell_type": "code",
   "execution_count": null,
   "id": "d4016abb-d0db-4da9-9348-43e3328bbd63",
   "metadata": {},
   "outputs": [],
   "source": [
    "%%sql --out out --con con\n",
    "\n",
    "SELECT\n",
    "    BillingCountry,\n",
    "    COUNT(InvoiceId) AS Count\n",
    "FROM Invoice\n",
    "GROUP BY 1\n",
    "ORDER BY 2 DESC"
   ]
  },
  {
   "cell_type": "code",
   "execution_count": null,
   "id": "1d8f1891-0bcf-449c-b29f-d7319000f182",
   "metadata": {},
   "outputs": [],
   "source": []
  },
  {
   "cell_type": "markdown",
   "id": "63383ffa-b9cb-4b08-83d7-1c25399c474d",
   "metadata": {},
   "source": [
    "How much did users spent total per country?"
   ]
  },
  {
   "cell_type": "code",
   "execution_count": null,
   "id": "00f5d981-4f91-4672-9789-ae51a86a6811",
   "metadata": {
    "tags": []
   },
   "outputs": [],
   "source": [
    "%%sql --con con\n",
    "\n",
    "SELECT\n",
    "    C.Country,\n",
    "    C.FirstName || ' ' || C.LastName AS Customer,\n",
    "    SUM(I.TOTAL)\n",
    "FROM Invoice I\n",
    "JOIN Customer C ON C.CustomerId = I.CustomerId\n",
    "GROUP BY 1,2\n",
    "-- ORDER BY 3 DESC"
   ]
  },
  {
   "cell_type": "code",
   "execution_count": null,
   "id": "934b396a-a948-47af-9f0a-c2b71a72588c",
   "metadata": {},
   "outputs": [],
   "source": []
  }
 ],
 "metadata": {
  "kernelspec": {
   "display_name": "Python 3 (ipykernel)",
   "language": "python",
   "name": "python3"
  },
  "language_info": {
   "codemirror_mode": {
    "name": "ipython",
    "version": 3
   },
   "file_extension": ".py",
   "mimetype": "text/x-python",
   "name": "python",
   "nbconvert_exporter": "python",
   "pygments_lexer": "ipython3",
   "version": "3.10.11"
  },
  "widgets": {
   "application/vnd.jupyter.widget-state+json": {
    "state": {},
    "version_major": 2,
    "version_minor": 0
   }
  }
 },
 "nbformat": 4,
 "nbformat_minor": 5
}
