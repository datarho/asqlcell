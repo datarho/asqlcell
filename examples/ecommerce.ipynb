{
 "cells": [
  {
   "cell_type": "markdown",
   "id": "ba35eeaf-2c0e-481a-b1e3-2d5559f5efab",
   "metadata": {},
   "source": [
    "# Anomaly Detection in E-Commerse"
   ]
  },
  {
   "cell_type": "markdown",
   "id": "0435fae0-2023-4531-8fd9-a7166a1bc1df",
   "metadata": {},
   "source": [
    "## Preparations\n",
    "\n",
    "The following modules will be used:\n",
    "\n",
    "* `asqlcell` for analytical SQL capabilities.\n",
    "* `scikit-learn` for machine learning.\n",
    "\n",
    "The installation is simple as:"
   ]
  },
  {
   "cell_type": "code",
   "execution_count": null,
   "id": "9e826bae-9de4-46d0-9cad-298ff191317c",
   "metadata": {},
   "outputs": [],
   "source": [
    "%pip install asqlcell scikit-learn --upgrade"
   ]
  },
  {
   "cell_type": "markdown",
   "id": "977cc3bd-d30a-4a92-b6b4-432d040a7865",
   "metadata": {},
   "source": [
    "Simply load `asqlcell` and we'll be all set:"
   ]
  },
  {
   "cell_type": "code",
   "execution_count": null,
   "id": "a78b252c-a70f-486e-aa86-92cc3c9874b7",
   "metadata": {
    "tags": []
   },
   "outputs": [],
   "source": [
    "%load_ext asqlcell"
   ]
  },
  {
   "cell_type": "markdown",
   "id": "3ffe5870-6fb1-4ed1-b82e-36096c6138cb",
   "metadata": {},
   "source": [
    "## Data\n",
    "\n",
    "This is a transnational data set which contains all the transactions occurring between 01/12/2010 and 09/12/2011 for a UK-based and registered non-store online retail.The company mainly sells unique all-occasion gifts. Many customers of the company are wholesalers."
   ]
  },
  {
   "cell_type": "markdown",
   "id": "16d9a1fc-0d10-4271-9835-13f00720512f",
   "metadata": {},
   "source": [
    "## Observation\n",
    "\n",
    "We can use SQL statements to inspect data:"
   ]
  },
  {
   "cell_type": "code",
   "execution_count": null,
   "id": "0f16d86f-19a8-44a0-9e76-d76b6a1d58de",
   "metadata": {
    "tags": []
   },
   "outputs": [],
   "source": [
    "%%sql\n",
    "\n",
    "SELECT *\n",
    "FROM 'ecommerce.csv.gz'\n",
    "LIMIT 20"
   ]
  },
  {
   "cell_type": "markdown",
   "id": "de60060e-67d7-4b01-8aa9-07b55a7cd399",
   "metadata": {},
   "source": [
    "The data is quite straightforward to understand.\n",
    "\n",
    "However, there are two potential improvements:\n",
    "\n",
    "1. Invoice date is not standard. We would like to convert to SQL timestamp and then get first date of that week.\n",
    "2. We'd like to calculate total sales by multiplying unit price with quantity.\n",
    "\n",
    "We can transform the data with the following SQL statement and then store the result in holder variable."
   ]
  },
  {
   "cell_type": "code",
   "execution_count": null,
   "id": "7e30f9a5-bd26-484e-a2c9-585644987125",
   "metadata": {
    "tags": []
   },
   "outputs": [],
   "source": [
    "%%sql -o holder\n",
    "\n",
    "SELECT\n",
    "    date_trunc('week', strptime(split_part(InvoiceDate, ' ', 1), '%m/%d/%Y')) AS Date,\n",
    "    Quantity * UnitPrice AS Sales,\n",
    "    InvoiceNo,\n",
    "    CustomerID,\n",
    "    Country,\n",
    "FROM 'ecommerce.csv.gz'\n",
    "WHERE StockCode='85123A'"
   ]
  },
  {
   "cell_type": "markdown",
   "id": "1e8ce7d4-4dad-45d2-ad59-fc0087a937e6",
   "metadata": {},
   "source": [
    "Now we'd like to aggregate the sales by week so that we can inspect the weekly total sales trend:"
   ]
  },
  {
   "cell_type": "code",
   "execution_count": null,
   "id": "a2105a8d-dd2f-487d-879d-a224bd1f9209",
   "metadata": {
    "tags": []
   },
   "outputs": [],
   "source": [
    "%%sql -o aggregated\n",
    "\n",
    "SELECT\n",
    "    Date,\n",
    "    SUM(Sales) AS Total\n",
    "FROM holder\n",
    "GROUP BY Date"
   ]
  },
  {
   "cell_type": "markdown",
   "id": "dded60c3-d2f8-4a30-8e45-ddba0f39cec7",
   "metadata": {
    "tags": []
   },
   "source": [
    "It is still very hard to find the anomalies just by looking at the visuals. However, with the help of Isolation Forest algorithm, it would be much easier.\n",
    "\n",
    "Isolation Forest is an unsupervised machine learning algorithm for anomaly detection. As the name implies, Isolation Forest is an ensemble method similar to random forest. In other words, it use the average of the predictions by several decision trees when assigning the final anomaly score to a given data point.\n",
    "\n",
    "![](data:image/webp;base64,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)\n",
    "\n",
    "We'll use the implementation of Scikit Learn to achieve this."
   ]
  },
  {
   "cell_type": "code",
   "execution_count": null,
   "id": "9c1faf28-9188-4112-8cbb-4d66d6e1d71a",
   "metadata": {
    "tags": []
   },
   "outputs": [],
   "source": [
    "from sklearn.ensemble import IsolationForest\n",
    "\n",
    "detector = IsolationForest(contamination=.1)\n",
    "detector.fit(aggregated[['Total']])"
   ]
  },
  {
   "cell_type": "markdown",
   "id": "8aa0d291-b59a-4b32-aa46-c3148ec41201",
   "metadata": {},
   "source": [
    "And then predict anomalies by the model."
   ]
  },
  {
   "cell_type": "code",
   "execution_count": null,
   "id": "ff7cd324-b388-48c4-af41-7eb93a33733d",
   "metadata": {
    "tags": []
   },
   "outputs": [],
   "source": [
    "predicted = detector.predict(aggregated[['Total']])\n",
    "print(predicted)"
   ]
  },
  {
   "cell_type": "markdown",
   "id": "f850f033-1761-41a5-b0c2-f99f8ec85249",
   "metadata": {
    "tags": []
   },
   "source": [
    "Last but not least, we can merge the train data with predict result with positional join statement."
   ]
  },
  {
   "cell_type": "code",
   "execution_count": null,
   "id": "418ef824-7a40-4601-87e5-e3660b547bab",
   "metadata": {
    "tags": []
   },
   "outputs": [],
   "source": [
    "%%sql\n",
    "\n",
    "SELECT\n",
    "    aggregated.*, predicted.column0 AS Type\n",
    "FROM aggregated POSITIONAL JOIN predicted"
   ]
  },
  {
   "cell_type": "markdown",
   "id": "3626eaf0-9c05-46eb-aff4-a0ebaa17b036",
   "metadata": {},
   "source": [
    "Now it is very easy to identify the anomalies."
   ]
  }
 ],
 "metadata": {
  "kernelspec": {
   "display_name": "Python 3 (ipykernel)",
   "language": "python",
   "name": "python3"
  },
  "language_info": {
   "codemirror_mode": {
    "name": "ipython",
    "version": 3
   },
   "file_extension": ".py",
   "mimetype": "text/x-python",
   "name": "python",
   "nbconvert_exporter": "python",
   "pygments_lexer": "ipython3",
   "version": "3.8.17"
  },
  "widgets": {
   "application/vnd.jupyter.widget-state+json": {
    "state": {
     "00262d6b405a48d798f597857b66ea4e": {
      "model_module": "@jupyter-widgets/base",
      "model_module_version": "2.0.0",
      "model_name": "LayoutModel",
      "state": {}
     },
     "04194de791a1427e8ff02d92ccdb8e5a": {
      "model_module": "",
      "model_module_version": "0.1.0",
      "model_name": "",
      "state": {
       "_model_module": "asqlcell",
       "_model_module_version": "0.1.0",
       "_model_name": "SqlCellModel",
       "_view_module": "asqlcell",
       "_view_module_version": "0.1.0",
       "_view_name": "SqlCellView",
       "cache": "",
       "chart_config": "{\"type\": null, \"x\": {\"label\": null, \"field\": null, \"aggregation\": \"sum\", \"sort\": null}, \"y\": {\"label\": null, \"field\": null, \"aggregation\": \"sum\", \"sort\": null}, \"y2\": {\"label\": null, \"field\": null, \"aggregation\": \"sum\", \"sort\": null}, \"color\": {\"label\": null, \"field\": null, \"aggregation\": \"sum\", \"sort\": null}, \"subtype\": [], \"width\": 500, \"height\": 400, \"legend\": {\"visible\": true}, \"label\": true}",
       "column_color": "{\"columns\":[\"InvoiceNo\",\"StockCode\",\"Description\",\"Quantity\",\"InvoiceDate\",\"UnitPrice\",\"CustomerID\",\"Country\"],\"index\":[0,1,2,3,4,5,6,7,8,9],\"data\":[[255.0,null,null,235.0,null,233.355704698,105.0,null],[255.0,137.8413751603,null,235.0,null,212.2147651007,105.0,null],[255.0,null,null,225.0,null,228.322147651,105.0,null],[255.0,null,null,235.0,null,212.2147651007,105.0,null],[255.0,null,null,235.0,null,212.2147651007,105.0,null],[255.0,252.5724081141,null,255.0,null,105.0,105.0,null],[255.0,255.0,null,235.0,null,190.5704697987,105.0,null],[180.0,252.8550729228,null,235.0,null,250.9731543624,105.0,null],[180.0,252.8574482573,null,235.0,null,250.9731543624,105.0,null],[105.0,105.0,null,105.0,null,255.0,255.0,null]]}",
       "column_sort": [
        "",
        0
       ],
       "data_grid": "{\"columns\":[\"InvoiceNo\",\"StockCode\",\"Description\",\"Quantity\",\"InvoiceDate\",\"UnitPrice\",\"CustomerID\",\"Country\"],\"index\":[0,1,2,3,4,5,6,7,8,9],\"data\":[[\"536365\",\"85123A\",\"WHITE HANGING HEART T-LIGHT HOLDER\",6,\"12\\/1\\/2010 8:26\",2.55,17850,\"United Kingdom\"],[\"536365\",\"71053\",\"WHITE METAL LANTERN\",6,\"12\\/1\\/2010 8:26\",3.39,17850,\"United Kingdom\"],[\"536365\",\"84406B\",\"CREAM CUPID HEARTS COAT HANGER\",8,\"12\\/1\\/2010 8:26\",2.75,17850,\"United Kingdom\"],[\"536365\",\"84029G\",\"KNITTED UNION FLAG HOT WATER BOTTLE\",6,\"12\\/1\\/2010 8:26\",3.39,17850,\"United Kingdom\"],[\"536365\",\"84029E\",\"RED WOOLLY HOTTIE WHITE HEART.\",6,\"12\\/1\\/2010 8:26\",3.39,17850,\"United Kingdom\"],[\"536365\",\"22752\",\"SET 7 BABUSHKA NESTING BOXES\",2,\"12\\/1\\/2010 8:26\",7.65,17850,\"United Kingdom\"],[\"536365\",\"21730\",\"GLASS STAR FROSTED T-LIGHT HOLDER\",6,\"12\\/1\\/2010 8:26\",4.25,17850,\"United Kingdom\"],[\"536366\",\"22633\",\"HAND WARMER UNION JACK\",6,\"12\\/1\\/2010 8:28\",1.85,17850,\"United Kingdom\"],[\"536366\",\"22632\",\"HAND WARMER RED POLKA DOT\",6,\"12\\/1\\/2010 8:28\",1.85,17850,\"United Kingdom\"],[\"536367\",\"84879\",\"ASSORTED COLOUR BIRD ORNAMENT\",32,\"12\\/1\\/2010 8:34\",1.69,13047,\"United Kingdom\"]]}\n20",
       "data_name": "asqlcell0f16d86f19a844a09e76d76b6a1d58deresult",
       "error": {},
       "exec_time": 0.5108263492584229,
       "layout": "IPY_MODEL_8a39069a228b40f3a94fb624cb1d35ed",
       "msg": "Failed to load model class '' from module ''",
       "need_aggr": false,
       "persist_vega": "",
       "preview_vega": "{}",
       "quickview_var": [
        "",
        ""
       ],
       "quickview_vega": "{}",
       "row_range": [
        0,
        10
       ],
       "title_hist": "[{\"columnName\": \"InvoiceNo\", \"dtype\": \"string\", \"bins\": [{\"bin\": \"536367\", \"count\": 11}, {\"bin\": \"536365\", \"count\": 7}, {\"bin\": \"536366\", \"count\": 2}, {\"bin\": \"other\", \"count\": 0}]}, {\"columnName\": \"StockCode\", \"dtype\": \"string\", \"bins\": [{\"bin\": \"85123A\", \"count\": 1}, {\"bin\": \"84969\", \"count\": 1}, {\"bin\": \"21754\", \"count\": 1}, {\"bin\": \"other\", \"count\": 17}]}, {\"columnName\": \"Description\", \"dtype\": \"string\", \"bins\": [{\"bin\": \"WHITE METAL LANTERN\", \"count\": 1}, {\"bin\": \"WHITE HANGING HEART T-LIGHT HOLDER\", \"count\": 1}, {\"bin\": \"BOX OF 6 ASSORTED COLOUR TEASPOONS\", \"count\": 1}, {\"bin\": \"other\", \"count\": 17}]}, {\"columnName\": \"Quantity\", \"dtype\": \"int\", \"bins\": [{\"bin_start\": 2.0, \"bin_end\": 5.0, \"count\": 6}, {\"bin_start\": 5.0, \"bin_end\": 8.0, \"count\": 11}, {\"bin_start\": 8.0, \"bin_end\": 11.0, \"count\": 2}, {\"bin_start\": 11.0, \"bin_end\": 14.0, \"count\": 0}, {\"bin_start\": 14.0, \"bin_end\": 17.0, \"count\": 0}, {\"bin_start\": 17.0, \"bin_end\": 20.0, \"count\": 0}, {\"bin_start\": 20.0, \"bin_end\": 23.0, \"count\": 0}, {\"bin_start\": 23.0, \"bin_end\": 26.0, \"count\": 0}, {\"bin_start\": 26.0, \"bin_end\": 29.0, \"count\": 0}, {\"bin_start\": 29.0, \"bin_end\": 32.0, \"count\": 1}]}, {\"columnName\": \"InvoiceDate\", \"dtype\": \"string\", \"bins\": [{\"bin\": \"12/1/2010 8:34\", \"count\": 11}, {\"bin\": \"12/1/2010 8:26\", \"count\": 7}, {\"bin\": \"12/1/2010 8:28\", \"count\": 2}, {\"bin\": \"other\", \"count\": 0}]}, {\"columnName\": \"UnitPrice\", \"dtype\": \"float\", \"bins\": [{\"bin_start\": 1.65, \"bin_end\": 2.4799999999999995, \"count\": 6}, {\"bin_start\": 2.4799999999999995, \"bin_end\": 3.3099999999999996, \"count\": 2}, {\"bin_start\": 3.3099999999999996, \"bin_end\": 4.139999999999999, \"count\": 4}, {\"bin_start\": 4.139999999999999, \"bin_end\": 4.969999999999999, \"count\": 3}, {\"bin_start\": 4.969999999999999, \"bin_end\": 5.799999999999999, \"count\": 0}, {\"bin_start\": 5.799999999999999, \"bin_end\": 6.629999999999999, \"count\": 2}, {\"bin_start\": 6.629999999999999, \"bin_end\": 7.459999999999999, \"count\": 0}, {\"bin_start\": 7.459999999999999, \"bin_end\": 8.29, \"count\": 2}, {\"bin_start\": 8.29, \"bin_end\": 9.12, \"count\": 0}, {\"bin_start\": 9.12, \"bin_end\": 9.95, \"count\": 1}]}, {\"columnName\": \"CustomerID\", \"dtype\": \"int\", \"bins\": [{\"bin_start\": 13047.0, \"bin_end\": 13527.3, \"count\": 11}, {\"bin_start\": 13527.3, \"bin_end\": 14007.6, \"count\": 0}, {\"bin_start\": 14007.6, \"bin_end\": 14487.9, \"count\": 0}, {\"bin_start\": 14487.9, \"bin_end\": 14968.2, \"count\": 0}, {\"bin_start\": 14968.2, \"bin_end\": 15448.5, \"count\": 0}, {\"bin_start\": 15448.5, \"bin_end\": 15928.8, \"count\": 0}, {\"bin_start\": 15928.8, \"bin_end\": 16409.1, \"count\": 0}, {\"bin_start\": 16409.1, \"bin_end\": 16889.4, \"count\": 0}, {\"bin_start\": 16889.4, \"bin_end\": 17369.7, \"count\": 0}, {\"bin_start\": 17369.7, \"bin_end\": 17850.0, \"count\": 9}]}, {\"columnName\": \"Country\", \"dtype\": \"string\", \"bins\": [{\"bin\": \"United Kingdom\", \"count\": 20}, {\"bin\": \"other\", \"count\": 0}]}]"
      }
     },
     "0ef1fcdf68c741bfabaf06f91ceaf324": {
      "model_module": "@jupyter-widgets/base",
      "model_module_version": "2.0.0",
      "model_name": "LayoutModel",
      "state": {}
     },
     "8a39069a228b40f3a94fb624cb1d35ed": {
      "model_module": "@jupyter-widgets/base",
      "model_module_version": "2.0.0",
      "model_name": "LayoutModel",
      "state": {}
     },
     "8ac83e4bbc854808ad9e50baf3bef09a": {
      "model_module": "",
      "model_module_version": "0.1.0",
      "model_name": "",
      "state": {
       "_model_module": "asqlcell",
       "_model_module_version": "0.1.0",
       "_model_name": "SqlCellModel",
       "_view_module": "asqlcell",
       "_view_module_version": "0.1.0",
       "_view_name": "SqlCellView",
       "cache": "{\"tabValue\":\"table\"}",
       "chart_config": "{\"type\": null, \"x\": {\"label\": null, \"field\": null, \"aggregation\": \"sum\", \"sort\": null}, \"y\": {\"label\": null, \"field\": null, \"aggregation\": \"sum\", \"sort\": null}, \"y2\": {\"label\": null, \"field\": null, \"aggregation\": \"sum\", \"sort\": null}, \"color\": {\"label\": null, \"field\": null, \"aggregation\": \"sum\", \"sort\": null}, \"subtype\": [], \"width\": 500, \"height\": 400, \"legend\": {\"visible\": true}, \"label\": true}",
       "column_color": "{\"columns\":[\"Date\",\"Total\"],\"index\":[0,1,2,3,4,5,6,7,8,9],\"data\":[[null,218.3065260653],[null,211.8674818265],[null,213.1250983047],[null,255.0],[null,219.3420593726],[null,105.0],[null,233.1775502807],[null,237.7799205356],[null,236.0598444905],[null,239.6145429429]]}",
       "column_sort": [
        "",
        0
       ],
       "data_grid": "{\"columns\":[\"Date\",\"Total\"],\"index\":[0,1,2,3,4,5,6,7,8,9],\"data\":[[\"2010-11-29T00:00:00.000\",2636.38],[\"2010-12-06T00:00:00.000\",3013.01],[\"2010-12-13T00:00:00.000\",2939.45],[\"2010-12-20T00:00:00.000\",490.12],[\"2011-01-03T00:00:00.000\",2575.81],[\"2011-01-10T00:00:00.000\",9263.86],[\"2011-01-17T00:00:00.000\",1766.55],[\"2011-01-24T00:00:00.000\",1497.35],[\"2011-01-31T00:00:00.000\",1597.96],[\"2011-02-07T00:00:00.000\",1390.04]]}\n53",
       "data_name": "aggregated",
       "error": {},
       "exec_time": 0.020879745483398438,
       "layout": "IPY_MODEL_f294d6315de7428b86f4f553cc6440c5",
       "msg": "Failed to load model class '' from module ''",
       "need_aggr": false,
       "persist_vega": "",
       "preview_vega": "{}",
       "quickview_var": [
        "",
        ""
       ],
       "quickview_vega": "{}",
       "row_range": [
        0,
        10
       ],
       "title_hist": "[{\"columnName\": \"Date\", \"dtype\": \"datetime\", \"bins\": [{\"bin\": \"2011-12-05\", \"count\": 1}, {\"bin\": \"2011-05-30\", \"count\": 1}, {\"bin\": \"2011-05-16\", \"count\": 1}, {\"bin\": \"other\", \"count\": 50}]}, {\"columnName\": \"Total\", \"dtype\": \"float\", \"bins\": [{\"bin_start\": 490.1199999999999, \"bin_end\": 1367.4940000000008, \"count\": 25}, {\"bin_start\": 1367.4940000000008, \"bin_end\": 2244.8680000000018, \"count\": 15}, {\"bin_start\": 2244.8680000000018, \"bin_end\": 3122.242000000003, \"count\": 8}, {\"bin_start\": 3122.242000000003, \"bin_end\": 3999.6160000000036, \"count\": 3}, {\"bin_start\": 3999.6160000000036, \"bin_end\": 4876.990000000004, \"count\": 0}, {\"bin_start\": 4876.990000000004, \"bin_end\": 5754.364000000006, \"count\": 1}, {\"bin_start\": 5754.364000000006, \"bin_end\": 6631.738000000007, \"count\": 0}, {\"bin_start\": 6631.738000000007, \"bin_end\": 7509.112000000007, \"count\": 0}, {\"bin_start\": 7509.112000000007, \"bin_end\": 8386.486000000008, \"count\": 0}, {\"bin_start\": 8386.486000000008, \"bin_end\": 9263.860000000008, \"count\": 1}]}]"
      }
     },
     "a3e774b74dfd4e669ada00e53b72cd50": {
      "model_module": "@jupyter-widgets/base",
      "model_module_version": "2.0.0",
      "model_name": "LayoutModel",
      "state": {}
     },
     "af15728e1d2244958c2b853c955f261c": {
      "model_module": "",
      "model_module_version": "0.1.0",
      "model_name": "",
      "state": {
       "_model_module": "asqlcell",
       "_model_module_version": "0.1.0",
       "_model_name": "SqlCellModel",
       "_view_module": "asqlcell",
       "_view_module_version": "0.1.0",
       "_view_name": "SqlCellView",
       "cache": "",
       "chart_config": "{\"type\": null, \"x\": {\"label\": null, \"field\": null, \"aggregation\": \"sum\", \"sort\": null}, \"y\": {\"label\": null, \"field\": null, \"aggregation\": \"sum\", \"sort\": null}, \"y2\": {\"label\": null, \"field\": null, \"aggregation\": \"sum\", \"sort\": null}, \"color\": {\"label\": null, \"field\": null, \"aggregation\": \"sum\", \"sort\": null}, \"subtype\": [], \"width\": 500, \"height\": 400, \"legend\": {\"visible\": true}, \"label\": true}",
       "column_color": "{\"columns\":[\"Date\",\"Sales\",\"InvoiceNo\",\"CustomerID\",\"Country\"],\"index\":[0,1,2,3,4,5,6,7,8,9],\"data\":[[null,248.7317784257,255.0,105.0,null],[null,248.7317784257,247.2580645161,105.0,null],[null,248.7317784257,245.3225806452,105.0,null],[null,105.0,230.8064516129,116.4475461504,null],[null,184.3002915452,226.935483871,255.0,null],[null,248.7317784257,225.0,105.0,null],[null,252.1331389699,220.1612903226,172.1319225574,null],[null,243.7755102041,215.3225806452,105.0,null],[null,246.3994169096,122.4193548387,148.8316073841,null],[null,255.0,105.0,210.3917154435,null]]}",
       "column_sort": [
        "",
        0
       ],
       "data_grid": "{\"columns\":[\"Date\",\"Sales\",\"InvoiceNo\",\"CustomerID\",\"Country\"],\"index\":[0,1,2,3,4,5,6,7,8,9],\"data\":[[\"2010-11-29T00:00:00.000\",15.3,\"536365\",17850.0,\"United Kingdom\"],[\"2010-11-29T00:00:00.000\",15.3,\"536373\",17850.0,\"United Kingdom\"],[\"2010-11-29T00:00:00.000\",15.3,\"536375\",17850.0,\"United Kingdom\"],[\"2010-11-29T00:00:00.000\",163.2,\"536390\",17511.0,\"United Kingdom\"],[\"2010-11-29T00:00:00.000\",81.6,\"536394\",13408.0,\"United Kingdom\"],[\"2010-11-29T00:00:00.000\",15.3,\"536396\",17850.0,\"United Kingdom\"],[\"2010-11-29T00:00:00.000\",11.8,\"536401\",15862.0,\"United Kingdom\"],[\"2010-11-29T00:00:00.000\",20.4,\"536406\",17850.0,\"United Kingdom\"],[\"2010-11-29T00:00:00.000\",17.7,\"536502\",16552.0,\"United Kingdom\"],[\"2010-11-29T00:00:00.000\",8.85,\"536520\",14729.0,\"United Kingdom\"]]}\n2313",
       "data_name": "holder",
       "error": {},
       "exec_time": 0.597815752029419,
       "layout": "IPY_MODEL_a3e774b74dfd4e669ada00e53b72cd50",
       "msg": "Failed to load model class '' from module ''",
       "need_aggr": false,
       "persist_vega": "",
       "preview_vega": "{}",
       "quickview_var": [
        "",
        ""
       ],
       "quickview_vega": "{}",
       "row_range": [
        0,
        10
       ],
       "title_hist": "[{\"columnName\": \"Date\", \"dtype\": \"datetime\", \"bins\": [{\"bin\": \"2010-12-06\", \"count\": 88}, {\"bin\": \"2010-12-13\", \"count\": 71}, {\"bin\": \"2011-11-14\", \"count\": 68}, {\"bin\": \"other\", \"count\": 2086}]}, {\"columnName\": \"Sales\", \"dtype\": \"float\", \"bins\": [{\"bin_start\": -4921.5, \"bin_end\": -3937.2, \"count\": 1}, {\"bin_start\": -3937.2, \"bin_end\": -2952.9, \"count\": 0}, {\"bin_start\": -2952.9, \"bin_end\": -1968.6000000000004, \"count\": 0}, {\"bin_start\": -1968.6000000000004, \"bin_end\": -984.3000000000002, \"count\": 1}, {\"bin_start\": -984.3000000000002, \"bin_end\": 0.0, \"count\": 40}, {\"bin_start\": 0.0, \"bin_end\": 984.2999999999993, \"count\": 2261}, {\"bin_start\": 984.2999999999993, \"bin_end\": 1968.5999999999995, \"count\": 5}, {\"bin_start\": 1968.5999999999995, \"bin_end\": 2952.8999999999996, \"count\": 1}, {\"bin_start\": 2952.8999999999996, \"bin_end\": 3937.199999999999, \"count\": 2}, {\"bin_start\": 3937.199999999999, \"bin_end\": 4921.5, \"count\": 2}]}, {\"columnName\": \"InvoiceNo\", \"dtype\": \"string\", \"bins\": [{\"bin\": \"560271\", \"count\": 3}, {\"bin\": \"551057\", \"count\": 3}, {\"bin\": \"568301\", \"count\": 3}, {\"bin\": \"other\", \"count\": 2304}]}, {\"columnName\": \"CustomerID\", \"dtype\": \"float\", \"bins\": [{\"bin_start\": 12370.0, \"bin_end\": 12961.3, \"count\": 84}, {\"bin_start\": 12961.3, \"bin_end\": 13552.6, \"count\": 191}, {\"bin_start\": 13552.6, \"bin_end\": 14143.9, \"count\": 193}, {\"bin_start\": 14143.9, \"bin_end\": 14735.2, \"count\": 295}, {\"bin_start\": 14735.2, \"bin_end\": 15326.5, \"count\": 209}, {\"bin_start\": 15326.5, \"bin_end\": 15917.8, \"count\": 197}, {\"bin_start\": 15917.8, \"bin_end\": 16509.1, \"count\": 209}, {\"bin_start\": 16509.1, \"bin_end\": 17100.4, \"count\": 228}, {\"bin_start\": 17100.4, \"bin_end\": 17691.7, \"count\": 228}, {\"bin_start\": 17691.7, \"bin_end\": 18283.0, \"count\": 243}]}, {\"columnName\": \"Country\", \"dtype\": \"string\", \"bins\": [{\"bin\": \"United Kingdom\", \"count\": 2215}, {\"bin\": \"EIRE\", \"count\": 47}, {\"bin\": \"Spain\", \"count\": 11}, {\"bin\": \"other\", \"count\": 40}]}]"
      }
     },
     "c206e1b06dcc4aaeab143fa541511426": {
      "model_module": "",
      "model_module_version": "0.1.0",
      "model_name": "",
      "state": {
       "_model_module": "asqlcell",
       "_model_module_version": "0.1.0",
       "_model_name": "SqlCellModel",
       "_view_module": "asqlcell",
       "_view_module_version": "0.1.0",
       "_view_name": "SqlCellView",
       "cache": "",
       "chart_config": "{\"type\": null, \"x\": {\"label\": null, \"field\": null, \"aggregation\": \"sum\", \"sort\": null}, \"y\": {\"label\": null, \"field\": null, \"aggregation\": \"sum\", \"sort\": null}, \"y2\": {\"label\": null, \"field\": null, \"aggregation\": \"sum\", \"sort\": null}, \"color\": {\"label\": null, \"field\": null, \"aggregation\": \"sum\", \"sort\": null}, \"subtype\": [], \"width\": 500, \"height\": 400, \"legend\": {\"visible\": true}, \"label\": true}",
       "column_color": "",
       "column_sort": [
        "",
        0
       ],
       "data_grid": "",
       "data_name": "asqlcell418ef8247a40460187e5e3660b547babresult",
       "error": {},
       "exec_time": 0.018156766891479492,
       "layout": "IPY_MODEL_00262d6b405a48d798f597857b66ea4e",
       "msg": "Failed to load model class '' from module ''",
       "need_aggr": false,
       "persist_vega": "",
       "preview_vega": "{}",
       "quickview_var": [
        "",
        ""
       ],
       "quickview_vega": "{}",
       "row_range": [
        0,
        10
       ],
       "title_hist": ""
      }
     },
     "d354a3d4578642ea9b3c52c6d403580c": {
      "model_module": "",
      "model_module_version": "0.1.0",
      "model_name": "",
      "state": {
       "_model_module": "asqlcell",
       "_model_module_version": "0.1.0",
       "_model_name": "SqlCellModel",
       "_view_module": "asqlcell",
       "_view_module_version": "0.1.0",
       "_view_name": "SqlCellView",
       "cache": "",
       "chart_config": "{\"type\": null, \"x\": {\"label\": null, \"field\": null, \"aggregation\": \"sum\", \"sort\": null}, \"y\": {\"label\": null, \"field\": null, \"aggregation\": \"sum\", \"sort\": null}, \"y2\": {\"label\": null, \"field\": null, \"aggregation\": \"sum\", \"sort\": null}, \"color\": {\"label\": null, \"field\": null, \"aggregation\": \"sum\", \"sort\": null}, \"subtype\": [], \"width\": 500, \"height\": 400, \"legend\": {\"visible\": true}, \"label\": true}",
       "column_color": "{\"columns\":[\"current_date()\"],\"index\":[0],\"data\":[[null]]}",
       "column_sort": [
        "",
        0
       ],
       "data_grid": "{\"columns\":[\"current_date()\"],\"index\":[0],\"data\":[[\"2023-12-04T00:00:00.000\"]]}\n1",
       "data_name": "asqlcell6eda185b12f34695807a72b6d5063765result",
       "error": {},
       "exec_time": 0.019490718841552734,
       "layout": "IPY_MODEL_0ef1fcdf68c741bfabaf06f91ceaf324",
       "msg": "Failed to load model class '' from module ''",
       "need_aggr": false,
       "persist_vega": "",
       "preview_vega": "{}",
       "quickview_var": [
        "",
        ""
       ],
       "quickview_vega": "{}",
       "row_range": [
        0,
        10
       ],
       "title_hist": "[{\"columnName\": \"current_date()\", \"dtype\": \"datetime\", \"bins\": [{\"bin\": \"2023-12-04\", \"count\": 1}, {\"bin\": \"other\", \"count\": 0}]}]"
      }
     },
     "f294d6315de7428b86f4f553cc6440c5": {
      "model_module": "@jupyter-widgets/base",
      "model_module_version": "2.0.0",
      "model_name": "LayoutModel",
      "state": {}
     }
    },
    "version_major": 2,
    "version_minor": 0
   }
  }
 },
 "nbformat": 4,
 "nbformat_minor": 5
}
