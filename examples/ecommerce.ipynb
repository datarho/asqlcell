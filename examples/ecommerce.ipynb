{
 "cells": [
  {
   "cell_type": "code",
   "execution_count": 2,
   "id": "3f4bfe1d-af7c-4153-9688-200f885a5b19",
   "metadata": {
    "tags": []
   },
   "outputs": [],
   "source": [
    "%load_ext asqlcell"
   ]
  },
  {
   "cell_type": "code",
   "execution_count": null,
   "id": "1dfe0e35-13a4-4f15-a15e-5aa8e53c5ece",
   "metadata": {},
   "outputs": [],
   "source": []
  },
  {
   "cell_type": "code",
   "execution_count": 8,
   "id": "0f16d86f-19a8-44a0-9e76-d76b6a1d58de",
   "metadata": {
    "tags": []
   },
   "outputs": [
    {
     "data": {
      "text/html": [],
      "text/plain": [
       "<IPython.core.display.HTML object>"
      ]
     },
     "metadata": {},
     "output_type": "display_data"
    },
    {
     "data": {
      "application/vnd.jupyter.widget-view+json": {
       "model_id": "04194de791a1427e8ff02d92ccdb8e5a",
       "version_major": 2,
       "version_minor": 0
      },
      "text/plain": [
       "SqlCellWidget(chart_config='{\"type\": null, \"x\": {\"label\": null, \"field\": null, \"aggregation\": \"sum\", \"sort\": n…"
      ]
     },
     "execution_count": 8,
     "metadata": {},
     "output_type": "execute_result"
    }
   ],
   "source": [
    "%%sql\n",
    "\n",
    "SELECT *\n",
    "FROM 'ecommerce.csv.gz'\n",
    "LIMIT 20"
   ]
  },
  {
   "cell_type": "code",
   "execution_count": 43,
   "id": "7e30f9a5-bd26-484e-a2c9-585644987125",
   "metadata": {
    "tags": []
   },
   "outputs": [
    {
     "data": {
      "text/html": [],
      "text/plain": [
       "<IPython.core.display.HTML object>"
      ]
     },
     "metadata": {},
     "output_type": "display_data"
    },
    {
     "data": {
      "application/vnd.jupyter.widget-view+json": {
       "model_id": "af15728e1d2244958c2b853c955f261c",
       "version_major": 2,
       "version_minor": 0
      },
      "text/plain": [
       "SqlCellWidget(chart_config='{\"type\": null, \"x\": {\"label\": null, \"field\": null, \"aggregation\": \"sum\", \"sort\": n…"
      ]
     },
     "execution_count": 43,
     "metadata": {},
     "output_type": "execute_result"
    }
   ],
   "source": [
    "%%sql -o holder\n",
    "\n",
    "SELECT\n",
    "    date_trunc('week', strptime(split_part(InvoiceDate, ' ', 1), '%m/%d/%Y')) AS Date,\n",
    "    Quantity * UnitPrice AS Sales,\n",
    "    InvoiceNo,\n",
    "    CustomerID,\n",
    "    Country,\n",
    "FROM 'ecommerce.csv.gz'\n",
    "WHERE StockCode='85123A'"
   ]
  },
  {
   "cell_type": "code",
   "execution_count": null,
   "id": "c00f3a5c-05cb-493e-8d58-acc7fc676496",
   "metadata": {},
   "outputs": [],
   "source": []
  },
  {
   "cell_type": "code",
   "execution_count": 67,
   "id": "a2105a8d-dd2f-487d-879d-a224bd1f9209",
   "metadata": {
    "tags": []
   },
   "outputs": [
    {
     "data": {
      "text/html": [],
      "text/plain": [
       "<IPython.core.display.HTML object>"
      ]
     },
     "metadata": {},
     "output_type": "display_data"
    },
    {
     "data": {
      "application/vnd.jupyter.widget-view+json": {
       "model_id": "8ac83e4bbc854808ad9e50baf3bef09a",
       "version_major": 2,
       "version_minor": 0
      },
      "text/plain": [
       "SqlCellWidget(cache='{\"tabValue\":\"table\"}', chart_config='{\"type\": null, \"x\": {\"label\": null, \"field\": null, \"…"
      ]
     },
     "execution_count": 67,
     "metadata": {},
     "output_type": "execute_result"
    }
   ],
   "source": [
    "%%sql -o aggregated\n",
    "\n",
    "SELECT\n",
    "    Date,\n",
    "    SUM(Sales) AS Total\n",
    "FROM holder\n",
    "GROUP BY Date"
   ]
  },
  {
   "cell_type": "code",
   "execution_count": 47,
   "id": "5f4e6706-1337-4ab3-ae61-e92d44519a4d",
   "metadata": {
    "tags": []
   },
   "outputs": [
    {
     "name": "stdout",
     "output_type": "stream",
     "text": [
      "Looking in indexes: https://mirrors.cloud.tencent.com/pypi/simple\n",
      "Collecting scikit-learn\n",
      "  Downloading https://mirrors.cloud.tencent.com/pypi/packages/3f/48/6fdd99f5717045f9984616b5c2ec683d6286d30c0ac234563062132b83ab/scikit_learn-1.3.2-cp38-cp38-manylinux_2_17_x86_64.manylinux2014_x86_64.whl (11.1 MB)\n",
      "\u001b[2K     \u001b[38;2;114;156;31m━━━━━━━━━━━━━━━━━━━━━━━━━━━━━━━━━━━━━━━━\u001b[0m \u001b[32m11.1/11.1 MB\u001b[0m \u001b[31m14.2 MB/s\u001b[0m eta \u001b[36m0:00:00\u001b[0mm eta \u001b[36m0:00:01\u001b[0m36m0:00:01\u001b[0m\n",
      "\u001b[?25hRequirement already satisfied: numpy<2.0,>=1.17.3 in /home/qizh/miniconda3/envs/asqlcell/lib/python3.8/site-packages (from scikit-learn) (1.24.4)\n",
      "Collecting scipy>=1.5.0 (from scikit-learn)\n",
      "  Downloading https://mirrors.cloud.tencent.com/pypi/packages/69/f0/fb07a9548e48b687b8bf2fa81d71aba9cfc548d365046ca1c791e24db99d/scipy-1.10.1-cp38-cp38-manylinux_2_17_x86_64.manylinux2014_x86_64.whl (34.5 MB)\n",
      "\u001b[2K     \u001b[38;2;114;156;31m━━━━━━━━━━━━━━━━━━━━━━━━━━━━━━━━━━━━━━━━\u001b[0m \u001b[32m34.5/34.5 MB\u001b[0m \u001b[31m11.3 MB/s\u001b[0m eta \u001b[36m0:00:00\u001b[0mm eta \u001b[36m0:00:01\u001b[0m[36m0:00:01\u001b[0m\n",
      "\u001b[?25hCollecting joblib>=1.1.1 (from scikit-learn)\n",
      "  Downloading https://mirrors.cloud.tencent.com/pypi/packages/10/40/d551139c85db202f1f384ba8bcf96aca2f329440a844f924c8a0040b6d02/joblib-1.3.2-py3-none-any.whl (302 kB)\n",
      "\u001b[2K     \u001b[38;2;114;156;31m━━━━━━━━━━━━━━━━━━━━━━━━━━━━━━━━━━━━━━\u001b[0m \u001b[32m302.2/302.2 kB\u001b[0m \u001b[31m44.4 MB/s\u001b[0m eta \u001b[36m0:00:00\u001b[0m\n",
      "\u001b[?25hCollecting threadpoolctl>=2.0.0 (from scikit-learn)\n",
      "  Using cached https://mirrors.cloud.tencent.com/pypi/packages/81/12/fd4dea011af9d69e1cad05c75f3f7202cdcbeac9b712eea58ca779a72865/threadpoolctl-3.2.0-py3-none-any.whl (15 kB)\n",
      "Installing collected packages: threadpoolctl, scipy, joblib, scikit-learn\n",
      "Successfully installed joblib-1.3.2 scikit-learn-1.3.2 scipy-1.10.1 threadpoolctl-3.2.0\n",
      "Note: you may need to restart the kernel to use updated packages.\n"
     ]
    }
   ],
   "source": [
    "%pip install scikit-learn"
   ]
  },
  {
   "cell_type": "code",
   "execution_count": 68,
   "id": "331a1a96-2fd4-41b8-a725-df6619335f46",
   "metadata": {
    "tags": []
   },
   "outputs": [
    {
     "data": {
      "text/plain": [
       "array([[Timestamp('2010-11-29 00:00:00'), 2636.3799999999987],\n",
       "       [Timestamp('2010-12-06 00:00:00'), 3013.0099999999975],\n",
       "       [Timestamp('2010-12-13 00:00:00'), 2939.4499999999994],\n",
       "       [Timestamp('2010-12-20 00:00:00'), 490.1199999999999],\n",
       "       [Timestamp('2011-01-03 00:00:00'), 2575.8099999999995],\n",
       "       [Timestamp('2011-01-10 00:00:00'), 9263.860000000008],\n",
       "       [Timestamp('2011-01-17 00:00:00'), 1766.5500000000004],\n",
       "       [Timestamp('2011-01-24 00:00:00'), 1497.35],\n",
       "       [Timestamp('2011-01-31 00:00:00'), 1597.9600000000007],\n",
       "       [Timestamp('2011-02-07 00:00:00'), 1390.04],\n",
       "       [Timestamp('2011-02-14 00:00:00'), 1000.83],\n",
       "       [Timestamp('2011-02-21 00:00:00'), 1119.6300000000006],\n",
       "       [Timestamp('2011-02-28 00:00:00'), 1084.0000000000002],\n",
       "       [Timestamp('2011-03-07 00:00:00'), 1226.2200000000005],\n",
       "       [Timestamp('2011-03-14 00:00:00'), 1262.0100000000002],\n",
       "       [Timestamp('2011-03-21 00:00:00'), 1076.6700000000003],\n",
       "       [Timestamp('2011-03-28 00:00:00'), 1582.3400000000001],\n",
       "       [Timestamp('2011-04-04 00:00:00'), 1055.72],\n",
       "       [Timestamp('2011-04-11 00:00:00'), 1295.9000000000008],\n",
       "       [Timestamp('2011-04-18 00:00:00'), 1166.06],\n",
       "       [Timestamp('2011-04-25 00:00:00'), 1028.01],\n",
       "       [Timestamp('2011-05-02 00:00:00'), 3057.599999999998],\n",
       "       [Timestamp('2011-05-09 00:00:00'), 2342.2299999999996],\n",
       "       [Timestamp('2011-05-16 00:00:00'), 2155.53],\n",
       "       [Timestamp('2011-05-23 00:00:00'), 3145.8099999999995],\n",
       "       [Timestamp('2011-05-30 00:00:00'), 1684.4800000000005],\n",
       "       [Timestamp('2011-06-06 00:00:00'), 1026.17],\n",
       "       [Timestamp('2011-06-13 00:00:00'), 1050.7200000000003],\n",
       "       [Timestamp('2011-06-20 00:00:00'), 744.4400000000002],\n",
       "       [Timestamp('2011-06-27 00:00:00'), 722.7000000000003],\n",
       "       [Timestamp('2011-07-04 00:00:00'), 716.87],\n",
       "       [Timestamp('2011-07-11 00:00:00'), 3246.609999999999],\n",
       "       [Timestamp('2011-07-18 00:00:00'), 1932.9899999999996],\n",
       "       [Timestamp('2011-07-25 00:00:00'), 2418.84],\n",
       "       [Timestamp('2011-08-01 00:00:00'), 1239.2199999999993],\n",
       "       [Timestamp('2011-08-08 00:00:00'), 1232.13],\n",
       "       [Timestamp('2011-08-15 00:00:00'), 806.2500000000005],\n",
       "       [Timestamp('2011-08-22 00:00:00'), 2034.2000000000012],\n",
       "       [Timestamp('2011-08-29 00:00:00'), 1059.3799999999999],\n",
       "       [Timestamp('2011-09-05 00:00:00'), 1225.4400000000003],\n",
       "       [Timestamp('2011-09-12 00:00:00'), 1751.8300000000004],\n",
       "       [Timestamp('2011-09-19 00:00:00'), 2103.7600000000007],\n",
       "       [Timestamp('2011-09-26 00:00:00'), 1092.02],\n",
       "       [Timestamp('2011-10-03 00:00:00'), 500.84],\n",
       "       [Timestamp('2011-10-10 00:00:00'), 1866.4900000000002],\n",
       "       [Timestamp('2011-10-17 00:00:00'), 667.1],\n",
       "       [Timestamp('2011-10-24 00:00:00'), 1251.44],\n",
       "       [Timestamp('2011-10-31 00:00:00'), 5246.84],\n",
       "       [Timestamp('2011-11-07 00:00:00'), 1579.61],\n",
       "       [Timestamp('2011-11-14 00:00:00'), 3770.0699999999993],\n",
       "       [Timestamp('2011-11-21 00:00:00'), 2435.7000000000003],\n",
       "       [Timestamp('2011-11-28 00:00:00'), 1952.7900000000006],\n",
       "       [Timestamp('2011-12-05 00:00:00'), 1766.4799999999993]],\n",
       "      dtype=object)"
      ]
     },
     "execution_count": 68,
     "metadata": {},
     "output_type": "execute_result"
    }
   ],
   "source": [
    "aggregated.values"
   ]
  },
  {
   "cell_type": "code",
   "execution_count": 69,
   "id": "9c1faf28-9188-4112-8cbb-4d66d6e1d71a",
   "metadata": {
    "tags": []
   },
   "outputs": [
    {
     "data": {
      "text/html": [
       "<style>#sk-container-id-3 {color: black;}#sk-container-id-3 pre{padding: 0;}#sk-container-id-3 div.sk-toggleable {background-color: white;}#sk-container-id-3 label.sk-toggleable__label {cursor: pointer;display: block;width: 100%;margin-bottom: 0;padding: 0.3em;box-sizing: border-box;text-align: center;}#sk-container-id-3 label.sk-toggleable__label-arrow:before {content: \"▸\";float: left;margin-right: 0.25em;color: #696969;}#sk-container-id-3 label.sk-toggleable__label-arrow:hover:before {color: black;}#sk-container-id-3 div.sk-estimator:hover label.sk-toggleable__label-arrow:before {color: black;}#sk-container-id-3 div.sk-toggleable__content {max-height: 0;max-width: 0;overflow: hidden;text-align: left;background-color: #f0f8ff;}#sk-container-id-3 div.sk-toggleable__content pre {margin: 0.2em;color: black;border-radius: 0.25em;background-color: #f0f8ff;}#sk-container-id-3 input.sk-toggleable__control:checked~div.sk-toggleable__content {max-height: 200px;max-width: 100%;overflow: auto;}#sk-container-id-3 input.sk-toggleable__control:checked~label.sk-toggleable__label-arrow:before {content: \"▾\";}#sk-container-id-3 div.sk-estimator input.sk-toggleable__control:checked~label.sk-toggleable__label {background-color: #d4ebff;}#sk-container-id-3 div.sk-label input.sk-toggleable__control:checked~label.sk-toggleable__label {background-color: #d4ebff;}#sk-container-id-3 input.sk-hidden--visually {border: 0;clip: rect(1px 1px 1px 1px);clip: rect(1px, 1px, 1px, 1px);height: 1px;margin: -1px;overflow: hidden;padding: 0;position: absolute;width: 1px;}#sk-container-id-3 div.sk-estimator {font-family: monospace;background-color: #f0f8ff;border: 1px dotted black;border-radius: 0.25em;box-sizing: border-box;margin-bottom: 0.5em;}#sk-container-id-3 div.sk-estimator:hover {background-color: #d4ebff;}#sk-container-id-3 div.sk-parallel-item::after {content: \"\";width: 100%;border-bottom: 1px solid gray;flex-grow: 1;}#sk-container-id-3 div.sk-label:hover label.sk-toggleable__label {background-color: #d4ebff;}#sk-container-id-3 div.sk-serial::before {content: \"\";position: absolute;border-left: 1px solid gray;box-sizing: border-box;top: 0;bottom: 0;left: 50%;z-index: 0;}#sk-container-id-3 div.sk-serial {display: flex;flex-direction: column;align-items: center;background-color: white;padding-right: 0.2em;padding-left: 0.2em;position: relative;}#sk-container-id-3 div.sk-item {position: relative;z-index: 1;}#sk-container-id-3 div.sk-parallel {display: flex;align-items: stretch;justify-content: center;background-color: white;position: relative;}#sk-container-id-3 div.sk-item::before, #sk-container-id-3 div.sk-parallel-item::before {content: \"\";position: absolute;border-left: 1px solid gray;box-sizing: border-box;top: 0;bottom: 0;left: 50%;z-index: -1;}#sk-container-id-3 div.sk-parallel-item {display: flex;flex-direction: column;z-index: 1;position: relative;background-color: white;}#sk-container-id-3 div.sk-parallel-item:first-child::after {align-self: flex-end;width: 50%;}#sk-container-id-3 div.sk-parallel-item:last-child::after {align-self: flex-start;width: 50%;}#sk-container-id-3 div.sk-parallel-item:only-child::after {width: 0;}#sk-container-id-3 div.sk-dashed-wrapped {border: 1px dashed gray;margin: 0 0.4em 0.5em 0.4em;box-sizing: border-box;padding-bottom: 0.4em;background-color: white;}#sk-container-id-3 div.sk-label label {font-family: monospace;font-weight: bold;display: inline-block;line-height: 1.2em;}#sk-container-id-3 div.sk-label-container {text-align: center;}#sk-container-id-3 div.sk-container {/* jupyter's `normalize.less` sets `[hidden] { display: none; }` but bootstrap.min.css set `[hidden] { display: none !important; }` so we also need the `!important` here to be able to override the default hidden behavior on the sphinx rendered scikit-learn.org. See: https://github.com/scikit-learn/scikit-learn/issues/21755 */display: inline-block !important;position: relative;}#sk-container-id-3 div.sk-text-repr-fallback {display: none;}</style><div id=\"sk-container-id-3\" class=\"sk-top-container\"><div class=\"sk-text-repr-fallback\"><pre>IsolationForest(contamination=0.1)</pre><b>In a Jupyter environment, please rerun this cell to show the HTML representation or trust the notebook. <br />On GitHub, the HTML representation is unable to render, please try loading this page with nbviewer.org.</b></div><div class=\"sk-container\" hidden><div class=\"sk-item\"><div class=\"sk-estimator sk-toggleable\"><input class=\"sk-toggleable__control sk-hidden--visually\" id=\"sk-estimator-id-3\" type=\"checkbox\" checked><label for=\"sk-estimator-id-3\" class=\"sk-toggleable__label sk-toggleable__label-arrow\">IsolationForest</label><div class=\"sk-toggleable__content\"><pre>IsolationForest(contamination=0.1)</pre></div></div></div></div></div>"
      ],
      "text/plain": [
       "IsolationForest(contamination=0.1)"
      ]
     },
     "execution_count": 69,
     "metadata": {},
     "output_type": "execute_result"
    }
   ],
   "source": [
    "from sklearn.ensemble import IsolationForest\n",
    "\n",
    "detector = IsolationForest(contamination=.1)\n",
    "detector.fit(aggregated[['Total']])"
   ]
  },
  {
   "cell_type": "code",
   "execution_count": 80,
   "id": "ff7cd324-b388-48c4-af41-7eb93a33733d",
   "metadata": {
    "tags": []
   },
   "outputs": [],
   "source": [
    "predicted = detector.predict(aggregated[['Total']])"
   ]
  },
  {
   "cell_type": "code",
   "execution_count": 71,
   "id": "603185da-513b-4a29-830a-42d60818106f",
   "metadata": {
    "tags": []
   },
   "outputs": [
    {
     "data": {
      "text/plain": [
       "array([ 1,  1,  1, -1,  1, -1,  1,  1,  1,  1,  1,  1,  1,  1,  1,  1,  1,\n",
       "        1,  1,  1,  1,  1,  1,  1,  1,  1,  1,  1,  1,  1,  1, -1,  1,  1,\n",
       "        1,  1,  1,  1,  1,  1,  1,  1,  1, -1,  1,  1,  1, -1,  1, -1,  1,\n",
       "        1,  1])"
      ]
     },
     "execution_count": 71,
     "metadata": {},
     "output_type": "execute_result"
    }
   ],
   "source": [
    "predicted"
   ]
  },
  {
   "cell_type": "code",
   "execution_count": 83,
   "id": "418ef824-7a40-4601-87e5-e3660b547bab",
   "metadata": {
    "tags": []
   },
   "outputs": [
    {
     "ename": "NoTracebackException",
     "evalue": "Parser Error: syntax error at or near \"(\"\nLINE 4:      predicted USING (id)\n                             ^",
     "output_type": "error",
     "traceback": [
      "\u001b[0;31mException\u001b[0m: Parser Error: syntax error at or near \"(\"\nLINE 4:      predicted USING (id)\n                             ^"
     ]
    }
   ],
   "source": [
    "%%sql\n",
    "\n",
    "SELECT\n",
    "    *\n",
    "FROM\n",
    "    aggregated, predicted\n"
   ]
  }
 ],
 "metadata": {
  "kernelspec": {
   "display_name": "Python 3 (ipykernel)",
   "language": "python",
   "name": "python3"
  },
  "language_info": {
   "codemirror_mode": {
    "name": "ipython",
    "version": 3
   },
   "file_extension": ".py",
   "mimetype": "text/x-python",
   "name": "python",
   "nbconvert_exporter": "python",
   "pygments_lexer": "ipython3",
   "version": "3.8.17"
  },
  "widgets": {
   "application/vnd.jupyter.widget-state+json": {
    "state": {
     "00262d6b405a48d798f597857b66ea4e": {
      "model_module": "@jupyter-widgets/base",
      "model_module_version": "2.0.0",
      "model_name": "LayoutModel",
      "state": {}
     },
     "04194de791a1427e8ff02d92ccdb8e5a": {
      "model_module": "",
      "model_module_version": "0.1.0",
      "model_name": "",
      "state": {
       "_model_module": "asqlcell",
       "_model_module_version": "0.1.0",
       "_model_name": "SqlCellModel",
       "_view_module": "asqlcell",
       "_view_module_version": "0.1.0",
       "_view_name": "SqlCellView",
       "cache": "",
       "chart_config": "{\"type\": null, \"x\": {\"label\": null, \"field\": null, \"aggregation\": \"sum\", \"sort\": null}, \"y\": {\"label\": null, \"field\": null, \"aggregation\": \"sum\", \"sort\": null}, \"y2\": {\"label\": null, \"field\": null, \"aggregation\": \"sum\", \"sort\": null}, \"color\": {\"label\": null, \"field\": null, \"aggregation\": \"sum\", \"sort\": null}, \"subtype\": [], \"width\": 500, \"height\": 400, \"legend\": {\"visible\": true}, \"label\": true}",
       "column_color": "{\"columns\":[\"InvoiceNo\",\"StockCode\",\"Description\",\"Quantity\",\"InvoiceDate\",\"UnitPrice\",\"CustomerID\",\"Country\"],\"index\":[0,1,2,3,4,5,6,7,8,9],\"data\":[[255.0,null,null,235.0,null,233.355704698,105.0,null],[255.0,137.8413751603,null,235.0,null,212.2147651007,105.0,null],[255.0,null,null,225.0,null,228.322147651,105.0,null],[255.0,null,null,235.0,null,212.2147651007,105.0,null],[255.0,null,null,235.0,null,212.2147651007,105.0,null],[255.0,252.5724081141,null,255.0,null,105.0,105.0,null],[255.0,255.0,null,235.0,null,190.5704697987,105.0,null],[180.0,252.8550729228,null,235.0,null,250.9731543624,105.0,null],[180.0,252.8574482573,null,235.0,null,250.9731543624,105.0,null],[105.0,105.0,null,105.0,null,255.0,255.0,null]]}",
       "column_sort": [
        "",
        0
       ],
       "data_grid": "{\"columns\":[\"InvoiceNo\",\"StockCode\",\"Description\",\"Quantity\",\"InvoiceDate\",\"UnitPrice\",\"CustomerID\",\"Country\"],\"index\":[0,1,2,3,4,5,6,7,8,9],\"data\":[[\"536365\",\"85123A\",\"WHITE HANGING HEART T-LIGHT HOLDER\",6,\"12\\/1\\/2010 8:26\",2.55,17850,\"United Kingdom\"],[\"536365\",\"71053\",\"WHITE METAL LANTERN\",6,\"12\\/1\\/2010 8:26\",3.39,17850,\"United Kingdom\"],[\"536365\",\"84406B\",\"CREAM CUPID HEARTS COAT HANGER\",8,\"12\\/1\\/2010 8:26\",2.75,17850,\"United Kingdom\"],[\"536365\",\"84029G\",\"KNITTED UNION FLAG HOT WATER BOTTLE\",6,\"12\\/1\\/2010 8:26\",3.39,17850,\"United Kingdom\"],[\"536365\",\"84029E\",\"RED WOOLLY HOTTIE WHITE HEART.\",6,\"12\\/1\\/2010 8:26\",3.39,17850,\"United Kingdom\"],[\"536365\",\"22752\",\"SET 7 BABUSHKA NESTING BOXES\",2,\"12\\/1\\/2010 8:26\",7.65,17850,\"United Kingdom\"],[\"536365\",\"21730\",\"GLASS STAR FROSTED T-LIGHT HOLDER\",6,\"12\\/1\\/2010 8:26\",4.25,17850,\"United Kingdom\"],[\"536366\",\"22633\",\"HAND WARMER UNION JACK\",6,\"12\\/1\\/2010 8:28\",1.85,17850,\"United Kingdom\"],[\"536366\",\"22632\",\"HAND WARMER RED POLKA DOT\",6,\"12\\/1\\/2010 8:28\",1.85,17850,\"United Kingdom\"],[\"536367\",\"84879\",\"ASSORTED COLOUR BIRD ORNAMENT\",32,\"12\\/1\\/2010 8:34\",1.69,13047,\"United Kingdom\"]]}\n20",
       "data_name": "asqlcell0f16d86f19a844a09e76d76b6a1d58deresult",
       "error": {},
       "exec_time": 0.5108263492584229,
       "layout": "IPY_MODEL_8a39069a228b40f3a94fb624cb1d35ed",
       "msg": "Failed to load model class '' from module ''",
       "need_aggr": false,
       "persist_vega": "",
       "preview_vega": "{}",
       "quickview_var": [
        "",
        ""
       ],
       "quickview_vega": "{}",
       "row_range": [
        0,
        10
       ],
       "title_hist": "[{\"columnName\": \"InvoiceNo\", \"dtype\": \"string\", \"bins\": [{\"bin\": \"536367\", \"count\": 11}, {\"bin\": \"536365\", \"count\": 7}, {\"bin\": \"536366\", \"count\": 2}, {\"bin\": \"other\", \"count\": 0}]}, {\"columnName\": \"StockCode\", \"dtype\": \"string\", \"bins\": [{\"bin\": \"85123A\", \"count\": 1}, {\"bin\": \"84969\", \"count\": 1}, {\"bin\": \"21754\", \"count\": 1}, {\"bin\": \"other\", \"count\": 17}]}, {\"columnName\": \"Description\", \"dtype\": \"string\", \"bins\": [{\"bin\": \"WHITE METAL LANTERN\", \"count\": 1}, {\"bin\": \"WHITE HANGING HEART T-LIGHT HOLDER\", \"count\": 1}, {\"bin\": \"BOX OF 6 ASSORTED COLOUR TEASPOONS\", \"count\": 1}, {\"bin\": \"other\", \"count\": 17}]}, {\"columnName\": \"Quantity\", \"dtype\": \"int\", \"bins\": [{\"bin_start\": 2.0, \"bin_end\": 5.0, \"count\": 6}, {\"bin_start\": 5.0, \"bin_end\": 8.0, \"count\": 11}, {\"bin_start\": 8.0, \"bin_end\": 11.0, \"count\": 2}, {\"bin_start\": 11.0, \"bin_end\": 14.0, \"count\": 0}, {\"bin_start\": 14.0, \"bin_end\": 17.0, \"count\": 0}, {\"bin_start\": 17.0, \"bin_end\": 20.0, \"count\": 0}, {\"bin_start\": 20.0, \"bin_end\": 23.0, \"count\": 0}, {\"bin_start\": 23.0, \"bin_end\": 26.0, \"count\": 0}, {\"bin_start\": 26.0, \"bin_end\": 29.0, \"count\": 0}, {\"bin_start\": 29.0, \"bin_end\": 32.0, \"count\": 1}]}, {\"columnName\": \"InvoiceDate\", \"dtype\": \"string\", \"bins\": [{\"bin\": \"12/1/2010 8:34\", \"count\": 11}, {\"bin\": \"12/1/2010 8:26\", \"count\": 7}, {\"bin\": \"12/1/2010 8:28\", \"count\": 2}, {\"bin\": \"other\", \"count\": 0}]}, {\"columnName\": \"UnitPrice\", \"dtype\": \"float\", \"bins\": [{\"bin_start\": 1.65, \"bin_end\": 2.4799999999999995, \"count\": 6}, {\"bin_start\": 2.4799999999999995, \"bin_end\": 3.3099999999999996, \"count\": 2}, {\"bin_start\": 3.3099999999999996, \"bin_end\": 4.139999999999999, \"count\": 4}, {\"bin_start\": 4.139999999999999, \"bin_end\": 4.969999999999999, \"count\": 3}, {\"bin_start\": 4.969999999999999, \"bin_end\": 5.799999999999999, \"count\": 0}, {\"bin_start\": 5.799999999999999, \"bin_end\": 6.629999999999999, \"count\": 2}, {\"bin_start\": 6.629999999999999, \"bin_end\": 7.459999999999999, \"count\": 0}, {\"bin_start\": 7.459999999999999, \"bin_end\": 8.29, \"count\": 2}, {\"bin_start\": 8.29, \"bin_end\": 9.12, \"count\": 0}, {\"bin_start\": 9.12, \"bin_end\": 9.95, \"count\": 1}]}, {\"columnName\": \"CustomerID\", \"dtype\": \"int\", \"bins\": [{\"bin_start\": 13047.0, \"bin_end\": 13527.3, \"count\": 11}, {\"bin_start\": 13527.3, \"bin_end\": 14007.6, \"count\": 0}, {\"bin_start\": 14007.6, \"bin_end\": 14487.9, \"count\": 0}, {\"bin_start\": 14487.9, \"bin_end\": 14968.2, \"count\": 0}, {\"bin_start\": 14968.2, \"bin_end\": 15448.5, \"count\": 0}, {\"bin_start\": 15448.5, \"bin_end\": 15928.8, \"count\": 0}, {\"bin_start\": 15928.8, \"bin_end\": 16409.1, \"count\": 0}, {\"bin_start\": 16409.1, \"bin_end\": 16889.4, \"count\": 0}, {\"bin_start\": 16889.4, \"bin_end\": 17369.7, \"count\": 0}, {\"bin_start\": 17369.7, \"bin_end\": 17850.0, \"count\": 9}]}, {\"columnName\": \"Country\", \"dtype\": \"string\", \"bins\": [{\"bin\": \"United Kingdom\", \"count\": 20}, {\"bin\": \"other\", \"count\": 0}]}]"
      }
     },
     "0ef1fcdf68c741bfabaf06f91ceaf324": {
      "model_module": "@jupyter-widgets/base",
      "model_module_version": "2.0.0",
      "model_name": "LayoutModel",
      "state": {}
     },
     "8a39069a228b40f3a94fb624cb1d35ed": {
      "model_module": "@jupyter-widgets/base",
      "model_module_version": "2.0.0",
      "model_name": "LayoutModel",
      "state": {}
     },
     "8ac83e4bbc854808ad9e50baf3bef09a": {
      "model_module": "",
      "model_module_version": "0.1.0",
      "model_name": "",
      "state": {
       "_model_module": "asqlcell",
       "_model_module_version": "0.1.0",
       "_model_name": "SqlCellModel",
       "_view_module": "asqlcell",
       "_view_module_version": "0.1.0",
       "_view_name": "SqlCellView",
       "cache": "{\"tabValue\":\"table\"}",
       "chart_config": "{\"type\": null, \"x\": {\"label\": null, \"field\": null, \"aggregation\": \"sum\", \"sort\": null}, \"y\": {\"label\": null, \"field\": null, \"aggregation\": \"sum\", \"sort\": null}, \"y2\": {\"label\": null, \"field\": null, \"aggregation\": \"sum\", \"sort\": null}, \"color\": {\"label\": null, \"field\": null, \"aggregation\": \"sum\", \"sort\": null}, \"subtype\": [], \"width\": 500, \"height\": 400, \"legend\": {\"visible\": true}, \"label\": true}",
       "column_color": "{\"columns\":[\"Date\",\"Total\"],\"index\":[0,1,2,3,4,5,6,7,8,9],\"data\":[[null,218.3065260653],[null,211.8674818265],[null,213.1250983047],[null,255.0],[null,219.3420593726],[null,105.0],[null,233.1775502807],[null,237.7799205356],[null,236.0598444905],[null,239.6145429429]]}",
       "column_sort": [
        "",
        0
       ],
       "data_grid": "{\"columns\":[\"Date\",\"Total\"],\"index\":[0,1,2,3,4,5,6,7,8,9],\"data\":[[\"2010-11-29T00:00:00.000\",2636.38],[\"2010-12-06T00:00:00.000\",3013.01],[\"2010-12-13T00:00:00.000\",2939.45],[\"2010-12-20T00:00:00.000\",490.12],[\"2011-01-03T00:00:00.000\",2575.81],[\"2011-01-10T00:00:00.000\",9263.86],[\"2011-01-17T00:00:00.000\",1766.55],[\"2011-01-24T00:00:00.000\",1497.35],[\"2011-01-31T00:00:00.000\",1597.96],[\"2011-02-07T00:00:00.000\",1390.04]]}\n53",
       "data_name": "aggregated",
       "error": {},
       "exec_time": 0.020879745483398438,
       "layout": "IPY_MODEL_f294d6315de7428b86f4f553cc6440c5",
       "msg": "Failed to load model class '' from module ''",
       "need_aggr": false,
       "persist_vega": "",
       "preview_vega": "{}",
       "quickview_var": [
        "",
        ""
       ],
       "quickview_vega": "{}",
       "row_range": [
        0,
        10
       ],
       "title_hist": "[{\"columnName\": \"Date\", \"dtype\": \"datetime\", \"bins\": [{\"bin\": \"2011-12-05\", \"count\": 1}, {\"bin\": \"2011-05-30\", \"count\": 1}, {\"bin\": \"2011-05-16\", \"count\": 1}, {\"bin\": \"other\", \"count\": 50}]}, {\"columnName\": \"Total\", \"dtype\": \"float\", \"bins\": [{\"bin_start\": 490.1199999999999, \"bin_end\": 1367.4940000000008, \"count\": 25}, {\"bin_start\": 1367.4940000000008, \"bin_end\": 2244.8680000000018, \"count\": 15}, {\"bin_start\": 2244.8680000000018, \"bin_end\": 3122.242000000003, \"count\": 8}, {\"bin_start\": 3122.242000000003, \"bin_end\": 3999.6160000000036, \"count\": 3}, {\"bin_start\": 3999.6160000000036, \"bin_end\": 4876.990000000004, \"count\": 0}, {\"bin_start\": 4876.990000000004, \"bin_end\": 5754.364000000006, \"count\": 1}, {\"bin_start\": 5754.364000000006, \"bin_end\": 6631.738000000007, \"count\": 0}, {\"bin_start\": 6631.738000000007, \"bin_end\": 7509.112000000007, \"count\": 0}, {\"bin_start\": 7509.112000000007, \"bin_end\": 8386.486000000008, \"count\": 0}, {\"bin_start\": 8386.486000000008, \"bin_end\": 9263.860000000008, \"count\": 1}]}]"
      }
     },
     "a3e774b74dfd4e669ada00e53b72cd50": {
      "model_module": "@jupyter-widgets/base",
      "model_module_version": "2.0.0",
      "model_name": "LayoutModel",
      "state": {}
     },
     "af15728e1d2244958c2b853c955f261c": {
      "model_module": "",
      "model_module_version": "0.1.0",
      "model_name": "",
      "state": {
       "_model_module": "asqlcell",
       "_model_module_version": "0.1.0",
       "_model_name": "SqlCellModel",
       "_view_module": "asqlcell",
       "_view_module_version": "0.1.0",
       "_view_name": "SqlCellView",
       "cache": "",
       "chart_config": "{\"type\": null, \"x\": {\"label\": null, \"field\": null, \"aggregation\": \"sum\", \"sort\": null}, \"y\": {\"label\": null, \"field\": null, \"aggregation\": \"sum\", \"sort\": null}, \"y2\": {\"label\": null, \"field\": null, \"aggregation\": \"sum\", \"sort\": null}, \"color\": {\"label\": null, \"field\": null, \"aggregation\": \"sum\", \"sort\": null}, \"subtype\": [], \"width\": 500, \"height\": 400, \"legend\": {\"visible\": true}, \"label\": true}",
       "column_color": "{\"columns\":[\"Date\",\"Sales\",\"InvoiceNo\",\"CustomerID\",\"Country\"],\"index\":[0,1,2,3,4,5,6,7,8,9],\"data\":[[null,248.7317784257,255.0,105.0,null],[null,248.7317784257,247.2580645161,105.0,null],[null,248.7317784257,245.3225806452,105.0,null],[null,105.0,230.8064516129,116.4475461504,null],[null,184.3002915452,226.935483871,255.0,null],[null,248.7317784257,225.0,105.0,null],[null,252.1331389699,220.1612903226,172.1319225574,null],[null,243.7755102041,215.3225806452,105.0,null],[null,246.3994169096,122.4193548387,148.8316073841,null],[null,255.0,105.0,210.3917154435,null]]}",
       "column_sort": [
        "",
        0
       ],
       "data_grid": "{\"columns\":[\"Date\",\"Sales\",\"InvoiceNo\",\"CustomerID\",\"Country\"],\"index\":[0,1,2,3,4,5,6,7,8,9],\"data\":[[\"2010-11-29T00:00:00.000\",15.3,\"536365\",17850.0,\"United Kingdom\"],[\"2010-11-29T00:00:00.000\",15.3,\"536373\",17850.0,\"United Kingdom\"],[\"2010-11-29T00:00:00.000\",15.3,\"536375\",17850.0,\"United Kingdom\"],[\"2010-11-29T00:00:00.000\",163.2,\"536390\",17511.0,\"United Kingdom\"],[\"2010-11-29T00:00:00.000\",81.6,\"536394\",13408.0,\"United Kingdom\"],[\"2010-11-29T00:00:00.000\",15.3,\"536396\",17850.0,\"United Kingdom\"],[\"2010-11-29T00:00:00.000\",11.8,\"536401\",15862.0,\"United Kingdom\"],[\"2010-11-29T00:00:00.000\",20.4,\"536406\",17850.0,\"United Kingdom\"],[\"2010-11-29T00:00:00.000\",17.7,\"536502\",16552.0,\"United Kingdom\"],[\"2010-11-29T00:00:00.000\",8.85,\"536520\",14729.0,\"United Kingdom\"]]}\n2313",
       "data_name": "holder",
       "error": {},
       "exec_time": 0.597815752029419,
       "layout": "IPY_MODEL_a3e774b74dfd4e669ada00e53b72cd50",
       "msg": "Failed to load model class '' from module ''",
       "need_aggr": false,
       "persist_vega": "",
       "preview_vega": "{}",
       "quickview_var": [
        "",
        ""
       ],
       "quickview_vega": "{}",
       "row_range": [
        0,
        10
       ],
       "title_hist": "[{\"columnName\": \"Date\", \"dtype\": \"datetime\", \"bins\": [{\"bin\": \"2010-12-06\", \"count\": 88}, {\"bin\": \"2010-12-13\", \"count\": 71}, {\"bin\": \"2011-11-14\", \"count\": 68}, {\"bin\": \"other\", \"count\": 2086}]}, {\"columnName\": \"Sales\", \"dtype\": \"float\", \"bins\": [{\"bin_start\": -4921.5, \"bin_end\": -3937.2, \"count\": 1}, {\"bin_start\": -3937.2, \"bin_end\": -2952.9, \"count\": 0}, {\"bin_start\": -2952.9, \"bin_end\": -1968.6000000000004, \"count\": 0}, {\"bin_start\": -1968.6000000000004, \"bin_end\": -984.3000000000002, \"count\": 1}, {\"bin_start\": -984.3000000000002, \"bin_end\": 0.0, \"count\": 40}, {\"bin_start\": 0.0, \"bin_end\": 984.2999999999993, \"count\": 2261}, {\"bin_start\": 984.2999999999993, \"bin_end\": 1968.5999999999995, \"count\": 5}, {\"bin_start\": 1968.5999999999995, \"bin_end\": 2952.8999999999996, \"count\": 1}, {\"bin_start\": 2952.8999999999996, \"bin_end\": 3937.199999999999, \"count\": 2}, {\"bin_start\": 3937.199999999999, \"bin_end\": 4921.5, \"count\": 2}]}, {\"columnName\": \"InvoiceNo\", \"dtype\": \"string\", \"bins\": [{\"bin\": \"560271\", \"count\": 3}, {\"bin\": \"551057\", \"count\": 3}, {\"bin\": \"568301\", \"count\": 3}, {\"bin\": \"other\", \"count\": 2304}]}, {\"columnName\": \"CustomerID\", \"dtype\": \"float\", \"bins\": [{\"bin_start\": 12370.0, \"bin_end\": 12961.3, \"count\": 84}, {\"bin_start\": 12961.3, \"bin_end\": 13552.6, \"count\": 191}, {\"bin_start\": 13552.6, \"bin_end\": 14143.9, \"count\": 193}, {\"bin_start\": 14143.9, \"bin_end\": 14735.2, \"count\": 295}, {\"bin_start\": 14735.2, \"bin_end\": 15326.5, \"count\": 209}, {\"bin_start\": 15326.5, \"bin_end\": 15917.8, \"count\": 197}, {\"bin_start\": 15917.8, \"bin_end\": 16509.1, \"count\": 209}, {\"bin_start\": 16509.1, \"bin_end\": 17100.4, \"count\": 228}, {\"bin_start\": 17100.4, \"bin_end\": 17691.7, \"count\": 228}, {\"bin_start\": 17691.7, \"bin_end\": 18283.0, \"count\": 243}]}, {\"columnName\": \"Country\", \"dtype\": \"string\", \"bins\": [{\"bin\": \"United Kingdom\", \"count\": 2215}, {\"bin\": \"EIRE\", \"count\": 47}, {\"bin\": \"Spain\", \"count\": 11}, {\"bin\": \"other\", \"count\": 40}]}]"
      }
     },
     "c206e1b06dcc4aaeab143fa541511426": {
      "model_module": "",
      "model_module_version": "0.1.0",
      "model_name": "",
      "state": {
       "_model_module": "asqlcell",
       "_model_module_version": "0.1.0",
       "_model_name": "SqlCellModel",
       "_view_module": "asqlcell",
       "_view_module_version": "0.1.0",
       "_view_name": "SqlCellView",
       "cache": "",
       "chart_config": "{\"type\": null, \"x\": {\"label\": null, \"field\": null, \"aggregation\": \"sum\", \"sort\": null}, \"y\": {\"label\": null, \"field\": null, \"aggregation\": \"sum\", \"sort\": null}, \"y2\": {\"label\": null, \"field\": null, \"aggregation\": \"sum\", \"sort\": null}, \"color\": {\"label\": null, \"field\": null, \"aggregation\": \"sum\", \"sort\": null}, \"subtype\": [], \"width\": 500, \"height\": 400, \"legend\": {\"visible\": true}, \"label\": true}",
       "column_color": "",
       "column_sort": [
        "",
        0
       ],
       "data_grid": "",
       "data_name": "asqlcell418ef8247a40460187e5e3660b547babresult",
       "error": {},
       "exec_time": 0.018156766891479492,
       "layout": "IPY_MODEL_00262d6b405a48d798f597857b66ea4e",
       "msg": "Failed to load model class '' from module ''",
       "need_aggr": false,
       "persist_vega": "",
       "preview_vega": "{}",
       "quickview_var": [
        "",
        ""
       ],
       "quickview_vega": "{}",
       "row_range": [
        0,
        10
       ],
       "title_hist": ""
      }
     },
     "d354a3d4578642ea9b3c52c6d403580c": {
      "model_module": "",
      "model_module_version": "0.1.0",
      "model_name": "",
      "state": {
       "_model_module": "asqlcell",
       "_model_module_version": "0.1.0",
       "_model_name": "SqlCellModel",
       "_view_module": "asqlcell",
       "_view_module_version": "0.1.0",
       "_view_name": "SqlCellView",
       "cache": "",
       "chart_config": "{\"type\": null, \"x\": {\"label\": null, \"field\": null, \"aggregation\": \"sum\", \"sort\": null}, \"y\": {\"label\": null, \"field\": null, \"aggregation\": \"sum\", \"sort\": null}, \"y2\": {\"label\": null, \"field\": null, \"aggregation\": \"sum\", \"sort\": null}, \"color\": {\"label\": null, \"field\": null, \"aggregation\": \"sum\", \"sort\": null}, \"subtype\": [], \"width\": 500, \"height\": 400, \"legend\": {\"visible\": true}, \"label\": true}",
       "column_color": "{\"columns\":[\"current_date()\"],\"index\":[0],\"data\":[[null]]}",
       "column_sort": [
        "",
        0
       ],
       "data_grid": "{\"columns\":[\"current_date()\"],\"index\":[0],\"data\":[[\"2023-12-04T00:00:00.000\"]]}\n1",
       "data_name": "asqlcell6eda185b12f34695807a72b6d5063765result",
       "error": {},
       "exec_time": 0.019490718841552734,
       "layout": "IPY_MODEL_0ef1fcdf68c741bfabaf06f91ceaf324",
       "msg": "Failed to load model class '' from module ''",
       "need_aggr": false,
       "persist_vega": "",
       "preview_vega": "{}",
       "quickview_var": [
        "",
        ""
       ],
       "quickview_vega": "{}",
       "row_range": [
        0,
        10
       ],
       "title_hist": "[{\"columnName\": \"current_date()\", \"dtype\": \"datetime\", \"bins\": [{\"bin\": \"2023-12-04\", \"count\": 1}, {\"bin\": \"other\", \"count\": 0}]}]"
      }
     },
     "f294d6315de7428b86f4f553cc6440c5": {
      "model_module": "@jupyter-widgets/base",
      "model_module_version": "2.0.0",
      "model_name": "LayoutModel",
      "state": {}
     }
    },
    "version_major": 2,
    "version_minor": 0
   }
  }
 },
 "nbformat": 4,
 "nbformat_minor": 5
}
