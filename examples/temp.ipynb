{
 "cells": [
  {
   "cell_type": "code",
   "execution_count": 1,
   "id": "01ff5648",
   "metadata": {
    "tags": []
   },
   "outputs": [],
   "source": [
    "import asqlcell"
   ]
  },
  {
   "cell_type": "code",
   "execution_count": 2,
   "id": "edaf2f87",
   "metadata": {
    "tags": []
   },
   "outputs": [
    {
     "data": {
      "image/png": "[encoded data removed]",
      "text/plain": [
       "<IPython.core.display.Image object>"
      ]
     },
     "metadata": {},
     "output_type": "display_data"
    },
    {
     "data": {
      "application/vnd.jupyter.widget-view+json": {
       "model_id": "7c98db3454d44f709ba70416e8ffe05e",
       "version_major": 2,
       "version_minor": 0
      },
      "text/plain": [
       "SqlcellWidget(column_color='{\"columns\":[\"country\",\"year\",\"population\",\"continent\",\"life_exp\",\"gdp_cap\"],\"index…"
      ]
     },
     "execution_count": 2,
     "metadata": {},
     "output_type": "execute_result"
    }
   ],
   "source": [
    "%%sql inspect\n",
    "\n",
    "SELECT *\n",
    "FROM 'gapminder.csv.gz'\n",
    "LIMIT 20"
   ]
  },
  {
   "cell_type": "code",
   "execution_count": null,
   "id": "145f8d24",
   "metadata": {},
   "outputs": [],
   "source": []
  }
 ],
 "metadata": {
  "kernelspec": {
   "display_name": "Python 3 (ipykernel)",
   "language": "python",
   "name": "python3"
  },
  "language_info": {
   "codemirror_mode": {
    "name": "ipython",
    "version": 3
   },
   "file_extension": ".py",
   "mimetype": "text/x-python",
   "name": "python",
   "nbconvert_exporter": "python",
   "pygments_lexer": "ipython3",
   "version": "3.10.11"
  },
  "widgets": {
   "application/vnd.jupyter.widget-state+json": {
    "state": {
     "028039cd0684449ea4d9be71a45dcaa7": {
      "model_module": "@jupyter-widgets/base",
      "model_module_version": "2.0.0",
      "model_name": "LayoutModel",
      "state": {}
     },
     "10a14815bcd248278759f31c74467313": {
      "model_module": "@jupyter-widgets/base",
      "model_module_version": "2.0.0",
      "model_name": "LayoutModel",
      "state": {}
     },
     "119c71014b2e48e5a7e2c761c355a175": {
      "model_module": "@jupyter-widgets/controls",
      "model_module_version": "2.0.0",
      "model_name": "ButtonStyleModel",
      "state": {
       "font_family": null,
       "font_size": null,
       "font_style": null,
       "font_variant": null,
       "font_weight": null,
       "text_color": null,
       "text_decoration": null
      }
     },
     "1268caadbd7e4d9aaa88b06cd3c57ac5": {
      "model_module": "@jupyter-widgets/controls",
      "model_module_version": "2.0.0",
      "model_name": "ButtonStyleModel",
      "state": {
       "font_family": null,
       "font_size": null,
       "font_style": null,
       "font_variant": null,
       "font_weight": null,
       "text_color": null,
       "text_decoration": null
      }
     },
     "26c9420f5f8a4316aa32281280c8c902": {
      "model_module": "@jupyter-widgets/base",
      "model_module_version": "2.0.0",
      "model_name": "LayoutModel",
      "state": {}
     },
     "54768496390f466e89367ae3b057c11c": {
      "model_module": "@jupyter-widgets/base",
      "model_module_version": "2.0.0",
      "model_name": "LayoutModel",
      "state": {}
     },
     "5b40f2ecc3ed4e76ace2e2f3fcd0a4bd": {
      "model_module": "@jupyter-widgets/output",
      "model_module_version": "1.0.0",
      "model_name": "OutputModel",
      "state": {
       "layout": "IPY_MODEL_c25fc3ec95104953a32fa9a69a3ae9dc",
       "outputs": [
        {
         "name": "stdout",
         "output_type": "stream",
         "text": "Clicked\nClicked\nClicked\n"
        }
       ]
      }
     },
     "61050b632efc40c294470e707e56ac88": {
      "model_module": "@jupyter-widgets/output",
      "model_module_version": "1.0.0",
      "model_name": "OutputModel",
      "state": {
       "layout": "IPY_MODEL_e43686a4045a4435b36ea8eb440cfc8d",
       "outputs": [
        {
         "name": "stdout",
         "output_type": "stream",
         "text": "Clicked\nClicked\nClicked\n"
        }
       ]
      }
     },
     "8e93f01edc4d49b782d838d0c7d23a93": {
      "model_module": "@jupyter-widgets/controls",
      "model_module_version": "2.0.0",
      "model_name": "ButtonModel",
      "state": {
       "_view_count": 0,
       "description": "Click Me",
       "layout": "IPY_MODEL_10a14815bcd248278759f31c74467313",
       "style": "IPY_MODEL_1268caadbd7e4d9aaa88b06cd3c57ac5",
       "tooltip": null
      }
     },
     "c25fc3ec95104953a32fa9a69a3ae9dc": {
      "model_module": "@jupyter-widgets/base",
      "model_module_version": "2.0.0",
      "model_name": "LayoutModel",
      "state": {}
     },
     "c43d02594f774b85aabdac8d7b43de0a": {
      "model_module": "@jupyter-widgets/controls",
      "model_module_version": "2.0.0",
      "model_name": "ButtonStyleModel",
      "state": {
       "font_family": null,
       "font_size": null,
       "font_style": null,
       "font_variant": null,
       "font_weight": null,
       "text_color": null,
       "text_decoration": null
      }
     },
     "cdf20c117fa34bb7bc741691dbf18cb5": {
      "model_module": "@jupyter-widgets/output",
      "model_module_version": "1.0.0",
      "model_name": "OutputModel",
      "state": {
       "layout": "IPY_MODEL_26c9420f5f8a4316aa32281280c8c902"
      }
     },
     "e43686a4045a4435b36ea8eb440cfc8d": {
      "model_module": "@jupyter-widgets/base",
      "model_module_version": "2.0.0",
      "model_name": "LayoutModel",
      "state": {}
     },
     "fd2ff3d0773245e68a3c4b8b2dd4518c": {
      "model_module": "@jupyter-widgets/controls",
      "model_module_version": "2.0.0",
      "model_name": "ButtonModel",
      "state": {
       "_view_count": 1,
       "description": "Click Me",
       "layout": "IPY_MODEL_028039cd0684449ea4d9be71a45dcaa7",
       "style": "IPY_MODEL_119c71014b2e48e5a7e2c761c355a175",
       "tooltip": null
      }
     },
     "fde267a337de43e5a0c0143e2baa60c8": {
      "model_module": "@jupyter-widgets/controls",
      "model_module_version": "2.0.0",
      "model_name": "ButtonModel",
      "state": {
       "_view_count": 0,
       "description": "Click Me",
       "layout": "IPY_MODEL_54768496390f466e89367ae3b057c11c",
       "style": "IPY_MODEL_c43d02594f774b85aabdac8d7b43de0a",
       "tooltip": null
      }
     }
    },
    "version_major": 2,
    "version_minor": 0
   }
  }
 },
 "nbformat": 4,
 "nbformat_minor": 5
}
