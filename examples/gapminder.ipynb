{
 "cells": [
  {
   "cell_type": "markdown",
   "id": "40e26de2-ffb3-4ab2-9503-bb026dec1573",
   "metadata": {},
   "source": [
    "# World Development in Numbers\n",
    "\n",
    "Hans Rosling's been called the Jedi master of data visualization, dubbed a statistics guru, and introduced as the man in whose hands data sings. When Time magazine included him in its [2012 list of the world's 100 most influential people](http://www.time.com/time/specials/packages/article/0,28804,2111975_2111976_2112170,00.html), it said his \"stunning renderings of the numbers … have moved millions of people worldwide to see themselves and our planet in new ways\"."
   ]
  },
  {
   "cell_type": "code",
   "execution_count": null,
   "id": "0d57fdab-8797-46d3-b50b-d43e59575648",
   "metadata": {
    "tags": []
   },
   "outputs": [],
   "source": [
    "%%html\n",
    "\n",
    "<div style=\"max-width:854px\">\n",
    "<div style=\"position:relative;height:0;padding-bottom:56.25%\">\n",
    "<iframe src=\"https://embed.ted.com/talks/lang/en/hans_rosling_asia_s_rise_how_and_when\" \n",
    "    width=\"854\" \n",
    "    height=\"480\" \n",
    "    style=\"position:absolute;left:0;top:0;width:100%;height:100%\"\n",
    "    frameborder=\"0\" \n",
    "    scrolling=\"no\" \n",
    "    allowfullscreen>\n",
    "</iframe>\n",
    "</div>\n",
    "</div>"
   ]
  },
  {
   "cell_type": "markdown",
   "id": "e2ab8829-100c-4f14-b899-212966765c74",
   "metadata": {},
   "source": [
    "In the above video, Hans Rosling took us through 200 years of global development. Plotting life expectancy against income for every country since 1810, Hans showed how our world is radically different from what most of us imagine."
   ]
  },
  {
   "cell_type": "markdown",
   "id": "6132356a-3632-4a87-b062-2a1f8ce1b0c4",
   "metadata": {},
   "source": [
    "In this notebook, we're going to conduct an analysis about the countries, populations, health and wealth in our world. And it will be achieved by only a few lines of SQL statements and plotting functions."
   ]
  },
  {
   "cell_type": "markdown",
   "id": "44438614-3538-4b87-8f1c-47810b458a53",
   "metadata": {},
   "source": [
    "## Preparations\n",
    "\n",
    "The following modules will be used:\n",
    "\n",
    "* `asqlcell` for analytical SQL capabilities.\n",
    "* `plotly` for data visualization.\n",
    "\n",
    "The installation is simple as:"
   ]
  },
  {
   "cell_type": "code",
   "execution_count": null,
   "id": "22dd4f94-5254-48f7-b8bb-ff565881c4f3",
   "metadata": {},
   "outputs": [],
   "source": [
    "%pip install asqlcell plotly --upgrade"
   ]
  },
  {
   "cell_type": "markdown",
   "id": "64a61bc7-62e0-4e23-a4b9-6d391315176e",
   "metadata": {},
   "source": [
    "Simply import these modules:"
   ]
  },
  {
   "cell_type": "code",
   "execution_count": null,
   "id": "13fd14c2-7f1f-4c82-8926-ed57259dbad3",
   "metadata": {},
   "outputs": [],
   "source": [
    "import asqlcell\n",
    "import plotly.express as px"
   ]
  },
  {
   "cell_type": "markdown",
   "id": "6e14b608-8d85-4412-9cd1-ccb4d8f53e42",
   "metadata": {},
   "source": [
    "Now we are ready to proceed with the data analysis."
   ]
  },
  {
   "cell_type": "markdown",
   "id": "95b3bfa1-d80c-48cc-a02c-0f797a0a624e",
   "metadata": {},
   "source": [
    "## Data\n",
    "\n",
    "The data can be found in [Gapminder World](https://www.kaggle.com/datasets/tklimonova/gapminder-datacamp-2007) from Kaggle. The same data compressed in gzip format is also included in the project.\n",
    "\n",
    "Instead of using Pandas, we can use SQL statements to inspect data:"
   ]
  },
  {
   "cell_type": "code",
   "execution_count": null,
   "id": "f91e4350-a6b1-4439-a2ff-607fb14d5b8f",
   "metadata": {},
   "outputs": [],
   "source": [
    "%%sql inspect\n",
    "\n",
    "SELECT *\n",
    "FROM 'gapminder.csv.gz'\n",
    "LIMIT 20"
   ]
  },
  {
   "cell_type": "markdown",
   "id": "2c7fe4bf-68eb-41b7-b4e1-029215ad77b7",
   "metadata": {},
   "source": [
    "Here we use `%%sql` as a cell magic indicating that the cell block should be executed as a SQL statement. Magics are special commands to add functionalities that are not straightforward to achieve with the Jupyter notebook interface.\n",
    "\n",
    "The result set is stored in a dataframe named `inspect` and rendered as a table view above. The column names are quite straightforward。"
   ]
  },
  {
   "cell_type": "markdown",
   "id": "ab92b27f-5523-4ef4-97c0-327f966a40fd",
   "metadata": {},
   "source": [
    "# Observation\n",
    "\n",
    "First let us get the number of countries per continent. This can be achieved by using the `COUNT` function with a `DISTINCT` clause to eliminate the repetitive appearance of the same country:"
   ]
  },
  {
   "cell_type": "code",
   "execution_count": null,
   "id": "e213f65f-b8f9-4bfb-a982-40fa978cf56c",
   "metadata": {},
   "outputs": [],
   "source": [
    "%%sql country_count_by_continent\n",
    "\n",
    "SELECT\n",
    "    continent,\n",
    "    COUNT(DISTINCT country) AS count\n",
    "FROM 'gapminder.csv.gz'\n",
    "GROUP BY continent\n",
    "ORDER BY count\n",
    "DESC"
   ]
  },
  {
   "cell_type": "markdown",
   "id": "7198724f-da51-441c-94f0-3d45d1063c32",
   "metadata": {},
   "source": [
    "As the result set is already in the dataframe, it can be plotted as follows:"
   ]
  },
  {
   "cell_type": "code",
   "execution_count": null,
   "id": "1f75c287-8cf1-40b7-936b-1fb02c5986fe",
   "metadata": {},
   "outputs": [],
   "source": [
    "px.bar(country_count_by_continent,\n",
    "       x='continent',\n",
    "       y='count')"
   ]
  },
  {
   "cell_type": "markdown",
   "id": "9126fa49-ef22-4e05-a732-436666f7a938",
   "metadata": {},
   "source": [
    "Next we'd like to query health (average life expectation), wealth (average gpd per capita) and total population for each continent in the year 2007. "
   ]
  },
  {
   "cell_type": "code",
   "execution_count": null,
   "id": "e6c1141c-b914-44db-9caf-ef3a584c6be6",
   "metadata": {},
   "outputs": [],
   "source": [
    "%%sql health_wealth_by_continent\n",
    "\n",
    "SELECT\n",
    "    continent,\n",
    "    AVG(life_exp) AS health,\n",
    "    AVG(gdp_cap) AS wealth,\n",
    "    SUM(population) AS population\n",
    "FROM 'gapminder.csv.gz'\n",
    "WHERE year=2007\n",
    "GROUP BY continent"
   ]
  },
  {
   "cell_type": "markdown",
   "id": "731c23ba-f37e-4a83-9cd1-cb465234dc0c",
   "metadata": {},
   "source": [
    "A scatter chart can be built as follows:"
   ]
  },
  {
   "cell_type": "code",
   "execution_count": null,
   "id": "7167cfe5-3167-4932-85da-6e4f3c763cbd",
   "metadata": {},
   "outputs": [],
   "source": [
    "px.scatter(health_wealth_by_continent,\n",
    "           x='health',\n",
    "           y='wealth',\n",
    "           size='population',\n",
    "           color='continent')"
   ]
  },
  {
   "cell_type": "markdown",
   "id": "579f7e6f-72de-4da7-83b6-ab2141c617bd",
   "metadata": {},
   "source": [
    "We can see that people in Oceania and Europe are living a healthy and wealthy life.\n",
    "\n",
    "Let's further drill in Oceania and investigate on health status:"
   ]
  },
  {
   "cell_type": "code",
   "execution_count": null,
   "id": "60c2e922-0df8-4de6-8ad6-e13177897307",
   "metadata": {},
   "outputs": [],
   "source": [
    "%%sql health_of_oceania\n",
    "\n",
    "SELECT\n",
    "    year,\n",
    "    life_exp AS health,\n",
    "    country\n",
    "FROM 'gapminder.csv.gz'\n",
    "WHERE continent='Oceania'"
   ]
  },
  {
   "cell_type": "markdown",
   "id": "19012c93-9315-45c6-aba5-46b5f5599973",
   "metadata": {},
   "source": [
    "Line chart is very helpful to compare the Oceania contries by year:"
   ]
  },
  {
   "cell_type": "code",
   "execution_count": null,
   "id": "745fa16d-86c0-4e87-9163-c121d25db632",
   "metadata": {},
   "outputs": [],
   "source": [
    "px.line(health_of_oceania, x='year', y='health', color='country')"
   ]
  },
  {
   "cell_type": "markdown",
   "id": "245a59f0-392a-4ecb-bf05-2caaa57c9e77",
   "metadata": {},
   "source": [
    "Last but not least, we would also like to know the change of wealth (total GDP) and health (life expectation) over time:"
   ]
  },
  {
   "cell_type": "code",
   "execution_count": null,
   "id": "af456d29-f1ec-46e5-91fb-cfd633001b5f",
   "metadata": {},
   "outputs": [],
   "source": [
    "%%sql health_wealth_by_year\n",
    "\n",
    "SELECT\n",
    "    life_exp AS health,\n",
    "    gdp_cap * population AS wealth,\n",
    "    country,\n",
    "    year,\n",
    "    population\n",
    "FROM 'gapminder.csv.gz'"
   ]
  },
  {
   "cell_type": "markdown",
   "id": "0cc0bdab",
   "metadata": {},
   "source": [
    "Let's recreate Gapminder animation with bubble chart animation by Plotly Express:"
   ]
  },
  {
   "cell_type": "code",
   "execution_count": null,
   "id": "c5f35c6a-a532-4593-82de-a3d071bf9985",
   "metadata": {},
   "outputs": [],
   "source": [
    "px.scatter(health_wealth_by_year,\n",
    "           x=\"wealth\",\n",
    "           y=\"health\",\n",
    "           animation_frame=\"year\",\n",
    "           animation_group=\"country\",\n",
    "           size=\"population\",\n",
    "           color=\"country\",\n",
    "           hover_name=\"country\",\n",
    "           width=900,\n",
    "           height=600)"
   ]
  },
  {
   "cell_type": "code",
   "execution_count": null,
   "id": "4cfb64ef-f122-4214-b6b8-2a8feb4550e6",
   "metadata": {},
   "outputs": [],
   "source": []
  }
 ],
 "metadata": {
  "kernelspec": {
   "display_name": "Python 3 (ipykernel)",
   "language": "python",
   "name": "python3"
  },
  "language_info": {
   "codemirror_mode": {
    "name": "ipython",
    "version": 3
   },
   "file_extension": ".py",
   "mimetype": "text/x-python",
   "name": "python",
   "nbconvert_exporter": "python",
   "pygments_lexer": "ipython3",
   "version": "3.11.0"
  },
  "vscode": {
   "interpreter": {
    "hash": "e14e49767cf93412746d1786833441f6b192032bf9e90a563653dfb0e27875d3"
   }
  },
  "widgets": {
   "application/vnd.jupyter.widget-state+json": {
    "state": {},
    "version_major": 2,
    "version_minor": 0
   }
  }
 },
 "nbformat": 4,
 "nbformat_minor": 5
}
