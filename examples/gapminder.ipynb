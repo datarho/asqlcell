{
 "cells": [
  {
   "cell_type": "markdown",
   "id": "40e26de2-ffb3-4ab2-9503-bb026dec1573",
   "metadata": {},
   "source": [
    "# World Development in Numbers\n",
    "\n",
    "Hans Rosling's been called the Jedi master of data visualization, dubbed a statistics guru, and introduced as the man in whose hands data sings. When Time magazine included him in its [2012 list of the world's 100 most influential people](http://www.time.com/time/specials/packages/article/0,28804,2111975_2111976_2112170,00.html), it said his \"stunning renderings of the numbers … have moved millions of people worldwide to see themselves and our planet in new ways\"."
   ]
  },
  {
   "cell_type": "code",
   "execution_count": null,
   "id": "0d57fdab-8797-46d3-b50b-d43e59575648",
   "metadata": {
    "tags": []
   },
   "outputs": [],
   "source": [
    "%%html\n",
    "\n",
    "<div style=\"max-width:854px\">\n",
    "<div style=\"position:relative;height:0;padding-bottom:56.25%\">\n",
    "<iframe src=\"https://embed.ted.com/talks/lang/en/hans_rosling_asia_s_rise_how_and_when\" \n",
    "    width=\"854\" \n",
    "    height=\"480\" \n",
    "    style=\"position:absolute;left:0;top:0;width:100%;height:100%\"\n",
    "    frameborder=\"0\" \n",
    "    scrolling=\"no\" \n",
    "    allowfullscreen>\n",
    "</iframe>\n",
    "</div>\n",
    "</div>"
   ]
  },
  {
   "cell_type": "markdown",
   "id": "e2ab8829-100c-4f14-b899-212966765c74",
   "metadata": {},
   "source": [
    "In the above video, Hans Rosling took us through 200 years of global development. Plotting life expectancy against income for every country since 1810, Hans showed how our world is radically different from what most of us imagine."
   ]
  },
  {
   "cell_type": "markdown",
   "id": "6132356a-3632-4a87-b062-2a1f8ce1b0c4",
   "metadata": {},
   "source": [
    "In this notebook, we're going to conduct an analysis about the countries, populations, health and wealth in our world. And it will be achieved by only a few lines of SQL statements and plotting functions."
   ]
  },
  {
   "cell_type": "markdown",
   "id": "44438614-3538-4b87-8f1c-47810b458a53",
   "metadata": {},
   "source": [
    "## Preparations\n",
    "\n",
    "The following modules will be used:\n",
    "\n",
    "* `asqlcell` for analytical SQL capabilities.\n",
    "* `plotly` for data visualization.\n",
    "\n",
    "The installation is simple as:"
   ]
  },
  {
   "cell_type": "code",
   "execution_count": null,
   "id": "22dd4f94-5254-48f7-b8bb-ff565881c4f3",
   "metadata": {},
   "outputs": [],
   "source": [
    "%pip install asqlcell plotly --upgrade"
   ]
  },
  {
   "cell_type": "markdown",
   "id": "64a61bc7-62e0-4e23-a4b9-6d391315176e",
   "metadata": {},
   "source": [
    "Simply import these modules:"
   ]
  },
  {
   "cell_type": "code",
   "execution_count": 1,
   "id": "13fd14c2-7f1f-4c82-8926-ed57259dbad3",
   "metadata": {
    "tags": []
   },
   "outputs": [],
   "source": [
    "import asqlcell\n",
    "import plotly.express as px"
   ]
  },
  {
   "cell_type": "markdown",
   "id": "6e14b608-8d85-4412-9cd1-ccb4d8f53e42",
   "metadata": {},
   "source": [
    "Now we are ready to proceed with the data analysis."
   ]
  },
  {
   "cell_type": "markdown",
   "id": "95b3bfa1-d80c-48cc-a02c-0f797a0a624e",
   "metadata": {},
   "source": [
    "## Data\n",
    "\n",
    "The data can be found in [Gapminder World](https://www.kaggle.com/datasets/tklimonova/gapminder-datacamp-2007) from Kaggle. The same data compressed in gzip format is also included in the project.\n",
    "\n",
    "Instead of using Pandas, we can use SQL statements to inspect data:"
   ]
  },
  {
   "cell_type": "code",
   "execution_count": 2,
   "id": "f91e4350-a6b1-4439-a2ff-607fb14d5b8f",
   "metadata": {
    "tags": []
   },
   "outputs": [
    {
     "data": {
      "application/vnd.jupyter.widget-view+json": {
       "model_id": "e1a8bdfff713446fac276875119e1016",
       "version_major": 2,
       "version_minor": 0
      },
      "text/plain": [
       "SqlCellWidget(column_color='{\"columns\":[\"country\",\"year\",\"population\",\"continent\",\"life_exp\",\"gdp_cap\"],\"index…"
      ]
     },
     "execution_count": 2,
     "metadata": {},
     "output_type": "execute_result"
    }
   ],
   "source": [
    "%%sql inspect\n",
    "\n",
    "SELECT *\n",
    "FROM 'gapminder.csv.gz'\n",
    "LIMIT 20"
   ]
  },
  {
   "cell_type": "markdown",
   "id": "2c7fe4bf-68eb-41b7-b4e1-029215ad77b7",
   "metadata": {},
   "source": [
    "Here we use `%%sql` as a cell magic indicating that the cell block should be executed as a SQL statement. Magics are special commands to add functionalities that are not straightforward to achieve with the Jupyter notebook interface.\n",
    "\n",
    "The result set is stored in a dataframe named `inspect` and rendered as a table view above. The column names are quite straightforward。"
   ]
  },
  {
   "cell_type": "markdown",
   "id": "ab92b27f-5523-4ef4-97c0-327f966a40fd",
   "metadata": {},
   "source": [
    "# Observation\n",
    "\n",
    "First let us get the number of countries per continent. This can be achieved by using the `COUNT` function with a `DISTINCT` clause to eliminate the repetitive appearance of the same country:"
   ]
  },
  {
   "cell_type": "code",
   "execution_count": null,
   "id": "e213f65f-b8f9-4bfb-a982-40fa978cf56c",
   "metadata": {},
   "outputs": [],
   "source": [
    "%%sql country_count_by_continent\n",
    "\n",
    "SELECT\n",
    "    continent,\n",
    "    COUNT(DISTINCT country) AS count\n",
    "FROM 'gapminder.csv.gz'\n",
    "GROUP BY continent\n",
    "ORDER BY count\n",
    "DESC"
   ]
  },
  {
   "cell_type": "markdown",
   "id": "7198724f-da51-441c-94f0-3d45d1063c32",
   "metadata": {},
   "source": [
    "As the result set is already in the dataframe, it can be plotted as follows:"
   ]
  },
  {
   "cell_type": "code",
   "execution_count": null,
   "id": "1f75c287-8cf1-40b7-936b-1fb02c5986fe",
   "metadata": {},
   "outputs": [],
   "source": [
    "px.bar(country_count_by_continent,\n",
    "       x='continent',\n",
    "       y='count')"
   ]
  },
  {
   "cell_type": "markdown",
   "id": "9126fa49-ef22-4e05-a732-436666f7a938",
   "metadata": {},
   "source": [
    "Next we'd like to query health (average life expectation), wealth (average gpd per capita) and total population for each continent in the year 2007. "
   ]
  },
  {
   "cell_type": "code",
   "execution_count": null,
   "id": "e6c1141c-b914-44db-9caf-ef3a584c6be6",
   "metadata": {},
   "outputs": [],
   "source": [
    "%%sql health_wealth_by_continent\n",
    "\n",
    "SELECT\n",
    "    continent,\n",
    "    AVG(life_exp) AS health,\n",
    "    AVG(gdp_cap) AS wealth,\n",
    "    SUM(population) AS population\n",
    "FROM 'gapminder.csv.gz'\n",
    "WHERE year=2007\n",
    "GROUP BY continent"
   ]
  },
  {
   "cell_type": "markdown",
   "id": "731c23ba-f37e-4a83-9cd1-cb465234dc0c",
   "metadata": {},
   "source": [
    "A scatter chart can be built as follows:"
   ]
  },
  {
   "cell_type": "code",
   "execution_count": null,
   "id": "7167cfe5-3167-4932-85da-6e4f3c763cbd",
   "metadata": {},
   "outputs": [],
   "source": [
    "px.scatter(health_wealth_by_continent,\n",
    "           x='health',\n",
    "           y='wealth',\n",
    "           size='population',\n",
    "           color='continent')"
   ]
  },
  {
   "cell_type": "markdown",
   "id": "579f7e6f-72de-4da7-83b6-ab2141c617bd",
   "metadata": {},
   "source": [
    "We can see that people in Oceania and Europe are living a healthy and wealthy life.\n",
    "\n",
    "Let's further drill in Oceania and investigate on health status:"
   ]
  },
  {
   "cell_type": "code",
   "execution_count": null,
   "id": "60c2e922-0df8-4de6-8ad6-e13177897307",
   "metadata": {},
   "outputs": [],
   "source": [
    "%%sql health_of_oceania\n",
    "\n",
    "SELECT\n",
    "    year,\n",
    "    life_exp AS health,\n",
    "    country\n",
    "FROM 'gapminder.csv.gz'\n",
    "WHERE continent='Oceania'"
   ]
  },
  {
   "cell_type": "markdown",
   "id": "19012c93-9315-45c6-aba5-46b5f5599973",
   "metadata": {},
   "source": [
    "Line chart is very helpful to compare the Oceania contries by year:"
   ]
  },
  {
   "cell_type": "code",
   "execution_count": null,
   "id": "745fa16d-86c0-4e87-9163-c121d25db632",
   "metadata": {},
   "outputs": [],
   "source": [
    "px.line(health_of_oceania, x='year', y='health', color='country')"
   ]
  },
  {
   "cell_type": "markdown",
   "id": "245a59f0-392a-4ecb-bf05-2caaa57c9e77",
   "metadata": {},
   "source": [
    "Last but not least, we would also like to know the change of wealth (total GDP) and health (life expectation) over time:"
   ]
  },
  {
   "cell_type": "code",
   "execution_count": null,
   "id": "af456d29-f1ec-46e5-91fb-cfd633001b5f",
   "metadata": {},
   "outputs": [],
   "source": [
    "%%sql health_wealth_by_year\n",
    "\n",
    "SELECT\n",
    "    life_exp AS health,\n",
    "    gdp_cap * population AS wealth,\n",
    "    country,\n",
    "    year,\n",
    "    population\n",
    "FROM 'gapminder.csv.gz'"
   ]
  },
  {
   "cell_type": "markdown",
   "id": "0cc0bdab",
   "metadata": {},
   "source": [
    "Let's recreate Gapminder animation with bubble chart animation by Plotly Express:"
   ]
  },
  {
   "cell_type": "code",
   "execution_count": null,
   "id": "c5f35c6a-a532-4593-82de-a3d071bf9985",
   "metadata": {},
   "outputs": [],
   "source": [
    "px.scatter(health_wealth_by_year,\n",
    "           x=\"wealth\",\n",
    "           y=\"health\",\n",
    "           animation_frame=\"year\",\n",
    "           animation_group=\"country\",\n",
    "           size=\"population\",\n",
    "           color=\"country\",\n",
    "           hover_name=\"country\",\n",
    "           width=900,\n",
    "           height=600)"
   ]
  },
  {
   "cell_type": "code",
   "execution_count": null,
   "id": "4cfb64ef-f122-4214-b6b8-2a8feb4550e6",
   "metadata": {},
   "outputs": [],
   "source": []
  }
 ],
 "metadata": {
  "kernelspec": {
   "display_name": "Python 3 (ipykernel)",
   "language": "python",
   "name": "python3"
  },
  "language_info": {
   "codemirror_mode": {
    "name": "ipython",
    "version": 3
   },
   "file_extension": ".py",
   "mimetype": "text/x-python",
   "name": "python",
   "nbconvert_exporter": "python",
   "pygments_lexer": "ipython3",
   "version": "3.10.11"
  },
  "vscode": {
   "interpreter": {
    "hash": "e14e49767cf93412746d1786833441f6b192032bf9e90a563653dfb0e27875d3"
   }
  },
  "widgets": {
   "application/vnd.jupyter.widget-state+json": {
    "state": {
     "165b1a13912f44dd9ee336f2e6117df0": {
      "model_module": "@jupyter-widgets/base",
      "model_module_version": "2.0.0",
      "model_name": "LayoutModel",
      "state": {}
     },
     "e1a8bdfff713446fac276875119e1016": {
      "model_module": "asqlcell",
      "model_module_version": "0.1.0",
      "model_name": "SqlCellModel",
      "state": {
       "cache": "",
       "column_color": "{\"columns\":[\"country\",\"year\",\"population\",\"continent\",\"life_exp\",\"gdp_cap\"],\"index\":[0,1,2,3,4,5,6,7,8,9],\"data\":[[null,255.0,255.0,null,255.0,191.9201010109],[null,238.3333333333,246.1361090305,null,237.2828267243,173.79433665],[null,221.6666666667,234.9839980664,null,218.0149668261,159.6782750729],[null,205.0,221.1721362038,null,194.6042277426,167.0776246522],[null,188.3333333333,204.4192941326,null,170.6727356889,209.195117173],[null,171.6666666667,184.8471165437,null,143.4778583552,189.0012386398],[null,155.0,206.5672744156,null,127.0914982256,105.0],[null,138.3333333333,195.849967418,null,115.8895232217,159.9867781602],[null,121.6666666667,169.2239409967,null,106.0299336522,248.8716371672],[null,105.0,105.0,null,105.0,255.0]]}",
       "column_sort": [
        "",
        0
       ],
       "data_grid": "{\"columns\":[\"country\",\"year\",\"population\",\"continent\",\"life_exp\",\"gdp_cap\"],\"index\":[0,1,2,3,4,5,6,7,8,9],\"data\":[[\"Afghanistan\",1952,8425333,\"Asia\",28.801,779.4453145],[\"Afghanistan\",1957,9240934,\"Asia\",30.332,820.8530296],[\"Afghanistan\",1962,10267083,\"Asia\",31.997,853.10071],[\"Afghanistan\",1967,11537966,\"Asia\",34.02,836.1971382],[\"Afghanistan\",1972,13079460,\"Asia\",36.088,739.9811058],[\"Afghanistan\",1977,14880372,\"Asia\",38.438,786.11336],[\"Afghanistan\",1982,12881816,\"Asia\",39.854,978.0114388],[\"Afghanistan\",1987,13867957,\"Asia\",40.822,852.3959448],[\"Afghanistan\",1992,16317921,\"Asia\",41.674,649.3413952],[\"Afghanistan\",1997,22227415,\"Asia\",41.763,635.341351]]}\n20",
       "data_name": "inspect",
       "dfs_button": "",
       "dfs_result": "",
       "exec_time": "2023-06-15 22:04:02.424750,2023-06-15 22:04:02.469423",
       "json_dump": "2023-06-15T14:04:02.496Z",
       "layout": "IPY_MODEL_165b1a13912f44dd9ee336f2e6117df0",
       "mode": "CMD",
       "png": "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",
       "quickv_data": "",
       "quickv_var": [
        "",
        ""
       ],
       "row_range": [
        0,
        10
       ],
       "sql_button": "",
       "title_hist": "[{\"columnName\": \"country\", \"dtype\": \"string\", \"bins\": [{\"bin\": \"Afghanistan\", \"count\": 12}, {\"bin\": \"Albania\", \"count\": 8}, {\"bin\": \"other\", \"count\": 0}]}, {\"columnName\": \"year\", \"dtype\": \"int\", \"bins\": [{\"bin_start\": 1952.0, \"bin_end\": 1957.5, \"count\": 4}, {\"bin_start\": 1957.5, \"bin_end\": 1963.0, \"count\": 2}, {\"bin_start\": 1963.0, \"bin_end\": 1968.5, \"count\": 2}, {\"bin_start\": 1968.5, \"bin_end\": 1974.0, \"count\": 2}, {\"bin_start\": 1974.0, \"bin_end\": 1979.5, \"count\": 2}, {\"bin_start\": 1979.5, \"bin_end\": 1985.0, \"count\": 2}, {\"bin_start\": 1985.0, \"bin_end\": 1990.5, \"count\": 2}, {\"bin_start\": 1990.5, \"bin_end\": 1996.0, \"count\": 1}, {\"bin_start\": 1996.0, \"bin_end\": 2001.5, \"count\": 1}, {\"bin_start\": 2001.5, \"bin_end\": 2007.0, \"count\": 2}]}, {\"columnName\": \"population\", \"dtype\": \"int\", \"bins\": [{\"bin_start\": 1282697.0, \"bin_end\": 4343419.6, \"count\": 8}, {\"bin_start\": 4343419.6, \"bin_end\": 7404142.2, \"count\": 0}, {\"bin_start\": 7404142.2, \"bin_end\": 10464864.8, \"count\": 3}, {\"bin_start\": 10464864.8, \"bin_end\": 13525587.4, \"count\": 3}, {\"bin_start\": 13525587.4, \"bin_end\": 16586310.0, \"count\": 3}, {\"bin_start\": 16586310.0, \"bin_end\": 19647032.6, \"count\": 0}, {\"bin_start\": 19647032.6, \"bin_end\": 22707755.2, \"count\": 1}, {\"bin_start\": 22707755.2, \"bin_end\": 25768477.8, \"count\": 1}, {\"bin_start\": 25768477.8, \"bin_end\": 28829200.400000002, \"count\": 0}, {\"bin_start\": 28829200.400000002, \"bin_end\": 31889923.0, \"count\": 1}]}, {\"columnName\": \"continent\", \"dtype\": \"string\", \"bins\": [{\"bin\": \"Asia\", \"count\": 12}, {\"bin\": \"Europe\", \"count\": 8}, {\"bin\": \"other\", \"count\": 0}]}, {\"columnName\": \"life_exp\", \"dtype\": \"float\", \"bins\": [{\"bin_start\": 28.801, \"bin_end\": 33.1209, \"count\": 3}, {\"bin_start\": 33.1209, \"bin_end\": 37.440799999999996, \"count\": 2}, {\"bin_start\": 37.440799999999996, \"bin_end\": 41.7607, \"count\": 4}, {\"bin_start\": 41.7607, \"bin_end\": 46.0806, \"count\": 3}, {\"bin_start\": 46.0806, \"bin_end\": 50.400499999999994, \"count\": 0}, {\"bin_start\": 50.400499999999994, \"bin_end\": 54.7204, \"count\": 0}, {\"bin_start\": 54.7204, \"bin_end\": 59.040299999999995, \"count\": 1}, {\"bin_start\": 59.040299999999995, \"bin_end\": 63.36019999999999, \"count\": 1}, {\"bin_start\": 63.36019999999999, \"bin_end\": 67.6801, \"count\": 2}, {\"bin_start\": 67.6801, \"bin_end\": 72.0, \"count\": 4}]}, {\"columnName\": \"gdp_cap\", \"dtype\": \"float\", \"bins\": [{\"bin_start\": 635.341351, \"bin_end\": 945.7004894, \"count\": 10}, {\"bin_start\": 945.7004894, \"bin_end\": 1256.0596278, \"count\": 2}, {\"bin_start\": 1256.0596278, \"bin_end\": 1566.4187662, \"count\": 0}, {\"bin_start\": 1566.4187662, \"bin_end\": 1876.7779046, \"count\": 1}, {\"bin_start\": 1876.7779046, \"bin_end\": 2187.137043, \"count\": 1}, {\"bin_start\": 2187.137043, \"bin_end\": 2497.4961814, \"count\": 1}, {\"bin_start\": 2497.4961814, \"bin_end\": 2807.8553198, \"count\": 1}, {\"bin_start\": 2807.8553198, \"bin_end\": 3118.2144582, \"count\": 0}, {\"bin_start\": 3118.2144582, \"bin_end\": 3428.5735966, \"count\": 1}, {\"bin_start\": 3428.5735966, \"bin_end\": 3738.932735, \"count\": 3}]}]",
       "vis_data": "",
       "vis_sql": [
        "",
        "",
        ""
       ]
      }
     }
    },
    "version_major": 2,
    "version_minor": 0
   }
  }
 },
 "nbformat": 4,
 "nbformat_minor": 5
}
