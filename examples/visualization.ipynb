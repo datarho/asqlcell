{
 "cells": [
  {
   "cell_type": "markdown",
   "id": "adae4237-7fd0-4ea8-a20f-aa4edb3241c4",
   "metadata": {},
   "source": [
    "# Use the Right Chart for Data Visualization\n",
    "\n",
    "Data charts are very useful to summarize and communicate large amounts of data. They can reveal patterns and insights that might not be obvious from the raw data. Different charts have different purposes so choosing the right one can be challenging. A good data visualization depends on matching the chart type to the data and the goal.\n",
    "\n",
    "You need to consider several things when choosing a chart type. What kind of data do you want to show? Who will see your chart – is it for your own analysis or for a wider audience? What is the main message that you want to convey?\n",
    "\n",
    "This article will introduce you to the most common chart types that you can use with visualization tools. These charts will help you create effective data visualizations."
   ]
  },
  {
   "cell_type": "markdown",
   "id": "6bf98f32-3976-4f61-8b76-e0f7461212cb",
   "metadata": {},
   "source": [
    "# Preparation\n",
    "\n",
    "Firstly we'll need to install `asqlcell`:"
   ]
  },
  {
   "cell_type": "code",
   "execution_count": null,
   "id": "c7dd7b72-27dd-4e96-82e4-1146d1866b87",
   "metadata": {
    "tags": []
   },
   "outputs": [],
   "source": [
    "%pip install asqlcell>=0.2"
   ]
  },
  {
   "cell_type": "markdown",
   "id": "aed72027-92d0-4055-99d8-3cccce1dfe83",
   "metadata": {},
   "source": [
    "And then load `asqlcell` extention to enable `sql` magic for writing SQL queries right in the cell."
   ]
  },
  {
   "cell_type": "code",
   "execution_count": null,
   "id": "d67578fc-df9a-4b24-96cc-b0f2584825c1",
   "metadata": {
    "tags": []
   },
   "outputs": [],
   "source": [
    "%load_ext asqlcell"
   ]
  },
  {
   "cell_type": "markdown",
   "id": "baa37a46-6e6e-4fc8-a4c2-d0dc1ae75516",
   "metadata": {},
   "source": [
    "Now we can create a connection object to the SQLite database file containing Chinook data. The connection object will be used together with the `sql` magic."
   ]
  },
  {
   "cell_type": "code",
   "execution_count": null,
   "id": "e9712b2f-82dc-4722-89ca-1f64d2d38b5e",
   "metadata": {
    "tags": []
   },
   "outputs": [],
   "source": [
    "from sqlalchemy import create_engine\n",
    "\n",
    "con = create_engine(f\"sqlite:///chinook.sqlite\").connect()"
   ]
  },
  {
   "cell_type": "markdown",
   "id": "3ac4ee03-757e-4aab-ab39-9e8fa98124c8",
   "metadata": {},
   "source": [
    "Now we're ready to explore various charts for data visualization."
   ]
  },
  {
   "cell_type": "markdown",
   "id": "a84468bd-73ff-40e8-9573-6a227c0f1965",
   "metadata": {},
   "source": [
    "# Bar Chart\n",
    "\n",
    "## What is a bar chart?\n",
    "\n",
    "A bar chart is a type of diagram that shows categorical data with rectangular bars whose heights or lengths are proportional to the values they represent. Bar charts normally are horizontal, where column charts are vertical. They are useful for comparing data across categories.\n",
    "\n",
    "## When to use bar chart?\n",
    "\n",
    "You should use a bar chart in data visualization when you want to show a distribution of data points or perform a comparison of metric values across different subgroups of your data. For example, you can use a bar chart to compare the sales of different products, the population of different countries, or the scores of different students.\n",
    "\n",
    "Some situations when you should use a bar chart:\n",
    "\n",
    "* When you want to compare the frequency or count of data in different categories, such as the number of people who prefer different flavors of ice cream.\n",
    "* When you want to compare a numerical variable in different groups, such as the average height of students in different classes.\n",
    "* When you want to show the change in a numerical variable over time for a few discrete time periods, such as the monthly revenue of a company for a year.\n",
    "\n",
    "## Example\n",
    "\n",
    "Provide a query that shows the total sales of each sales agent."
   ]
  },
  {
   "cell_type": "code",
   "execution_count": null,
   "id": "b419e547-73b0-4c5a-b1fa-b75207a35094",
   "metadata": {
    "tags": []
   },
   "outputs": [],
   "source": [
    "%%sql --con con\n",
    "\n",
    "SELECT\n",
    "    SUM(Invoice.Total) AS Total,\n",
    "    Employee.FirstName || ' ' || Employee.LastName AS 'Sales Agent'\n",
    "FROM Invoice\n",
    "JOIN Customer ON Invoice.CustomerId = Customer.CustomerId\n",
    "JOIN Employee ON Customer.SupportRepId = Employee.EmployeeId\n",
    "GROUP BY 2\n",
    "ORDER BY 1\n",
    "DESC"
   ]
  },
  {
   "cell_type": "markdown",
   "id": "8ec9b916-8937-4a72-b3f2-c5952000d090",
   "metadata": {},
   "source": [
    "We can visualize the result set by clicking the Chart tab with the following settings:\n",
    "\n",
    "* Chart type: Bar\n",
    "* Y-Axis: Sales Agent\n",
    "* X-Axis: Total\n",
    "* Color: Sales Agent\n",
    "\n",
    "Now it is very straightforward to compare ."
   ]
  },
  {
   "cell_type": "markdown",
   "id": "87489606-a538-4d06-8bd7-baf1a04744e4",
   "metadata": {},
   "source": [
    "# Column Chart\n",
    "\n",
    "## What is a column chart?\n",
    "\n",
    "A column chart is a type of diagram that shows categorical data with vertical columns whose heights are proportional to the values they represent. Column charts are also known as vertical bar charts. They are useful for comparing data across categories or showing trends over time.\n",
    "\n",
    "## When to use a column chart?\n",
    "\n",
    "You should use a column chart when you want to show data changes over a period of time or illustrate comparisons among items. Column charts are best used when the data has a small number of discrete categories, each with a single value, and the goal is to compare the values for each category. For example, you can use a column chart to show the sales of different products in each quarter, the population growth of different countries in the last decade, or the ranking of different movies by box office revenue.\n",
    "\n",
    "Some situations when you should use a column chart:\n",
    "\n",
    "* When you want to compare values across a few categories.\n",
    "* When you want to show trends over time for a small number of groups.\n",
    "* When you want to highlight the largest or smallest values in a data set.\n",
    "\n",
    "## Example\n",
    "\n",
    "How much did users spent in total per country?"
   ]
  },
  {
   "cell_type": "code",
   "execution_count": null,
   "id": "3a2ac758-8ecd-4fca-a588-8cf271154d3c",
   "metadata": {
    "tags": []
   },
   "outputs": [],
   "source": [
    "%%sql --con con\n",
    "\n",
    "SELECT\n",
    "    Customer.Country,\n",
    "    SUM(Invoice.Total) AS Total\n",
    "FROM Invoice\n",
    "JOIN Customer ON Customer.CustomerId = Invoice.CustomerId\n",
    "GROUP BY 1\n",
    "ORDER BY 2 DESC"
   ]
  },
  {
   "cell_type": "markdown",
   "id": "e5590f1d-9909-4cb8-a4f6-6c40b3a30098",
   "metadata": {},
   "source": [
    "We can also visualize the result set by clicking the Chart tab with the following settings:\n",
    "\n",
    "* Chart type: Column\n",
    "* X-Axis: Country\n",
    "* Y-Axis: Total, sort in descending order\n",
    "\n",
    "It is obvious that USA, Canada and France are top three countries contributing to the revenue."
   ]
  },
  {
   "cell_type": "markdown",
   "id": "a939b012-fe52-486d-8797-2dbb200197d7",
   "metadata": {},
   "source": [
    "# Line Chart\n",
    "\n",
    "## What is a line chart?\n",
    "\n",
    "A line chart is a data visualization where information is displayed as a series of data points called markers connected by straight line segments. It is similar to a scatter plot except that the measurement points are ordered (typically by their x-axis value).\n",
    "\n",
    "Some situations when you should use a line chart are:\n",
    "\n",
    "* When you want to show changes or trends over time.\n",
    "* When you want to compare multiple data sets or categories.\n",
    "* When you want to emphasize the continuity or smoothness of the data.\n",
    "\n",
    "## Example\n",
    "\n"
   ]
  },
  {
   "cell_type": "code",
   "execution_count": null,
   "id": "c57167ba-7f63-4c08-9063-965770326792",
   "metadata": {
    "tags": []
   },
   "outputs": [],
   "source": [
    "%%sql --con con\n",
    "\n",
    "SELECT\n",
    "    BillingCountry,\n",
    "    date(InvoiceDate, 'start of month') AS Date,\n",
    "    SUM(Total) AS Total\n",
    "FROM Invoice\n",
    "GROUP BY 1, 2"
   ]
  },
  {
   "cell_type": "markdown",
   "id": "bf0873d5-cd2c-4c85-954c-8247fac16e68",
   "metadata": {},
   "source": [
    "We can also visualize the result set by clicking the Chart tab with the following settings:\n",
    "\n",
    "* Chart type: Line\n",
    "* X-Axis: Date\n",
    "* Y-Axis: Total\n",
    "\n",
    "It is clear to understand the sales trend over time."
   ]
  },
  {
   "cell_type": "markdown",
   "id": "372958b7-b155-4e99-914c-653ad96d32b2",
   "metadata": {},
   "source": [
    "# Pie Chart\n",
    "\n",
    "## What is a pie chart?\n",
    "\n",
    "A pie chart is a circular graph that shows how a total amount is divided into different parts based on a categorical variable. The size of each part (or slice) of the pie chart indicates the proportion or percentage of the total that each part occupies123. A pie chart is a type of pictorial representation of data.\n",
    "\n",
    "## When to use pie chart?\n",
    "\n",
    "You should use a pie chart when you want to show the relationship of different parts to the whole. A pie chart works best with categorical data that has a limited number of categories. A pie chart can help you emphasize how one part is overrepresented or underrepresented in the whole. A pie chart can also show the percentage or proportion of each part in the whole.\n",
    "\n",
    "Some situations when you can use a pie chart are:\n",
    "\n",
    "* When you want to show the market share of different smartphone brands.\n",
    "* When you want to show the distribution of blood types among a population.\n",
    "* When you want to show the budget allocation of a project.\n",
    "\n",
    "To make the slices easier to compare, they should be arranged logically, usually from largest to smallest. This way, the user can understand the data better by looking at the biggest piece first and then the smaller ones. The slices should have the same colors as their corresponding labels in the legend, so that viewers can identify them without checking the legend too often.\n",
    "\n",
    "## Example\n",
    "\n",
    "Let's find the top ten countries regarding customers:"
   ]
  },
  {
   "cell_type": "code",
   "execution_count": null,
   "id": "b93f2c21-2933-4cd4-8784-88ed59be09dd",
   "metadata": {
    "tags": []
   },
   "outputs": [],
   "source": [
    "%%sql --con con\n",
    "\n",
    "SELECT\n",
    "    Country,\n",
    "    COUNT(CustomerId) AS Count\n",
    "FROM Customer\n",
    "GROUP BY 1\n",
    "ORDER BY 2\n",
    "DESC\n",
    "LIMIT 10"
   ]
  },
  {
   "cell_type": "markdown",
   "id": "14ec21da-aa9e-43d6-a121-a7dd1b659d62",
   "metadata": {},
   "source": [
    "We can visualize the result set by clicking the Chart tab with the following settings:\n",
    "\n",
    "* Chart type: Pie\n",
    "* Size: Count, sort in descending order\n",
    "* Color: Country\n",
    "\n",
    "It is obvious that amongst the top 10 countries most customers reside in USA, Canada and France."
   ]
  },
  {
   "cell_type": "markdown",
   "id": "189b5215-d682-432e-a98a-ceccadc97d39",
   "metadata": {},
   "source": [
    "# Combo Chart\n",
    "\n",
    "## What is a combo chart?\n",
    "\n",
    "A combo chart, also called a combination chart, is a type of chart that displays two or more different kinds of data on the same chart, such as columns and lines. They are useful for showing different types of information on a single chart, such as actual values and a target value.\n",
    "\n",
    "## When to use a combo chart?\n",
    "\n",
    "You can use a combo chart when you want to show a relationship between two or more data sets that are measured differently or have different value ranges. For example, you can use a combo chart to show projected sales and actual sales, temperatures with precipitation amounts, or revenue and income with profit margin.\n",
    "\n",
    "Combo charts are a great choice:\n",
    "\n",
    "* When you have a line chart and a column chart with the same X axis.\n",
    "* When you want to compare multiple measures with different value ranges.\n",
    "* When you want to check whether one measure meets the target defined by another measure.\n",
    "\n",
    "## Example\n",
    "\n",
    "Let's investigate the relationship between sales and tracks sold regarding date:"
   ]
  },
  {
   "cell_type": "code",
   "execution_count": null,
   "id": "ca5c4d1b-9f52-44bd-a3df-72f6fd5304e6",
   "metadata": {
    "tags": []
   },
   "outputs": [],
   "source": [
    "%%sql --con con\n",
    "\n",
    "SELECT \n",
    "    DATE(Invoice.InvoiceDate,  \"start of month\") AS Date,\n",
    "    SUM(Invoice.Total) AS Sales,\n",
    "    SUM(InvoiceLine.Quantity) AS TracksSold\n",
    "FROM Invoice\n",
    "JOIN InvoiceLine ON Invoice.InvoiceId = InvoiceLine.InvoiceId\n",
    "GROUP BY 1"
   ]
  },
  {
   "cell_type": "markdown",
   "id": "49623d5b-847a-4c46-9edd-4203904d90be",
   "metadata": {},
   "source": [
    "We can visualize the result set by clicking the Chart tab with the following settings:\n",
    "\n",
    "    Chart type: Combo\n",
    "\n",
    "**TBD**"
   ]
  },
  {
   "cell_type": "markdown",
   "id": "97cacd6d-7230-4317-95d6-11e37de143b9",
   "metadata": {},
   "source": [
    "# Funnel Chart\n",
    "\n",
    "## What is a funnel chart?\n",
    "\n",
    "A funnel chart is a graphical representation used to visualize how data moves through a process that has sequential, connected stages. For example, a funnel chart can show the stages of a sales process, such as Lead > Qualified Lead > Prospect > Contract > Close. The size of each stage reflects the value or quantity of data in that stage. A funnel chart can help you quickly see the trends and performance of a process.\n",
    "\n",
    "## When to use a funnel chart?\n",
    "\n",
    "You can use a funnel chart whenever you need to display data that decreases over time or through a process. Funnel charts are often used in business or sales contexts, where you can track how a starting set of visitors or users drop out of a process or flow. Funnel charts can help you see the conversion rates, bottlenecks, and opportunities for improvement in a process.\n",
    "\n",
    "Funnel charts are a great choice:\n",
    "\n",
    "* When your data goes through a sequence of stages, and the number of stages is at least three.\n",
    "* When you data diminishes at each stage.\n",
    "\n",
    "## Example\n",
    "\n",
    "Let's investigate the customers count moves through engagement process:"
   ]
  },
  {
   "cell_type": "code",
   "execution_count": null,
   "id": "3a784934-8977-4264-883e-8dcec64196cd",
   "metadata": {
    "tags": []
   },
   "outputs": [],
   "source": [
    "%%sql --con con\n",
    "\n",
    "SELECT\n",
    "    V.column1 AS Step,\n",
    "    V.column2 As Count\n",
    "FROM\n",
    "(VALUES\n",
    "    ('Consultation', 140000),\n",
    "    ('Prospect', 120000),\n",
    "    ('Qualified', 100000),\n",
    "    ('Negotiation', 80000),\n",
    "    ('Prototype', 60000),\n",
    "    ('Closing', 40000),\n",
    "    ('Won', 20000),\n",
    "    ('Finalized', 10000)\n",
    ") [V]"
   ]
  },
  {
   "cell_type": "markdown",
   "id": "2775f9d1-cc13-4835-be87-b34137e6a542",
   "metadata": {},
   "source": [
    "We can visualize the result set by clicking the Chart tab with the following settings:\n",
    "\n",
    "* Chart type: Funnel\n",
    "* X-Axis: Count\n",
    "* Y-Axis: Step\n",
    "\n",
    "In this way we can clearly see the conversion in each step."
   ]
  }
 ],
 "metadata": {
  "kernelspec": {
   "display_name": "Python 3 (ipykernel)",
   "language": "python",
   "name": "python3"
  },
  "language_info": {
   "codemirror_mode": {
    "name": "ipython",
    "version": 3
   },
   "file_extension": ".py",
   "mimetype": "text/x-python",
   "name": "python",
   "nbconvert_exporter": "python",
   "pygments_lexer": "ipython3",
   "version": "3.8.17"
  },
  "widgets": {
   "application/vnd.jupyter.widget-state+json": {
    "state": {},
    "version_major": 2,
    "version_minor": 0
   }
  }
 },
 "nbformat": 4,
 "nbformat_minor": 5
}
